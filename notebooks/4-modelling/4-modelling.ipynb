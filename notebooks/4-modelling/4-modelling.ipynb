{
 "cells": [
  {
   "cell_type": "code",
   "execution_count": 52,
   "metadata": {},
   "outputs": [],
   "source": [
    "#data manipulation tools\n",
    "import pandas as pd\n",
    "import numpy as np\n",
    "\n",
    "#visulisation tools\n",
    "import matplotlib.pyplot as plt\n",
    "import seaborn as sns\n",
    "\n",
    "\n",
    "#models\n",
    "from sklearn.neighbors import KNeighborsClassifier\n",
    "from sklearn.linear_model import LogisticRegression\n",
    "import xgboost as xgb\n",
    "\n",
    "from sklearn.model_selection import GridSearchCV\n",
    "\n",
    "#preprocesssing\n",
    "from sklearn.preprocessing import StandardScaler\n",
    "from sklearn.decomposition import PCA\n",
    "\n",
    "#pipeline importing\n",
    "from sklearn.pipeline import Pipeline\n",
    "\n",
    "#model analysis\n",
    "from sklearn.metrics import roc_curve\n",
    "from sklearn.metrics import classification_report\n",
    "from sklearn.metrics import confusion_matrix\n",
    "\n",
    "#pickle to store our final models\n",
    "import pickle\n",
    "\n",
    "\n",
    "sns.set()"
   ]
  },
  {
   "cell_type": "code",
   "execution_count": 2,
   "metadata": {},
   "outputs": [],
   "source": [
    "with open(\"C:\\\\Users\\\\yfawz\\\\OneDrive\\\\Desktop\\\\load_default_prediction\\\\notebooks\\\\2-wrangling\\\\data_types.pkl\", 'rb') as f:\n",
    "    data_types = pickle.load(f)"
   ]
  },
  {
   "cell_type": "code",
   "execution_count": 69,
   "metadata": {},
   "outputs": [
    {
     "name": "stderr",
     "output_type": "stream",
     "text": [
      "C:\\Users\\yfawz\\Anaconda3\\lib\\site-packages\\numpy\\lib\\arraysetops.py:568: FutureWarning: elementwise comparison failed; returning scalar instead, but in the future will perform elementwise comparison\n",
      "  mask |= (ar1 == a)\n"
     ]
    }
   ],
   "source": [
    "X_train=pd.read_csv(\"C:\\\\Users\\\\yfawz\\\\OneDrive\\\\Desktop\\\\load_default_prediction\\\\data\\\\processed\\\\X_train_new.csv\", low_memory=False, index_col=0, dtype=data_types)"
   ]
  },
  {
   "cell_type": "code",
   "execution_count": 70,
   "metadata": {},
   "outputs": [],
   "source": [
    "X_test=pd.read_csv(\"C:\\\\Users\\\\yfawz\\\\OneDrive\\\\Desktop\\\\load_default_prediction\\\\data\\\\processed\\\\X_test_new.csv\",low_memory=False, index_col=0, dtype=data_types)"
   ]
  },
  {
   "cell_type": "code",
   "execution_count": 71,
   "metadata": {},
   "outputs": [],
   "source": [
    "y_train=pd.read_csv(\"C:\\\\Users\\\\yfawz\\\\OneDrive\\\\Desktop\\\\load_default_prediction\\\\data\\\\processed\\\\y_train_new.csv\", low_memory=False, index_col=0)\n",
    "y_test=pd.read_csv(\"C:\\\\Users\\\\yfawz\\\\OneDrive\\\\Desktop\\\\load_default_prediction\\\\data\\\\processed\\\\y_test_new.csv\", low_memory=False, index_col=0)"
   ]
  },
  {
   "cell_type": "markdown",
   "metadata": {},
   "source": [
    "The data has around 2,000,000 rows. The current system has 8GB of RAM so running models will be very slow. In this case we will use a sample of the data(10-15%). But first we want to see how imbalanced the dataset is."
   ]
  },
  {
   "cell_type": "code",
   "execution_count": 72,
   "metadata": {},
   "outputs": [
    {
     "name": "stdout",
     "output_type": "stream",
     "text": [
      "The percentage of bad loans is 13.0% out of all loans in our training sets\n"
     ]
    }
   ],
   "source": [
    "print('The percentage of bad loans is {}% out of all loans in our training sets'.format(np.round((y_train.loan_status=='bad').sum()*100/len(y_train))))"
   ]
  },
  {
   "cell_type": "code",
   "execution_count": 75,
   "metadata": {},
   "outputs": [],
   "source": [
    "#features\n",
    "X_train_reduced=X_train.loc[:100000]\n",
    "X_test_reduced=X_test.loc[:40000]"
   ]
  },
  {
   "cell_type": "code",
   "execution_count": 76,
   "metadata": {},
   "outputs": [],
   "source": [
    "#target variable\n",
    "y_train_reduced=y_train.loc[:100000]\n",
    "y_test_reduced=y_test.loc[:40000]"
   ]
  },
  {
   "cell_type": "markdown",
   "metadata": {},
   "source": [
    "Let's setup our arrays for modelling.\n",
    "\n",
    "The first set will be used to develop a simple model by using only numeric variables and dropping categorical. As seen below.\n",
    "\n",
    "For the target variable,\n",
    "- 0 will represent bad loans\n",
    "- 1 will represent good loans"
   ]
  },
  {
   "cell_type": "code",
   "execution_count": 77,
   "metadata": {},
   "outputs": [],
   "source": [
    "#create a list of categorical columns to drop in modelling \n",
    "cat_cols=X_train_reduced.select_dtypes(include=['object']).columns\n",
    "\n",
    "#set up initial training features\n",
    "y_train = pd.get_dummies(y_train_reduced, drop_first=True).loan_status_good.values #Using get dummies to get binary(1/0) classification\n",
    "X_train_1 = X_train_reduced.drop(cat_cols, axis=1).values\n",
    "\n",
    "#set up initial testing features\n",
    "y_test = pd.get_dummies(y_test_reduced, drop_first=True).loan_status_good.values\n",
    "X_test_1 = X_test_reduced.drop(cat_cols, axis=1).values"
   ]
  },
  {
   "cell_type": "markdown",
   "metadata": {},
   "source": [
    "The second set will be used to introduce categorical variable and transfroming them into numerical variable using the get dummies method."
   ]
  },
  {
   "cell_type": "code",
   "execution_count": 78,
   "metadata": {},
   "outputs": [],
   "source": [
    "#set up the second set of training features which include categrocial features\n",
    "X_train_2=pd.get_dummies(X_train_reduced).values"
   ]
  },
  {
   "cell_type": "code",
   "execution_count": 79,
   "metadata": {},
   "outputs": [],
   "source": [
    "#set up the second set of testing features which include categrocial features\n",
    "X_test_2=pd.get_dummies(X_test_reduced).values"
   ]
  },
  {
   "cell_type": "markdown",
   "metadata": {},
   "source": [
    "We can see that our columns have increase by a factor of 10. This will cause issued later on when running the mdoel. When comes the time, we will apply some dimensioanlity reduction techniques in our pipeline to make the data simpler to model."
   ]
  },
  {
   "cell_type": "markdown",
   "metadata": {},
   "source": [
    "We will want to use the following models:\n",
    "    1. KNN\n",
    "    2. Logistic Regression\n",
    "    3. Random Forest with XG boost\n",
    "\n",
    "This is a highly imbalanced dataset, so accuracy(% of correct predictions) will not be sufficient to assess our models. The Precision and Recall of the bad loans will be of more significance. "
   ]
  },
  {
   "cell_type": "markdown",
   "metadata": {},
   "source": [
    "# 1. K-Nearest Neighbors(KNN)"
   ]
  },
  {
   "cell_type": "markdown",
   "metadata": {},
   "source": [
    "Let's run a simple model with just the numeric variables with no cross validation or categorical variables with 6 neighbors."
   ]
  },
  {
   "cell_type": "code",
   "execution_count": 80,
   "metadata": {},
   "outputs": [
    {
     "data": {
      "text/plain": [
       "KNeighborsClassifier(algorithm='auto', leaf_size=30, metric='minkowski',\n",
       "                     metric_params=None, n_jobs=None, n_neighbors=6, p=2,\n",
       "                     weights='uniform')"
      ]
     },
     "execution_count": 80,
     "metadata": {},
     "output_type": "execute_result"
    }
   ],
   "source": [
    "# Create a k-NN classifier with 6 neighbors\n",
    "knn_1 = KNeighborsClassifier(n_neighbors=6)\n",
    "\n",
    "# Fit the classifier to the data\n",
    "knn_1.fit(X_train_1,y_train)"
   ]
  },
  {
   "cell_type": "markdown",
   "metadata": {},
   "source": [
    "Let' see how results on the training and testing set results look like. The most important result that we want to take care of is the recall result for target variable of 0. \n",
    "\n",
    "This is the fraction of True positives(Actual Bad Loans, predicted as good loans) out of all the actual bad loans."
   ]
  },
  {
   "cell_type": "code",
   "execution_count": 81,
   "metadata": {},
   "outputs": [],
   "source": [
    "#Predicting target variables on the training set\n",
    "y_pred_knn_1_train=knn_1.predict(X_train_1)"
   ]
  },
  {
   "cell_type": "code",
   "execution_count": 82,
   "metadata": {},
   "outputs": [
    {
     "name": "stdout",
     "output_type": "stream",
     "text": [
      "[[ 6818  6556]\n",
      " [  712 85915]]\n",
      "              precision    recall  f1-score   support\n",
      "\n",
      "           0       0.91      0.51      0.65     13374\n",
      "           1       0.93      0.99      0.96     86627\n",
      "\n",
      "    accuracy                           0.93    100001\n",
      "   macro avg       0.92      0.75      0.81    100001\n",
      "weighted avg       0.93      0.93      0.92    100001\n",
      "\n"
     ]
    }
   ],
   "source": [
    "# looking at confusion matrix and classification report for the training set\n",
    "print(confusion_matrix(y_train, y_pred_knn_1_train))\n",
    "print(classification_report(y_train, y_pred_knn_1_train))"
   ]
  },
  {
   "cell_type": "markdown",
   "metadata": {},
   "source": [
    "We see in the training set,\n",
    "For Bad Loans:\n",
    "- Recall is 0.54, which means only 54% of actual bad loans were calssified as bad. This can definitely be improved.\n",
    "- Precision is 0.92, which means 92% of all predicted bad loans are actuall bad. This is a good result.\n",
    "\n",
    "For Good loans\n",
    "- Recall is 0.99, which means 99% of actual good loans were calssified as good. This result is good but provides no significane to our problm.\n",
    "- Precision is 0.93, which means 93% of all predicted good loans are actually good. This is a good result.\n",
    "\n",
    "\n",
    "Let's see the results on the test set."
   ]
  },
  {
   "cell_type": "code",
   "execution_count": 83,
   "metadata": {
    "scrolled": true
   },
   "outputs": [],
   "source": [
    "#Predicting target variables on the testing set\n",
    "y_pred_knn_1_test=knn_1.predict(X_test_1)"
   ]
  },
  {
   "cell_type": "code",
   "execution_count": 84,
   "metadata": {},
   "outputs": [
    {
     "name": "stdout",
     "output_type": "stream",
     "text": [
      "[[ 2046  3112]\n",
      " [  499 34344]]\n",
      "              precision    recall  f1-score   support\n",
      "\n",
      "           0       0.80      0.40      0.53      5158\n",
      "           1       0.92      0.99      0.95     34843\n",
      "\n",
      "    accuracy                           0.91     40001\n",
      "   macro avg       0.86      0.69      0.74     40001\n",
      "weighted avg       0.90      0.91      0.90     40001\n",
      "\n"
     ]
    }
   ],
   "source": [
    "# looking at confusion matrix and classification report for the testing set\n",
    "print(confusion_matrix(y_test, y_pred_knn_1_test))\n",
    "print(classification_report(y_test, y_pred_knn_1_test))"
   ]
  },
  {
   "cell_type": "markdown",
   "metadata": {},
   "source": [
    "We see in the training set,\n",
    "For Bad Loans:\n",
    "- Recall is 0.42, which means only 42% of actual bad loans were calssified as bad. This can definitely be improved.\n",
    "- Precision is 0.83, which means 83% of all predicted bad loans are actuall bad. This is an okay result.\n",
    "\n",
    "For Good loans\n",
    "- Recall is 0.99, which means 99% of actual good loans were calssified as good. This result is good but provides no significane to our problm.\n",
    "- Precision is 0.92, which means 92% of all predicted good loans are actually good. This is a good result.\n",
    "\n",
    "We see the recall is 42%. This model can defeinitely be improved. But first let's look at one statistics that can summarize recall and precision. The area under the ROC curve or AUC."
   ]
  },
  {
   "cell_type": "code",
   "execution_count": 85,
   "metadata": {},
   "outputs": [
    {
     "name": "stdout",
     "output_type": "stream",
     "text": [
      "AUC: 0.9471934758889344\n"
     ]
    }
   ],
   "source": [
    "# Compute predicted probabilities: y_pred_prob\n",
    "y_pred_prob = knn_1.predict_proba(X_train_1)[:,1]\n",
    "\n",
    "# Compute and print AUC score\n",
    "print(\"AUC: {}\".format(roc_auc_score(y_train, y_pred_prob)))"
   ]
  },
  {
   "cell_type": "markdown",
   "metadata": {},
   "source": [
    "Now that we have an initial reference of where our simplest model will be performed, we need to add our categorical variables,let's make a pipeline to perform the following tasks:\n",
    "\n",
    "1. Scaling the data to  \n",
    "2. PCA to reduce the dimensions\n",
    "3. Perfrom Knn Classification\n",
    "\n",
    "The pipeline would then be trained on a 5-fold cross validation."
   ]
  },
  {
   "cell_type": "code",
   "execution_count": 86,
   "metadata": {},
   "outputs": [],
   "source": [
    "#generating our pipeline steps\n",
    "steps=[\n",
    "    ('scaler', StandardScaler()),\n",
    "    ('PCA', PCA()),\n",
    "    ('knn', KNeighborsClassifier())\n",
    "]"
   ]
  },
  {
   "cell_type": "code",
   "execution_count": 87,
   "metadata": {},
   "outputs": [],
   "source": [
    "scaled_X=StandardScaler(X_train_2)"
   ]
  },
  {
   "cell_type": "code",
   "execution_count": 88,
   "metadata": {},
   "outputs": [],
   "source": [
    "pca_X=PCA(scaled_X)"
   ]
  },
  {
   "cell_type": "code",
   "execution_count": 89,
   "metadata": {},
   "outputs": [],
   "source": [
    "#generating a dictionary of the parameters to hypertune\n",
    "parameters = {'knn__n_neighbors':list(range(1,10))}"
   ]
  },
  {
   "cell_type": "code",
   "execution_count": 90,
   "metadata": {},
   "outputs": [],
   "source": [
    "#generating our pipeline to run\n",
    "pipeline = Pipeline(steps)"
   ]
  },
  {
   "cell_type": "code",
   "execution_count": 91,
   "metadata": {},
   "outputs": [],
   "source": [
    "knn=KNeighborsClassifier()"
   ]
  },
  {
   "cell_type": "code",
   "execution_count": 92,
   "metadata": {},
   "outputs": [],
   "source": [
    "#preparing our cross validation model\n",
    "cv = GridSearchCV(pipeline, parameters, cv=3)"
   ]
  },
  {
   "cell_type": "code",
   "execution_count": null,
   "metadata": {},
   "outputs": [],
   "source": [
    "cv.fit(X_train_2,y_train)"
   ]
  },
  {
   "cell_type": "code",
   "execution_count": null,
   "metadata": {},
   "outputs": [],
   "source": [
    "y_pred_2 = cv.predict(X_train_2)\n",
    "\n",
    "# Compute and print metrics\n",
    "print(\"Accuracy: {}\".format(cv.score(X_train_2, y_train)))\n",
    "print(classification_report(y_train, y_pred_2))\n",
    "print(\"Tuned Model Parameters: {}\".format(cv.best_params_))"
   ]
  },
  {
   "cell_type": "code",
   "execution_count": null,
   "metadata": {},
   "outputs": [],
   "source": [
    "# Compute cross-validated AUC scores: cv_auc\n",
    "cv_auc = cross_val_score(knn, X_train_1, y_train,cv=5, scoring='roc_auc')\n",
    "\n",
    "# Print list of AUC scores\n",
    "print(\"AUC scores computed using 5-fold cross-validation: {}\".format(cv_auc))"
   ]
  },
  {
   "cell_type": "code",
   "execution_count": null,
   "metadata": {},
   "outputs": [],
   "source": []
  },
  {
   "cell_type": "code",
   "execution_count": null,
   "metadata": {},
   "outputs": [],
   "source": []
  },
  {
   "cell_type": "code",
   "execution_count": null,
   "metadata": {},
   "outputs": [],
   "source": []
  },
  {
   "cell_type": "code",
   "execution_count": null,
   "metadata": {},
   "outputs": [],
   "source": []
  },
  {
   "cell_type": "code",
   "execution_count": null,
   "metadata": {},
   "outputs": [],
   "source": []
  },
  {
   "cell_type": "code",
   "execution_count": null,
   "metadata": {},
   "outputs": [],
   "source": []
  },
  {
   "cell_type": "markdown",
   "metadata": {},
   "source": [
    "# Logisitic Regression"
   ]
  },
  {
   "cell_type": "code",
   "execution_count": 49,
   "metadata": {},
   "outputs": [
    {
     "name": "stderr",
     "output_type": "stream",
     "text": [
      "C:\\Users\\yfawz\\Anaconda3\\lib\\site-packages\\sklearn\\linear_model\\logistic.py:432: FutureWarning: Default solver will be changed to 'lbfgs' in 0.22. Specify a solver to silence this warning.\n",
      "  FutureWarning)\n"
     ]
    },
    {
     "name": "stdout",
     "output_type": "stream",
     "text": [
      "[[ 601   61]\n",
      " [   0 4339]]\n",
      "              precision    recall  f1-score   support\n",
      "\n",
      "           0       1.00      0.91      0.95       662\n",
      "           1       0.99      1.00      0.99      4339\n",
      "\n",
      "    accuracy                           0.99      5001\n",
      "   macro avg       0.99      0.95      0.97      5001\n",
      "weighted avg       0.99      0.99      0.99      5001\n",
      "\n"
     ]
    }
   ],
   "source": [
    "logreg_1 = LogisticRegression()\n",
    "\n",
    "# Fit the classifier to the training data\n",
    "logreg_1.fit(X_train_1,y_train)\n",
    "\n",
    "# Predict the labels of the test set: y_pred\n",
    "y_pred_1 = logreg_1.predict(X_train_1)\n",
    "\n",
    "# Compute and print the confusion matrix and classification report\n",
    "print(confusion_matrix(y_train, y_pred_1))\n",
    "print(classification_report(y_train, y_pred_1))\n"
   ]
  },
  {
   "cell_type": "code",
   "execution_count": 51,
   "metadata": {},
   "outputs": [
    {
     "data": {
      "image/png": "[encoded data removed]",
      "text/plain": [
       "<Figure size 432x288 with 1 Axes>"
      ]
     },
     "metadata": {},
     "output_type": "display_data"
    }
   ],
   "source": [
    "# Compute predicted probabilities: y_pred_prob\n",
    "y_pred_prob = logreg_1.predict_proba(X_train_1)[:,1]\n",
    "\n",
    "# Generate ROC curve values: fpr, tpr, thresholds\n",
    "fpr, tpr, thresholds = roc_curve(y_train, y_pred_prob)\n",
    "\n",
    "# Plot ROC curve\n",
    "plt.plot([0, 1], [0, 1], 'k--')\n",
    "plt.plot(fpr, tpr)\n",
    "plt.xlabel('False Positive Rate')\n",
    "plt.ylabel('True Positive Rate')\n",
    "plt.title('ROC Curve')\n",
    "plt.show()"
   ]
  },
  {
   "cell_type": "code",
   "execution_count": null,
   "metadata": {},
   "outputs": [],
   "source": []
  },
  {
   "cell_type": "markdown",
   "metadata": {},
   "source": [
    "# Random Forest"
   ]
  },
  {
   "cell_type": "code",
   "execution_count": null,
   "metadata": {},
   "outputs": [],
   "source": []
  },
  {
   "cell_type": "code",
   "execution_count": null,
   "metadata": {},
   "outputs": [],
   "source": []
  }
 ],
 "metadata": {
  "kernelspec": {
   "display_name": "Python 3",
   "language": "python",
   "name": "python3"
  },
  "language_info": {
   "codemirror_mode": {
    "name": "ipython",
    "version": 3
   },
   "file_extension": ".py",
   "mimetype": "text/x-python",
   "name": "python",
   "nbconvert_exporter": "python",
   "pygments_lexer": "ipython3",
   "version": "3.7.3"
  }
 },
 "nbformat": 4,
 "nbformat_minor": 2
}
