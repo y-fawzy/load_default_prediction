{
 "cells": [
  {
   "cell_type": "markdown",
   "metadata": {},
   "source": [
    "# 3- EDA (Statistical Analysis)\n",
    "This section will further analyze our wrangle datasets by using descriptive statistics and some frequentist tests."
   ]
  },
  {
   "cell_type": "code",
   "execution_count": 1,
   "metadata": {},
   "outputs": [],
   "source": [
    "import pandas as pd\n",
    "import numpy as np\n",
    "import matplotlib.pyplot as plt\n",
    "from scipy.stats import ttest_ind"
   ]
  },
  {
   "cell_type": "code",
   "execution_count": 2,
   "metadata": {},
   "outputs": [
    {
     "name": "stderr",
     "output_type": "stream",
     "text": [
      "C:\\Users\\yfawz\\Anaconda3\\lib\\site-packages\\numpy\\lib\\arraysetops.py:568: FutureWarning: elementwise comparison failed; returning scalar instead, but in the future will perform elementwise comparison\n",
      "  mask |= (ar1 == a)\n"
     ]
    }
   ],
   "source": [
    "loan_data=pd.read_csv(\"C:\\\\Users\\\\yfawz\\\\OneDrive\\\\Desktop\\\\load_default_prediction\\\\data\\\\processed\\\\loan_wrangled.csv\", low_memory=False, index_col=0)"
   ]
  },
  {
   "cell_type": "code",
   "execution_count": 3,
   "metadata": {},
   "outputs": [
    {
     "data": {
      "text/html": [
       "<div>\n",
       "<style scoped>\n",
       "    .dataframe tbody tr th:only-of-type {\n",
       "        vertical-align: middle;\n",
       "    }\n",
       "\n",
       "    .dataframe tbody tr th {\n",
       "        vertical-align: top;\n",
       "    }\n",
       "\n",
       "    .dataframe thead th {\n",
       "        text-align: right;\n",
       "    }\n",
       "</style>\n",
       "<table border=\"1\" class=\"dataframe\">\n",
       "  <thead>\n",
       "    <tr style=\"text-align: right;\">\n",
       "      <th></th>\n",
       "      <th>loan_amnt</th>\n",
       "      <th>funded_amnt</th>\n",
       "      <th>funded_amnt_inv</th>\n",
       "      <th>term</th>\n",
       "      <th>int_rate</th>\n",
       "      <th>installment</th>\n",
       "      <th>grade</th>\n",
       "      <th>sub_grade</th>\n",
       "      <th>emp_title</th>\n",
       "      <th>emp_length</th>\n",
       "      <th>...</th>\n",
       "      <th>percent_bc_gt_75</th>\n",
       "      <th>pub_rec_bankruptcies</th>\n",
       "      <th>tax_liens</th>\n",
       "      <th>tot_hi_cred_lim</th>\n",
       "      <th>total_bal_ex_mort</th>\n",
       "      <th>total_bc_limit</th>\n",
       "      <th>total_il_high_credit_limit</th>\n",
       "      <th>hardship_flag</th>\n",
       "      <th>disbursement_method</th>\n",
       "      <th>debt_settlement_flag</th>\n",
       "    </tr>\n",
       "  </thead>\n",
       "  <tbody>\n",
       "    <tr>\n",
       "      <th>0</th>\n",
       "      <td>2500</td>\n",
       "      <td>2500</td>\n",
       "      <td>2500.0</td>\n",
       "      <td>36 months</td>\n",
       "      <td>13.56</td>\n",
       "      <td>84.92</td>\n",
       "      <td>C</td>\n",
       "      <td>C1</td>\n",
       "      <td>Chef</td>\n",
       "      <td>10+ years</td>\n",
       "      <td>...</td>\n",
       "      <td>0.0</td>\n",
       "      <td>1.0</td>\n",
       "      <td>0.0</td>\n",
       "      <td>60124.0</td>\n",
       "      <td>16901.0</td>\n",
       "      <td>36500.0</td>\n",
       "      <td>18124.0</td>\n",
       "      <td>N</td>\n",
       "      <td>Cash</td>\n",
       "      <td>N</td>\n",
       "    </tr>\n",
       "    <tr>\n",
       "      <th>1</th>\n",
       "      <td>30000</td>\n",
       "      <td>30000</td>\n",
       "      <td>30000.0</td>\n",
       "      <td>60 months</td>\n",
       "      <td>18.94</td>\n",
       "      <td>777.23</td>\n",
       "      <td>D</td>\n",
       "      <td>D2</td>\n",
       "      <td>Postmaster</td>\n",
       "      <td>10+ years</td>\n",
       "      <td>...</td>\n",
       "      <td>0.0</td>\n",
       "      <td>1.0</td>\n",
       "      <td>0.0</td>\n",
       "      <td>372872.0</td>\n",
       "      <td>99468.0</td>\n",
       "      <td>15000.0</td>\n",
       "      <td>94072.0</td>\n",
       "      <td>N</td>\n",
       "      <td>Cash</td>\n",
       "      <td>N</td>\n",
       "    </tr>\n",
       "    <tr>\n",
       "      <th>2</th>\n",
       "      <td>5000</td>\n",
       "      <td>5000</td>\n",
       "      <td>5000.0</td>\n",
       "      <td>36 months</td>\n",
       "      <td>17.97</td>\n",
       "      <td>180.69</td>\n",
       "      <td>D</td>\n",
       "      <td>D1</td>\n",
       "      <td>Administrative</td>\n",
       "      <td>6 years</td>\n",
       "      <td>...</td>\n",
       "      <td>0.0</td>\n",
       "      <td>0.0</td>\n",
       "      <td>0.0</td>\n",
       "      <td>136927.0</td>\n",
       "      <td>11749.0</td>\n",
       "      <td>13800.0</td>\n",
       "      <td>10000.0</td>\n",
       "      <td>N</td>\n",
       "      <td>Cash</td>\n",
       "      <td>N</td>\n",
       "    </tr>\n",
       "    <tr>\n",
       "      <th>3</th>\n",
       "      <td>4000</td>\n",
       "      <td>4000</td>\n",
       "      <td>4000.0</td>\n",
       "      <td>36 months</td>\n",
       "      <td>18.94</td>\n",
       "      <td>146.51</td>\n",
       "      <td>D</td>\n",
       "      <td>D2</td>\n",
       "      <td>IT Supervisor</td>\n",
       "      <td>10+ years</td>\n",
       "      <td>...</td>\n",
       "      <td>100.0</td>\n",
       "      <td>0.0</td>\n",
       "      <td>0.0</td>\n",
       "      <td>385183.0</td>\n",
       "      <td>36151.0</td>\n",
       "      <td>5000.0</td>\n",
       "      <td>44984.0</td>\n",
       "      <td>N</td>\n",
       "      <td>Cash</td>\n",
       "      <td>N</td>\n",
       "    </tr>\n",
       "    <tr>\n",
       "      <th>4</th>\n",
       "      <td>30000</td>\n",
       "      <td>30000</td>\n",
       "      <td>30000.0</td>\n",
       "      <td>60 months</td>\n",
       "      <td>16.14</td>\n",
       "      <td>731.78</td>\n",
       "      <td>C</td>\n",
       "      <td>C4</td>\n",
       "      <td>Mechanic</td>\n",
       "      <td>10+ years</td>\n",
       "      <td>...</td>\n",
       "      <td>0.0</td>\n",
       "      <td>0.0</td>\n",
       "      <td>0.0</td>\n",
       "      <td>157548.0</td>\n",
       "      <td>29674.0</td>\n",
       "      <td>9300.0</td>\n",
       "      <td>32332.0</td>\n",
       "      <td>N</td>\n",
       "      <td>Cash</td>\n",
       "      <td>N</td>\n",
       "    </tr>\n",
       "  </tbody>\n",
       "</table>\n",
       "<p>5 rows × 104 columns</p>\n",
       "</div>"
      ],
      "text/plain": [
       "   loan_amnt  funded_amnt  funded_amnt_inv        term  int_rate  installment  \\\n",
       "0       2500         2500           2500.0   36 months     13.56        84.92   \n",
       "1      30000        30000          30000.0   60 months     18.94       777.23   \n",
       "2       5000         5000           5000.0   36 months     17.97       180.69   \n",
       "3       4000         4000           4000.0   36 months     18.94       146.51   \n",
       "4      30000        30000          30000.0   60 months     16.14       731.78   \n",
       "\n",
       "  grade sub_grade       emp_title emp_length  ... percent_bc_gt_75  \\\n",
       "0     C        C1            Chef  10+ years  ...              0.0   \n",
       "1     D        D2     Postmaster   10+ years  ...              0.0   \n",
       "2     D        D1  Administrative    6 years  ...              0.0   \n",
       "3     D        D2   IT Supervisor  10+ years  ...            100.0   \n",
       "4     C        C4        Mechanic  10+ years  ...              0.0   \n",
       "\n",
       "   pub_rec_bankruptcies tax_liens tot_hi_cred_lim total_bal_ex_mort  \\\n",
       "0                   1.0       0.0         60124.0           16901.0   \n",
       "1                   1.0       0.0        372872.0           99468.0   \n",
       "2                   0.0       0.0        136927.0           11749.0   \n",
       "3                   0.0       0.0        385183.0           36151.0   \n",
       "4                   0.0       0.0        157548.0           29674.0   \n",
       "\n",
       "  total_bc_limit total_il_high_credit_limit hardship_flag disbursement_method  \\\n",
       "0        36500.0                    18124.0             N                Cash   \n",
       "1        15000.0                    94072.0             N                Cash   \n",
       "2        13800.0                    10000.0             N                Cash   \n",
       "3         5000.0                    44984.0             N                Cash   \n",
       "4         9300.0                    32332.0             N                Cash   \n",
       "\n",
       "   debt_settlement_flag  \n",
       "0                     N  \n",
       "1                     N  \n",
       "2                     N  \n",
       "3                     N  \n",
       "4                     N  \n",
       "\n",
       "[5 rows x 104 columns]"
      ]
     },
     "execution_count": 3,
     "metadata": {},
     "output_type": "execute_result"
    }
   ],
   "source": [
    "loan_data.head()"
   ]
  },
  {
   "cell_type": "markdown",
   "metadata": {},
   "source": [
    "Some of the hypothesis that will be done in this notebook will aim to compare 2 sets and whether they have idential distributions and will follow the same computational path and therefore we will write functions to ease this analysis.\n",
    "\n",
    "In order to compare 2 different distributions and see if they are similar is to conduct a hypotheis test with permutations which is using the following functions:\n",
    "\n",
    "The first function will:\n",
    "\n",
    "- 1. Combine the 2 datasets together\n",
    "- 2. Randomly scramble the data so that the original order is lost. \n",
    "- 3. Divide the scramble data into 2 portions. Each portion is the same length as the original. Except now they are from the scrambled set.\n",
    "- 4. The function returns 2 permutated samples of the scrambled data\n",
    "\n",
    "The second function will:\n",
    "- 1. Draw permutated samples using the first function.\n",
    "- 2. Apply a pre-defined function taking the 2 sets as inputs and returns a permutated replicate.(In this scenario the function will be the difference of means which will be our 3rd function.\n",
    "- 3. There will be a 'size' argument which will be the number of iterations(# of replicates) to be returned by the function. \n",
    "\n",
    "The third funtion will:\n",
    "- 1. Return the difference of means between two datasets.\n",
    "\n",
    "A combination of these 3 funtions will return one array of permutated replicates(difference of means) which can be used to test the observed difference against the replicates to complete the hypothesis test.\n",
    "\n",
    "The p-value which is the probability of observing a test statistic equally or more extreme than the one observed, given that the null hypothesis is true."
   ]
  },
  {
   "cell_type": "code",
   "execution_count": 95,
   "metadata": {},
   "outputs": [],
   "source": [
    "def permutation_sample(set_1, set_2):\n",
    "    \"\"\"Generate a permutation sample from two data sets.\"\"\"\n",
    "\n",
    "    # Concatenate the data sets: data\n",
    "    data = np.concatenate((set_1, set_2))\n",
    "\n",
    "    # Permute the concatenated array: permuted_data\n",
    "    permuted_data = np.random.permutation(data)\n",
    "\n",
    "    # Split the permuted array into two: perm_sample_1, perm_sample_2\n",
    "    perm_sample_1 = permuted_data[:len(set_1)]\n",
    "    perm_sample_2 = permuted_data[-len(set_2):]\n",
    "\n",
    "    return perm_sample_1, perm_sample_2"
   ]
  },
  {
   "cell_type": "code",
   "execution_count": 127,
   "metadata": {},
   "outputs": [],
   "source": [
    "# Defining function to return permutaed samples depending on function\n",
    "def draw_perm_reps(set_1, set_2, func, size=1):\n",
    "    \"\"\"Generate multiple permutation replicates.\"\"\"\n",
    "\n",
    "    # Initialize array of replicates: perm_replicates\n",
    "    perm_reps = np.empty(size)\n",
    "\n",
    "    for i in range(size):\n",
    "        # Generate permutation sample\n",
    "        perm_sample_1, perm_sample_2 = permutation_sample(set_1,set_2)\n",
    "\n",
    "        # Compute the test statistic\n",
    "        perm_reps[i] = func(perm_sample_1, perm_sample_2)\n",
    "\n",
    "    return perm_reps"
   ]
  },
  {
   "cell_type": "code",
   "execution_count": 128,
   "metadata": {},
   "outputs": [],
   "source": [
    "def diff_of_means(set_1, set_2):\n",
    "    \"\"\"Difference in means of two arrays.\"\"\"\n",
    "\n",
    "    # The difference of means of data_1, data_2: diff\n",
    "    diff = np.mean(set_1) - np.mean(set_2)\n",
    "    \n",
    "    return diff"
   ]
  },
  {
   "cell_type": "markdown",
   "metadata": {},
   "source": [
    "# 1. Do mortgage holders have a similar interest rate distribution as those who rent their homes?"
   ]
  },
  {
   "cell_type": "markdown",
   "metadata": {},
   "source": [
    "## Null Hypothesis: Mortgage Holders and Renters receive have the same interest rate distribution."
   ]
  },
  {
   "cell_type": "code",
   "execution_count": 129,
   "metadata": {},
   "outputs": [],
   "source": [
    "#Filtering Mortgage Data\n",
    "mortgage_data=loan_data[loan_data.home_ownership == 'MORTGAGE']\n",
    "\n",
    "#Filterting Renter data\n",
    "renter_data=loan_data[loan_data.home_ownership == 'RENT']\n",
    "\n",
    "#filtering interest rates\n",
    "ir_mortgage=mortgage_data['int_rate']\n",
    "ir_renter=renter_data['int_rate']"
   ]
  },
  {
   "cell_type": "code",
   "execution_count": 122,
   "metadata": {},
   "outputs": [
    {
     "data": {
      "text/plain": [
       "-0.7666776970587161"
      ]
     },
     "execution_count": 122,
     "metadata": {},
     "output_type": "execute_result"
    }
   ],
   "source": [
    "# Compute difference of mean interest rates observed in the data\n",
    "ir_empirical_diff_means = diff_of_means(ir_mortgage,ir_renter)\n",
    "\n",
    "ir_empirical_diff_means"
   ]
  },
  {
   "cell_type": "markdown",
   "metadata": {},
   "source": [
    "The observed difference of means between mortgage holders and renters is -0.77%. Let's run our functions."
   ]
  },
  {
   "cell_type": "code",
   "execution_count": null,
   "metadata": {},
   "outputs": [],
   "source": [
    "# Draw 2,000 permutation replicates: perm_replicates\n",
    "perm_reps = draw_perm_reps(ir_mortgage, ir_renter, diff_of_means, size=200)\n",
    "\n",
    "# Compute p-value: p\n",
    "p = np.sum(perm_reps >= empirical_diff_means) / len(perm_reps)\n",
    "\n",
    "# Print the result\n",
    "print('p-value =', p)"
   ]
  },
  {
   "cell_type": "code",
   "execution_count": 126,
   "metadata": {},
   "outputs": [
    {
     "data": {
      "text/plain": [
       "array([1.21176352e-311, 1.21177798e-311, 1.21177783e-311, 1.21177783e-311,\n",
       "       1.21177783e-311, 1.21177783e-311, 1.21177803e-311, 1.21177803e-311,\n",
       "       1.21177803e-311, 1.21177803e-311, 1.21177803e-311, 1.21177803e-311,\n",
       "       1.21177803e-311, 1.21177803e-311, 1.21177803e-311, 1.21177803e-311,\n",
       "       1.21177803e-311, 1.21177803e-311, 1.21177803e-311, 1.21177803e-311,\n",
       "       1.21177803e-311, 1.21177803e-311, 1.21177803e-311, 1.21177803e-311,\n",
       "       1.21177803e-311, 1.21177803e-311, 1.21177803e-311, 1.21177803e-311,\n",
       "       1.21177803e-311, 1.21177803e-311, 1.21177803e-311, 1.21177803e-311,\n",
       "       1.21177803e-311, 1.21177803e-311, 1.21177803e-311, 1.21177803e-311,\n",
       "       1.21177803e-311, 1.21177803e-311, 1.21177803e-311, 1.21177803e-311,\n",
       "       1.21177803e-311, 1.21177803e-311, 1.21177803e-311, 1.21177803e-311,\n",
       "       1.21177803e-311, 1.21177803e-311, 1.21177803e-311, 1.21177803e-311,\n",
       "       1.21177803e-311, 1.21177803e-311, 1.21177805e-311, 1.21177805e-311,\n",
       "       1.21177805e-311, 1.21177805e-311, 1.21177805e-311, 1.21177805e-311,\n",
       "       1.21177805e-311, 1.21177805e-311, 1.21177805e-311, 1.21177805e-311,\n",
       "       1.21177805e-311, 1.21177805e-311, 1.21177805e-311, 1.21177805e-311,\n",
       "       1.21177805e-311, 1.21177805e-311, 1.21177805e-311, 1.21177805e-311,\n",
       "       1.21177805e-311, 1.21177805e-311, 1.21177805e-311, 1.21177805e-311,\n",
       "       1.21177805e-311, 1.21177805e-311, 1.21177805e-311, 1.21177805e-311,\n",
       "       1.21177805e-311, 1.21177805e-311, 1.21177805e-311, 1.21177805e-311,\n",
       "       1.21177805e-311, 1.21177805e-311, 1.21177805e-311, 1.21177805e-311,\n",
       "       1.21177805e-311, 1.21177805e-311, 1.21177805e-311, 1.21177805e-311,\n",
       "       1.21177805e-311, 1.21177805e-311, 1.21177805e-311, 1.21177805e-311,\n",
       "       1.21177805e-311, 1.21177805e-311, 1.21177805e-311, 1.21177805e-311,\n",
       "       1.21177805e-311, 1.21177805e-311, 1.21177805e-311, 1.21177805e-311,\n",
       "       1.21177805e-311, 1.21177805e-311, 1.21177805e-311, 1.21177805e-311,\n",
       "       1.21177805e-311, 1.21177805e-311, 1.21177805e-311, 1.21177805e-311,\n",
       "       1.21177805e-311, 1.21177805e-311, 1.21177805e-311, 1.21177806e-311,\n",
       "       1.21177806e-311, 1.21177806e-311, 1.21177806e-311, 1.21177806e-311,\n",
       "       1.21177806e-311, 1.21177806e-311, 1.21177806e-311, 1.21177806e-311,\n",
       "       1.21177806e-311, 1.21177806e-311, 1.21177806e-311, 1.21177806e-311,\n",
       "       1.21177807e-311, 1.21177807e-311, 1.21177807e-311, 1.21177807e-311,\n",
       "       1.21177807e-311, 1.21177807e-311, 1.21177807e-311, 1.21177807e-311,\n",
       "       1.21177807e-311, 1.21177807e-311, 1.21177807e-311, 1.21177807e-311,\n",
       "       1.21177807e-311, 1.21177807e-311, 1.21177808e-311, 1.21177808e-311,\n",
       "       1.21177808e-311, 1.21177808e-311, 1.21177808e-311, 1.21177808e-311,\n",
       "       1.21177808e-311, 1.21177809e-311, 1.21177809e-311, 1.21177809e-311,\n",
       "       1.21177809e-311, 1.21177809e-311, 1.21177809e-311, 1.21177809e-311,\n",
       "       1.21177809e-311, 1.21177809e-311, 1.21177809e-311, 1.21177809e-311,\n",
       "       1.21177810e-311, 1.21177810e-311, 1.21177810e-311, 1.21177810e-311,\n",
       "       1.21177810e-311, 1.21177810e-311, 1.21177810e-311, 1.21177810e-311,\n",
       "       1.21177810e-311, 1.21177810e-311, 1.21177810e-311, 1.21177810e-311,\n",
       "       1.21177810e-311, 1.21177810e-311, 1.21177810e-311, 1.21177809e-311,\n",
       "       1.21177809e-311, 1.21177809e-311, 1.21177809e-311, 1.21177809e-311,\n",
       "       1.21177809e-311, 1.21177809e-311, 1.21177809e-311, 1.21177809e-311,\n",
       "       1.21177809e-311, 1.21177809e-311, 1.21177809e-311, 1.21177809e-311,\n",
       "       1.21177809e-311, 1.21177811e-311, 1.21177811e-311, 1.21177811e-311,\n",
       "       1.21177811e-311, 1.21177811e-311, 1.21177811e-311, 1.21177811e-311,\n",
       "       1.21177811e-311, 1.21177811e-311, 1.21177811e-311, 1.21177811e-311,\n",
       "       1.21177811e-311, 1.21177811e-311, 1.21177811e-311, 1.21177811e-311])"
      ]
     },
     "execution_count": 126,
     "metadata": {},
     "output_type": "execute_result"
    }
   ],
   "source": [
    "perm_reps"
   ]
  },
  {
   "cell_type": "code",
   "execution_count": 125,
   "metadata": {},
   "outputs": [
    {
     "data": {
      "text/plain": [
       "1.21176351918e-311"
      ]
     },
     "execution_count": 125,
     "metadata": {},
     "output_type": "execute_result"
    }
   ],
   "source": [
    "np.min(perm_reps)"
   ]
  },
  {
   "cell_type": "code",
   "execution_count": 124,
   "metadata": {},
   "outputs": [
    {
     "name": "stderr",
     "output_type": "stream",
     "text": [
      "C:\\Users\\yfawz\\Anaconda3\\lib\\site-packages\\numpy\\lib\\histograms.py:825: RuntimeWarning: overflow encountered in double_scalars\n",
      "  norm = n_equal_bins / _unsigned_subtract(last_edge, first_edge)\n",
      "C:\\Users\\yfawz\\Anaconda3\\lib\\site-packages\\numpy\\lib\\histograms.py:853: RuntimeWarning: invalid value encountered in multiply\n",
      "  f_indices = _unsigned_subtract(tmp_a, first_edge) * norm\n"
     ]
    },
    {
     "ename": "IndexError",
     "evalue": "index -9223372036854775808 is out of bounds for axis 0 with size 31",
     "output_type": "error",
     "traceback": [
      "\u001b[1;31m---------------------------------------------------------------------------\u001b[0m",
      "\u001b[1;31mIndexError\u001b[0m                                Traceback (most recent call last)",
      "\u001b[1;32m<ipython-input-124-9f5d5c1669bc>\u001b[0m in \u001b[0;36m<module>\u001b[1;34m\u001b[0m\n\u001b[1;32m----> 1\u001b[1;33m \u001b[0mplt\u001b[0m\u001b[1;33m.\u001b[0m\u001b[0mhist\u001b[0m\u001b[1;33m(\u001b[0m\u001b[0mperm_reps\u001b[0m\u001b[1;33m,\u001b[0m \u001b[0mbins\u001b[0m\u001b[1;33m=\u001b[0m\u001b[1;36m30\u001b[0m\u001b[1;33m)\u001b[0m\u001b[1;33m\u001b[0m\u001b[1;33m\u001b[0m\u001b[0m\n\u001b[0m",
      "\u001b[1;32m~\\Anaconda3\\lib\\site-packages\\matplotlib\\pyplot.py\u001b[0m in \u001b[0;36mhist\u001b[1;34m(x, bins, range, density, weights, cumulative, bottom, histtype, align, orientation, rwidth, log, color, label, stacked, normed, data, **kwargs)\u001b[0m\n\u001b[0;32m   2657\u001b[0m         \u001b[0malign\u001b[0m\u001b[1;33m=\u001b[0m\u001b[0malign\u001b[0m\u001b[1;33m,\u001b[0m \u001b[0morientation\u001b[0m\u001b[1;33m=\u001b[0m\u001b[0morientation\u001b[0m\u001b[1;33m,\u001b[0m \u001b[0mrwidth\u001b[0m\u001b[1;33m=\u001b[0m\u001b[0mrwidth\u001b[0m\u001b[1;33m,\u001b[0m \u001b[0mlog\u001b[0m\u001b[1;33m=\u001b[0m\u001b[0mlog\u001b[0m\u001b[1;33m,\u001b[0m\u001b[1;33m\u001b[0m\u001b[1;33m\u001b[0m\u001b[0m\n\u001b[0;32m   2658\u001b[0m         \u001b[0mcolor\u001b[0m\u001b[1;33m=\u001b[0m\u001b[0mcolor\u001b[0m\u001b[1;33m,\u001b[0m \u001b[0mlabel\u001b[0m\u001b[1;33m=\u001b[0m\u001b[0mlabel\u001b[0m\u001b[1;33m,\u001b[0m \u001b[0mstacked\u001b[0m\u001b[1;33m=\u001b[0m\u001b[0mstacked\u001b[0m\u001b[1;33m,\u001b[0m \u001b[0mnormed\u001b[0m\u001b[1;33m=\u001b[0m\u001b[0mnormed\u001b[0m\u001b[1;33m,\u001b[0m\u001b[1;33m\u001b[0m\u001b[1;33m\u001b[0m\u001b[0m\n\u001b[1;32m-> 2659\u001b[1;33m         **({\"data\": data} if data is not None else {}), **kwargs)\n\u001b[0m\u001b[0;32m   2660\u001b[0m \u001b[1;33m\u001b[0m\u001b[0m\n\u001b[0;32m   2661\u001b[0m \u001b[1;33m\u001b[0m\u001b[0m\n",
      "\u001b[1;32m~\\Anaconda3\\lib\\site-packages\\matplotlib\\__init__.py\u001b[0m in \u001b[0;36minner\u001b[1;34m(ax, data, *args, **kwargs)\u001b[0m\n\u001b[0;32m   1808\u001b[0m                         \u001b[1;34m\"the Matplotlib list!)\"\u001b[0m \u001b[1;33m%\u001b[0m \u001b[1;33m(\u001b[0m\u001b[0mlabel_namer\u001b[0m\u001b[1;33m,\u001b[0m \u001b[0mfunc\u001b[0m\u001b[1;33m.\u001b[0m\u001b[0m__name__\u001b[0m\u001b[1;33m)\u001b[0m\u001b[1;33m,\u001b[0m\u001b[1;33m\u001b[0m\u001b[1;33m\u001b[0m\u001b[0m\n\u001b[0;32m   1809\u001b[0m                         RuntimeWarning, stacklevel=2)\n\u001b[1;32m-> 1810\u001b[1;33m             \u001b[1;32mreturn\u001b[0m \u001b[0mfunc\u001b[0m\u001b[1;33m(\u001b[0m\u001b[0max\u001b[0m\u001b[1;33m,\u001b[0m \u001b[1;33m*\u001b[0m\u001b[0margs\u001b[0m\u001b[1;33m,\u001b[0m \u001b[1;33m**\u001b[0m\u001b[0mkwargs\u001b[0m\u001b[1;33m)\u001b[0m\u001b[1;33m\u001b[0m\u001b[1;33m\u001b[0m\u001b[0m\n\u001b[0m\u001b[0;32m   1811\u001b[0m \u001b[1;33m\u001b[0m\u001b[0m\n\u001b[0;32m   1812\u001b[0m         inner.__doc__ = _add_data_doc(inner.__doc__,\n",
      "\u001b[1;32m~\\Anaconda3\\lib\\site-packages\\matplotlib\\axes\\_axes.py\u001b[0m in \u001b[0;36mhist\u001b[1;34m(self, x, bins, range, density, weights, cumulative, bottom, histtype, align, orientation, rwidth, log, color, label, stacked, normed, **kwargs)\u001b[0m\n\u001b[0;32m   6589\u001b[0m             \u001b[1;31m# this will automatically overwrite bins,\u001b[0m\u001b[1;33m\u001b[0m\u001b[1;33m\u001b[0m\u001b[1;33m\u001b[0m\u001b[0m\n\u001b[0;32m   6590\u001b[0m             \u001b[1;31m# so that each histogram uses the same bins\u001b[0m\u001b[1;33m\u001b[0m\u001b[1;33m\u001b[0m\u001b[1;33m\u001b[0m\u001b[0m\n\u001b[1;32m-> 6591\u001b[1;33m             \u001b[0mm\u001b[0m\u001b[1;33m,\u001b[0m \u001b[0mbins\u001b[0m \u001b[1;33m=\u001b[0m \u001b[0mnp\u001b[0m\u001b[1;33m.\u001b[0m\u001b[0mhistogram\u001b[0m\u001b[1;33m(\u001b[0m\u001b[0mx\u001b[0m\u001b[1;33m[\u001b[0m\u001b[0mi\u001b[0m\u001b[1;33m]\u001b[0m\u001b[1;33m,\u001b[0m \u001b[0mbins\u001b[0m\u001b[1;33m,\u001b[0m \u001b[0mweights\u001b[0m\u001b[1;33m=\u001b[0m\u001b[0mw\u001b[0m\u001b[1;33m[\u001b[0m\u001b[0mi\u001b[0m\u001b[1;33m]\u001b[0m\u001b[1;33m,\u001b[0m \u001b[1;33m**\u001b[0m\u001b[0mhist_kwargs\u001b[0m\u001b[1;33m)\u001b[0m\u001b[1;33m\u001b[0m\u001b[1;33m\u001b[0m\u001b[0m\n\u001b[0m\u001b[0;32m   6592\u001b[0m             \u001b[0mm\u001b[0m \u001b[1;33m=\u001b[0m \u001b[0mm\u001b[0m\u001b[1;33m.\u001b[0m\u001b[0mastype\u001b[0m\u001b[1;33m(\u001b[0m\u001b[0mfloat\u001b[0m\u001b[1;33m)\u001b[0m  \u001b[1;31m# causes problems later if it's an int\u001b[0m\u001b[1;33m\u001b[0m\u001b[1;33m\u001b[0m\u001b[0m\n\u001b[0;32m   6593\u001b[0m             \u001b[1;32mif\u001b[0m \u001b[0mmlast\u001b[0m \u001b[1;32mis\u001b[0m \u001b[1;32mNone\u001b[0m\u001b[1;33m:\u001b[0m\u001b[1;33m\u001b[0m\u001b[1;33m\u001b[0m\u001b[0m\n",
      "\u001b[1;32m<__array_function__ internals>\u001b[0m in \u001b[0;36mhistogram\u001b[1;34m(*args, **kwargs)\u001b[0m\n",
      "\u001b[1;32m~\\Anaconda3\\lib\\site-packages\\numpy\\lib\\histograms.py\u001b[0m in \u001b[0;36mhistogram\u001b[1;34m(a, bins, range, normed, weights, density)\u001b[0m\n\u001b[0;32m    857\u001b[0m             \u001b[1;31m# The index computation is not guaranteed to give exactly\u001b[0m\u001b[1;33m\u001b[0m\u001b[1;33m\u001b[0m\u001b[1;33m\u001b[0m\u001b[0m\n\u001b[0;32m    858\u001b[0m             \u001b[1;31m# consistent results within ~1 ULP of the bin edges.\u001b[0m\u001b[1;33m\u001b[0m\u001b[1;33m\u001b[0m\u001b[1;33m\u001b[0m\u001b[0m\n\u001b[1;32m--> 859\u001b[1;33m             \u001b[0mdecrement\u001b[0m \u001b[1;33m=\u001b[0m \u001b[0mtmp_a\u001b[0m \u001b[1;33m<\u001b[0m \u001b[0mbin_edges\u001b[0m\u001b[1;33m[\u001b[0m\u001b[0mindices\u001b[0m\u001b[1;33m]\u001b[0m\u001b[1;33m\u001b[0m\u001b[1;33m\u001b[0m\u001b[0m\n\u001b[0m\u001b[0;32m    860\u001b[0m             \u001b[0mindices\u001b[0m\u001b[1;33m[\u001b[0m\u001b[0mdecrement\u001b[0m\u001b[1;33m]\u001b[0m \u001b[1;33m-=\u001b[0m \u001b[1;36m1\u001b[0m\u001b[1;33m\u001b[0m\u001b[1;33m\u001b[0m\u001b[0m\n\u001b[0;32m    861\u001b[0m             \u001b[1;31m# The last bin includes the right edge. The other bins do not.\u001b[0m\u001b[1;33m\u001b[0m\u001b[1;33m\u001b[0m\u001b[1;33m\u001b[0m\u001b[0m\n",
      "\u001b[1;31mIndexError\u001b[0m: index -9223372036854775808 is out of bounds for axis 0 with size 31"
     ]
    },
    {
     "data": {
      "image/png": "[encoded data removed]",
      "text/plain": [
       "<Figure size 432x288 with 1 Axes>"
      ]
     },
     "metadata": {
      "needs_background": "light"
     },
     "output_type": "display_data"
    }
   ],
   "source": [
    "plt.hist(perm_reps, bins=30)"
   ]
  },
  {
   "cell_type": "markdown",
   "metadata": {},
   "source": [
    "## Null Hypothesis: Mortgage holders have an equal or higher mean interest rate distribution than renters."
   ]
  },
  {
   "cell_type": "markdown",
   "metadata": {},
   "source": [
    "TO test the above hypothesis, this can be done by:\n",
    "\n",
    "- 1 - Combining the mortgage and renter interest rate series into one.\n",
    "- 2- Finding the combined mean.\n",
    "- 3- Shifting the mean of the mortgage and renter dataset to have the same value as the combined mean\n",
    "- 4- Bootstrap replicates of the mean for each home by bootstrapping samples 10,000 times.\n",
    "- 5- Find the difference of the boostrapped mean replicates.\n",
    "- 6- Find the observed difference of the actual means.\n",
    "- 7- Test the observed differences against the observed difference by counting the number of boostrapped replicates that are equal to or greater than the observed difference.\n",
    "- 8- Divide the count by the length of the array to obtain the p-value.\n",
    "- 9- For a 95% confidence interval, if th p-value is less than 0.05, we shall reject the null hypothesis"
   ]
  },
  {
   "cell_type": "code",
   "execution_count": 66,
   "metadata": {},
   "outputs": [],
   "source": []
  },
  {
   "cell_type": "code",
   "execution_count": 67,
   "metadata": {},
   "outputs": [],
   "source": []
  },
  {
   "cell_type": "code",
   "execution_count": 68,
   "metadata": {},
   "outputs": [],
   "source": []
  },
  {
   "cell_type": "code",
   "execution_count": 69,
   "metadata": {},
   "outputs": [],
   "source": [
    "#finding means\n",
    "ir_mortgage_mean=np.mean(ir_mortgage)\n",
    "ir_renter_mean=np.mean(ir_renter)\n",
    "\n",
    "#combining dataset and mean\n",
    "ir_combined = np.concatenate((ir_mortgage,ir_renter))\n",
    "ir_combined_mean=np.mean(ir_combined)\n",
    "\n",
    "#computing difference of observed means\n",
    "ir_mean_diff = ir_mortgage_mean - ir_renter_mean"
   ]
  },
  {
   "cell_type": "code",
   "execution_count": 8,
   "metadata": {},
   "outputs": [],
   "source": [
    "#shifting means to obtain the same mean \n",
    "ir_shift_mean_mortgage = ir_mortgage -np.mean(ir_mortgage) + ir_combined_mean\n",
    "ir_shift_mean_renter = ir_renter -np.mean(ir_renter) + ir_combined_mean"
   ]
  },
  {
   "cell_type": "code",
   "execution_count": 9,
   "metadata": {},
   "outputs": [],
   "source": [
    "#bootstrapping means\n",
    "ir_bsm_reps_mortgage = np.empty(2000)\n",
    "ir_bsm_reps_renter = np.empty(2000)\n",
    "for i in range(0,2000):\n",
    "    ir_bsm_reps_mortgage[i] = np.mean(np.random.choice(ir_shift_mean_mortgage, len(ir_shift_mean_mortgage)))\n",
    "\n",
    "for i in range(0,2000):\n",
    "    ir_bsm_reps_renter[i] = np.mean(np.random.choice(ir_shift_mean_renter, len(ir_shift_mean_renter)))"
   ]
  },
  {
   "cell_type": "code",
   "execution_count": 10,
   "metadata": {},
   "outputs": [],
   "source": [
    "#computing difference of bootstrapped means\n",
    "ir_bsm_diff_of_means = ir_bsm_reps_mortgage - ir_bsm_reps_renter"
   ]
  },
  {
   "cell_type": "code",
   "execution_count": 11,
   "metadata": {},
   "outputs": [
    {
     "data": {
      "text/plain": [
       "100.0"
      ]
     },
     "execution_count": 11,
     "metadata": {},
     "output_type": "execute_result"
    }
   ],
   "source": [
    "#computing p-value\n",
    "p = (np.sum(ir_bsm_diff_of_means >= ir_mean_diff) + np.sum(ir_bsm_diff_of_means <= ir_mean_diff))/len(ir_bsm_diff_of_means)\n",
    "p*100"
   ]
  },
  {
   "cell_type": "code",
   "execution_count": 13,
   "metadata": {},
   "outputs": [
    {
     "data": {
      "text/plain": [
       "2000"
      ]
     },
     "execution_count": 13,
     "metadata": {},
     "output_type": "execute_result"
    }
   ],
   "source": [
    "np.sum(ir_bsm_diff_of_means > ir_mean_diff)"
   ]
  },
  {
   "cell_type": "markdown",
   "metadata": {},
   "source": [
    "We see that out of the 2000 replicates, all of them are greater than the observed difference giving a p-value of 1. This means that we fail to reject the null hypothesis. Let's visualize."
   ]
  },
  {
   "cell_type": "code",
   "execution_count": 16,
   "metadata": {},
   "outputs": [
    {
     "data": {
      "image/png": "[encoded data removed]",
      "text/plain": [
       "<Figure size 432x288 with 1 Axes>"
      ]
     },
     "metadata": {
      "needs_background": "light"
     },
     "output_type": "display_data"
    }
   ],
   "source": [
    "#plotting histogram of difference of boostrapped repplicates of mean\n",
    "plt.hist(ir_bsm_diff_of_means, bins=30)\n",
    "\n",
    "plt.axvline(x=np.percentile(ir_bsm_diff_of_means,(p)*100),color='g',linestyle='--')\n",
    "plt.axvline(x=np.percentile(ir_bsm_diff_of_means,2.5),color='red',linestyle='--')\n",
    "plt.axvline(x=np.percentile(ir_bsm_diff_of_means,97.5),color='red',linestyle='--')\n",
    "plt.xlabel(\"Differnce of Bootstrapped means \")\n",
    "plt.title(\"Difference of Bootstrapped Reps(Mortgage Holders vs Renters)\")\n",
    "plt.ylabel(\"Frequency\");"
   ]
  },
  {
   "cell_type": "markdown",
   "metadata": {},
   "source": [
    "# 2. Do mortgage holders have than an identical distribution of loans vs those who rent their homes?"
   ]
  },
  {
   "cell_type": "markdown",
   "metadata": {},
   "source": [
    "This questions is best answered using a permutation test. This will be done using the following steps:\n",
    "\n",
    "1. Combing the mortgage loan amounts with renter loan amounts\n",
    "2. Randomly scramble the loan amounts (Assuming there are no differences between the 2 datasets.\n",
    "\n"
   ]
  },
  {
   "cell_type": "code",
   "execution_count": 55,
   "metadata": {},
   "outputs": [],
   "source": [
    "#filtering and combining interest rates\n",
    "loan_mortgage=mortgage_data['int_rate']\n",
    "loan_renter=renter_data['int_rate']\n",
    "loan_combined = np.concatenate((loan_mortgage,loan_renter))\n",
    "empirical_diff_means = np.mean(loan_mortgage) - np.mean(loan_renter)"
   ]
  },
  {
   "cell_type": "code",
   "execution_count": 56,
   "metadata": {},
   "outputs": [],
   "source": [
    "loan_perm_sample=np.random.permutation(loan_combined)"
   ]
  },
  {
   "cell_type": "code",
   "execution_count": 57,
   "metadata": {},
   "outputs": [],
   "source": [
    "perm_sample_mortgage=loan_perm_sample[:len(loan_mortgage)]\n",
    "perm_sample_renters=loan_perm_sample[-len(loan_renter):]"
   ]
  },
  {
   "cell_type": "code",
   "execution_count": 58,
   "metadata": {},
   "outputs": [
    {
     "data": {
      "text/plain": [
       "0.007146636177607135"
      ]
     },
     "execution_count": 58,
     "metadata": {},
     "output_type": "execute_result"
    }
   ],
   "source": [
    "np.mean(perm_sample_mortgage)-np.mean(perm_sample_renters)"
   ]
  },
  {
   "cell_type": "code",
   "execution_count": 59,
   "metadata": {},
   "outputs": [],
   "source": [
    "perm_replicates = np.empty(5000)\n",
    "for i in range(5000):\n",
    "        # Compute the test statistic\n",
    "        \n",
    "        perm_sample_mortgage=loan_perm_sample[:len(loan_mortgage)]\n",
    "        perm_sample_renters=loan_perm_sample[-len(loan_renter):]\n",
    "        \n",
    "        loan_combined = np.concatenate((loan_mortgage,loan_renter))\n",
    "        perm_replicates[i] = np.mean(perm_sample_mortgage) - np.mean(perm_sample_renters)"
   ]
  },
  {
   "cell_type": "code",
   "execution_count": 60,
   "metadata": {},
   "outputs": [],
   "source": [
    "p = np.sum(perm_replicates >= empirical_diff_means) / len(perm_replicates)"
   ]
  },
  {
   "cell_type": "code",
   "execution_count": 62,
   "metadata": {},
   "outputs": [
    {
     "data": {
      "text/plain": [
       "1.0"
      ]
     },
     "execution_count": 62,
     "metadata": {},
     "output_type": "execute_result"
    }
   ],
   "source": [
    "p"
   ]
  },
  {
   "cell_type": "code",
   "execution_count": 17,
   "metadata": {},
   "outputs": [],
   "source": [
    "#filtering interest rates\n",
    "loan_mortgage=mortgage_data['loan_amnt']\n",
    "loan_renter=renter_data['loan_amnt']"
   ]
  },
  {
   "cell_type": "code",
   "execution_count": 18,
   "metadata": {},
   "outputs": [],
   "source": [
    "#finding means\n",
    "loan_mortgage_mean=np.mean(loan_mortgage)\n",
    "loan_renter_mean=np.mean(loan_renter)\n",
    "\n",
    "#combining dataset and mean\n",
    "loan_combined = np.concatenate((loan_mortgage,loan_renter))\n",
    "loan_combined_mean=np.mean(loan_combined)\n",
    "\n",
    "#computing difference of observed means\n",
    "loan_mean_diff = loan_mortgage_mean - loan_renter_mean"
   ]
  },
  {
   "cell_type": "code",
   "execution_count": 19,
   "metadata": {},
   "outputs": [],
   "source": [
    "#shifting means to obtain the same mean \n",
    "loan_shift_mean_mortgage = loan_mortgage -np.mean(loan_mortgage) + loan_combined_mean\n",
    "loan_shift_mean_renter = loan_renter -np.mean(loan_renter) + loan_combined_mean"
   ]
  },
  {
   "cell_type": "code",
   "execution_count": 20,
   "metadata": {},
   "outputs": [],
   "source": [
    "#bootstrapping means\n",
    "loan_bsm_reps_mortgage = np.empty(2000)\n",
    "loan_bsm_reps_renter = np.empty(2000)\n",
    "for i in range(0,2000):\n",
    "    loan_bsm_reps_mortgage[i] = np.mean(np.random.choice(loan_shift_mean_mortgage, len(loan_shift_mean_mortgage)))\n",
    "\n",
    "for i in range(0,2000):\n",
    "    loan_bsm_reps_renter[i] = np.mean(np.random.choice(loan_shift_mean_renter, len(loan_shift_mean_renter)))"
   ]
  },
  {
   "cell_type": "code",
   "execution_count": 21,
   "metadata": {},
   "outputs": [],
   "source": [
    "#computing difference of bootstrapped means\n",
    "loan_bsm_diff_of_means = loan_bsm_reps_mortgage - loan_bsm_reps_renter"
   ]
  },
  {
   "cell_type": "code",
   "execution_count": 22,
   "metadata": {},
   "outputs": [
    {
     "data": {
      "text/plain": [
       "0.0"
      ]
     },
     "execution_count": 22,
     "metadata": {},
     "output_type": "execute_result"
    }
   ],
   "source": [
    "#computing p-value\n",
    "p = np.sum(loan_bsm_diff_of_means > loan_mean_diff)/len(loan_bsm_diff_of_means)\n",
    "p*100"
   ]
  },
  {
   "cell_type": "markdown",
   "metadata": {},
   "source": [
    "We see that out of the 2000 replicates, none of them are greater than the observed difference giving a p-value of 0. This means that we fail to reject the null hypothesis. Let's visualize."
   ]
  },
  {
   "cell_type": "code",
   "execution_count": 23,
   "metadata": {},
   "outputs": [
    {
     "ename": "NameError",
     "evalue": "name 'bsm_diff_of_means' is not defined",
     "output_type": "error",
     "traceback": [
      "\u001b[1;31m---------------------------------------------------------------------------\u001b[0m",
      "\u001b[1;31mNameError\u001b[0m                                 Traceback (most recent call last)",
      "\u001b[1;32m<ipython-input-23-81a5e1dbd943>\u001b[0m in \u001b[0;36m<module>\u001b[1;34m\u001b[0m\n\u001b[0;32m      1\u001b[0m \u001b[1;31m#plotting histogram of difference of boostrapped repplicates of mean\u001b[0m\u001b[1;33m\u001b[0m\u001b[1;33m\u001b[0m\u001b[1;33m\u001b[0m\u001b[0m\n\u001b[1;32m----> 2\u001b[1;33m \u001b[0mplt\u001b[0m\u001b[1;33m.\u001b[0m\u001b[0mhist\u001b[0m\u001b[1;33m(\u001b[0m\u001b[0mbsm_diff_of_means\u001b[0m\u001b[1;33m,\u001b[0m \u001b[0mbins\u001b[0m\u001b[1;33m=\u001b[0m\u001b[1;36m30\u001b[0m\u001b[1;33m)\u001b[0m\u001b[1;33m\u001b[0m\u001b[1;33m\u001b[0m\u001b[0m\n\u001b[0m\u001b[0;32m      3\u001b[0m \u001b[1;33m\u001b[0m\u001b[0m\n\u001b[0;32m      4\u001b[0m \u001b[0mplt\u001b[0m\u001b[1;33m.\u001b[0m\u001b[0maxvline\u001b[0m\u001b[1;33m(\u001b[0m\u001b[0mx\u001b[0m\u001b[1;33m=\u001b[0m\u001b[0mnp\u001b[0m\u001b[1;33m.\u001b[0m\u001b[0mpercentile\u001b[0m\u001b[1;33m(\u001b[0m\u001b[0mbsm_diff_of_means\u001b[0m\u001b[1;33m,\u001b[0m\u001b[1;33m(\u001b[0m\u001b[0mp\u001b[0m\u001b[1;33m)\u001b[0m\u001b[1;33m*\u001b[0m\u001b[1;36m100\u001b[0m\u001b[1;33m)\u001b[0m\u001b[1;33m,\u001b[0m\u001b[0mcolor\u001b[0m\u001b[1;33m=\u001b[0m\u001b[1;34m'g'\u001b[0m\u001b[1;33m,\u001b[0m\u001b[0mlinestyle\u001b[0m\u001b[1;33m=\u001b[0m\u001b[1;34m'--'\u001b[0m\u001b[1;33m)\u001b[0m\u001b[1;33m\u001b[0m\u001b[1;33m\u001b[0m\u001b[0m\n\u001b[0;32m      5\u001b[0m \u001b[0mplt\u001b[0m\u001b[1;33m.\u001b[0m\u001b[0maxvline\u001b[0m\u001b[1;33m(\u001b[0m\u001b[0mx\u001b[0m\u001b[1;33m=\u001b[0m\u001b[0mnp\u001b[0m\u001b[1;33m.\u001b[0m\u001b[0mpercentile\u001b[0m\u001b[1;33m(\u001b[0m\u001b[0mbsm_diff_of_means\u001b[0m\u001b[1;33m,\u001b[0m\u001b[1;36m2.5\u001b[0m\u001b[1;33m)\u001b[0m\u001b[1;33m,\u001b[0m\u001b[0mcolor\u001b[0m\u001b[1;33m=\u001b[0m\u001b[1;34m'red'\u001b[0m\u001b[1;33m,\u001b[0m\u001b[0mlinestyle\u001b[0m\u001b[1;33m=\u001b[0m\u001b[1;34m'--'\u001b[0m\u001b[1;33m)\u001b[0m\u001b[1;33m\u001b[0m\u001b[1;33m\u001b[0m\u001b[0m\n",
      "\u001b[1;31mNameError\u001b[0m: name 'bsm_diff_of_means' is not defined"
     ]
    }
   ],
   "source": [
    "#plotting histogram of difference of boostrapped repplicates of mean\n",
    "plt.hist(bsm_diff_of_means, bins=30)\n",
    "\n",
    "plt.axvline(x=np.percentile(bsm_diff_of_means,(p)*100),color='g',linestyle='--')\n",
    "plt.axvline(x=np.percentile(bsm_diff_of_means,2.5),color='red',linestyle='--')\n",
    "plt.axvline(x=np.percentile(bsm_diff_of_means,97.5),color='red',linestyle='--')\n",
    "plt.xlabel(\"Differnce of Bootstrapped means \")\n",
    "plt.title(\"Differfence of Bootstrapped Reps(Mortgage Holders vs Renters)\")\n",
    "plt.ylabel(\"Frequency\");"
   ]
  },
  {
   "cell_type": "markdown",
   "metadata": {},
   "source": [
    "# 2. Does interest rate affect Loan Status (Late vs Current)?"
   ]
  },
  {
   "cell_type": "markdown",
   "metadata": {},
   "source": [
    "## Null Hypothesis:"
   ]
  },
  {
   "cell_type": "code",
   "execution_count": 4,
   "metadata": {},
   "outputs": [
    {
     "data": {
      "text/plain": [
       "array(['Current', 'Fully Paid', 'Late (31-120 days)', 'In Grace Period',\n",
       "       'Charged Off', 'Late (16-30 days)', 'Default',\n",
       "       'Does not meet the credit policy. Status:Fully Paid',\n",
       "       'Does not meet the credit policy. Status:Charged Off'],\n",
       "      dtype=object)"
      ]
     },
     "execution_count": 4,
     "metadata": {},
     "output_type": "execute_result"
    }
   ],
   "source": [
    "loan_data.loan_status.unique()"
   ]
  },
  {
   "cell_type": "code",
   "execution_count": 5,
   "metadata": {},
   "outputs": [],
   "source": [
    "list_late_status=[\n",
    "             'Late (31-120 days)',\n",
    "             'In Grace Period',\n",
    "             'Charged Off',\n",
    "             'Late (16-30 days)', \n",
    "             'Default',\n",
    "             'Does not meet the credit policy. Status:Charged Off'\n",
    "            ]"
   ]
  },
  {
   "cell_type": "code",
   "execution_count": 6,
   "metadata": {},
   "outputs": [],
   "source": [
    "list_good_status=[\n",
    "    'Current', \n",
    "    'Fully Paid',\n",
    "    'Does not meet the credit policy. Status:Fully Paid'\n",
    "]"
   ]
  },
  {
   "cell_type": "code",
   "execution_count": 8,
   "metadata": {},
   "outputs": [],
   "source": [
    "loan_late=loan_data[loan_data.loan_status.isin(list_late_status)]['int_rate']\n",
    "loan_good=loan_data[loan_data.loan_status.isin(list_good_status)]['int_rate']"
   ]
  },
  {
   "cell_type": "code",
   "execution_count": 11,
   "metadata": {},
   "outputs": [],
   "source": [
    "#finding means\n",
    "loan_late_mean=np.mean(loan_late)\n",
    "loan_good_mean=np.mean(loan_good)\n",
    "\n",
    "#combining dataset and mean\n",
    "all_loans_combined = np.concatenate((loan_late,loan_good))\n",
    "all_loans_combined_mean=np.mean(all_loans_combined)\n",
    "\n",
    "#computing difference of observed means\n",
    "all_loans_mean_diff = loan_late_mean - loan_good_mean"
   ]
  },
  {
   "cell_type": "code",
   "execution_count": 13,
   "metadata": {},
   "outputs": [],
   "source": [
    "#shifting means to obtain the same mean \n",
    "loan_shift_mean_late = loan_late -np.mean(loan_late) + all_loans_combined_mean\n",
    "loan_shift_mean_good = loan_late -np.mean(loan_good) + all_loans_combined_mean"
   ]
  },
  {
   "cell_type": "code",
   "execution_count": 14,
   "metadata": {},
   "outputs": [],
   "source": [
    "#bootstrapping means\n",
    "loan_bsm_reps_late = np.empty(2000)\n",
    "loan_bsm_reps_good = np.empty(2000)\n",
    "for i in range(0,2000):\n",
    "    loan_bsm_reps_late[i] = np.mean(np.random.choice(loan_shift_mean_late, len(loan_shift_mean_late)))\n",
    "\n",
    "for i in range(0,2000):\n",
    "    loan_bsm_reps_good[i] = np.mean(np.random.choice(loan_shift_mean_good, len(loan_shift_mean_good)))"
   ]
  },
  {
   "cell_type": "code",
   "execution_count": 15,
   "metadata": {},
   "outputs": [],
   "source": [
    "#computing difference of bootstrapped means\n",
    "all_loans_bsm_diff_of_means = loan_bsm_reps_late - loan_bsm_reps_good"
   ]
  },
  {
   "cell_type": "code",
   "execution_count": 18,
   "metadata": {},
   "outputs": [
    {
     "data": {
      "text/plain": [
       "0.0"
      ]
     },
     "execution_count": 18,
     "metadata": {},
     "output_type": "execute_result"
    }
   ],
   "source": [
    "#computing p-value\n",
    "p = np.sum(all_loans_bsm_diff_of_means > all_loans_mean_diff)/len(all_loans_bsm_diff_of_means)\n",
    "p*100"
   ]
  },
  {
   "cell_type": "code",
   "execution_count": 20,
   "metadata": {},
   "outputs": [
    {
     "data": {
      "text/plain": [
       "0.0"
      ]
     },
     "execution_count": 20,
     "metadata": {},
     "output_type": "execute_result"
    }
   ],
   "source": [
    "np.sum(all_loans_bsm_diff_of_means > all_loans_mean_diff)/len(all_loans_bsm_diff_of_means)"
   ]
  },
  {
   "cell_type": "markdown",
   "metadata": {},
   "source": [
    "We see that out of the 2000 replicates, none of them are greater than the observed difference giving a p-value of 0. This means that we fail to reject the null hypothesis. Let's visualize."
   ]
  },
  {
   "cell_type": "code",
   "execution_count": 19,
   "metadata": {},
   "outputs": [
    {
     "ename": "NameError",
     "evalue": "name 'bsm_diff_of_means' is not defined",
     "output_type": "error",
     "traceback": [
      "\u001b[1;31m---------------------------------------------------------------------------\u001b[0m",
      "\u001b[1;31mNameError\u001b[0m                                 Traceback (most recent call last)",
      "\u001b[1;32m<ipython-input-19-81a5e1dbd943>\u001b[0m in \u001b[0;36m<module>\u001b[1;34m\u001b[0m\n\u001b[0;32m      1\u001b[0m \u001b[1;31m#plotting histogram of difference of boostrapped repplicates of mean\u001b[0m\u001b[1;33m\u001b[0m\u001b[1;33m\u001b[0m\u001b[1;33m\u001b[0m\u001b[0m\n\u001b[1;32m----> 2\u001b[1;33m \u001b[0mplt\u001b[0m\u001b[1;33m.\u001b[0m\u001b[0mhist\u001b[0m\u001b[1;33m(\u001b[0m\u001b[0mbsm_diff_of_means\u001b[0m\u001b[1;33m,\u001b[0m \u001b[0mbins\u001b[0m\u001b[1;33m=\u001b[0m\u001b[1;36m30\u001b[0m\u001b[1;33m)\u001b[0m\u001b[1;33m\u001b[0m\u001b[1;33m\u001b[0m\u001b[0m\n\u001b[0m\u001b[0;32m      3\u001b[0m \u001b[1;33m\u001b[0m\u001b[0m\n\u001b[0;32m      4\u001b[0m \u001b[0mplt\u001b[0m\u001b[1;33m.\u001b[0m\u001b[0maxvline\u001b[0m\u001b[1;33m(\u001b[0m\u001b[0mx\u001b[0m\u001b[1;33m=\u001b[0m\u001b[0mnp\u001b[0m\u001b[1;33m.\u001b[0m\u001b[0mpercentile\u001b[0m\u001b[1;33m(\u001b[0m\u001b[0mbsm_diff_of_means\u001b[0m\u001b[1;33m,\u001b[0m\u001b[1;33m(\u001b[0m\u001b[0mp\u001b[0m\u001b[1;33m)\u001b[0m\u001b[1;33m*\u001b[0m\u001b[1;36m100\u001b[0m\u001b[1;33m)\u001b[0m\u001b[1;33m,\u001b[0m\u001b[0mcolor\u001b[0m\u001b[1;33m=\u001b[0m\u001b[1;34m'g'\u001b[0m\u001b[1;33m,\u001b[0m\u001b[0mlinestyle\u001b[0m\u001b[1;33m=\u001b[0m\u001b[1;34m'--'\u001b[0m\u001b[1;33m)\u001b[0m\u001b[1;33m\u001b[0m\u001b[1;33m\u001b[0m\u001b[0m\n\u001b[0;32m      5\u001b[0m \u001b[0mplt\u001b[0m\u001b[1;33m.\u001b[0m\u001b[0maxvline\u001b[0m\u001b[1;33m(\u001b[0m\u001b[0mx\u001b[0m\u001b[1;33m=\u001b[0m\u001b[0mnp\u001b[0m\u001b[1;33m.\u001b[0m\u001b[0mpercentile\u001b[0m\u001b[1;33m(\u001b[0m\u001b[0mbsm_diff_of_means\u001b[0m\u001b[1;33m,\u001b[0m\u001b[1;36m2.5\u001b[0m\u001b[1;33m)\u001b[0m\u001b[1;33m,\u001b[0m\u001b[0mcolor\u001b[0m\u001b[1;33m=\u001b[0m\u001b[1;34m'red'\u001b[0m\u001b[1;33m,\u001b[0m\u001b[0mlinestyle\u001b[0m\u001b[1;33m=\u001b[0m\u001b[1;34m'--'\u001b[0m\u001b[1;33m)\u001b[0m\u001b[1;33m\u001b[0m\u001b[1;33m\u001b[0m\u001b[0m\n",
      "\u001b[1;31mNameError\u001b[0m: name 'bsm_diff_of_means' is not defined"
     ]
    }
   ],
   "source": [
    "#plotting histogram of difference of boostrapped repplicates of mean\n",
    "plt.hist(bsm_diff_of_means, bins=30)\n",
    "\n",
    "plt.axvline(x=np.percentile(bsm_diff_of_means,(p)*100),color='g',linestyle='--')\n",
    "plt.axvline(x=np.percentile(bsm_diff_of_means,2.5),color='red',linestyle='--')\n",
    "plt.axvline(x=np.percentile(bsm_diff_of_means,97.5),color='red',linestyle='--')\n",
    "plt.xlabel(\"Differnce of Bootstrapped means \")\n",
    "plt.title(\"Differfence of Bootstrapped Reps(Mortgage Holders vs Renters)\")\n",
    "plt.ylabel(\"Frequency\");"
   ]
  },
  {
   "cell_type": "markdown",
   "metadata": {},
   "source": [
    "# 3. "
   ]
  },
  {
   "cell_type": "markdown",
   "metadata": {},
   "source": [
    "# 4. "
   ]
  }
 ],
 "metadata": {
  "kernelspec": {
   "display_name": "Python 3",
   "language": "python",
   "name": "python3"
  },
  "language_info": {
   "codemirror_mode": {
    "name": "ipython",
    "version": 3
   },
   "file_extension": ".py",
   "mimetype": "text/x-python",
   "name": "python",
   "nbconvert_exporter": "python",
   "pygments_lexer": "ipython3",
   "version": "3.7.3"
  }
 },
 "nbformat": 4,
 "nbformat_minor": 2
}
