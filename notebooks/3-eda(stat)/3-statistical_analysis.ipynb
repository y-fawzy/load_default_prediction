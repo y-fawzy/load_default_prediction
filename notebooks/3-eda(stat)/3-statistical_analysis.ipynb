{
 "cells": [
  {
   "cell_type": "markdown",
   "metadata": {},
   "source": [
    "# 3- Statistical Analysis\n",
    "This section will further analyze our wrangle datasets by using inferential statistics to conduct hypothesis tests."
   ]
  },
  {
   "cell_type": "code",
   "execution_count": 4,
   "metadata": {},
   "outputs": [],
   "source": [
    "#import data manipulation packages\n",
    "import pandas as pd\n",
    "import numpy as np\n",
    "\n",
    "#import visualisation tools\n",
    "import matplotlib.pyplot as plt\n",
    "import seaborn as sns\n",
    "\n",
    "#import pickle to loan our datatyes\n",
    "import pickle\n",
    "sns.set()"
   ]
  },
  {
   "cell_type": "code",
   "execution_count": 5,
   "metadata": {},
   "outputs": [],
   "source": [
    "#loading the datatypes dictionary\n",
    "with open(\"C:\\\\Users\\\\yfawz\\\\OneDrive\\\\Desktop\\\\load_default_prediction\\\\notebooks\\\\2-wrangling\\\\data_types.pkl\", 'rb') as f:\n",
    "    data_types = pickle.load(f)"
   ]
  },
  {
   "cell_type": "code",
   "execution_count": 6,
   "metadata": {},
   "outputs": [
    {
     "name": "stderr",
     "output_type": "stream",
     "text": [
      "C:\\Users\\yfawz\\Anaconda3\\lib\\site-packages\\numpy\\lib\\arraysetops.py:568: FutureWarning: elementwise comparison failed; returning scalar instead, but in the future will perform elementwise comparison\n",
      "  mask |= (ar1 == a)\n"
     ]
    }
   ],
   "source": [
    "#loading the training features\n",
    "X_train=pd.read_csv(\"C:\\\\Users\\\\yfawz\\\\OneDrive\\\\Desktop\\\\load_default_prediction\\\\data\\\\processed\\\\X_train_new.csv\", low_memory=False, index_col=0, dtype=data_types)"
   ]
  },
  {
   "cell_type": "code",
   "execution_count": 7,
   "metadata": {},
   "outputs": [],
   "source": [
    "#loading the testing features\n",
    "X_test=pd.read_csv(\"C:\\\\Users\\\\yfawz\\\\OneDrive\\\\Desktop\\\\load_default_prediction\\\\data\\\\processed\\\\X_test_new.csv\",low_memory=False, index_col=0, dtype=data_types)"
   ]
  },
  {
   "cell_type": "code",
   "execution_count": 8,
   "metadata": {},
   "outputs": [],
   "source": [
    "#loading the training and testing target variable\n",
    "y_train=pd.read_csv(\"C:\\\\Users\\\\yfawz\\\\OneDrive\\\\Desktop\\\\load_default_prediction\\\\data\\\\processed\\\\y_train_new.csv\", low_memory=False, index_col=0)\n",
    "y_test=pd.read_csv(\"C:\\\\Users\\\\yfawz\\\\OneDrive\\\\Desktop\\\\load_default_prediction\\\\data\\\\processed\\\\y_test_new.csv\", low_memory=False, index_col=0)"
   ]
  },
  {
   "cell_type": "markdown",
   "metadata": {},
   "source": [
    "Let's have a quick look at the data to make sure everything is okay."
   ]
  },
  {
   "cell_type": "code",
   "execution_count": 9,
   "metadata": {},
   "outputs": [
    {
     "data": {
      "text/html": [
       "<div>\n",
       "<style scoped>\n",
       "    .dataframe tbody tr th:only-of-type {\n",
       "        vertical-align: middle;\n",
       "    }\n",
       "\n",
       "    .dataframe tbody tr th {\n",
       "        vertical-align: top;\n",
       "    }\n",
       "\n",
       "    .dataframe thead th {\n",
       "        text-align: right;\n",
       "    }\n",
       "</style>\n",
       "<table border=\"1\" class=\"dataframe\">\n",
       "  <thead>\n",
       "    <tr style=\"text-align: right;\">\n",
       "      <th></th>\n",
       "      <th>loan_amnt</th>\n",
       "      <th>funded_amnt</th>\n",
       "      <th>funded_amnt_inv</th>\n",
       "      <th>term</th>\n",
       "      <th>int_rate</th>\n",
       "      <th>installment</th>\n",
       "      <th>grade</th>\n",
       "      <th>sub_grade</th>\n",
       "      <th>emp_title</th>\n",
       "      <th>emp_length</th>\n",
       "      <th>...</th>\n",
       "      <th>percent_bc_gt_75</th>\n",
       "      <th>pub_rec_bankruptcies</th>\n",
       "      <th>tax_liens</th>\n",
       "      <th>tot_hi_cred_lim</th>\n",
       "      <th>total_bal_ex_mort</th>\n",
       "      <th>total_bc_limit</th>\n",
       "      <th>total_il_high_credit_limit</th>\n",
       "      <th>hardship_flag</th>\n",
       "      <th>disbursement_method</th>\n",
       "      <th>debt_settlement_flag</th>\n",
       "    </tr>\n",
       "  </thead>\n",
       "  <tbody>\n",
       "    <tr>\n",
       "      <th>0</th>\n",
       "      <td>8000</td>\n",
       "      <td>8000</td>\n",
       "      <td>8000.0</td>\n",
       "      <td>36 months</td>\n",
       "      <td>10.99</td>\n",
       "      <td>261.880005</td>\n",
       "      <td>B</td>\n",
       "      <td>B2</td>\n",
       "      <td>assistant</td>\n",
       "      <td>10+ years</td>\n",
       "      <td>...</td>\n",
       "      <td>50.0</td>\n",
       "      <td>0.0</td>\n",
       "      <td>0.0</td>\n",
       "      <td>11100.0</td>\n",
       "      <td>8116.0</td>\n",
       "      <td>7800.0</td>\n",
       "      <td>0.0</td>\n",
       "      <td>N</td>\n",
       "      <td>Cash</td>\n",
       "      <td>N</td>\n",
       "    </tr>\n",
       "    <tr>\n",
       "      <th>1</th>\n",
       "      <td>3900</td>\n",
       "      <td>3900</td>\n",
       "      <td>3900.0</td>\n",
       "      <td>36 months</td>\n",
       "      <td>12.99</td>\n",
       "      <td>131.389999</td>\n",
       "      <td>C</td>\n",
       "      <td>C1</td>\n",
       "      <td>health</td>\n",
       "      <td>6 years</td>\n",
       "      <td>...</td>\n",
       "      <td>0.0</td>\n",
       "      <td>1.0</td>\n",
       "      <td>0.0</td>\n",
       "      <td>25881.0</td>\n",
       "      <td>10129.0</td>\n",
       "      <td>7750.0</td>\n",
       "      <td>13531.0</td>\n",
       "      <td>N</td>\n",
       "      <td>Cash</td>\n",
       "      <td>N</td>\n",
       "    </tr>\n",
       "    <tr>\n",
       "      <th>2</th>\n",
       "      <td>18000</td>\n",
       "      <td>18000</td>\n",
       "      <td>18000.0</td>\n",
       "      <td>60 months</td>\n",
       "      <td>7.97</td>\n",
       "      <td>364.720001</td>\n",
       "      <td>A</td>\n",
       "      <td>A5</td>\n",
       "      <td>senior</td>\n",
       "      <td>10+ years</td>\n",
       "      <td>...</td>\n",
       "      <td>0.0</td>\n",
       "      <td>0.0</td>\n",
       "      <td>0.0</td>\n",
       "      <td>305986.0</td>\n",
       "      <td>82784.0</td>\n",
       "      <td>35600.0</td>\n",
       "      <td>117986.0</td>\n",
       "      <td>N</td>\n",
       "      <td>Cash</td>\n",
       "      <td>N</td>\n",
       "    </tr>\n",
       "    <tr>\n",
       "      <th>3</th>\n",
       "      <td>3500</td>\n",
       "      <td>3500</td>\n",
       "      <td>3500.0</td>\n",
       "      <td>36 months</td>\n",
       "      <td>15.02</td>\n",
       "      <td>121.370003</td>\n",
       "      <td>C</td>\n",
       "      <td>C3</td>\n",
       "      <td>federal</td>\n",
       "      <td>10+ years</td>\n",
       "      <td>...</td>\n",
       "      <td>75.0</td>\n",
       "      <td>1.0</td>\n",
       "      <td>0.0</td>\n",
       "      <td>71470.0</td>\n",
       "      <td>51208.0</td>\n",
       "      <td>3500.0</td>\n",
       "      <td>67970.0</td>\n",
       "      <td>N</td>\n",
       "      <td>Cash</td>\n",
       "      <td>N</td>\n",
       "    </tr>\n",
       "    <tr>\n",
       "      <th>4</th>\n",
       "      <td>22000</td>\n",
       "      <td>22000</td>\n",
       "      <td>21950.0</td>\n",
       "      <td>36 months</td>\n",
       "      <td>7.62</td>\n",
       "      <td>685.549988</td>\n",
       "      <td>A</td>\n",
       "      <td>A3</td>\n",
       "      <td>other</td>\n",
       "      <td>9 years</td>\n",
       "      <td>...</td>\n",
       "      <td>25.0</td>\n",
       "      <td>0.0</td>\n",
       "      <td>0.0</td>\n",
       "      <td>345978.0</td>\n",
       "      <td>44605.0</td>\n",
       "      <td>17700.0</td>\n",
       "      <td>50928.0</td>\n",
       "      <td>N</td>\n",
       "      <td>Cash</td>\n",
       "      <td>N</td>\n",
       "    </tr>\n",
       "  </tbody>\n",
       "</table>\n",
       "<p>5 rows × 102 columns</p>\n",
       "</div>"
      ],
      "text/plain": [
       "   loan_amnt  funded_amnt  funded_amnt_inv        term  int_rate  installment  \\\n",
       "0       8000         8000           8000.0   36 months     10.99   261.880005   \n",
       "1       3900         3900           3900.0   36 months     12.99   131.389999   \n",
       "2      18000        18000          18000.0   60 months      7.97   364.720001   \n",
       "3       3500         3500           3500.0   36 months     15.02   121.370003   \n",
       "4      22000        22000          21950.0   36 months      7.62   685.549988   \n",
       "\n",
       "  grade sub_grade  emp_title emp_length  ... percent_bc_gt_75  \\\n",
       "0     B        B2  assistant  10+ years  ...             50.0   \n",
       "1     C        C1     health    6 years  ...              0.0   \n",
       "2     A        A5     senior  10+ years  ...              0.0   \n",
       "3     C        C3    federal  10+ years  ...             75.0   \n",
       "4     A        A3      other    9 years  ...             25.0   \n",
       "\n",
       "   pub_rec_bankruptcies tax_liens tot_hi_cred_lim total_bal_ex_mort  \\\n",
       "0                   0.0       0.0         11100.0            8116.0   \n",
       "1                   1.0       0.0         25881.0           10129.0   \n",
       "2                   0.0       0.0        305986.0           82784.0   \n",
       "3                   1.0       0.0         71470.0           51208.0   \n",
       "4                   0.0       0.0        345978.0           44605.0   \n",
       "\n",
       "  total_bc_limit total_il_high_credit_limit  hardship_flag  \\\n",
       "0         7800.0                        0.0              N   \n",
       "1         7750.0                    13531.0              N   \n",
       "2        35600.0                   117986.0              N   \n",
       "3         3500.0                    67970.0              N   \n",
       "4        17700.0                    50928.0              N   \n",
       "\n",
       "   disbursement_method debt_settlement_flag  \n",
       "0                 Cash                    N  \n",
       "1                 Cash                    N  \n",
       "2                 Cash                    N  \n",
       "3                 Cash                    N  \n",
       "4                 Cash                    N  \n",
       "\n",
       "[5 rows x 102 columns]"
      ]
     },
     "execution_count": 9,
     "metadata": {},
     "output_type": "execute_result"
    }
   ],
   "source": [
    "X_train.head()"
   ]
  },
  {
   "cell_type": "markdown",
   "metadata": {},
   "source": [
    "## Introduction\n",
    "\n",
    "- The hypothesis that will be done in this notebook will compare 2 distributions and whether they are identical.\n",
    "- The tests will follow the same computational path and therefore we will write functions to ease this analysis.\n",
    "\n",
    "## Function Definition\n",
    "- The aim is to compare 2 different distributions and see if they are similar.\n",
    "- This can be done by conducting a hypotheis test with permutations using the following functions:\n",
    "\n",
    "#### 1. The first function will:\n",
    "1. Combine the 2 datasets together\n",
    "2. Randomly scramble the data so that the original order is lost. \n",
    "3. Divide the scramble data into 2 portions. Each portion is the same length as the original. Except now they are from the scrambled set.\n",
    "4. The function will return the 2 permutated samples of the scrambled data\n",
    "\n",
    "#### 2. The second function will:\n",
    "1. Draw permutated samples using the first function.\n",
    "2. Apply a pre-defined function that takes 2 sets as inputs and returns a permutated replicate.(In this scenario the function will be the difference of means which will be our 3rd function.\n",
    "3. There will be a 'size' argument which will be the number of iterations(# of replicates) to be returned by the function. \n",
    "\n",
    "#### 3. The third funtion will be:\n",
    "1. This is our 'pre-defined' funtion\n",
    "2. Return the difference of means between two datasets.\n",
    "\n",
    "- Combinging the 3 functions will return one array of permutated replicates(difference of means) \n",
    "- Can be used to test the observed difference against the replicates to complete the hypothesis test.\n",
    "- We will use the p-value to reject or fail to reject the null hypothesis\n",
    "\n",
    "The p-value which is the probability of observing a test statistic equally or more extreme than the one observed, given that the null hypothesis is true."
   ]
  },
  {
   "cell_type": "code",
   "execution_count": 10,
   "metadata": {},
   "outputs": [],
   "source": [
    "def permutation_sample(set_1, set_2):\n",
    "    \"\"\"Generate a permutation sample from two data sets.\"\"\"\n",
    "\n",
    "    # Concatenate the data sets: data\n",
    "    data = np.concatenate((set_1, set_2))\n",
    "\n",
    "    # Permute the concatenated array: permuted_data\n",
    "    permuted_data = np.random.permutation(data)\n",
    "\n",
    "    # Split the permuted array into two: perm_sample_1, perm_sample_2\n",
    "    perm_sample_1 = permuted_data[:len(set_1)]\n",
    "    perm_sample_2 = permuted_data[-len(set_2):]\n",
    "\n",
    "    return perm_sample_1, perm_sample_2"
   ]
  },
  {
   "cell_type": "code",
   "execution_count": 11,
   "metadata": {},
   "outputs": [],
   "source": [
    "# Defining function to return permutaed samples depending on function\n",
    "def draw_perm_reps(set_1, set_2, func, size=1):\n",
    "    \"\"\"Generate multiple permutation replicates.\"\"\"\n",
    "\n",
    "    # Initialize array of replicates: perm_replicates\n",
    "    perm_reps = np.empty(size)\n",
    "\n",
    "    for i in range(size):\n",
    "        # Generate permutation sample\n",
    "        perm_sample_1, perm_sample_2 = permutation_sample(set_1,set_2)\n",
    "\n",
    "        # Compute the test statistic\n",
    "        perm_reps[i] = func(perm_sample_1, perm_sample_2)\n",
    "\n",
    "    return perm_reps"
   ]
  },
  {
   "cell_type": "code",
   "execution_count": 12,
   "metadata": {},
   "outputs": [],
   "source": [
    "def diff_of_means(set_1, set_2):\n",
    "    \"\"\"Difference in means of two arrays.\"\"\"\n",
    "\n",
    "    # The difference of means of data_1, data_2: diff\n",
    "    diff = np.mean(set_1) - np.mean(set_2)\n",
    "    \n",
    "    return diff"
   ]
  },
  {
   "cell_type": "markdown",
   "metadata": {},
   "source": [
    "Now that our functions are ready, we can start testing"
   ]
  },
  {
   "cell_type": "markdown",
   "metadata": {},
   "source": [
    "# 1. Do mortgage holders have a different interest rate distribution as those who own their homes?"
   ]
  },
  {
   "cell_type": "markdown",
   "metadata": {},
   "source": [
    "## Null Hypothesis: Mortgage Holders and Owners have the same interest rate distribution."
   ]
  },
  {
   "cell_type": "markdown",
   "metadata": {},
   "source": [
    "- Start by filtering the mortgage holder and home owner data.\n",
    "- Select the interest rates column."
   ]
  },
  {
   "cell_type": "code",
   "execution_count": 13,
   "metadata": {},
   "outputs": [],
   "source": [
    "#Filtering Mortgage Data\n",
    "mortgage_data=X_train[X_train.home_ownership == 'MORTGAGE']\n",
    "\n",
    "#Filterting Owner data\n",
    "owner_data=X_train[X_train.home_ownership == 'OWN']\n",
    "\n",
    "#Selecting interest rates\n",
    "ir_mortgage=mortgage_data['int_rate']\n",
    "ir_owner=owner_data['int_rate']"
   ]
  },
  {
   "cell_type": "markdown",
   "metadata": {},
   "source": [
    "What is the observed difference of means?"
   ]
  },
  {
   "cell_type": "code",
   "execution_count": 14,
   "metadata": {},
   "outputs": [
    {
     "data": {
      "text/plain": [
       "0.38210010528564453"
      ]
     },
     "execution_count": 14,
     "metadata": {},
     "output_type": "execute_result"
    }
   ],
   "source": [
    "# Compute difference of mean interest rates observed in the data\n",
    "ir_empirical_diff_means = diff_of_means(ir_mortgage,ir_owner)\n",
    "\n",
    "np.abs(ir_empirical_diff_means)"
   ]
  },
  {
   "cell_type": "markdown",
   "metadata": {},
   "source": [
    "The observed difference of means between mortgage holders and renters is 0.38%. \n",
    "Let's visualize how they differ in a boxplot before testing."
   ]
  },
  {
   "cell_type": "code",
   "execution_count": 17,
   "metadata": {},
   "outputs": [],
   "source": [
    "#create a dataframe to create a box plot\n",
    "df=pd.DataFrame(pd.concat((ir_mortgage, ir_owner)))\n",
    "df['mort_own']=np.nan\n",
    "df['mort_own'].iloc[:len(ir_mortgage)]='MORT'\n",
    "df['mort_own']=df['mort_own'].fillna('OWNER')"
   ]
  },
  {
   "cell_type": "code",
   "execution_count": 16,
   "metadata": {},
   "outputs": [
    {
     "data": {
      "image/png": "[encoded data removed]",
      "text/plain": [
       "<Figure size 432x432 with 1 Axes>"
      ]
     },
     "metadata": {},
     "output_type": "display_data"
    }
   ],
   "source": [
    "plt.figure(figsize=[6,6])\n",
    "# Make bee swarm plot\n",
    "sns.boxplot(x='mort_own', y='int_rate', data=df)\n",
    "\n",
    "# Label axes\n",
    "plt.xlabel('Mortgage or Own')\n",
    "plt.ylabel('Interest Rate')\n",
    "plt.title('Interest Rate(%)');"
   ]
  },
  {
   "cell_type": "markdown",
   "metadata": {},
   "source": [
    "As the difference of means showed us, Owners seem to have a 0.36% higher mean interest rate than mortgage holders. But it's quite difficult to conclude as they are very close distributions. \n",
    "\n",
    "Let's run our test"
   ]
  },
  {
   "cell_type": "code",
   "execution_count": 19,
   "metadata": {},
   "outputs": [
    {
     "name": "stdout",
     "output_type": "stream",
     "text": [
      "p-value = 0.0\n"
     ]
    }
   ],
   "source": [
    "# Draw 2,000 permutation replicates: perm_replicates\n",
    "perm_reps = draw_perm_reps(ir_mortgage, ir_owner, diff_of_means, size=2000)\n",
    "\n",
    "# Compute p-value: p\n",
    "p = np.sum(np.abs(perm_reps) >= np.abs(ir_empirical_diff_means)) / len(perm_reps)\n",
    "\n",
    "# Print the result\n",
    "print('p-value =', p)"
   ]
  },
  {
   "cell_type": "markdown",
   "metadata": {},
   "source": [
    "- p-value is 0.\n",
    "\n",
    "This p-value the probability of getting at least a 0.38% difference in mean interest rate under the hypothesis that the distributions of interest rates are identical. That probability is 0.\n",
    "\n",
    "- Conclusion:\n",
    "We reject the null hypothesis as it is statistically significantly different than what we observed under the null hypothesis.\n",
    "We can safely assume that mortgage holders and owners can be assumed to have the same interest rate distribution.\n",
    "\n",
    "How does the observed difference look like compared to the distribution?"
   ]
  },
  {
   "cell_type": "code",
   "execution_count": 20,
   "metadata": {},
   "outputs": [
    {
     "data": {
      "image/png": "[encoded data removed]",
      "text/plain": [
       "<Figure size 360x360 with 1 Axes>"
      ]
     },
     "metadata": {},
     "output_type": "display_data"
    }
   ],
   "source": [
    "plt.figure(figsize=[5,5])\n",
    "plt.hist(perm_reps, bins=30, color='blue')\n",
    "plt.axvline(x=ir_empirical_diff_means, color='r')\n",
    "\n",
    "plt.title(\"Permuteted Difference of Interest Rate Means\")\n",
    "plt.xlabel(\"Difference of Mean\")\n",
    "plt.ylabel(\"Frequency\");"
   ]
  },
  {
   "cell_type": "markdown",
   "metadata": {},
   "source": [
    "We see that the observed difference is very far off the distribution. To conclude,\n",
    "\n",
    "Mortgage Holders and Owners do not have the same interest rate distribution"
   ]
  },
  {
   "cell_type": "markdown",
   "metadata": {},
   "source": [
    "# 2. Do mortgage holders have different distributions of loans vs those who rent their homes?"
   ]
  },
  {
   "cell_type": "markdown",
   "metadata": {},
   "source": [
    "# Null Hypothesis: Mortgage Holders and Renters have the same loan value distribution."
   ]
  },
  {
   "cell_type": "markdown",
   "metadata": {},
   "source": [
    "Let select the loan_amnt column represnting loan values."
   ]
  },
  {
   "cell_type": "code",
   "execution_count": 22,
   "metadata": {},
   "outputs": [],
   "source": [
    "#filtering renter data\n",
    "renter_data=X_train[X_train.home_ownership == 'RENT']\n",
    "\n",
    "#selecting loan_amnt features\n",
    "loan_mortgage=mortgage_data['loan_amnt']\n",
    "loan_renter=renter_data['loan_amnt']"
   ]
  },
  {
   "cell_type": "markdown",
   "metadata": {},
   "source": [
    "Now let's compute the observed difference of means"
   ]
  },
  {
   "cell_type": "code",
   "execution_count": 80,
   "metadata": {},
   "outputs": [
    {
     "data": {
      "text/plain": [
       "3494.7910755136254"
      ]
     },
     "execution_count": 80,
     "metadata": {},
     "output_type": "execute_result"
    }
   ],
   "source": [
    "# Compute difference of mean loan values observed in the data\n",
    "loan_empirical_diff_means = diff_of_means(loan_mortgage,loan_renter)\n",
    "\n",
    "np.abs(loan_empirical_diff_means)"
   ]
  },
  {
   "cell_type": "markdown",
   "metadata": {},
   "source": [
    "The observed difference of means between mortgage holders and renters is 3496 dollars. Is this significant?\n",
    "\n",
    "Let's visualize how they differ in a boxplot before testing."
   ]
  },
  {
   "cell_type": "code",
   "execution_count": 24,
   "metadata": {},
   "outputs": [],
   "source": [
    "#creatingt a dataframe to ease boxplot creation\n",
    "df_1=pd.DataFrame(pd.concat((loan_mortgage, loan_renter)))\n",
    "df_1['mort_rent']=np.nan\n",
    "df_1['mort_rent'].loc[:len(ir_mortgage)]='MORT'\n",
    "df_1['mort_rent']=df_1['mort_rent'].fillna('RENT')"
   ]
  },
  {
   "cell_type": "code",
   "execution_count": 25,
   "metadata": {},
   "outputs": [
    {
     "data": {
      "image/png": "[encoded data removed]",
      "text/plain": [
       "<Figure size 432x432 with 1 Axes>"
      ]
     },
     "metadata": {},
     "output_type": "display_data"
    }
   ],
   "source": [
    "plt.figure(figsize=[6,6])\n",
    "# Make box plot\n",
    "sns.boxplot(x='mort_rent', y='loan_amnt', data=df_1)\n",
    "\n",
    "# Label axes\n",
    "plt.xlabel('Mortgage or Rent')\n",
    "plt.ylabel('Interest Rate')\n",
    "plt.title('Interest Rate(%)');"
   ]
  },
  {
   "cell_type": "markdown",
   "metadata": {},
   "source": [
    "Mortgager holder indeed have a wider range than rent as well as a higher mean but let's confirm this with our hypothesis test."
   ]
  },
  {
   "cell_type": "code",
   "execution_count": 81,
   "metadata": {},
   "outputs": [
    {
     "name": "stdout",
     "output_type": "stream",
     "text": [
      "p-value = 0.0\n"
     ]
    }
   ],
   "source": [
    "# Draw 2,000 permutation replicates: perm_replicates\n",
    "perm_reps = draw_perm_reps(loan_mortgage, loan_mortgage, diff_of_means, size=2000)\n",
    "\n",
    "# Compute p-value: p\n",
    "p = np.sum(np.abs(perm_reps) >= np.abs(loan_empirical_diff_means)) / len(perm_reps)\n",
    "\n",
    "# Print the result\n",
    "print('p-value =', p)"
   ]
  },
  {
   "cell_type": "markdown",
   "metadata": {},
   "source": [
    "- We reject the null hypothesis\n",
    "- Mortgage Holders and Renters have the same loan value distribution."
   ]
  },
  {
   "cell_type": "markdown",
   "metadata": {},
   "source": [
    "# 3. Is interest rate distribution the same for all loan Status (Bad vs Good)?"
   ]
  },
  {
   "cell_type": "markdown",
   "metadata": {},
   "source": [
    "## Null Hypothesis: Bad and Good Loans have the same interest rate distribution.¶"
   ]
  },
  {
   "cell_type": "markdown",
   "metadata": {},
   "source": [
    "The training set is either good or bad. We will use a mask from the target variable to select interest rate."
   ]
  },
  {
   "cell_type": "code",
   "execution_count": 63,
   "metadata": {},
   "outputs": [],
   "source": [
    "#using a mask from target variable to select features in training set\n",
    "ir_late=X_train.loc[y_train[y_train.loan_status=='bad'].index]['int_rate']\n",
    "ir_good=X_train.loc[y_train[y_train.loan_status=='good'].index]['int_rate']"
   ]
  },
  {
   "cell_type": "markdown",
   "metadata": {},
   "source": [
    "Before we start our testing, what is the observed difference of the means?"
   ]
  },
  {
   "cell_type": "code",
   "execution_count": 64,
   "metadata": {},
   "outputs": [
    {
     "data": {
      "text/plain": [
       "3.0181684494018555"
      ]
     },
     "execution_count": 64,
     "metadata": {},
     "output_type": "execute_result"
    }
   ],
   "source": [
    "# Compute difference of mean interest rates observed in the data\n",
    "ir_empirical_diff_means = diff_of_means(ir_late,ir_good)\n",
    "\n",
    "np.abs(ir_empirical_diff_means)"
   ]
  },
  {
   "cell_type": "markdown",
   "metadata": {},
   "source": [
    "We see that there is a 3% difference diffence in the mean of the interest rate. Is this significant compared to the distribution. We can predict that it will be significant as this is 10x the value of the previous section."
   ]
  },
  {
   "cell_type": "code",
   "execution_count": 113,
   "metadata": {},
   "outputs": [
    {
     "name": "stderr",
     "output_type": "stream",
     "text": [
      "C:\\Users\\yfawz\\Anaconda3\\lib\\site-packages\\pandas\\core\\indexing.py:190: SettingWithCopyWarning: \n",
      "A value is trying to be set on a copy of a slice from a DataFrame\n",
      "\n",
      "See the caveats in the documentation: http://pandas.pydata.org/pandas-docs/stable/indexing.html#indexing-view-versus-copy\n",
      "  self._setitem_with_indexer(indexer, value)\n"
     ]
    }
   ],
   "source": [
    "df_2=pd.DataFrame(pd.concat((ir_late, ir_good)))\n",
    "df_2['bad_good']=np.nan\n",
    "df_2['bad_good'].iloc[:len(ir_late)]='BAD'\n",
    "df_2['bad_good']=df_2['bad_good'].fillna('GOOD')"
   ]
  },
  {
   "cell_type": "code",
   "execution_count": 114,
   "metadata": {},
   "outputs": [
    {
     "data": {
      "image/png": "[encoded data removed]",
      "text/plain": [
       "<Figure size 432x432 with 1 Axes>"
      ]
     },
     "metadata": {},
     "output_type": "display_data"
    }
   ],
   "source": [
    "plt.figure(figsize=[6,6])\n",
    "# Make bee swarm plot\n",
    "sns.boxplot(x='bad_good', y='int_rate', data=df_2)\n",
    "\n",
    "# Label axes\n",
    "plt.xlabel('Mortgage or Rent')\n",
    "plt.ylabel('Interest Rate')\n",
    "plt.title('Interest Rate(%)');"
   ]
  },
  {
   "cell_type": "markdown",
   "metadata": {},
   "source": [
    "There is indeed a visually significant difference between bad and good loans. Let's confirm with a hypothesis test."
   ]
  },
  {
   "cell_type": "code",
   "execution_count": 67,
   "metadata": {},
   "outputs": [
    {
     "name": "stdout",
     "output_type": "stream",
     "text": [
      "p-value = 0.0\n"
     ]
    }
   ],
   "source": [
    "# Draw 2,000 permutation replicates: perm_replicates\n",
    "perm_reps = draw_perm_reps(ir_late, ir_good, diff_of_means, size=2000)\n",
    "\n",
    "# Compute p-value: p\n",
    "p = np.sum(np.abs(perm_reps) >= np.abs(ir_empirical_diff_means)) / len(perm_reps)\n",
    "\n",
    "# Print the result\n",
    "print('p-value =', p)"
   ]
  },
  {
   "cell_type": "markdown",
   "metadata": {},
   "source": [
    "- We reject the null hypothesis\n",
    "- Bad and Good Loans have the same interest rate distribution.¶"
   ]
  },
  {
   "cell_type": "markdown",
   "metadata": {},
   "source": [
    "# 4. Is loan amount distribution the same for all loan Status (Bad vs Good)?"
   ]
  },
  {
   "cell_type": "markdown",
   "metadata": {},
   "source": [
    "## Null Hypothesis: Bad and good Loans have the same loan amount distribution."
   ]
  },
  {
   "cell_type": "code",
   "execution_count": 84,
   "metadata": {},
   "outputs": [],
   "source": [
    "loan_late=X_train.loc[y_train[y_train.loan_status=='bad'].index]['loan_amnt']\n",
    "loan_good=X_train.loc[y_train[y_train.loan_status=='good'].index]['loan_amnt']"
   ]
  },
  {
   "cell_type": "code",
   "execution_count": 85,
   "metadata": {},
   "outputs": [
    {
     "data": {
      "text/plain": [
       "748.572396093763"
      ]
     },
     "execution_count": 85,
     "metadata": {},
     "output_type": "execute_result"
    }
   ],
   "source": [
    "# Compute difference of mean interest rates observed in the data\n",
    "loan_empirical_diff_means = diff_of_means(loan_late,loan_good)\n",
    "\n",
    "np.abs(loan_empirical_diff_means)"
   ]
  },
  {
   "cell_type": "code",
   "execution_count": 86,
   "metadata": {},
   "outputs": [],
   "source": [
    "df_3=pd.DataFrame(pd.concat((loan_late, loan_good)))\n",
    "df_3['bad_good']=np.nan\n",
    "df_3['bad_good'].iloc[:len(ir_late)]='BAD'\n",
    "df_3['bad_good']=df_2['bad_good'].fillna('GOOD')"
   ]
  },
  {
   "cell_type": "code",
   "execution_count": 87,
   "metadata": {},
   "outputs": [
    {
     "data": {
      "image/png": "[encoded data removed]",
      "text/plain": [
       "<Figure size 432x432 with 1 Axes>"
      ]
     },
     "metadata": {},
     "output_type": "display_data"
    }
   ],
   "source": [
    "plt.figure(figsize=[6,6])\n",
    "# Make box plot\n",
    "sns.boxplot(x='bad_good', y='loan_amnt', data=df_3)\n",
    "\n",
    "# Label axes\n",
    "plt.xlabel('Mortgage or Rent')\n",
    "plt.ylabel('Loan Amount')\n",
    "plt.title('Loan Amount($)');"
   ]
  },
  {
   "cell_type": "markdown",
   "metadata": {},
   "source": [
    "We see that visually, the difference cannot be concluded. Let's run the test."
   ]
  },
  {
   "cell_type": "code",
   "execution_count": 89,
   "metadata": {},
   "outputs": [
    {
     "name": "stdout",
     "output_type": "stream",
     "text": [
      "p-value = 0.0\n"
     ]
    }
   ],
   "source": [
    "# Draw 2,000 permutation replicates: loan_good_late_perm_replicates\n",
    "loan_good_bad_perm_reps = draw_perm_reps(loan_late, loan_good, diff_of_means, size=2000)\n",
    "\n",
    "# Compute p-value: p\n",
    "p = np.sum(np.abs(loan_good_bad_perm_reps) >= np.abs(loan_empirical_diff_means)) / len(loan_good_bad_perm_reps)\n",
    "\n",
    "# Print the result\n",
    "print('p-value =', p)"
   ]
  },
  {
   "cell_type": "markdown",
   "metadata": {},
   "source": [
    "- We reject the null hypothesis \n",
    "- Bad and good Loans do not have the same loan amount distribution."
   ]
  }
 ],
 "metadata": {
  "kernelspec": {
   "display_name": "Python 3",
   "language": "python",
   "name": "python3"
  },
  "language_info": {
   "codemirror_mode": {
    "name": "ipython",
    "version": 3
   },
   "file_extension": ".py",
   "mimetype": "text/x-python",
   "name": "python",
   "nbconvert_exporter": "python",
   "pygments_lexer": "ipython3",
   "version": "3.7.3"
  }
 },
 "nbformat": 4,
 "nbformat_minor": 2
}
