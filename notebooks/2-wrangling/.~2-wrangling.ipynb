{
 "cells": [
  {
   "cell_type": "markdown",
   "metadata": {},
   "source": [
    "# 2-Wrangling\n",
    "\n",
    "This sections aims to deal with outliers and missing data."
   ]
  },
  {
   "cell_type": "code",
   "execution_count": 1,
   "metadata": {},
   "outputs": [],
   "source": [
    "import pandas as pd\n",
    "import numpy as np\n",
    "from sklearn.model_selection import train_test_split "
   ]
  },
  {
   "cell_type": "code",
   "execution_count": 2,
   "metadata": {},
   "outputs": [],
   "source": [
    "loan_data=pd.read_csv(\"C:\\\\Users\\\\yfawz\\\\OneDrive\\\\Desktop\\\\load_default_prediction\\\\data\\\\raw\\\\loan.csv\", low_memory=False)"
   ]
  },
  {
   "cell_type": "code",
   "execution_count": 3,
   "metadata": {},
   "outputs": [],
   "source": [
    "feature_desc=pd.read_excel(\"C:\\\\Users\\\\yfawz\\\\OneDrive\\\\Desktop\\\\load_default_prediction\\\\data\\\\raw\\\\LCDataDictionary.xlsx\")"
   ]
  },
  {
   "cell_type": "code",
   "execution_count": 4,
   "metadata": {},
   "outputs": [
    {
     "data": {
      "text/plain": [
       "id                                            2260668\n",
       "member_id                                     2260668\n",
       "loan_amnt                                           0\n",
       "funded_amnt                                         0\n",
       "funded_amnt_inv                                     0\n",
       "term                                                0\n",
       "int_rate                                            0\n",
       "installment                                         0\n",
       "grade                                               0\n",
       "sub_grade                                           0\n",
       "emp_title                                      166969\n",
       "emp_length                                     146907\n",
       "home_ownership                                      0\n",
       "annual_inc                                          4\n",
       "verification_status                                 0\n",
       "issue_d                                             0\n",
       "loan_status                                         0\n",
       "pymnt_plan                                          0\n",
       "url                                           2260668\n",
       "desc                                          2134601\n",
       "purpose                                             0\n",
       "title                                           23325\n",
       "zip_code                                            1\n",
       "addr_state                                          0\n",
       "dti                                              1711\n",
       "delinq_2yrs                                        29\n",
       "earliest_cr_line                                   29\n",
       "inq_last_6mths                                     30\n",
       "mths_since_last_delinq                        1158502\n",
       "mths_since_last_record                        1901512\n",
       "                                               ...   \n",
       "sec_app_open_acc                              2152647\n",
       "sec_app_revol_util                            2154484\n",
       "sec_app_open_act_il                           2152647\n",
       "sec_app_num_rev_accts                         2152647\n",
       "sec_app_chargeoff_within_12_mths              2152647\n",
       "sec_app_collections_12_mths_ex_med            2152647\n",
       "sec_app_mths_since_last_major_derog           2224726\n",
       "hardship_flag                                       0\n",
       "hardship_type                                 2250055\n",
       "hardship_reason                               2250055\n",
       "hardship_status                               2250055\n",
       "deferral_term                                 2250055\n",
       "hardship_amount                               2250055\n",
       "hardship_start_date                           2250055\n",
       "hardship_end_date                             2250055\n",
       "payment_plan_start_date                       2250055\n",
       "hardship_length                               2250055\n",
       "hardship_dpd                                  2250055\n",
       "hardship_loan_status                          2250055\n",
       "orig_projected_additional_accrued_interest    2252242\n",
       "hardship_payoff_balance_amount                2250055\n",
       "hardship_last_payment_amount                  2250055\n",
       "disbursement_method                                 0\n",
       "debt_settlement_flag                                0\n",
       "debt_settlement_flag_date                     2227612\n",
       "settlement_status                             2227612\n",
       "settlement_date                               2227612\n",
       "settlement_amount                             2227612\n",
       "settlement_percentage                         2227612\n",
       "settlement_term                               2227612\n",
       "Length: 145, dtype: int64"
      ]
     },
     "execution_count": 4,
     "metadata": {},
     "output_type": "execute_result"
    }
   ],
   "source": [
    "loan_data.isnull().sum()"
   ]
  },
  {
   "cell_type": "code",
   "execution_count": 5,
   "metadata": {},
   "outputs": [
    {
     "data": {
      "text/plain": [
       "array(['id', 'member_id', 'loan_amnt', 'funded_amnt', 'funded_amnt_inv',\n",
       "       'term', 'int_rate', 'installment', 'grade', 'sub_grade',\n",
       "       'emp_title', 'emp_length', 'home_ownership', 'annual_inc',\n",
       "       'verification_status', 'issue_d', 'loan_status', 'pymnt_plan',\n",
       "       'url', 'desc', 'purpose', 'title', 'zip_code', 'addr_state', 'dti',\n",
       "       'delinq_2yrs', 'earliest_cr_line', 'inq_last_6mths',\n",
       "       'mths_since_last_delinq', 'mths_since_last_record', 'open_acc',\n",
       "       'pub_rec', 'revol_bal', 'revol_util', 'total_acc',\n",
       "       'initial_list_status', 'out_prncp', 'out_prncp_inv', 'total_pymnt',\n",
       "       'total_pymnt_inv', 'total_rec_prncp', 'total_rec_int',\n",
       "       'total_rec_late_fee', 'recoveries', 'collection_recovery_fee',\n",
       "       'last_pymnt_d', 'last_pymnt_amnt', 'next_pymnt_d',\n",
       "       'last_credit_pull_d', 'collections_12_mths_ex_med',\n",
       "       'mths_since_last_major_derog', 'policy_code', 'application_type',\n",
       "       'annual_inc_joint', 'dti_joint', 'verification_status_joint',\n",
       "       'acc_now_delinq', 'tot_coll_amt', 'tot_cur_bal', 'open_acc_6m',\n",
       "       'open_act_il', 'open_il_12m', 'open_il_24m', 'mths_since_rcnt_il',\n",
       "       'total_bal_il', 'il_util', 'open_rv_12m', 'open_rv_24m',\n",
       "       'max_bal_bc', 'all_util', 'total_rev_hi_lim', 'inq_fi',\n",
       "       'total_cu_tl', 'inq_last_12m', 'acc_open_past_24mths',\n",
       "       'avg_cur_bal', 'bc_open_to_buy', 'bc_util',\n",
       "       'chargeoff_within_12_mths', 'delinq_amnt', 'mo_sin_old_il_acct',\n",
       "       'mo_sin_old_rev_tl_op', 'mo_sin_rcnt_rev_tl_op', 'mo_sin_rcnt_tl',\n",
       "       'mort_acc', 'mths_since_recent_bc', 'mths_since_recent_bc_dlq',\n",
       "       'mths_since_recent_inq', 'mths_since_recent_revol_delinq',\n",
       "       'num_accts_ever_120_pd', 'num_actv_bc_tl', 'num_actv_rev_tl',\n",
       "       'num_bc_sats', 'num_bc_tl', 'num_il_tl', 'num_op_rev_tl',\n",
       "       'num_rev_accts', 'num_rev_tl_bal_gt_0', 'num_sats',\n",
       "       'num_tl_120dpd_2m', 'num_tl_30dpd', 'num_tl_90g_dpd_24m',\n",
       "       'num_tl_op_past_12m', 'pct_tl_nvr_dlq', 'percent_bc_gt_75',\n",
       "       'pub_rec_bankruptcies', 'tax_liens', 'tot_hi_cred_lim',\n",
       "       'total_bal_ex_mort', 'total_bc_limit',\n",
       "       'total_il_high_credit_limit', 'revol_bal_joint',\n",
       "       'sec_app_earliest_cr_line', 'sec_app_inq_last_6mths',\n",
       "       'sec_app_mort_acc', 'sec_app_open_acc', 'sec_app_revol_util',\n",
       "       'sec_app_open_act_il', 'sec_app_num_rev_accts',\n",
       "       'sec_app_chargeoff_within_12_mths',\n",
       "       'sec_app_collections_12_mths_ex_med',\n",
       "       'sec_app_mths_since_last_major_derog', 'hardship_flag',\n",
       "       'hardship_type', 'hardship_reason', 'hardship_status',\n",
       "       'deferral_term', 'hardship_amount', 'hardship_start_date',\n",
       "       'hardship_end_date', 'payment_plan_start_date', 'hardship_length',\n",
       "       'hardship_dpd', 'hardship_loan_status',\n",
       "       'orig_projected_additional_accrued_interest',\n",
       "       'hardship_payoff_balance_amount', 'hardship_last_payment_amount',\n",
       "       'disbursement_method', 'debt_settlement_flag',\n",
       "       'debt_settlement_flag_date', 'settlement_status',\n",
       "       'settlement_date', 'settlement_amount', 'settlement_percentage',\n",
       "       'settlement_term'], dtype=object)"
      ]
     },
     "execution_count": 5,
     "metadata": {},
     "output_type": "execute_result"
    }
   ],
   "source": [
    "loan_data.columns.values"
   ]
  },
  {
   "cell_type": "markdown",
   "metadata": {},
   "source": [
    "There are features in this dataset that are not required, so let's remove examine which ones we need and not, one by one.\n",
    "\n",
    "But before we do that, we will split the set into train and test splits."
   ]
  },
  {
   "cell_type": "code",
   "execution_count": null,
   "metadata": {},
   "outputs": [],
   "source": [
    "X_train, X_test, y_train, y_test = train_test_split(loan_data.values, loan_data.loan_status, test_size=0.25"
   ]
  },
  {
   "cell_type": "code",
   "execution_count": 3,
   "metadata": {},
   "outputs": [
    {
     "ename": "NameError",
     "evalue": "name 'loan_data' is not defined",
     "output_type": "error",
     "traceback": [
      "\u001b[1;31m---------------------------------------------------------------------------\u001b[0m",
      "\u001b[1;31mNameError\u001b[0m                                 Traceback (most recent call last)",
      "\u001b[1;32m<ipython-input-3-f6af48cdb2ec>\u001b[0m in \u001b[0;36m<module>\u001b[1;34m\u001b[0m\n\u001b[0;32m      1\u001b[0m \u001b[1;31m#set up new dataframe\u001b[0m\u001b[1;33m\u001b[0m\u001b[1;33m\u001b[0m\u001b[1;33m\u001b[0m\u001b[0m\n\u001b[1;32m----> 2\u001b[1;33m \u001b[0mnew_df\u001b[0m\u001b[1;33m=\u001b[0m\u001b[0mloan_data\u001b[0m\u001b[1;33m.\u001b[0m\u001b[0mcopy\u001b[0m\u001b[1;33m(\u001b[0m\u001b[1;33m)\u001b[0m\u001b[1;33m\u001b[0m\u001b[1;33m\u001b[0m\u001b[0m\n\u001b[0m",
      "\u001b[1;31mNameError\u001b[0m: name 'loan_data' is not defined"
     ]
    }
   ],
   "source": [
    "#set up new dataframe\n",
    "train_df=loan_data.copy()"
   ]
  },
  {
   "cell_type": "markdown",
   "metadata": {},
   "source": [
    "We will start by removing columns that have all null values."
   ]
  },
  {
   "cell_type": "code",
   "execution_count": 7,
   "metadata": {},
   "outputs": [],
   "source": [
    "null_coumns=loan_data.columns[loan_data.isnull().sum()==len(loan_data)]"
   ]
  },
  {
   "cell_type": "code",
   "execution_count": 8,
   "metadata": {},
   "outputs": [
    {
     "data": {
      "text/plain": [
       "Index(['id', 'member_id', 'url'], dtype='object')"
      ]
     },
     "execution_count": 8,
     "metadata": {},
     "output_type": "execute_result"
    }
   ],
   "source": [
    "null_coumns"
   ]
  },
  {
   "cell_type": "markdown",
   "metadata": {},
   "source": [
    "We see that following columns can be dropped as they are all null values and are insignificant:\n",
    "\n",
    "1. 'id'\n",
    "2. 'member_id'\n",
    "3. 'url'\n",
    "\n"
   ]
  },
  {
   "cell_type": "code",
   "execution_count": 9,
   "metadata": {},
   "outputs": [],
   "source": [
    "new_df_1=new_df.drop(null_coumns, axis=1)"
   ]
  },
  {
   "cell_type": "markdown",
   "metadata": {},
   "source": [
    "We see that there are a few columns with a significant number of null values. We will set a threshold of 75%. If column values are more than 75% null, they will be dropped as they will not provide much significance when predicting."
   ]
  },
  {
   "cell_type": "code",
   "execution_count": 26,
   "metadata": {},
   "outputs": [],
   "source": [
    "null_columns_75=new_df_1.columns[(new_df_1.isnull().sum()/len(new_df_1))>=0.75]"
   ]
  },
  {
   "cell_type": "code",
   "execution_count": 27,
   "metadata": {},
   "outputs": [
    {
     "data": {
      "text/plain": [
       "Index(['desc', 'mths_since_last_record', 'annual_inc_joint', 'dti_joint',\n",
       "       'verification_status_joint', 'mths_since_recent_bc_dlq',\n",
       "       'revol_bal_joint', 'sec_app_earliest_cr_line', 'sec_app_inq_last_6mths',\n",
       "       'sec_app_mort_acc', 'sec_app_open_acc', 'sec_app_revol_util',\n",
       "       'sec_app_open_act_il', 'sec_app_num_rev_accts',\n",
       "       'sec_app_chargeoff_within_12_mths',\n",
       "       'sec_app_collections_12_mths_ex_med',\n",
       "       'sec_app_mths_since_last_major_derog', 'hardship_type',\n",
       "       'hardship_reason', 'hardship_status', 'deferral_term',\n",
       "       'hardship_amount', 'hardship_start_date', 'hardship_end_date',\n",
       "       'payment_plan_start_date', 'hardship_length', 'hardship_dpd',\n",
       "       'hardship_loan_status', 'orig_projected_additional_accrued_interest',\n",
       "       'hardship_payoff_balance_amount', 'hardship_last_payment_amount',\n",
       "       'debt_settlement_flag_date', 'settlement_status', 'settlement_date',\n",
       "       'settlement_amount', 'settlement_percentage', 'settlement_term'],\n",
       "      dtype='object')"
      ]
     },
     "execution_count": 27,
     "metadata": {},
     "output_type": "execute_result"
    }
   ],
   "source": [
    "null_columns_75"
   ]
  },
  {
   "cell_type": "markdown",
   "metadata": {},
   "source": [
    "Just by looking at the columns, none of them would be significant in predicting lateness."
   ]
  },
  {
   "cell_type": "code",
   "execution_count": 50,
   "metadata": {},
   "outputs": [],
   "source": [
    "new_df_2=new_df_1.drop(null_columns_75, axis=1)"
   ]
  },
  {
   "cell_type": "code",
   "execution_count": 29,
   "metadata": {},
   "outputs": [
    {
     "data": {
      "text/html": [
       "<div>\n",
       "<style scoped>\n",
       "    .dataframe tbody tr th:only-of-type {\n",
       "        vertical-align: middle;\n",
       "    }\n",
       "\n",
       "    .dataframe tbody tr th {\n",
       "        vertical-align: top;\n",
       "    }\n",
       "\n",
       "    .dataframe thead th {\n",
       "        text-align: right;\n",
       "    }\n",
       "</style>\n",
       "<table border=\"1\" class=\"dataframe\">\n",
       "  <thead>\n",
       "    <tr style=\"text-align: right;\">\n",
       "      <th></th>\n",
       "      <th>loan_amnt</th>\n",
       "      <th>funded_amnt</th>\n",
       "      <th>funded_amnt_inv</th>\n",
       "      <th>term</th>\n",
       "      <th>int_rate</th>\n",
       "      <th>installment</th>\n",
       "      <th>grade</th>\n",
       "      <th>sub_grade</th>\n",
       "      <th>emp_title</th>\n",
       "      <th>emp_length</th>\n",
       "      <th>...</th>\n",
       "      <th>percent_bc_gt_75</th>\n",
       "      <th>pub_rec_bankruptcies</th>\n",
       "      <th>tax_liens</th>\n",
       "      <th>tot_hi_cred_lim</th>\n",
       "      <th>total_bal_ex_mort</th>\n",
       "      <th>total_bc_limit</th>\n",
       "      <th>total_il_high_credit_limit</th>\n",
       "      <th>hardship_flag</th>\n",
       "      <th>disbursement_method</th>\n",
       "      <th>debt_settlement_flag</th>\n",
       "    </tr>\n",
       "  </thead>\n",
       "  <tbody>\n",
       "    <tr>\n",
       "      <th>0</th>\n",
       "      <td>2500</td>\n",
       "      <td>2500</td>\n",
       "      <td>2500.0</td>\n",
       "      <td>36 months</td>\n",
       "      <td>13.56</td>\n",
       "      <td>84.92</td>\n",
       "      <td>C</td>\n",
       "      <td>C1</td>\n",
       "      <td>Chef</td>\n",
       "      <td>10+ years</td>\n",
       "      <td>...</td>\n",
       "      <td>0.0</td>\n",
       "      <td>1.0</td>\n",
       "      <td>0.0</td>\n",
       "      <td>60124.0</td>\n",
       "      <td>16901.0</td>\n",
       "      <td>36500.0</td>\n",
       "      <td>18124.0</td>\n",
       "      <td>N</td>\n",
       "      <td>Cash</td>\n",
       "      <td>N</td>\n",
       "    </tr>\n",
       "    <tr>\n",
       "      <th>1</th>\n",
       "      <td>30000</td>\n",
       "      <td>30000</td>\n",
       "      <td>30000.0</td>\n",
       "      <td>60 months</td>\n",
       "      <td>18.94</td>\n",
       "      <td>777.23</td>\n",
       "      <td>D</td>\n",
       "      <td>D2</td>\n",
       "      <td>Postmaster</td>\n",
       "      <td>10+ years</td>\n",
       "      <td>...</td>\n",
       "      <td>0.0</td>\n",
       "      <td>1.0</td>\n",
       "      <td>0.0</td>\n",
       "      <td>372872.0</td>\n",
       "      <td>99468.0</td>\n",
       "      <td>15000.0</td>\n",
       "      <td>94072.0</td>\n",
       "      <td>N</td>\n",
       "      <td>Cash</td>\n",
       "      <td>N</td>\n",
       "    </tr>\n",
       "    <tr>\n",
       "      <th>2</th>\n",
       "      <td>5000</td>\n",
       "      <td>5000</td>\n",
       "      <td>5000.0</td>\n",
       "      <td>36 months</td>\n",
       "      <td>17.97</td>\n",
       "      <td>180.69</td>\n",
       "      <td>D</td>\n",
       "      <td>D1</td>\n",
       "      <td>Administrative</td>\n",
       "      <td>6 years</td>\n",
       "      <td>...</td>\n",
       "      <td>0.0</td>\n",
       "      <td>0.0</td>\n",
       "      <td>0.0</td>\n",
       "      <td>136927.0</td>\n",
       "      <td>11749.0</td>\n",
       "      <td>13800.0</td>\n",
       "      <td>10000.0</td>\n",
       "      <td>N</td>\n",
       "      <td>Cash</td>\n",
       "      <td>N</td>\n",
       "    </tr>\n",
       "    <tr>\n",
       "      <th>3</th>\n",
       "      <td>4000</td>\n",
       "      <td>4000</td>\n",
       "      <td>4000.0</td>\n",
       "      <td>36 months</td>\n",
       "      <td>18.94</td>\n",
       "      <td>146.51</td>\n",
       "      <td>D</td>\n",
       "      <td>D2</td>\n",
       "      <td>IT Supervisor</td>\n",
       "      <td>10+ years</td>\n",
       "      <td>...</td>\n",
       "      <td>100.0</td>\n",
       "      <td>0.0</td>\n",
       "      <td>0.0</td>\n",
       "      <td>385183.0</td>\n",
       "      <td>36151.0</td>\n",
       "      <td>5000.0</td>\n",
       "      <td>44984.0</td>\n",
       "      <td>N</td>\n",
       "      <td>Cash</td>\n",
       "      <td>N</td>\n",
       "    </tr>\n",
       "    <tr>\n",
       "      <th>4</th>\n",
       "      <td>30000</td>\n",
       "      <td>30000</td>\n",
       "      <td>30000.0</td>\n",
       "      <td>60 months</td>\n",
       "      <td>16.14</td>\n",
       "      <td>731.78</td>\n",
       "      <td>C</td>\n",
       "      <td>C4</td>\n",
       "      <td>Mechanic</td>\n",
       "      <td>10+ years</td>\n",
       "      <td>...</td>\n",
       "      <td>0.0</td>\n",
       "      <td>0.0</td>\n",
       "      <td>0.0</td>\n",
       "      <td>157548.0</td>\n",
       "      <td>29674.0</td>\n",
       "      <td>9300.0</td>\n",
       "      <td>32332.0</td>\n",
       "      <td>N</td>\n",
       "      <td>Cash</td>\n",
       "      <td>N</td>\n",
       "    </tr>\n",
       "  </tbody>\n",
       "</table>\n",
       "<p>5 rows × 105 columns</p>\n",
       "</div>"
      ],
      "text/plain": [
       "   loan_amnt  funded_amnt  funded_amnt_inv        term  int_rate  installment  \\\n",
       "0       2500         2500           2500.0   36 months     13.56        84.92   \n",
       "1      30000        30000          30000.0   60 months     18.94       777.23   \n",
       "2       5000         5000           5000.0   36 months     17.97       180.69   \n",
       "3       4000         4000           4000.0   36 months     18.94       146.51   \n",
       "4      30000        30000          30000.0   60 months     16.14       731.78   \n",
       "\n",
       "  grade sub_grade       emp_title emp_length  ... percent_bc_gt_75  \\\n",
       "0     C        C1            Chef  10+ years  ...              0.0   \n",
       "1     D        D2     Postmaster   10+ years  ...              0.0   \n",
       "2     D        D1  Administrative    6 years  ...              0.0   \n",
       "3     D        D2   IT Supervisor  10+ years  ...            100.0   \n",
       "4     C        C4        Mechanic  10+ years  ...              0.0   \n",
       "\n",
       "   pub_rec_bankruptcies tax_liens tot_hi_cred_lim total_bal_ex_mort  \\\n",
       "0                   1.0       0.0         60124.0           16901.0   \n",
       "1                   1.0       0.0        372872.0           99468.0   \n",
       "2                   0.0       0.0        136927.0           11749.0   \n",
       "3                   0.0       0.0        385183.0           36151.0   \n",
       "4                   0.0       0.0        157548.0           29674.0   \n",
       "\n",
       "  total_bc_limit total_il_high_credit_limit hardship_flag disbursement_method  \\\n",
       "0        36500.0                    18124.0             N                Cash   \n",
       "1        15000.0                    94072.0             N                Cash   \n",
       "2        13800.0                    10000.0             N                Cash   \n",
       "3         5000.0                    44984.0             N                Cash   \n",
       "4         9300.0                    32332.0             N                Cash   \n",
       "\n",
       "  debt_settlement_flag  \n",
       "0                    N  \n",
       "1                    N  \n",
       "2                    N  \n",
       "3                    N  \n",
       "4                    N  \n",
       "\n",
       "[5 rows x 105 columns]"
      ]
     },
     "execution_count": 29,
     "metadata": {},
     "output_type": "execute_result"
    }
   ],
   "source": [
    "new_df_2.head()"
   ]
  },
  {
   "cell_type": "markdown",
   "metadata": {},
   "source": [
    "Our features are now 105, down from 145, a 27.5% reduction."
   ]
  },
  {
   "cell_type": "markdown",
   "metadata": {},
   "source": [
    "We now need to deal with all the missing values. Let's find the columsn with missing values."
   ]
  },
  {
   "cell_type": "code",
   "execution_count": 51,
   "metadata": {},
   "outputs": [],
   "source": [
    "columns_nan=new_df_2.columns[new_df_2.isnull().sum()!=0].values"
   ]
  },
  {
   "cell_type": "code",
   "execution_count": 52,
   "metadata": {},
   "outputs": [
    {
     "data": {
      "text/plain": [
       "73"
      ]
     },
     "execution_count": 52,
     "metadata": {},
     "output_type": "execute_result"
    }
   ],
   "source": [
    "len(columns_nan)"
   ]
  },
  {
   "cell_type": "code",
   "execution_count": 53,
   "metadata": {},
   "outputs": [
    {
     "data": {
      "text/plain": [
       "array(['emp_title', 'emp_length', 'annual_inc', 'title', 'zip_code',\n",
       "       'dti', 'delinq_2yrs', 'earliest_cr_line', 'inq_last_6mths',\n",
       "       'mths_since_last_delinq', 'open_acc', 'pub_rec', 'revol_util',\n",
       "       'total_acc', 'last_pymnt_d', 'next_pymnt_d', 'last_credit_pull_d',\n",
       "       'collections_12_mths_ex_med', 'mths_since_last_major_derog',\n",
       "       'acc_now_delinq', 'tot_coll_amt', 'tot_cur_bal', 'open_acc_6m',\n",
       "       'open_act_il', 'open_il_12m', 'open_il_24m', 'mths_since_rcnt_il',\n",
       "       'total_bal_il', 'il_util', 'open_rv_12m', 'open_rv_24m',\n",
       "       'max_bal_bc', 'all_util', 'total_rev_hi_lim', 'inq_fi',\n",
       "       'total_cu_tl', 'inq_last_12m', 'acc_open_past_24mths',\n",
       "       'avg_cur_bal', 'bc_open_to_buy', 'bc_util',\n",
       "       'chargeoff_within_12_mths', 'delinq_amnt', 'mo_sin_old_il_acct',\n",
       "       'mo_sin_old_rev_tl_op', 'mo_sin_rcnt_rev_tl_op', 'mo_sin_rcnt_tl',\n",
       "       'mort_acc', 'mths_since_recent_bc', 'mths_since_recent_inq',\n",
       "       'mths_since_recent_revol_delinq', 'num_accts_ever_120_pd',\n",
       "       'num_actv_bc_tl', 'num_actv_rev_tl', 'num_bc_sats', 'num_bc_tl',\n",
       "       'num_il_tl', 'num_op_rev_tl', 'num_rev_accts',\n",
       "       'num_rev_tl_bal_gt_0', 'num_sats', 'num_tl_120dpd_2m',\n",
       "       'num_tl_30dpd', 'num_tl_90g_dpd_24m', 'num_tl_op_past_12m',\n",
       "       'pct_tl_nvr_dlq', 'percent_bc_gt_75', 'pub_rec_bankruptcies',\n",
       "       'tax_liens', 'tot_hi_cred_lim', 'total_bal_ex_mort',\n",
       "       'total_bc_limit', 'total_il_high_credit_limit'], dtype=object)"
      ]
     },
     "execution_count": 53,
     "metadata": {},
     "output_type": "execute_result"
    }
   ],
   "source": [
    "columns_nan"
   ]
  },
  {
   "cell_type": "markdown",
   "metadata": {},
   "source": [
    "There are 73 columns with nan values, we need to deal with them.\n",
    "\n",
    "1. 'emp_title', Employment title. The entries are strings. If there are Nan's, they will be classified them as \"Not Given\"\n",
    "2. 'emp_length',Employment Length. The entries are strings. If there are Nan's, they we will classified them as \"Not Given\"\n",
    "3. 'annual_inc', Annual Income. The entries are  floats. If there are Nan's, they will be classified as 0\n",
    "4. 'title', Purpose Title is just another column of purpose but human readable, so this column will be removed.\n",
    "5. 'zip_code', Zip code is that of loanee addresses. The entries are strings. Nan entries will be replaced with '000xx'\n",
    "6. 'dti' is debt-to-income ratio. This is a significant ratio. Entries are floats. Nan's will be replaced with the mean. "
   ]
  },
  {
   "cell_type": "code",
   "execution_count": 54,
   "metadata": {},
   "outputs": [],
   "source": [
    "new_df_2['emp_title']=new_df_2['emp_title'].fillna(\"Not Given\")"
   ]
  },
  {
   "cell_type": "code",
   "execution_count": 55,
   "metadata": {},
   "outputs": [],
   "source": [
    "new_df_2['emp_length']=new_df_2['emp_length'].fillna(\"Not Given\")"
   ]
  },
  {
   "cell_type": "code",
   "execution_count": 56,
   "metadata": {},
   "outputs": [],
   "source": [
    "new_df_2['annual_inc']=new_df_2['annual_inc'].fillna(0)"
   ]
  },
  {
   "cell_type": "code",
   "execution_count": 57,
   "metadata": {},
   "outputs": [],
   "source": [
    "new_df_2.drop('title', inplace=True, axis=1)"
   ]
  },
  {
   "cell_type": "code",
   "execution_count": 61,
   "metadata": {},
   "outputs": [],
   "source": [
    "new_df_2['zip_code']=new_df_2['zip_code'].fillna('000xx')"
   ]
  },
  {
   "cell_type": "code",
   "execution_count": 90,
   "metadata": {},
   "outputs": [],
   "source": [
    "new_df_2['dti']=new_df_2['dti'].fillna(np.mean(new_df_2['dti']))"
   ]
  },
  {
   "cell_type": "markdown",
   "metadata": {},
   "source": [
    "Let's refresh so we have a less crowded list. As the other columns will require us to see the description what they are precisely."
   ]
  },
  {
   "cell_type": "code",
   "execution_count": 91,
   "metadata": {},
   "outputs": [],
   "source": [
    "columns_nan_1=new_df_2.columns[new_df_2.isnull().sum()!=0].values"
   ]
  },
  {
   "cell_type": "code",
   "execution_count": 94,
   "metadata": {},
   "outputs": [
    {
     "data": {
      "text/plain": [
       "67"
      ]
     },
     "execution_count": 94,
     "metadata": {},
     "output_type": "execute_result"
    }
   ],
   "source": [
    "len(columns_nan_1)"
   ]
  },
  {
   "cell_type": "code",
   "execution_count": 96,
   "metadata": {},
   "outputs": [
    {
     "data": {
      "text/plain": [
       "array(['delinq_2yrs', 'earliest_cr_line', 'inq_last_6mths',\n",
       "       'mths_since_last_delinq', 'open_acc', 'pub_rec', 'revol_util',\n",
       "       'total_acc', 'last_pymnt_d', 'next_pymnt_d', 'last_credit_pull_d',\n",
       "       'collections_12_mths_ex_med', 'mths_since_last_major_derog',\n",
       "       'acc_now_delinq', 'tot_coll_amt', 'tot_cur_bal', 'open_acc_6m',\n",
       "       'open_act_il', 'open_il_12m', 'open_il_24m', 'mths_since_rcnt_il',\n",
       "       'total_bal_il', 'il_util', 'open_rv_12m', 'open_rv_24m',\n",
       "       'max_bal_bc', 'all_util', 'total_rev_hi_lim', 'inq_fi',\n",
       "       'total_cu_tl', 'inq_last_12m', 'acc_open_past_24mths',\n",
       "       'avg_cur_bal', 'bc_open_to_buy', 'bc_util',\n",
       "       'chargeoff_within_12_mths', 'delinq_amnt', 'mo_sin_old_il_acct',\n",
       "       'mo_sin_old_rev_tl_op', 'mo_sin_rcnt_rev_tl_op', 'mo_sin_rcnt_tl',\n",
       "       'mort_acc', 'mths_since_recent_bc', 'mths_since_recent_inq',\n",
       "       'mths_since_recent_revol_delinq', 'num_accts_ever_120_pd',\n",
       "       'num_actv_bc_tl', 'num_actv_rev_tl', 'num_bc_sats', 'num_bc_tl',\n",
       "       'num_il_tl', 'num_op_rev_tl', 'num_rev_accts',\n",
       "       'num_rev_tl_bal_gt_0', 'num_sats', 'num_tl_120dpd_2m',\n",
       "       'num_tl_30dpd', 'num_tl_90g_dpd_24m', 'num_tl_op_past_12m',\n",
       "       'pct_tl_nvr_dlq', 'percent_bc_gt_75', 'pub_rec_bankruptcies',\n",
       "       'tax_liens', 'tot_hi_cred_lim', 'total_bal_ex_mort',\n",
       "       'total_bc_limit', 'total_il_high_credit_limit'], dtype=object)"
      ]
     },
     "execution_count": 96,
     "metadata": {},
     "output_type": "execute_result"
    }
   ],
   "source": [
    "columns_nan_1"
   ]
  },
  {
   "cell_type": "markdown",
   "metadata": {},
   "source": [
    "There are 67 remaining columns, let's start!!\n",
    "\n",
    "1. 'delinq_2yrs is a counter of how many time a loanee was 30+ days late over the past 2 years. Entries are floats. Nan's will be replaced with 0.\n",
    "2. 'earliest_cr_line'.This when the borrowers first credit line was opened. Entries are strings with dates(Month-Year). If it's Nan, it is most probable thay they never had a credit line. Nan's will be replaced with 'Jan-1000'.\n",
    "3. 'inq_last_6mths'. This is  a count of the number of inquiries over the last 6 months. Entries are integers. Nan's will be replaced with 0.\n",
    "4. 'open_acc' is the number of current open credit lines for the borrower. These are integers and are rarely zero. Nan's will be replaced with the mean.\n",
    "5. 'pub_rec'is the number of deragotory public record which is a sever case(Bankruptcy, civil court etc). These values are most commonly 0. Entries will be raplced with 0.\n",
    "6. 'revol_util'. This is revolving account utilization rate in %. Entries are floats. (Example (Credit Card Balance/Credit Limit)). We will replace them the mean.\n",
    "7. 'total_acc' is the number of credit lines in borrowers file. This has a large range of integers(0-100). But for ease of analysis, we will use the mean.\n",
    "8. 'last_pymnt_d'. This is a string of the date of the latest payment. We will replace Nan's with 'Jan-1000'.\n",
    "9. 'next_pymnt_d'. This is a string with the next schedule payment date. Nan's will be replaced with 'Jan-1000'.\n",
    "10. 'last_credit_pull_d'. This is the most recent month Lending Club pulled a credit check for the borrower. Nan's will be replaced with 'Jan-1000'."
   ]
  },
  {
   "cell_type": "code",
   "execution_count": 101,
   "metadata": {},
   "outputs": [
    {
     "data": {
      "text/plain": [
       "array([\"The number of 30+ days past-due incidences of delinquency in the borrower's credit file for the past 2 years\"],\n",
       "      dtype=object)"
      ]
     },
     "execution_count": 101,
     "metadata": {},
     "output_type": "execute_result"
    }
   ],
   "source": [
    "feature_desc[feature_desc['LoanStatNew']=='delinq_2yrs']['Description'].values"
   ]
  },
  {
   "cell_type": "code",
   "execution_count": 103,
   "metadata": {},
   "outputs": [],
   "source": [
    "new_df_2['delinq_2yrs']=new_df_2['delinq_2yrs'].fillna(0)"
   ]
  },
  {
   "cell_type": "code",
   "execution_count": 104,
   "metadata": {},
   "outputs": [
    {
     "data": {
      "text/plain": [
       "array([\"The month the borrower's earliest reported credit line was opened\"],\n",
       "      dtype=object)"
      ]
     },
     "execution_count": 104,
     "metadata": {},
     "output_type": "execute_result"
    }
   ],
   "source": [
    "feature_desc[feature_desc['LoanStatNew']=='earliest_cr_line']['Description'].values"
   ]
  },
  {
   "cell_type": "code",
   "execution_count": 108,
   "metadata": {},
   "outputs": [],
   "source": [
    "new_df_2['earliest_cr_line']=new_df_2['earliest_cr_line'].fillna('Jan-1000')"
   ]
  },
  {
   "cell_type": "code",
   "execution_count": 109,
   "metadata": {},
   "outputs": [
    {
     "data": {
      "text/plain": [
       "array(['The number of inquiries in past 6 months (excluding auto and mortgage inquiries)'],\n",
       "      dtype=object)"
      ]
     },
     "execution_count": 109,
     "metadata": {},
     "output_type": "execute_result"
    }
   ],
   "source": [
    "feature_desc[feature_desc['LoanStatNew']=='inq_last_6mths']['Description'].values"
   ]
  },
  {
   "cell_type": "code",
   "execution_count": 111,
   "metadata": {},
   "outputs": [],
   "source": [
    "new_df_2['inq_last_6mths']=new_df_2['inq_last_6mths'].fillna(0)"
   ]
  },
  {
   "cell_type": "code",
   "execution_count": 112,
   "metadata": {},
   "outputs": [
    {
     "data": {
      "text/plain": [
       "array([\"The number of open credit lines in the borrower's credit file.\"],\n",
       "      dtype=object)"
      ]
     },
     "execution_count": 112,
     "metadata": {},
     "output_type": "execute_result"
    }
   ],
   "source": [
    "feature_desc[feature_desc['LoanStatNew']=='open_acc']['Description'].values"
   ]
  },
  {
   "cell_type": "code",
   "execution_count": 114,
   "metadata": {},
   "outputs": [],
   "source": [
    "new_df_2['open_acc']=new_df_2['open_acc'].fillna(np.mean(new_df_2['open_acc']))"
   ]
  },
  {
   "cell_type": "code",
   "execution_count": 115,
   "metadata": {},
   "outputs": [
    {
     "data": {
      "text/plain": [
       "array(['Number of derogatory public records'], dtype=object)"
      ]
     },
     "execution_count": 115,
     "metadata": {},
     "output_type": "execute_result"
    }
   ],
   "source": [
    "feature_desc[feature_desc['LoanStatNew']=='pub_rec']['Description'].values"
   ]
  },
  {
   "cell_type": "code",
   "execution_count": 121,
   "metadata": {},
   "outputs": [],
   "source": [
    "new_df_2['pub_rec']=new_df_2['pub_rec'].fillna(0)"
   ]
  },
  {
   "cell_type": "code",
   "execution_count": 118,
   "metadata": {},
   "outputs": [
    {
     "data": {
      "text/plain": [
       "array(['Revolving line utilization rate, or the amount of credit the borrower is using relative to all available revolving credit.'],\n",
       "      dtype=object)"
      ]
     },
     "execution_count": 118,
     "metadata": {},
     "output_type": "execute_result"
    }
   ],
   "source": [
    "feature_desc[feature_desc['LoanStatNew']=='revol_util']['Description'].values"
   ]
  },
  {
   "cell_type": "code",
   "execution_count": 122,
   "metadata": {},
   "outputs": [],
   "source": [
    "new_df_2['revol_util']=new_df_2['revol_util'].fillna(np.mean(new_df_2['revol_util']))"
   ]
  },
  {
   "cell_type": "code",
   "execution_count": 123,
   "metadata": {},
   "outputs": [
    {
     "data": {
      "text/plain": [
       "array([\"The total number of credit lines currently in the borrower's credit file\"],\n",
       "      dtype=object)"
      ]
     },
     "execution_count": 123,
     "metadata": {},
     "output_type": "execute_result"
    }
   ],
   "source": [
    "feature_desc[feature_desc['LoanStatNew']=='total_acc']['Description'].values"
   ]
  },
  {
   "cell_type": "code",
   "execution_count": 125,
   "metadata": {},
   "outputs": [],
   "source": [
    "new_df_2['total_acc']=new_df_2['total_acc'].fillna(np.mean(new_df_2['total_acc']))"
   ]
  },
  {
   "cell_type": "code",
   "execution_count": 126,
   "metadata": {},
   "outputs": [
    {
     "data": {
      "text/plain": [
       "array(['Last month payment was received'], dtype=object)"
      ]
     },
     "execution_count": 126,
     "metadata": {},
     "output_type": "execute_result"
    }
   ],
   "source": [
    "feature_desc[feature_desc['LoanStatNew']=='last_pymnt_d']['Description'].values"
   ]
  },
  {
   "cell_type": "code",
   "execution_count": 130,
   "metadata": {},
   "outputs": [],
   "source": [
    "new_df_2['last_pymnt_d']=new_df_2['last_pymnt_d'].fillna('Jan-1000')"
   ]
  },
  {
   "cell_type": "code",
   "execution_count": 131,
   "metadata": {},
   "outputs": [
    {
     "data": {
      "text/plain": [
       "array(['Next scheduled payment date'], dtype=object)"
      ]
     },
     "execution_count": 131,
     "metadata": {},
     "output_type": "execute_result"
    }
   ],
   "source": [
    "feature_desc[feature_desc['LoanStatNew']=='next_pymnt_d']['Description'].values"
   ]
  },
  {
   "cell_type": "code",
   "execution_count": 133,
   "metadata": {},
   "outputs": [],
   "source": [
    "new_df_2['next_pymnt_d']=new_df_2['next_pymnt_d'].fillna('Jan-1000')"
   ]
  },
  {
   "cell_type": "code",
   "execution_count": 135,
   "metadata": {},
   "outputs": [
    {
     "data": {
      "text/plain": [
       "array(['The most recent month LC pulled credit for this loan'],\n",
       "      dtype=object)"
      ]
     },
     "execution_count": 135,
     "metadata": {},
     "output_type": "execute_result"
    }
   ],
   "source": [
    "feature_desc[feature_desc['LoanStatNew']=='last_credit_pull_d']['Description'].values"
   ]
  },
  {
   "cell_type": "code",
   "execution_count": 136,
   "metadata": {},
   "outputs": [],
   "source": [
    "new_df_2['last_credit_pull_d']=new_df_2['last_credit_pull_d'].fillna('Jan-1000')"
   ]
  },
  {
   "cell_type": "markdown",
   "metadata": {},
   "source": [
    "Again Let's refresh so we have a new set to work with."
   ]
  },
  {
   "cell_type": "code",
   "execution_count": 137,
   "metadata": {},
   "outputs": [],
   "source": [
    "columns_nan_2=new_df_2.columns[new_df_2.isnull().sum()!=0].values"
   ]
  },
  {
   "cell_type": "code",
   "execution_count": 139,
   "metadata": {},
   "outputs": [
    {
     "data": {
      "text/plain": [
       "57"
      ]
     },
     "execution_count": 139,
     "metadata": {},
     "output_type": "execute_result"
    }
   ],
   "source": [
    "len(columns_nan_2)"
   ]
  },
  {
   "cell_type": "code",
   "execution_count": 141,
   "metadata": {},
   "outputs": [
    {
     "data": {
      "text/plain": [
       "array(['mths_since_last_delinq', 'collections_12_mths_ex_med',\n",
       "       'mths_since_last_major_derog', 'acc_now_delinq', 'tot_coll_amt',\n",
       "       'tot_cur_bal', 'open_acc_6m', 'open_act_il', 'open_il_12m',\n",
       "       'open_il_24m', 'mths_since_rcnt_il', 'total_bal_il', 'il_util',\n",
       "       'open_rv_12m', 'open_rv_24m', 'max_bal_bc', 'all_util',\n",
       "       'total_rev_hi_lim', 'inq_fi', 'total_cu_tl', 'inq_last_12m',\n",
       "       'acc_open_past_24mths', 'avg_cur_bal', 'bc_open_to_buy', 'bc_util',\n",
       "       'chargeoff_within_12_mths', 'delinq_amnt', 'mo_sin_old_il_acct',\n",
       "       'mo_sin_old_rev_tl_op', 'mo_sin_rcnt_rev_tl_op', 'mo_sin_rcnt_tl',\n",
       "       'mort_acc', 'mths_since_recent_bc', 'mths_since_recent_inq',\n",
       "       'mths_since_recent_revol_delinq', 'num_accts_ever_120_pd',\n",
       "       'num_actv_bc_tl', 'num_actv_rev_tl', 'num_bc_sats', 'num_bc_tl',\n",
       "       'num_il_tl', 'num_op_rev_tl', 'num_rev_accts',\n",
       "       'num_rev_tl_bal_gt_0', 'num_sats', 'num_tl_120dpd_2m',\n",
       "       'num_tl_30dpd', 'num_tl_90g_dpd_24m', 'num_tl_op_past_12m',\n",
       "       'pct_tl_nvr_dlq', 'percent_bc_gt_75', 'pub_rec_bankruptcies',\n",
       "       'tax_liens', 'tot_hi_cred_lim', 'total_bal_ex_mort',\n",
       "       'total_bc_limit', 'total_il_high_credit_limit'], dtype=object)"
      ]
     },
     "execution_count": 141,
     "metadata": {},
     "output_type": "execute_result"
    }
   ],
   "source": [
    "columns_nan_2"
   ]
  },
  {
   "cell_type": "markdown",
   "metadata": {},
   "source": [
    "1. 'mths_since_last_delinq'. This is the number of months since the borrower was last 30+ days late. Nan's are probably for borrowers who were never 30+ days late and will be replaced with zeros.\n",
    "2. 'collections_12_mths_ex_med'. This is the number of collections made for payments that were late in the last 12 months. Nan's will be replaced with 0.\n",
    "3. 'mths_since_last_major_derog'. This is the number of months since there was 90-day or worse rating. Nan's will be replaced with 0.\n",
    "4. 'acc_now_delinq'. This is the number of accounts that the borrower is delinquent(30+ days late). Most of the results are 0. Nans will be replaced with 0.\n",
    "5. 'tot_coll_amt'. This is the total collected amount ever owed. Entries are floats represnting dollar amounts. Nans will be replaced with zeros.\n",
    "6. 'tot_cur_bal' is the total current balance owed on all accounts.Nans will be replaced with 0s.\n",
    "7. 'open_acc_6m' is the number of open trades in the last 6 months.Nans will be replaced with 0s.\n",
    "8. 'open_act_il' is the number of currently active installment trades. Nans will be replaced with the mean round to the nearest integer.\n",
    "9. 'open_il_12m' is the number of installment accounts opened in the last 12 months.Nans will be replaced with the mean round to the nearest integer.\n",
    "10. 'open_il_24m' is the number of installment accounts opened in the last 12 months.Nans will be replaced with the mean round to the nearest integer.\n",
    "11. 'mths_since_rcnt_il' number of months since most recent installment account opened.Nans will be replaced with the mean round to the nearest integer.\n",
    "12. 'total_bal_il'. Current balance of only installment accounts. Nans will be replaced with the mean.\n",
    "13. 'il_util'. Ratio of current balance to credit limit on installment acounts.Nans will be replaced with the mean.\n",
    "14. 'open_rv_12m'. Number of revoliving accounts opened in the last 12 months. Nans will be replaced with the mean round to the nearest integer..\n",
    "15. 'open_rv_24m'. Number of revoliving accounts opened in the last 24 months. Nans will be replaced with the mean round to the nearest integer.\n",
    "16. 'max_bal_bc'. Maximum current balanced owed on all revolving accounts.Nans will be replaced with the mean.\n",
    "17. 'all_util'. This is the balance to credit limit ratio on all trades.Nans will be replaced with the mean."
   ]
  },
  {
   "cell_type": "code",
   "execution_count": 207,
   "metadata": {},
   "outputs": [
    {
     "data": {
      "text/plain": [
       "array([\"The number of months since the borrower's last delinquency.\"],\n",
       "      dtype=object)"
      ]
     },
     "execution_count": 207,
     "metadata": {},
     "output_type": "execute_result"
    }
   ],
   "source": [
    "feature_desc[feature_desc['LoanStatNew']=='mths_since_last_delinq']['Description'].values"
   ]
  },
  {
   "cell_type": "code",
   "execution_count": 208,
   "metadata": {},
   "outputs": [],
   "source": [
    "new_df_2['mths_since_last_delinq']=new_df_2['mths_since_last_delinq'].fillna(0)"
   ]
  },
  {
   "cell_type": "code",
   "execution_count": 209,
   "metadata": {},
   "outputs": [
    {
     "data": {
      "text/plain": [
       "array(['Number of collections in 12 months excluding medical collections'],\n",
       "      dtype=object)"
      ]
     },
     "execution_count": 209,
     "metadata": {},
     "output_type": "execute_result"
    }
   ],
   "source": [
    "feature_desc[feature_desc['LoanStatNew']=='collections_12_mths_ex_med']['Description'].values"
   ]
  },
  {
   "cell_type": "code",
   "execution_count": 210,
   "metadata": {},
   "outputs": [],
   "source": [
    "new_df_2['collections_12_mths_ex_med']=new_df_2['collections_12_mths_ex_med'].fillna(0)"
   ]
  },
  {
   "cell_type": "code",
   "execution_count": 211,
   "metadata": {},
   "outputs": [
    {
     "data": {
      "text/plain": [
       "array(['Months since most recent 90-day or worse rating'], dtype=object)"
      ]
     },
     "execution_count": 211,
     "metadata": {},
     "output_type": "execute_result"
    }
   ],
   "source": [
    "feature_desc[feature_desc['LoanStatNew']=='mths_since_last_major_derog']['Description'].values"
   ]
  },
  {
   "cell_type": "code",
   "execution_count": 212,
   "metadata": {},
   "outputs": [],
   "source": [
    "new_df_2['mths_since_last_major_derog']=new_df_2['mths_since_last_major_derog'].fillna(0)"
   ]
  },
  {
   "cell_type": "code",
   "execution_count": 213,
   "metadata": {},
   "outputs": [
    {
     "data": {
      "text/plain": [
       "array(['The number of accounts on which the borrower is now delinquent.'],\n",
       "      dtype=object)"
      ]
     },
     "execution_count": 213,
     "metadata": {},
     "output_type": "execute_result"
    }
   ],
   "source": [
    "feature_desc[feature_desc['LoanStatNew']=='acc_now_delinq']['Description'].values"
   ]
  },
  {
   "cell_type": "code",
   "execution_count": 214,
   "metadata": {},
   "outputs": [],
   "source": [
    "new_df_2['acc_now_delinq']=new_df_2['acc_now_delinq'].fillna(0)"
   ]
  },
  {
   "cell_type": "code",
   "execution_count": 215,
   "metadata": {},
   "outputs": [
    {
     "data": {
      "text/plain": [
       "array(['Total collection amounts ever owed'], dtype=object)"
      ]
     },
     "execution_count": 215,
     "metadata": {},
     "output_type": "execute_result"
    }
   ],
   "source": [
    "feature_desc[feature_desc['LoanStatNew']=='tot_coll_amt']['Description'].values"
   ]
  },
  {
   "cell_type": "code",
   "execution_count": 216,
   "metadata": {},
   "outputs": [],
   "source": [
    "new_df_2['tot_coll_amt']=new_df_2['tot_coll_amt'].fillna(0)"
   ]
  },
  {
   "cell_type": "code",
   "execution_count": 217,
   "metadata": {},
   "outputs": [
    {
     "data": {
      "text/plain": [
       "array(['Total current balance of all accounts'], dtype=object)"
      ]
     },
     "execution_count": 217,
     "metadata": {},
     "output_type": "execute_result"
    }
   ],
   "source": [
    "feature_desc[feature_desc['LoanStatNew']=='tot_cur_bal']['Description'].values"
   ]
  },
  {
   "cell_type": "code",
   "execution_count": 218,
   "metadata": {},
   "outputs": [],
   "source": [
    "new_df_2['tot_cur_bal']=new_df_2['tot_cur_bal'].fillna(0)"
   ]
  },
  {
   "cell_type": "code",
   "execution_count": 219,
   "metadata": {},
   "outputs": [
    {
     "data": {
      "text/plain": [
       "array(['Number of open trades in last 6 months'], dtype=object)"
      ]
     },
     "execution_count": 219,
     "metadata": {},
     "output_type": "execute_result"
    }
   ],
   "source": [
    "feature_desc[feature_desc['LoanStatNew']=='open_acc_6m']['Description'].values"
   ]
  },
  {
   "cell_type": "code",
   "execution_count": 220,
   "metadata": {},
   "outputs": [],
   "source": [
    "new_df_2['open_acc_6m']=new_df_2['open_acc_6m'].fillna(0)"
   ]
  },
  {
   "cell_type": "code",
   "execution_count": 221,
   "metadata": {},
   "outputs": [
    {
     "data": {
      "text/plain": [
       "array(['Number of currently active installment trades'], dtype=object)"
      ]
     },
     "execution_count": 221,
     "metadata": {},
     "output_type": "execute_result"
    }
   ],
   "source": [
    "feature_desc[feature_desc['LoanStatNew']=='open_act_il']['Description'].values"
   ]
  },
  {
   "cell_type": "code",
   "execution_count": 222,
   "metadata": {},
   "outputs": [],
   "source": [
    "new_df_2['open_act_il']=new_df_2['open_act_il'].fillna(np.round(np.mean(new_df_2['open_act_il']),0))"
   ]
  },
  {
   "cell_type": "code",
   "execution_count": 223,
   "metadata": {},
   "outputs": [
    {
     "data": {
      "text/plain": [
       "3.0"
      ]
     },
     "execution_count": 223,
     "metadata": {},
     "output_type": "execute_result"
    }
   ],
   "source": [
    "np.round(np.mean(new_df_2['open_act_il']),0)"
   ]
  },
  {
   "cell_type": "code",
   "execution_count": 224,
   "metadata": {},
   "outputs": [
    {
     "data": {
      "text/plain": [
       "array(['Number of installment accounts opened in past 12 months'],\n",
       "      dtype=object)"
      ]
     },
     "execution_count": 224,
     "metadata": {},
     "output_type": "execute_result"
    }
   ],
   "source": [
    "feature_desc[feature_desc['LoanStatNew']=='open_il_12m']['Description'].values"
   ]
  },
  {
   "cell_type": "code",
   "execution_count": 225,
   "metadata": {},
   "outputs": [],
   "source": [
    "new_df_2['open_il_12m']=new_df_2['open_il_12m'].fillna(np.round(np.mean(new_df_2['open_il_12m']),0))"
   ]
  },
  {
   "cell_type": "code",
   "execution_count": 226,
   "metadata": {},
   "outputs": [
    {
     "data": {
      "text/plain": [
       "array(['Number of installment accounts opened in past 24 months'],\n",
       "      dtype=object)"
      ]
     },
     "execution_count": 226,
     "metadata": {},
     "output_type": "execute_result"
    }
   ],
   "source": [
    "feature_desc[feature_desc['LoanStatNew']=='open_il_24m']['Description'].values"
   ]
  },
  {
   "cell_type": "code",
   "execution_count": 227,
   "metadata": {},
   "outputs": [],
   "source": [
    "new_df_2['open_il_24m']=new_df_2['open_il_24m'].fillna(np.round(np.mean(new_df_2['open_il_24m']),0))"
   ]
  },
  {
   "cell_type": "code",
   "execution_count": 228,
   "metadata": {},
   "outputs": [
    {
     "data": {
      "text/plain": [
       "array(['Months since most recent installment accounts opened'],\n",
       "      dtype=object)"
      ]
     },
     "execution_count": 228,
     "metadata": {},
     "output_type": "execute_result"
    }
   ],
   "source": [
    "feature_desc[feature_desc['LoanStatNew']=='mths_since_rcnt_il']['Description'].values"
   ]
  },
  {
   "cell_type": "code",
   "execution_count": 229,
   "metadata": {},
   "outputs": [],
   "source": [
    "new_df_2['mths_since_rcnt_il']=new_df_2['mths_since_rcnt_il'].fillna(np.round(np.mean(new_df_2['mths_since_rcnt_il']),0))"
   ]
  },
  {
   "cell_type": "code",
   "execution_count": 230,
   "metadata": {},
   "outputs": [
    {
     "data": {
      "text/plain": [
       "array(['Total current balance of all installment accounts'], dtype=object)"
      ]
     },
     "execution_count": 230,
     "metadata": {},
     "output_type": "execute_result"
    }
   ],
   "source": [
    "feature_desc[feature_desc['LoanStatNew']=='total_bal_il']['Description'].values"
   ]
  },
  {
   "cell_type": "code",
   "execution_count": 231,
   "metadata": {},
   "outputs": [],
   "source": [
    "new_df_2['total_bal_il']=new_df_2['total_bal_il'].fillna(np.mean(new_df_2['total_bal_il']))"
   ]
  },
  {
   "cell_type": "code",
   "execution_count": 232,
   "metadata": {},
   "outputs": [
    {
     "data": {
      "text/plain": [
       "array(['Ratio of total current balance to high credit/credit limit on all install acct'],\n",
       "      dtype=object)"
      ]
     },
     "execution_count": 232,
     "metadata": {},
     "output_type": "execute_result"
    }
   ],
   "source": [
    "feature_desc[feature_desc['LoanStatNew']=='il_util']['Description'].values"
   ]
  },
  {
   "cell_type": "code",
   "execution_count": 233,
   "metadata": {},
   "outputs": [],
   "source": [
    "new_df_2['il_util']=new_df_2['il_util'].fillna(np.mean(new_df_2['il_util']))"
   ]
  },
  {
   "cell_type": "code",
   "execution_count": 234,
   "metadata": {},
   "outputs": [
    {
     "data": {
      "text/plain": [
       "array(['Number of revolving trades opened in past 12 months'],\n",
       "      dtype=object)"
      ]
     },
     "execution_count": 234,
     "metadata": {},
     "output_type": "execute_result"
    }
   ],
   "source": [
    "feature_desc[feature_desc['LoanStatNew']=='open_rv_12m']['Description'].values"
   ]
  },
  {
   "cell_type": "code",
   "execution_count": 235,
   "metadata": {},
   "outputs": [],
   "source": [
    "new_df_2['open_rv_12m']=new_df_2['open_rv_12m'].fillna(np.round(np.mean(new_df_2['open_rv_12m']),0))\n",
    "new_df_2['open_rv_24m']=new_df_2['open_rv_24m'].fillna(np.round(np.mean(new_df_2['open_rv_24m']),0))"
   ]
  },
  {
   "cell_type": "code",
   "execution_count": 236,
   "metadata": {},
   "outputs": [
    {
     "data": {
      "text/plain": [
       "array(['Maximum current balance owed on all revolving accounts'],\n",
       "      dtype=object)"
      ]
     },
     "execution_count": 236,
     "metadata": {},
     "output_type": "execute_result"
    }
   ],
   "source": [
    "feature_desc[feature_desc['LoanStatNew']=='max_bal_bc']['Description'].values"
   ]
  },
  {
   "cell_type": "code",
   "execution_count": 237,
   "metadata": {},
   "outputs": [],
   "source": [
    "new_df_2['max_bal_bc']=new_df_2['max_bal_bc'].fillna(np.mean(new_df_2['max_bal_bc']))"
   ]
  },
  {
   "cell_type": "code",
   "execution_count": 238,
   "metadata": {},
   "outputs": [
    {
     "data": {
      "text/plain": [
       "array(['Balance to credit limit on all trades'], dtype=object)"
      ]
     },
     "execution_count": 238,
     "metadata": {},
     "output_type": "execute_result"
    }
   ],
   "source": [
    "feature_desc[feature_desc['LoanStatNew']=='all_util']['Description'].values"
   ]
  },
  {
   "cell_type": "code",
   "execution_count": 239,
   "metadata": {},
   "outputs": [],
   "source": [
    "new_df_2['all_util']=new_df_2['all_util'].fillna(np.mean(new_df_2['all_util']))"
   ]
  },
  {
   "cell_type": "markdown",
   "metadata": {},
   "source": [
    "Once again, let's refresh to clear the full columns."
   ]
  },
  {
   "cell_type": "code",
   "execution_count": 240,
   "metadata": {},
   "outputs": [],
   "source": [
    "columns_nan_3=new_df_2.columns[new_df_2.isnull().sum()!=0].values"
   ]
  },
  {
   "cell_type": "code",
   "execution_count": 241,
   "metadata": {},
   "outputs": [
    {
     "data": {
      "text/plain": [
       "40"
      ]
     },
     "execution_count": 241,
     "metadata": {},
     "output_type": "execute_result"
    }
   ],
   "source": [
    "len(columns_nan_3)"
   ]
  },
  {
   "cell_type": "code",
   "execution_count": 242,
   "metadata": {},
   "outputs": [
    {
     "data": {
      "text/plain": [
       "array(['total_rev_hi_lim', 'inq_fi', 'total_cu_tl', 'inq_last_12m',\n",
       "       'acc_open_past_24mths', 'avg_cur_bal', 'bc_open_to_buy', 'bc_util',\n",
       "       'chargeoff_within_12_mths', 'delinq_amnt', 'mo_sin_old_il_acct',\n",
       "       'mo_sin_old_rev_tl_op', 'mo_sin_rcnt_rev_tl_op', 'mo_sin_rcnt_tl',\n",
       "       'mort_acc', 'mths_since_recent_bc', 'mths_since_recent_inq',\n",
       "       'mths_since_recent_revol_delinq', 'num_accts_ever_120_pd',\n",
       "       'num_actv_bc_tl', 'num_actv_rev_tl', 'num_bc_sats', 'num_bc_tl',\n",
       "       'num_il_tl', 'num_op_rev_tl', 'num_rev_accts',\n",
       "       'num_rev_tl_bal_gt_0', 'num_sats', 'num_tl_120dpd_2m',\n",
       "       'num_tl_30dpd', 'num_tl_90g_dpd_24m', 'num_tl_op_past_12m',\n",
       "       'pct_tl_nvr_dlq', 'percent_bc_gt_75', 'pub_rec_bankruptcies',\n",
       "       'tax_liens', 'tot_hi_cred_lim', 'total_bal_ex_mort',\n",
       "       'total_bc_limit', 'total_il_high_credit_limit'], dtype=object)"
      ]
     },
     "execution_count": 242,
     "metadata": {},
     "output_type": "execute_result"
    }
   ],
   "source": [
    "columns_nan_3"
   ]
  },
  {
   "cell_type": "markdown",
   "metadata": {},
   "source": [
    "1. 'total_rev_hi_lim'. We do not have a desciption but we can assume this is the high limit of all revolinvg accounts. Nans can be replaced with means.\n",
    "2. 'inq_fi'. Number of personal finance credit inquiries. Nans can be raplaced with the mean rounded to the nearest integer\n",
    "3. 'total_cu_tl'. Number of finance trades in total.Nans can be raplaced with the mean rounded to the nearest integer.\n",
    "4. 'inq_last_12m'. This is the number of credit inquireis in the last 12 months. Nans can be raplaced with the mean rounded to the nearest integer.\n",
    "5. 'acc_open_past_24mths'. Number of trades opened in the last 24 months.Nans can be raplaced with the mean rounded to the nearest integer.\n",
    "6. 'avg_cur_bal'. This is the average current balance of all accounts. Nans can be replaced with the mean.\n",
    "7. 'bc_open_to_buy'. This is the total dollar value to buy on revolving bankcards. Nans can be replaced with the mean \n",
    "8. 'bc_util'. This is the ratio of total current balance to high credit/credit limit for all bankcard accounts. This can be replaced with the mean.\n",
    "9. 'chargeoff_within_12_mths' Number of charges off in the last 12 months. Nans can be replced with 0.\n",
    "10. 'delinq_amnt'. The past-du amount for the accounts that the borrower is now delinquent. Nans can be replaced with 0s.\n",
    "11. 'mo_sin_old_il_acct'. This the number of months since oldest bank installment account opened.Nans can be raplaced with the mean rounded to the nearest integer.\n",
    "12. 'mo_sin_old_rev_tl_op'. This is the number of months since oldest revolving account opened. Nans can be raplaced with the mean rounded to the nearest integer.\n",
    "13. 'mo_sin_rcnt_rev_tl_op'. This is the number of months since the most recent revolving account opened.Nans can be raplaced with the mean rounded to the nearest integer.\n",
    "14. 'mo_sin_rcnt_tl'. This is the number of months since the most recent account opened. Nans can be raplaced with the mean rounded to the nearest integer.  \n",
    "15. 'mort_acc'. This is the number of mortgage accounts. Nans can be raplaced with the mean rounded to the nearest integer."
   ]
  },
  {
   "cell_type": "code",
   "execution_count": 243,
   "metadata": {},
   "outputs": [
    {
     "data": {
      "text/plain": [
       "array([], dtype=object)"
      ]
     },
     "execution_count": 243,
     "metadata": {},
     "output_type": "execute_result"
    }
   ],
   "source": [
    "feature_desc[feature_desc['LoanStatNew']=='total_rev_hi_lim']['Description'].values"
   ]
  },
  {
   "cell_type": "code",
   "execution_count": 297,
   "metadata": {},
   "outputs": [],
   "source": [
    "new_df_2['total_rev_hi_lim']=new_df_2['total_rev_hi_lim'].fillna(np.mean(new_df_2['total_rev_hi_lim']))"
   ]
  },
  {
   "cell_type": "code",
   "execution_count": 298,
   "metadata": {},
   "outputs": [
    {
     "data": {
      "text/plain": [
       "array(['Number of personal finance inquiries'], dtype=object)"
      ]
     },
     "execution_count": 298,
     "metadata": {},
     "output_type": "execute_result"
    }
   ],
   "source": [
    "feature_desc[feature_desc['LoanStatNew']=='inq_fi']['Description'].values"
   ]
  },
  {
   "cell_type": "code",
   "execution_count": 299,
   "metadata": {},
   "outputs": [],
   "source": [
    "new_df_2['inq_fi']=new_df_2['inq_fi'].fillna(np.round(np.mean(new_df_2['inq_fi']),0))"
   ]
  },
  {
   "cell_type": "code",
   "execution_count": 300,
   "metadata": {},
   "outputs": [
    {
     "data": {
      "text/plain": [
       "array(['Number of finance trades'], dtype=object)"
      ]
     },
     "execution_count": 300,
     "metadata": {},
     "output_type": "execute_result"
    }
   ],
   "source": [
    "feature_desc[feature_desc['LoanStatNew']=='total_cu_tl']['Description'].values"
   ]
  },
  {
   "cell_type": "code",
   "execution_count": 301,
   "metadata": {},
   "outputs": [],
   "source": [
    "new_df_2['total_cu_tl']=new_df_2['total_cu_tl'].fillna(np.round(np.mean(new_df_2['total_cu_tl']),0))"
   ]
  },
  {
   "cell_type": "code",
   "execution_count": 302,
   "metadata": {},
   "outputs": [
    {
     "data": {
      "text/plain": [
       "array(['Number of credit inquiries in past 12 months'], dtype=object)"
      ]
     },
     "execution_count": 302,
     "metadata": {},
     "output_type": "execute_result"
    }
   ],
   "source": [
    "feature_desc[feature_desc['LoanStatNew']=='inq_last_12m']['Description'].values"
   ]
  },
  {
   "cell_type": "code",
   "execution_count": 303,
   "metadata": {},
   "outputs": [],
   "source": [
    "new_df_2['inq_last_12m']=new_df_2['inq_last_12m'].fillna(np.round(np.mean(new_df_2['inq_last_12m']),0))"
   ]
  },
  {
   "cell_type": "code",
   "execution_count": 304,
   "metadata": {},
   "outputs": [
    {
     "data": {
      "text/plain": [
       "array(['Number of trades opened in past 24 months.'], dtype=object)"
      ]
     },
     "execution_count": 304,
     "metadata": {},
     "output_type": "execute_result"
    }
   ],
   "source": [
    "feature_desc[feature_desc['LoanStatNew']=='acc_open_past_24mths']['Description'].values"
   ]
  },
  {
   "cell_type": "code",
   "execution_count": 305,
   "metadata": {},
   "outputs": [],
   "source": [
    "new_df_2['acc_open_past_24mths']=new_df_2['acc_open_past_24mths'].fillna(np.round(np.mean(new_df_2['acc_open_past_24mths']),0))"
   ]
  },
  {
   "cell_type": "code",
   "execution_count": 306,
   "metadata": {},
   "outputs": [
    {
     "data": {
      "text/plain": [
       "array(['Average current balance of all accounts'], dtype=object)"
      ]
     },
     "execution_count": 306,
     "metadata": {},
     "output_type": "execute_result"
    }
   ],
   "source": [
    "feature_desc[feature_desc['LoanStatNew']=='avg_cur_bal']['Description'].values"
   ]
  },
  {
   "cell_type": "code",
   "execution_count": 307,
   "metadata": {},
   "outputs": [],
   "source": [
    "new_df_2['avg_cur_bal']=new_df_2['avg_cur_bal'].fillna(np.mean(new_df_2['avg_cur_bal']))"
   ]
  },
  {
   "cell_type": "code",
   "execution_count": 308,
   "metadata": {},
   "outputs": [
    {
     "data": {
      "text/plain": [
       "array(['Total open to buy on revolving bankcards.'], dtype=object)"
      ]
     },
     "execution_count": 308,
     "metadata": {},
     "output_type": "execute_result"
    }
   ],
   "source": [
    "feature_desc[feature_desc['LoanStatNew']=='bc_open_to_buy']['Description'].values"
   ]
  },
  {
   "cell_type": "code",
   "execution_count": 309,
   "metadata": {},
   "outputs": [],
   "source": [
    "new_df_2['bc_open_to_buy']=new_df_2['bc_open_to_buy'].fillna(np.mean(new_df_2['bc_open_to_buy']))"
   ]
  },
  {
   "cell_type": "code",
   "execution_count": 310,
   "metadata": {},
   "outputs": [
    {
     "data": {
      "text/plain": [
       "array(['Ratio of total current balance to high credit/credit limit for all bankcard accounts.'],\n",
       "      dtype=object)"
      ]
     },
     "execution_count": 310,
     "metadata": {},
     "output_type": "execute_result"
    }
   ],
   "source": [
    "feature_desc[feature_desc['LoanStatNew']=='bc_util']['Description'].values"
   ]
  },
  {
   "cell_type": "code",
   "execution_count": 311,
   "metadata": {},
   "outputs": [],
   "source": [
    "new_df_2['bc_util']=new_df_2['bc_util'].fillna(np.mean(new_df_2['bc_util']))"
   ]
  },
  {
   "cell_type": "code",
   "execution_count": 312,
   "metadata": {},
   "outputs": [
    {
     "data": {
      "text/plain": [
       "array(['Number of charge-offs within 12 months'], dtype=object)"
      ]
     },
     "execution_count": 312,
     "metadata": {},
     "output_type": "execute_result"
    }
   ],
   "source": [
    "feature_desc[feature_desc['LoanStatNew']=='chargeoff_within_12_mths']['Description'].values"
   ]
  },
  {
   "cell_type": "code",
   "execution_count": 313,
   "metadata": {},
   "outputs": [],
   "source": [
    "new_df_2['chargeoff_within_12_mths']=new_df_2['chargeoff_within_12_mths'].fillna(0)"
   ]
  },
  {
   "cell_type": "code",
   "execution_count": 314,
   "metadata": {},
   "outputs": [
    {
     "data": {
      "text/plain": [
       "array(['The past-due amount owed for the accounts on which the borrower is now delinquent.'],\n",
       "      dtype=object)"
      ]
     },
     "execution_count": 314,
     "metadata": {},
     "output_type": "execute_result"
    }
   ],
   "source": [
    "feature_desc[feature_desc['LoanStatNew']=='delinq_amnt']['Description'].values"
   ]
  },
  {
   "cell_type": "code",
   "execution_count": 315,
   "metadata": {},
   "outputs": [],
   "source": [
    "new_df_2['delinq_amnt']=new_df_2['delinq_amnt'].fillna(0)"
   ]
  },
  {
   "cell_type": "code",
   "execution_count": 316,
   "metadata": {},
   "outputs": [
    {
     "data": {
      "text/plain": [
       "array(['Months since oldest bank installment account opened'],\n",
       "      dtype=object)"
      ]
     },
     "execution_count": 316,
     "metadata": {},
     "output_type": "execute_result"
    }
   ],
   "source": [
    "feature_desc[feature_desc['LoanStatNew']=='mo_sin_old_il_acct']['Description'].values"
   ]
  },
  {
   "cell_type": "code",
   "execution_count": 317,
   "metadata": {},
   "outputs": [],
   "source": [
    "new_df_2['mo_sin_old_il_acct']=new_df_2['mo_sin_old_il_acct'].fillna(np.round(np.mean(new_df_2['mo_sin_old_il_acct']),0))"
   ]
  },
  {
   "cell_type": "code",
   "execution_count": 318,
   "metadata": {},
   "outputs": [
    {
     "data": {
      "text/plain": [
       "array(['Months since oldest revolving account opened'], dtype=object)"
      ]
     },
     "execution_count": 318,
     "metadata": {},
     "output_type": "execute_result"
    }
   ],
   "source": [
    "feature_desc[feature_desc['LoanStatNew']=='mo_sin_old_rev_tl_op']['Description'].values"
   ]
  },
  {
   "cell_type": "code",
   "execution_count": 319,
   "metadata": {},
   "outputs": [],
   "source": [
    "new_df_2['mo_sin_old_rev_tl_op']=new_df_2['mo_sin_old_rev_tl_op'].fillna(np.round(np.mean(new_df_2['mo_sin_old_rev_tl_op']),0))"
   ]
  },
  {
   "cell_type": "code",
   "execution_count": 320,
   "metadata": {},
   "outputs": [
    {
     "data": {
      "text/plain": [
       "array(['Months since most recent revolving account opened'], dtype=object)"
      ]
     },
     "execution_count": 320,
     "metadata": {},
     "output_type": "execute_result"
    }
   ],
   "source": [
    "feature_desc[feature_desc['LoanStatNew']=='mo_sin_rcnt_rev_tl_op']['Description'].values"
   ]
  },
  {
   "cell_type": "code",
   "execution_count": 321,
   "metadata": {},
   "outputs": [],
   "source": [
    "new_df_2['mo_sin_rcnt_rev_tl_op']=new_df_2['mo_sin_rcnt_rev_tl_op'].fillna(np.round(np.mean(new_df_2['mo_sin_rcnt_rev_tl_op']),0))"
   ]
  },
  {
   "cell_type": "code",
   "execution_count": 322,
   "metadata": {},
   "outputs": [
    {
     "data": {
      "text/plain": [
       "array(['Months since most recent account opened'], dtype=object)"
      ]
     },
     "execution_count": 322,
     "metadata": {},
     "output_type": "execute_result"
    }
   ],
   "source": [
    "feature_desc[feature_desc['LoanStatNew']=='mo_sin_rcnt_tl']['Description'].values"
   ]
  },
  {
   "cell_type": "code",
   "execution_count": 323,
   "metadata": {},
   "outputs": [],
   "source": [
    "new_df_2['mo_sin_rcnt_tl']=new_df_2['mo_sin_rcnt_tl'].fillna(np.round(np.mean(new_df_2['mo_sin_rcnt_tl']),0))"
   ]
  },
  {
   "cell_type": "code",
   "execution_count": 324,
   "metadata": {},
   "outputs": [
    {
     "data": {
      "text/plain": [
       "array(['Number of mortgage accounts.'], dtype=object)"
      ]
     },
     "execution_count": 324,
     "metadata": {},
     "output_type": "execute_result"
    }
   ],
   "source": [
    "feature_desc[feature_desc['LoanStatNew']=='mort_acc']['Description'].values"
   ]
  },
  {
   "cell_type": "code",
   "execution_count": 325,
   "metadata": {},
   "outputs": [],
   "source": [
    "new_df_2['mort_acc']=new_df_2['mort_acc'].fillna(np.round(np.mean(new_df_2['mort_acc']),0))"
   ]
  },
  {
   "cell_type": "markdown",
   "metadata": {},
   "source": [
    "AND once again....refresh"
   ]
  },
  {
   "cell_type": "code",
   "execution_count": 326,
   "metadata": {},
   "outputs": [],
   "source": [
    "columns_nan_4=new_df_2.columns[new_df_2.isnull().sum()!=0].values"
   ]
  },
  {
   "cell_type": "code",
   "execution_count": 327,
   "metadata": {},
   "outputs": [
    {
     "data": {
      "text/plain": [
       "25"
      ]
     },
     "execution_count": 327,
     "metadata": {},
     "output_type": "execute_result"
    }
   ],
   "source": [
    "len(columns_nan_4)"
   ]
  },
  {
   "cell_type": "code",
   "execution_count": 328,
   "metadata": {
    "scrolled": true
   },
   "outputs": [
    {
     "data": {
      "text/plain": [
       "array(['mths_since_recent_bc', 'mths_since_recent_inq',\n",
       "       'mths_since_recent_revol_delinq', 'num_accts_ever_120_pd',\n",
       "       'num_actv_bc_tl', 'num_actv_rev_tl', 'num_bc_sats', 'num_bc_tl',\n",
       "       'num_il_tl', 'num_op_rev_tl', 'num_rev_accts',\n",
       "       'num_rev_tl_bal_gt_0', 'num_sats', 'num_tl_120dpd_2m',\n",
       "       'num_tl_30dpd', 'num_tl_90g_dpd_24m', 'num_tl_op_past_12m',\n",
       "       'pct_tl_nvr_dlq', 'percent_bc_gt_75', 'pub_rec_bankruptcies',\n",
       "       'tax_liens', 'tot_hi_cred_lim', 'total_bal_ex_mort',\n",
       "       'total_bc_limit', 'total_il_high_credit_limit'], dtype=object)"
      ]
     },
     "execution_count": 328,
     "metadata": {},
     "output_type": "execute_result"
    }
   ],
   "source": [
    "columns_nan_4"
   ]
  },
  {
   "cell_type": "markdown",
   "metadata": {},
   "source": [
    "1. 'mths_since_recent_bc'. Number of months since most recent bankcard account opened. Nans replaced with mean round to nearest integer.\n",
    "2. 'mths_since_recent_inq' Number of months since most recent inquiry. Nans replaced with mean round to nearest integer.\n",
    "3. 'mths_since_recent_revol_delinq'. Number of months since most recent revolving delinquency.Nans replaced with 0\n",
    "4. 'num_accts_ever_120_pd'. Number of accounts ever 120 or more days past due. Nans replaced with 0.\n",
    "5. 'num_actv_bc_tl'. Number of currently active bankcard accounts. Nans replaced with mean round to nearest integer.\n",
    "6. 'num_actv_rev_tl' Number of currently active revolving trades.Nans replaced with mean round to nearest integer.\n",
    "7. 'num_bc_sats'.Number of satisfactory bankcard accounts. Nans replaced with mean round to nearest integer.\n",
    "8. 'num_bc_tl'.Number of bankcard accounts.  Nans replaced with mean round to nearest integer.\n",
    "9. 'num_il_tl'. Number of installment accounts. Nans replaced with mean round to nearest integer.\n",
    "10. 'num_op_rev_tl'. Number of open revolving accounts"
   ]
  },
  {
   "cell_type": "code",
   "execution_count": 329,
   "metadata": {},
   "outputs": [
    {
     "data": {
      "text/plain": [
       "array(['Months since most recent bankcard account opened.'], dtype=object)"
      ]
     },
     "execution_count": 329,
     "metadata": {},
     "output_type": "execute_result"
    }
   ],
   "source": [
    "feature_desc[feature_desc['LoanStatNew']=='mths_since_recent_bc']['Description'].values"
   ]
  },
  {
   "cell_type": "code",
   "execution_count": 340,
   "metadata": {},
   "outputs": [],
   "source": [
    "new_df_2['mths_since_recent_bc']=new_df_2['mths_since_recent_bc'].fillna(np.round(np.mean(new_df_2['mths_since_recent_bc']),0))"
   ]
  },
  {
   "cell_type": "code",
   "execution_count": 330,
   "metadata": {},
   "outputs": [
    {
     "data": {
      "text/plain": [
       "array(['Months since most recent inquiry.'], dtype=object)"
      ]
     },
     "execution_count": 330,
     "metadata": {},
     "output_type": "execute_result"
    }
   ],
   "source": [
    "feature_desc[feature_desc['LoanStatNew']=='mths_since_recent_inq']['Description'].values"
   ]
  },
  {
   "cell_type": "code",
   "execution_count": 349,
   "metadata": {},
   "outputs": [],
   "source": [
    "new_df_2['mths_since_recent_inq']=new_df_2['mths_since_recent_inq'].fillna(np.round(np.mean(new_df_2['mths_since_recent_inq']),0))"
   ]
  },
  {
   "cell_type": "code",
   "execution_count": 331,
   "metadata": {},
   "outputs": [
    {
     "data": {
      "text/plain": [
       "array(['Months since most recent revolving delinquency.'], dtype=object)"
      ]
     },
     "execution_count": 331,
     "metadata": {},
     "output_type": "execute_result"
    }
   ],
   "source": [
    "feature_desc[feature_desc['LoanStatNew']=='mths_since_recent_revol_delinq']['Description'].values"
   ]
  },
  {
   "cell_type": "code",
   "execution_count": 364,
   "metadata": {},
   "outputs": [],
   "source": [
    "new_df_2['mths_since_recent_revol_delinq']=new_df_2['mths_since_recent_revol_delinq'].fillna(0)"
   ]
  },
  {
   "cell_type": "code",
   "execution_count": 332,
   "metadata": {
    "scrolled": true
   },
   "outputs": [
    {
     "data": {
      "text/plain": [
       "array(['Number of accounts ever 120 or more days past due'], dtype=object)"
      ]
     },
     "execution_count": 332,
     "metadata": {},
     "output_type": "execute_result"
    }
   ],
   "source": [
    "feature_desc[feature_desc['LoanStatNew']=='num_accts_ever_120_pd']['Description'].values"
   ]
  },
  {
   "cell_type": "code",
   "execution_count": 347,
   "metadata": {},
   "outputs": [],
   "source": [
    "new_df_2['num_accts_ever_120_pd']=new_df_2['num_accts_ever_120_pd'].fillna(0)"
   ]
  },
  {
   "cell_type": "code",
   "execution_count": 333,
   "metadata": {},
   "outputs": [
    {
     "data": {
      "text/plain": [
       "array(['Number of currently active bankcard accounts'], dtype=object)"
      ]
     },
     "execution_count": 333,
     "metadata": {},
     "output_type": "execute_result"
    }
   ],
   "source": [
    "feature_desc[feature_desc['LoanStatNew']=='num_actv_bc_tl']['Description'].values"
   ]
  },
  {
   "cell_type": "code",
   "execution_count": 350,
   "metadata": {},
   "outputs": [],
   "source": [
    "new_df_2['num_actv_bc_tl']=new_df_2['num_actv_bc_tl'].fillna(np.round(np.mean(new_df_2['mths_since_recent_inq']),0))"
   ]
  },
  {
   "cell_type": "code",
   "execution_count": 334,
   "metadata": {},
   "outputs": [
    {
     "data": {
      "text/plain": [
       "array(['Number of currently active revolving trades'], dtype=object)"
      ]
     },
     "execution_count": 334,
     "metadata": {},
     "output_type": "execute_result"
    }
   ],
   "source": [
    "feature_desc[feature_desc['LoanStatNew']=='num_actv_rev_tl']['Description'].values"
   ]
  },
  {
   "cell_type": "code",
   "execution_count": 352,
   "metadata": {},
   "outputs": [],
   "source": [
    "new_df_2['num_actv_rev_tl']=new_df_2['num_actv_rev_tl'].fillna(np.round(np.mean(new_df_2['num_actv_rev_tl']),0))"
   ]
  },
  {
   "cell_type": "code",
   "execution_count": 335,
   "metadata": {},
   "outputs": [
    {
     "data": {
      "text/plain": [
       "array(['Number of satisfactory bankcard accounts'], dtype=object)"
      ]
     },
     "execution_count": 335,
     "metadata": {},
     "output_type": "execute_result"
    }
   ],
   "source": [
    "feature_desc[feature_desc['LoanStatNew']=='num_bc_sats']['Description'].values"
   ]
  },
  {
   "cell_type": "code",
   "execution_count": 354,
   "metadata": {},
   "outputs": [],
   "source": [
    "new_df_2['num_bc_sats']=new_df_2['num_bc_sats'].fillna(np.round(np.mean(new_df_2['num_bc_sats']),0))"
   ]
  },
  {
   "cell_type": "code",
   "execution_count": 336,
   "metadata": {},
   "outputs": [
    {
     "data": {
      "text/plain": [
       "array(['Number of bankcard accounts'], dtype=object)"
      ]
     },
     "execution_count": 336,
     "metadata": {},
     "output_type": "execute_result"
    }
   ],
   "source": [
    "feature_desc[feature_desc['LoanStatNew']=='num_bc_tl']['Description'].values"
   ]
  },
  {
   "cell_type": "code",
   "execution_count": 356,
   "metadata": {},
   "outputs": [],
   "source": [
    "new_df_2['num_bc_tl']=new_df_2['num_bc_tl'].fillna(np.round(np.mean(new_df_2['num_bc_tl']),0))"
   ]
  },
  {
   "cell_type": "code",
   "execution_count": 337,
   "metadata": {},
   "outputs": [
    {
     "data": {
      "text/plain": [
       "array(['Number of installment accounts'], dtype=object)"
      ]
     },
     "execution_count": 337,
     "metadata": {},
     "output_type": "execute_result"
    }
   ],
   "source": [
    "feature_desc[feature_desc['LoanStatNew']=='num_il_tl']['Description'].values"
   ]
  },
  {
   "cell_type": "code",
   "execution_count": 358,
   "metadata": {},
   "outputs": [],
   "source": [
    "new_df_2['num_il_tl']=new_df_2['num_il_tl'].fillna(np.round(np.mean(new_df_2['num_il_tl']),0))"
   ]
  },
  {
   "cell_type": "code",
   "execution_count": 338,
   "metadata": {},
   "outputs": [
    {
     "data": {
      "text/plain": [
       "array(['Number of open revolving accounts'], dtype=object)"
      ]
     },
     "execution_count": 338,
     "metadata": {},
     "output_type": "execute_result"
    }
   ],
   "source": [
    "feature_desc[feature_desc['LoanStatNew']=='num_op_rev_tl']['Description'].values"
   ]
  },
  {
   "cell_type": "code",
   "execution_count": 359,
   "metadata": {},
   "outputs": [],
   "source": [
    "new_df_2['num_op_rev_tl']=new_df_2['num_op_rev_tl'].fillna(np.round(np.mean(new_df_2['num_op_rev_tl']),0))"
   ]
  },
  {
   "cell_type": "markdown",
   "metadata": {},
   "source": [
    "This will be the last refresh of them all........."
   ]
  },
  {
   "cell_type": "code",
   "execution_count": 365,
   "metadata": {},
   "outputs": [],
   "source": [
    "columns_nan_5=new_df_2.columns[new_df_2.isnull().sum()!=0].values"
   ]
  },
  {
   "cell_type": "code",
   "execution_count": 366,
   "metadata": {},
   "outputs": [
    {
     "data": {
      "text/plain": [
       "15"
      ]
     },
     "execution_count": 366,
     "metadata": {},
     "output_type": "execute_result"
    }
   ],
   "source": [
    "len(columns_nan_5)"
   ]
  },
  {
   "cell_type": "code",
   "execution_count": 367,
   "metadata": {
    "scrolled": true
   },
   "outputs": [
    {
     "data": {
      "text/plain": [
       "array(['num_rev_accts', 'num_rev_tl_bal_gt_0', 'num_sats',\n",
       "       'num_tl_120dpd_2m', 'num_tl_30dpd', 'num_tl_90g_dpd_24m',\n",
       "       'num_tl_op_past_12m', 'pct_tl_nvr_dlq', 'percent_bc_gt_75',\n",
       "       'pub_rec_bankruptcies', 'tax_liens', 'tot_hi_cred_lim',\n",
       "       'total_bal_ex_mort', 'total_bc_limit',\n",
       "       'total_il_high_credit_limit'], dtype=object)"
      ]
     },
     "execution_count": 367,
     "metadata": {},
     "output_type": "execute_result"
    }
   ],
   "source": [
    "columns_nan_5"
   ]
  },
  {
   "cell_type": "markdown",
   "metadata": {},
   "source": [
    "1. 'num_rev_accts'. This is the number of revolving accounts per borrower. Nans replaced with mean rounded to nearest integer.\n",
    "2. 'num_rev_tl_bal_gt_0'. Number of revolving trades with balance >0. Nans replaced with mean rounded to nearest integer.\n",
    "3. 'num_sats'. Number of satisfactoy accounts.  Nans replaced with mean rounded to nearest integer. \n",
    "4. 'num_tl_120dpd_2m'. Number of accounts currently 120 days past due (updated in past 2 months). Nans replaced with 0.\n",
    "5. 'num_tl_30dpd'.Number of accounts currently 30 days past due (updated in past 2 months).Nans replaced with 0.\n",
    "6. 'num_tl_90g_dpd_24m'. Number of accounts 90 or more days past due in last 24 months. Nans replaced with 0.\n",
    "7. 'num_tl_op_past_12m'. Number of accounts opened in past 12 months.Nans replaced with mean rounded to nearest integer.\n",
    "8. 'pct_tl_nvr_dlq'. Percent of trades never delinquent. Nans replaced with mean.\n",
    "9. 'percent_bc_gt_75'.Percentage of all bankcard accounts > 75% of limit.Nans replaced with mean.\n",
    "10. 'pub_rec_bankruptcies'.Number of public record bankruptcies. Nans replaced with 0.\n",
    "11. 'tax_liens'. Number of tax liens. Nans replaced with 0.\n",
    "12. 'tot_hi_cred_lim'. Total high credit/credit limit. Nans replaced with mean.\n",
    "13. 'total_bal_ex_mort'. Total credit balance excluding mortgage.Nans replaced with mean.\n",
    "14. 'total_bc_limit'. Total bankcard high credit/credit limit. Nans replaced with mean.\n",
    "15. 'total_il_high_credit_limit'. Total installment high credit/credit limit. Nans replaced with mean."
   ]
  },
  {
   "cell_type": "code",
   "execution_count": 368,
   "metadata": {},
   "outputs": [
    {
     "data": {
      "text/plain": [
       "array(['Number of revolving accounts'], dtype=object)"
      ]
     },
     "execution_count": 368,
     "metadata": {},
     "output_type": "execute_result"
    }
   ],
   "source": [
    "feature_desc[feature_desc['LoanStatNew']=='num_rev_accts']['Description'].values"
   ]
  },
  {
   "cell_type": "code",
   "execution_count": 371,
   "metadata": {},
   "outputs": [],
   "source": [
    "new_df_2['num_rev_accts']=new_df_2['num_rev_accts'].fillna(np.round(np.mean(new_df_2['num_rev_accts']),0))"
   ]
  },
  {
   "cell_type": "code",
   "execution_count": 372,
   "metadata": {},
   "outputs": [
    {
     "data": {
      "text/plain": [
       "array(['Number of revolving trades with balance >0'], dtype=object)"
      ]
     },
     "execution_count": 372,
     "metadata": {},
     "output_type": "execute_result"
    }
   ],
   "source": [
    "feature_desc[feature_desc['LoanStatNew']=='num_rev_tl_bal_gt_0']['Description'].values"
   ]
  },
  {
   "cell_type": "code",
   "execution_count": 374,
   "metadata": {},
   "outputs": [],
   "source": [
    "new_df_2['num_rev_tl_bal_gt_0']=new_df_2['num_rev_tl_bal_gt_0'].fillna(np.round(np.mean(new_df_2['num_rev_tl_bal_gt_0']),0))"
   ]
  },
  {
   "cell_type": "code",
   "execution_count": 375,
   "metadata": {},
   "outputs": [
    {
     "data": {
      "text/plain": [
       "array(['Number of satisfactory accounts'], dtype=object)"
      ]
     },
     "execution_count": 375,
     "metadata": {},
     "output_type": "execute_result"
    }
   ],
   "source": [
    "feature_desc[feature_desc['LoanStatNew']=='num_sats']['Description'].values"
   ]
  },
  {
   "cell_type": "code",
   "execution_count": 377,
   "metadata": {},
   "outputs": [],
   "source": [
    "new_df_2['num_sats']=new_df_2['num_sats'].fillna(np.round(np.mean(new_df_2['num_sats']),0))"
   ]
  },
  {
   "cell_type": "code",
   "execution_count": 378,
   "metadata": {},
   "outputs": [
    {
     "data": {
      "text/plain": [
       "array(['Number of accounts currently 120 days past due (updated in past 2 months)'],\n",
       "      dtype=object)"
      ]
     },
     "execution_count": 378,
     "metadata": {},
     "output_type": "execute_result"
    }
   ],
   "source": [
    "feature_desc[feature_desc['LoanStatNew']=='num_tl_120dpd_2m']['Description'].values"
   ]
  },
  {
   "cell_type": "code",
   "execution_count": 419,
   "metadata": {},
   "outputs": [],
   "source": [
    "new_df_2['num_tl_120dpd_2m']=new_df_2['num_tl_120dpd_2m'].fillna(0)"
   ]
  },
  {
   "cell_type": "code",
   "execution_count": 381,
   "metadata": {},
   "outputs": [
    {
     "data": {
      "text/plain": [
       "array(['Number of accounts currently 30 days past due (updated in past 2 months)'],\n",
       "      dtype=object)"
      ]
     },
     "execution_count": 381,
     "metadata": {},
     "output_type": "execute_result"
    }
   ],
   "source": [
    "feature_desc[feature_desc['LoanStatNew']=='num_tl_30dpd']['Description'].values"
   ]
  },
  {
   "cell_type": "code",
   "execution_count": 384,
   "metadata": {},
   "outputs": [],
   "source": [
    "new_df_2['num_tl_30dpd']=new_df_2['num_tl_30dpd'].fillna(0)"
   ]
  },
  {
   "cell_type": "code",
   "execution_count": 385,
   "metadata": {},
   "outputs": [
    {
     "data": {
      "text/plain": [
       "array(['Number of accounts 90 or more days past due in last 24 months'],\n",
       "      dtype=object)"
      ]
     },
     "execution_count": 385,
     "metadata": {},
     "output_type": "execute_result"
    }
   ],
   "source": [
    "feature_desc[feature_desc['LoanStatNew']=='num_tl_90g_dpd_24m']['Description'].values"
   ]
  },
  {
   "cell_type": "code",
   "execution_count": 387,
   "metadata": {},
   "outputs": [],
   "source": [
    "new_df_2['num_tl_90g_dpd_24m']=new_df_2['num_tl_90g_dpd_24m'].fillna(0)"
   ]
  },
  {
   "cell_type": "code",
   "execution_count": 388,
   "metadata": {},
   "outputs": [
    {
     "data": {
      "text/plain": [
       "array(['Number of accounts opened in past 12 months'], dtype=object)"
      ]
     },
     "execution_count": 388,
     "metadata": {},
     "output_type": "execute_result"
    }
   ],
   "source": [
    "feature_desc[feature_desc['LoanStatNew']=='num_tl_op_past_12m']['Description'].values"
   ]
  },
  {
   "cell_type": "code",
   "execution_count": 390,
   "metadata": {},
   "outputs": [],
   "source": [
    "new_df_2['num_tl_op_past_12m']=new_df_2['num_tl_op_past_12m'].fillna(np.round(np.mean(new_df_2['num_tl_op_past_12m']),0))"
   ]
  },
  {
   "cell_type": "code",
   "execution_count": 391,
   "metadata": {},
   "outputs": [
    {
     "data": {
      "text/plain": [
       "array(['Percent of trades never delinquent'], dtype=object)"
      ]
     },
     "execution_count": 391,
     "metadata": {},
     "output_type": "execute_result"
    }
   ],
   "source": [
    "feature_desc[feature_desc['LoanStatNew']=='pct_tl_nvr_dlq']['Description'].values"
   ]
  },
  {
   "cell_type": "code",
   "execution_count": 397,
   "metadata": {},
   "outputs": [],
   "source": [
    "new_df_2['pct_tl_nvr_dlq']=new_df_2['pct_tl_nvr_dlq'].fillna(np.mean(new_df_2['pct_tl_nvr_dlq']))"
   ]
  },
  {
   "cell_type": "code",
   "execution_count": 398,
   "metadata": {},
   "outputs": [
    {
     "data": {
      "text/plain": [
       "array(['Percentage of all bankcard accounts > 75% of limit.'],\n",
       "      dtype=object)"
      ]
     },
     "execution_count": 398,
     "metadata": {},
     "output_type": "execute_result"
    }
   ],
   "source": [
    "feature_desc[feature_desc['LoanStatNew']=='percent_bc_gt_75']['Description'].values"
   ]
  },
  {
   "cell_type": "code",
   "execution_count": 399,
   "metadata": {},
   "outputs": [],
   "source": [
    "new_df_2['percent_bc_gt_75']=new_df_2['percent_bc_gt_75'].fillna(np.mean(new_df_2['percent_bc_gt_75']))"
   ]
  },
  {
   "cell_type": "code",
   "execution_count": 400,
   "metadata": {},
   "outputs": [
    {
     "data": {
      "text/plain": [
       "array(['Number of public record bankruptcies'], dtype=object)"
      ]
     },
     "execution_count": 400,
     "metadata": {},
     "output_type": "execute_result"
    }
   ],
   "source": [
    "feature_desc[feature_desc['LoanStatNew']=='pub_rec_bankruptcies']['Description'].values"
   ]
  },
  {
   "cell_type": "code",
   "execution_count": 402,
   "metadata": {},
   "outputs": [],
   "source": [
    "new_df_2['pub_rec_bankruptcies']=new_df_2['pub_rec_bankruptcies'].fillna(0)"
   ]
  },
  {
   "cell_type": "code",
   "execution_count": 403,
   "metadata": {},
   "outputs": [
    {
     "data": {
      "text/plain": [
       "array(['Number of tax liens'], dtype=object)"
      ]
     },
     "execution_count": 403,
     "metadata": {},
     "output_type": "execute_result"
    }
   ],
   "source": [
    "feature_desc[feature_desc['LoanStatNew']=='tax_liens']['Description'].values"
   ]
  },
  {
   "cell_type": "code",
   "execution_count": 405,
   "metadata": {},
   "outputs": [],
   "source": [
    "new_df_2['tax_liens']=new_df_2['tax_liens'].fillna(0)"
   ]
  },
  {
   "cell_type": "code",
   "execution_count": 406,
   "metadata": {},
   "outputs": [
    {
     "data": {
      "text/plain": [
       "array(['Total high credit/credit limit'], dtype=object)"
      ]
     },
     "execution_count": 406,
     "metadata": {},
     "output_type": "execute_result"
    }
   ],
   "source": [
    "feature_desc[feature_desc['LoanStatNew']=='tot_hi_cred_lim']['Description'].values"
   ]
  },
  {
   "cell_type": "code",
   "execution_count": 407,
   "metadata": {},
   "outputs": [],
   "source": [
    "new_df_2['tot_hi_cred_lim']=new_df_2['tot_hi_cred_lim'].fillna(np.mean(new_df_2['tot_hi_cred_lim']))"
   ]
  },
  {
   "cell_type": "code",
   "execution_count": 408,
   "metadata": {},
   "outputs": [
    {
     "data": {
      "text/plain": [
       "array(['Total credit balance excluding mortgage'], dtype=object)"
      ]
     },
     "execution_count": 408,
     "metadata": {},
     "output_type": "execute_result"
    }
   ],
   "source": [
    "feature_desc[feature_desc['LoanStatNew']=='total_bal_ex_mort']['Description'].values"
   ]
  },
  {
   "cell_type": "code",
   "execution_count": 411,
   "metadata": {},
   "outputs": [],
   "source": [
    "new_df_2['total_bal_ex_mort']=new_df_2['total_bal_ex_mort'].fillna(np.mean(new_df_2['total_bal_ex_mort']))"
   ]
  },
  {
   "cell_type": "code",
   "execution_count": 412,
   "metadata": {},
   "outputs": [
    {
     "data": {
      "text/plain": [
       "array(['Total bankcard high credit/credit limit'], dtype=object)"
      ]
     },
     "execution_count": 412,
     "metadata": {},
     "output_type": "execute_result"
    }
   ],
   "source": [
    "feature_desc[feature_desc['LoanStatNew']=='total_bc_limit']['Description'].values"
   ]
  },
  {
   "cell_type": "code",
   "execution_count": 413,
   "metadata": {},
   "outputs": [],
   "source": [
    "new_df_2['total_bc_limit']=new_df_2['total_bc_limit'].fillna(np.mean(new_df_2['total_bc_limit']))"
   ]
  },
  {
   "cell_type": "code",
   "execution_count": 414,
   "metadata": {},
   "outputs": [
    {
     "data": {
      "text/plain": [
       "array(['Total installment high credit/credit limit'], dtype=object)"
      ]
     },
     "execution_count": 414,
     "metadata": {},
     "output_type": "execute_result"
    }
   ],
   "source": [
    "feature_desc[feature_desc['LoanStatNew']=='total_il_high_credit_limit']['Description'].values"
   ]
  },
  {
   "cell_type": "code",
   "execution_count": 415,
   "metadata": {},
   "outputs": [],
   "source": [
    "new_df_2['total_il_high_credit_limit']=new_df_2['total_il_high_credit_limit'].fillna(np.mean(new_df_2['total_il_high_credit_limit']))"
   ]
  },
  {
   "cell_type": "markdown",
   "metadata": {},
   "source": [
    "Let's do a final test to ensure that there are no Nan values in our data."
   ]
  },
  {
   "cell_type": "code",
   "execution_count": 420,
   "metadata": {},
   "outputs": [
    {
     "data": {
      "text/plain": [
       "Index([], dtype='object')"
      ]
     },
     "execution_count": 420,
     "metadata": {},
     "output_type": "execute_result"
    }
   ],
   "source": [
    "new_df_2.columns[new_df_2.isnull().sum()!=0]"
   ]
  },
  {
   "cell_type": "markdown",
   "metadata": {},
   "source": [
    "All our columns contating values and there were no evident outliers detected that were signicant enough to remove."
   ]
  },
  {
   "cell_type": "code",
   "execution_count": 422,
   "metadata": {},
   "outputs": [],
   "source": [
    "final_df=new_df_2"
   ]
  },
  {
   "cell_type": "code",
   "execution_count": 423,
   "metadata": {},
   "outputs": [],
   "source": [
    "final_df.to_csv(\"C:\\\\Users\\\\yfawz\\\\OneDrive\\\\Desktop\\\\load_default_prediction\\\\data\\\\processed\\\\loan_wrangled.csv\")"
   ]
  }
 ],
 "metadata": {
  "kernelspec": {
   "display_name": "Python 3",
   "language": "python",
   "name": "python3"
  },
  "language_info": {
   "codemirror_mode": {
    "name": "ipython",
    "version": 3
   },
   "file_extension": ".py",
   "mimetype": "text/x-python",
   "name": "python",
   "nbconvert_exporter": "python",
   "pygments_lexer": "ipython3",
   "version": "3.7.3"
  }
 },
 "nbformat": 4,
 "nbformat_minor": 2
}
