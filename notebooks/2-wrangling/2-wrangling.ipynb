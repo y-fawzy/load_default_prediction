{
 "cells": [
  {
   "cell_type": "code",
   "execution_count": 1,
   "metadata": {},
   "outputs": [],
   "source": [
    "import pandas as pd\n",
    "import numpy as np"
   ]
  },
  {
   "cell_type": "code",
   "execution_count": 2,
   "metadata": {},
   "outputs": [],
   "source": [
    "loan_data=pd.read_csv(\"C:\\\\Users\\\\yfawz\\\\OneDrive\\\\Desktop\\\\capstone_2\\\\data\\\\raw\\\\loan.csv\", low_memory=False)"
   ]
  },
  {
   "cell_type": "code",
   "execution_count": 3,
   "metadata": {},
   "outputs": [],
   "source": [
    "feature_desc=pd.read_excel(\"C:\\\\Users\\\\yfawz\\\\OneDrive\\\\Desktop\\\\capstone_2\\\\data\\\\raw\\\\LCDataDictionary.xlsx\")"
   ]
  },
  {
   "cell_type": "code",
   "execution_count": 4,
   "metadata": {},
   "outputs": [
    {
     "data": {
      "text/plain": [
       "id                                            2260668\n",
       "member_id                                     2260668\n",
       "loan_amnt                                           0\n",
       "funded_amnt                                         0\n",
       "funded_amnt_inv                                     0\n",
       "term                                                0\n",
       "int_rate                                            0\n",
       "installment                                         0\n",
       "grade                                               0\n",
       "sub_grade                                           0\n",
       "emp_title                                      166969\n",
       "emp_length                                     146907\n",
       "home_ownership                                      0\n",
       "annual_inc                                          4\n",
       "verification_status                                 0\n",
       "issue_d                                             0\n",
       "loan_status                                         0\n",
       "pymnt_plan                                          0\n",
       "url                                           2260668\n",
       "desc                                          2134601\n",
       "purpose                                             0\n",
       "title                                           23325\n",
       "zip_code                                            1\n",
       "addr_state                                          0\n",
       "dti                                              1711\n",
       "delinq_2yrs                                        29\n",
       "earliest_cr_line                                   29\n",
       "inq_last_6mths                                     30\n",
       "mths_since_last_delinq                        1158502\n",
       "mths_since_last_record                        1901512\n",
       "                                               ...   \n",
       "sec_app_open_acc                              2152647\n",
       "sec_app_revol_util                            2154484\n",
       "sec_app_open_act_il                           2152647\n",
       "sec_app_num_rev_accts                         2152647\n",
       "sec_app_chargeoff_within_12_mths              2152647\n",
       "sec_app_collections_12_mths_ex_med            2152647\n",
       "sec_app_mths_since_last_major_derog           2224726\n",
       "hardship_flag                                       0\n",
       "hardship_type                                 2250055\n",
       "hardship_reason                               2250055\n",
       "hardship_status                               2250055\n",
       "deferral_term                                 2250055\n",
       "hardship_amount                               2250055\n",
       "hardship_start_date                           2250055\n",
       "hardship_end_date                             2250055\n",
       "payment_plan_start_date                       2250055\n",
       "hardship_length                               2250055\n",
       "hardship_dpd                                  2250055\n",
       "hardship_loan_status                          2250055\n",
       "orig_projected_additional_accrued_interest    2252242\n",
       "hardship_payoff_balance_amount                2250055\n",
       "hardship_last_payment_amount                  2250055\n",
       "disbursement_method                                 0\n",
       "debt_settlement_flag                                0\n",
       "debt_settlement_flag_date                     2227612\n",
       "settlement_status                             2227612\n",
       "settlement_date                               2227612\n",
       "settlement_amount                             2227612\n",
       "settlement_percentage                         2227612\n",
       "settlement_term                               2227612\n",
       "Length: 145, dtype: int64"
      ]
     },
     "execution_count": 4,
     "metadata": {},
     "output_type": "execute_result"
    }
   ],
   "source": [
    "loan_data.isnull().sum()"
   ]
  },
  {
   "cell_type": "code",
   "execution_count": 17,
   "metadata": {},
   "outputs": [
    {
     "data": {
      "text/plain": [
       "array(['id', 'member_id', 'loan_amnt', 'funded_amnt', 'funded_amnt_inv',\n",
       "       'term', 'int_rate', 'installment', 'grade', 'sub_grade',\n",
       "       'emp_title', 'emp_length', 'home_ownership', 'annual_inc',\n",
       "       'verification_status', 'issue_d', 'loan_status', 'pymnt_plan',\n",
       "       'url', 'desc', 'purpose', 'title', 'zip_code', 'addr_state', 'dti',\n",
       "       'delinq_2yrs', 'earliest_cr_line', 'inq_last_6mths',\n",
       "       'mths_since_last_delinq', 'mths_since_last_record', 'open_acc',\n",
       "       'pub_rec', 'revol_bal', 'revol_util', 'total_acc',\n",
       "       'initial_list_status', 'out_prncp', 'out_prncp_inv', 'total_pymnt',\n",
       "       'total_pymnt_inv', 'total_rec_prncp', 'total_rec_int',\n",
       "       'total_rec_late_fee', 'recoveries', 'collection_recovery_fee',\n",
       "       'last_pymnt_d', 'last_pymnt_amnt', 'next_pymnt_d',\n",
       "       'last_credit_pull_d', 'collections_12_mths_ex_med',\n",
       "       'mths_since_last_major_derog', 'policy_code', 'application_type',\n",
       "       'annual_inc_joint', 'dti_joint', 'verification_status_joint',\n",
       "       'acc_now_delinq', 'tot_coll_amt', 'tot_cur_bal', 'open_acc_6m',\n",
       "       'open_act_il', 'open_il_12m', 'open_il_24m', 'mths_since_rcnt_il',\n",
       "       'total_bal_il', 'il_util', 'open_rv_12m', 'open_rv_24m',\n",
       "       'max_bal_bc', 'all_util', 'total_rev_hi_lim', 'inq_fi',\n",
       "       'total_cu_tl', 'inq_last_12m', 'acc_open_past_24mths',\n",
       "       'avg_cur_bal', 'bc_open_to_buy', 'bc_util',\n",
       "       'chargeoff_within_12_mths', 'delinq_amnt', 'mo_sin_old_il_acct',\n",
       "       'mo_sin_old_rev_tl_op', 'mo_sin_rcnt_rev_tl_op', 'mo_sin_rcnt_tl',\n",
       "       'mort_acc', 'mths_since_recent_bc', 'mths_since_recent_bc_dlq',\n",
       "       'mths_since_recent_inq', 'mths_since_recent_revol_delinq',\n",
       "       'num_accts_ever_120_pd', 'num_actv_bc_tl', 'num_actv_rev_tl',\n",
       "       'num_bc_sats', 'num_bc_tl', 'num_il_tl', 'num_op_rev_tl',\n",
       "       'num_rev_accts', 'num_rev_tl_bal_gt_0', 'num_sats',\n",
       "       'num_tl_120dpd_2m', 'num_tl_30dpd', 'num_tl_90g_dpd_24m',\n",
       "       'num_tl_op_past_12m', 'pct_tl_nvr_dlq', 'percent_bc_gt_75',\n",
       "       'pub_rec_bankruptcies', 'tax_liens', 'tot_hi_cred_lim',\n",
       "       'total_bal_ex_mort', 'total_bc_limit',\n",
       "       'total_il_high_credit_limit', 'revol_bal_joint',\n",
       "       'sec_app_earliest_cr_line', 'sec_app_inq_last_6mths',\n",
       "       'sec_app_mort_acc', 'sec_app_open_acc', 'sec_app_revol_util',\n",
       "       'sec_app_open_act_il', 'sec_app_num_rev_accts',\n",
       "       'sec_app_chargeoff_within_12_mths',\n",
       "       'sec_app_collections_12_mths_ex_med',\n",
       "       'sec_app_mths_since_last_major_derog', 'hardship_flag',\n",
       "       'hardship_type', 'hardship_reason', 'hardship_status',\n",
       "       'deferral_term', 'hardship_amount', 'hardship_start_date',\n",
       "       'hardship_end_date', 'payment_plan_start_date', 'hardship_length',\n",
       "       'hardship_dpd', 'hardship_loan_status',\n",
       "       'orig_projected_additional_accrued_interest',\n",
       "       'hardship_payoff_balance_amount', 'hardship_last_payment_amount',\n",
       "       'disbursement_method', 'debt_settlement_flag',\n",
       "       'debt_settlement_flag_date', 'settlement_status',\n",
       "       'settlement_date', 'settlement_amount', 'settlement_percentage',\n",
       "       'settlement_term'], dtype=object)"
      ]
     },
     "execution_count": 17,
     "metadata": {},
     "output_type": "execute_result"
    }
   ],
   "source": [
    "loan_data.columns.values"
   ]
  },
  {
   "cell_type": "markdown",
   "metadata": {},
   "source": [
    "There are features in this dataset that are not required, so let's remove examine which ones we need and not, one by one"
   ]
  },
  {
   "cell_type": "code",
   "execution_count": 6,
   "metadata": {},
   "outputs": [],
   "source": [
    "#set up new dataframe\n",
    "loan_data_new=loan_data.copy()"
   ]
  },
  {
   "cell_type": "markdown",
   "metadata": {},
   "source": [
    "The following is a summary containing an explanation for each feature and reason for removing or retaining features:\n",
    "1. 'id', 'member_id' as these are all Nan and are just identifiers with no value to solving our problem.\n",
    "2. loan_amnt', 'funded_amnt', 'funded_amnt_inv',\n",
    "       'term', 'int_rate', 'installment', 'grade', 'sub_grade',\n",
    "       'emp_title', 'emp_length', 'home_ownership', 'annual_inc' will be useful in predicting default. \n",
    "2. Verification status does not have an impact on whether a loan defaults or not as seen in the eda section.\n",
    "3. Issue date, payment plan & url will not aid in predicting default loans\n",
    "4."
   ]
  },
  {
   "cell_type": "code",
   "execution_count": 14,
   "metadata": {},
   "outputs": [],
   "source": [
    "loan_data_new=loan_data_new.drop(['id','member_id'], axis=1)"
   ]
  },
  {
   "cell_type": "code",
   "execution_count": 20,
   "metadata": {},
   "outputs": [
    {
     "data": {
      "text/plain": [
       "array([['verification_status',\n",
       "        'Indicates if income was verified by LC, not verified, or if the income source was verified']],\n",
       "      dtype=object)"
      ]
     },
     "execution_count": 20,
     "metadata": {},
     "output_type": "execute_result"
    }
   ],
   "source": [
    "feature_desc[feature_desc['LoanStatNew']=='verification_status'].values"
   ]
  }
 ],
 "metadata": {
  "kernelspec": {
   "display_name": "Python 3",
   "language": "python",
   "name": "python3"
  },
  "language_info": {
   "codemirror_mode": {
    "name": "ipython",
    "version": 3
   },
   "file_extension": ".py",
   "mimetype": "text/x-python",
   "name": "python",
   "nbconvert_exporter": "python",
   "pygments_lexer": "ipython3",
   "version": "3.7.3"
  }
 },
 "nbformat": 4,
 "nbformat_minor": 2
}
