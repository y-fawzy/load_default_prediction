{
 "cells": [
  {
   "cell_type": "markdown",
   "metadata": {},
   "source": [
    "# 2-Wrangling\n",
    "\n",
    "This sections aims to deal with outliers and missing data."
   ]
  },
  {
   "cell_type": "code",
   "execution_count": 8,
   "metadata": {},
   "outputs": [],
   "source": [
    "import pandas as pd\n",
    "import numpy as np\n",
    "from sklearn.model_selection import train_test_split \n",
    "import pickle"
   ]
  },
  {
   "cell_type": "code",
   "execution_count": 6,
   "metadata": {},
   "outputs": [],
   "source": [
    "loan_data=pd.read_csv(\"C:\\\\Users\\\\yfawz\\\\OneDrive\\\\Desktop\\\\load_default_prediction\\\\data\\\\raw\\\\loan.csv\", low_memory=False)"
   ]
  },
  {
   "cell_type": "code",
   "execution_count": 7,
   "metadata": {},
   "outputs": [],
   "source": [
    "feature_desc=pd.read_excel(\"C:\\\\Users\\\\yfawz\\\\OneDrive\\\\Desktop\\\\load_default_prediction\\\\data\\\\raw\\\\LCDataDictionary.xlsx\")"
   ]
  },
  {
   "cell_type": "code",
   "execution_count": 9,
   "metadata": {},
   "outputs": [
    {
     "data": {
      "text/plain": [
       "id                                            2260668\n",
       "member_id                                     2260668\n",
       "loan_amnt                                           0\n",
       "funded_amnt                                         0\n",
       "funded_amnt_inv                                     0\n",
       "term                                                0\n",
       "int_rate                                            0\n",
       "installment                                         0\n",
       "grade                                               0\n",
       "sub_grade                                           0\n",
       "emp_title                                      166969\n",
       "emp_length                                     146907\n",
       "home_ownership                                      0\n",
       "annual_inc                                          4\n",
       "verification_status                                 0\n",
       "issue_d                                             0\n",
       "loan_status                                         0\n",
       "pymnt_plan                                          0\n",
       "url                                           2260668\n",
       "desc                                          2134601\n",
       "purpose                                             0\n",
       "title                                           23325\n",
       "zip_code                                            1\n",
       "addr_state                                          0\n",
       "dti                                              1711\n",
       "delinq_2yrs                                        29\n",
       "earliest_cr_line                                   29\n",
       "inq_last_6mths                                     30\n",
       "mths_since_last_delinq                        1158502\n",
       "mths_since_last_record                        1901512\n",
       "                                               ...   \n",
       "sec_app_open_acc                              2152647\n",
       "sec_app_revol_util                            2154484\n",
       "sec_app_open_act_il                           2152647\n",
       "sec_app_num_rev_accts                         2152647\n",
       "sec_app_chargeoff_within_12_mths              2152647\n",
       "sec_app_collections_12_mths_ex_med            2152647\n",
       "sec_app_mths_since_last_major_derog           2224726\n",
       "hardship_flag                                       0\n",
       "hardship_type                                 2250055\n",
       "hardship_reason                               2250055\n",
       "hardship_status                               2250055\n",
       "deferral_term                                 2250055\n",
       "hardship_amount                               2250055\n",
       "hardship_start_date                           2250055\n",
       "hardship_end_date                             2250055\n",
       "payment_plan_start_date                       2250055\n",
       "hardship_length                               2250055\n",
       "hardship_dpd                                  2250055\n",
       "hardship_loan_status                          2250055\n",
       "orig_projected_additional_accrued_interest    2252242\n",
       "hardship_payoff_balance_amount                2250055\n",
       "hardship_last_payment_amount                  2250055\n",
       "disbursement_method                                 0\n",
       "debt_settlement_flag                                0\n",
       "debt_settlement_flag_date                     2227612\n",
       "settlement_status                             2227612\n",
       "settlement_date                               2227612\n",
       "settlement_amount                             2227612\n",
       "settlement_percentage                         2227612\n",
       "settlement_term                               2227612\n",
       "Length: 145, dtype: int64"
      ]
     },
     "execution_count": 9,
     "metadata": {},
     "output_type": "execute_result"
    }
   ],
   "source": [
    "loan_data.isnull().sum()"
   ]
  },
  {
   "cell_type": "code",
   "execution_count": 10,
   "metadata": {},
   "outputs": [
    {
     "data": {
      "text/plain": [
       "array(['id', 'member_id', 'loan_amnt', 'funded_amnt', 'funded_amnt_inv',\n",
       "       'term', 'int_rate', 'installment', 'grade', 'sub_grade',\n",
       "       'emp_title', 'emp_length', 'home_ownership', 'annual_inc',\n",
       "       'verification_status', 'issue_d', 'loan_status', 'pymnt_plan',\n",
       "       'url', 'desc', 'purpose', 'title', 'zip_code', 'addr_state', 'dti',\n",
       "       'delinq_2yrs', 'earliest_cr_line', 'inq_last_6mths',\n",
       "       'mths_since_last_delinq', 'mths_since_last_record', 'open_acc',\n",
       "       'pub_rec', 'revol_bal', 'revol_util', 'total_acc',\n",
       "       'initial_list_status', 'out_prncp', 'out_prncp_inv', 'total_pymnt',\n",
       "       'total_pymnt_inv', 'total_rec_prncp', 'total_rec_int',\n",
       "       'total_rec_late_fee', 'recoveries', 'collection_recovery_fee',\n",
       "       'last_pymnt_d', 'last_pymnt_amnt', 'next_pymnt_d',\n",
       "       'last_credit_pull_d', 'collections_12_mths_ex_med',\n",
       "       'mths_since_last_major_derog', 'policy_code', 'application_type',\n",
       "       'annual_inc_joint', 'dti_joint', 'verification_status_joint',\n",
       "       'acc_now_delinq', 'tot_coll_amt', 'tot_cur_bal', 'open_acc_6m',\n",
       "       'open_act_il', 'open_il_12m', 'open_il_24m', 'mths_since_rcnt_il',\n",
       "       'total_bal_il', 'il_util', 'open_rv_12m', 'open_rv_24m',\n",
       "       'max_bal_bc', 'all_util', 'total_rev_hi_lim', 'inq_fi',\n",
       "       'total_cu_tl', 'inq_last_12m', 'acc_open_past_24mths',\n",
       "       'avg_cur_bal', 'bc_open_to_buy', 'bc_util',\n",
       "       'chargeoff_within_12_mths', 'delinq_amnt', 'mo_sin_old_il_acct',\n",
       "       'mo_sin_old_rev_tl_op', 'mo_sin_rcnt_rev_tl_op', 'mo_sin_rcnt_tl',\n",
       "       'mort_acc', 'mths_since_recent_bc', 'mths_since_recent_bc_dlq',\n",
       "       'mths_since_recent_inq', 'mths_since_recent_revol_delinq',\n",
       "       'num_accts_ever_120_pd', 'num_actv_bc_tl', 'num_actv_rev_tl',\n",
       "       'num_bc_sats', 'num_bc_tl', 'num_il_tl', 'num_op_rev_tl',\n",
       "       'num_rev_accts', 'num_rev_tl_bal_gt_0', 'num_sats',\n",
       "       'num_tl_120dpd_2m', 'num_tl_30dpd', 'num_tl_90g_dpd_24m',\n",
       "       'num_tl_op_past_12m', 'pct_tl_nvr_dlq', 'percent_bc_gt_75',\n",
       "       'pub_rec_bankruptcies', 'tax_liens', 'tot_hi_cred_lim',\n",
       "       'total_bal_ex_mort', 'total_bc_limit',\n",
       "       'total_il_high_credit_limit', 'revol_bal_joint',\n",
       "       'sec_app_earliest_cr_line', 'sec_app_inq_last_6mths',\n",
       "       'sec_app_mort_acc', 'sec_app_open_acc', 'sec_app_revol_util',\n",
       "       'sec_app_open_act_il', 'sec_app_num_rev_accts',\n",
       "       'sec_app_chargeoff_within_12_mths',\n",
       "       'sec_app_collections_12_mths_ex_med',\n",
       "       'sec_app_mths_since_last_major_derog', 'hardship_flag',\n",
       "       'hardship_type', 'hardship_reason', 'hardship_status',\n",
       "       'deferral_term', 'hardship_amount', 'hardship_start_date',\n",
       "       'hardship_end_date', 'payment_plan_start_date', 'hardship_length',\n",
       "       'hardship_dpd', 'hardship_loan_status',\n",
       "       'orig_projected_additional_accrued_interest',\n",
       "       'hardship_payoff_balance_amount', 'hardship_last_payment_amount',\n",
       "       'disbursement_method', 'debt_settlement_flag',\n",
       "       'debt_settlement_flag_date', 'settlement_status',\n",
       "       'settlement_date', 'settlement_amount', 'settlement_percentage',\n",
       "       'settlement_term'], dtype=object)"
      ]
     },
     "execution_count": 10,
     "metadata": {},
     "output_type": "execute_result"
    }
   ],
   "source": [
    "loan_data.columns.values"
   ]
  },
  {
   "cell_type": "markdown",
   "metadata": {},
   "source": [
    "There are features in this dataset that are not required, so let's remove examine which ones we need and not, one by one.\n",
    "\n",
    "But before we do that, we will split the set into train and test splits."
   ]
  },
  {
   "cell_type": "code",
   "execution_count": 11,
   "metadata": {},
   "outputs": [],
   "source": [
    "X_train, X_test, y_train, y_test = train_test_split(loan_data.drop('loan_status', axis=1).values, \n",
    "                                                    loan_data.loan_status.values,\n",
    "                                                    test_size=0.25,\n",
    "                                                    stratify=loan_data.loan_status.values)"
   ]
  },
  {
   "cell_type": "markdown",
   "metadata": {},
   "source": [
    "It took a while to split the data, so we will save the notebook using dill."
   ]
  },
  {
   "cell_type": "code",
   "execution_count": 12,
   "metadata": {},
   "outputs": [],
   "source": [
    "with open('train.pickle', 'wb') as f:\n",
    "    pickle.dump([X_train, y_train], f)"
   ]
  },
  {
   "cell_type": "code",
   "execution_count": 13,
   "metadata": {},
   "outputs": [],
   "source": [
    "with open('test.pickle', 'wb') as f:\n",
    "    pickle.dump([X_test, y_test], f)"
   ]
  },
  {
   "cell_type": "markdown",
   "metadata": {},
   "source": [
    "Let's check if the target variable has any null values in both the test and training set."
   ]
  },
  {
   "cell_type": "code",
   "execution_count": 14,
   "metadata": {},
   "outputs": [
    {
     "data": {
      "text/plain": [
       "0"
      ]
     },
     "execution_count": 14,
     "metadata": {},
     "output_type": "execute_result"
    }
   ],
   "source": [
    "np.sum(loan_data.loan_status.isnull())"
   ]
  },
  {
   "cell_type": "markdown",
   "metadata": {},
   "source": [
    "The target variable does not have any null values.\n",
    "\n",
    "Let's creat 2 dataframes using the training and testing set and renaming the columns so they are easily identifiable."
   ]
  },
  {
   "cell_type": "code",
   "execution_count": 15,
   "metadata": {},
   "outputs": [],
   "source": [
    "loan_train=pd.DataFrame(X_train, columns=loan_data.columns.drop(\"loan_status\"))"
   ]
  },
  {
   "cell_type": "code",
   "execution_count": 29,
   "metadata": {},
   "outputs": [],
   "source": [
    "loan_test=pd.DataFrame(X_test, columns=loan_data.columns.drop(\"loan_status\"))"
   ]
  },
  {
   "cell_type": "markdown",
   "metadata": {},
   "source": [
    "We will start by removing columns that have all null values."
   ]
  },
  {
   "cell_type": "code",
   "execution_count": 17,
   "metadata": {},
   "outputs": [],
   "source": [
    "null_coumns=loan_train.columns[loan_train.isnull().sum()==len(loan_train)]"
   ]
  },
  {
   "cell_type": "code",
   "execution_count": 18,
   "metadata": {},
   "outputs": [
    {
     "data": {
      "text/plain": [
       "Index(['id', 'member_id', 'url'], dtype='object')"
      ]
     },
     "execution_count": 18,
     "metadata": {},
     "output_type": "execute_result"
    }
   ],
   "source": [
    "null_coumns"
   ]
  },
  {
   "cell_type": "markdown",
   "metadata": {},
   "source": [
    "We see that following columns can be dropped as they are all null values and are insignificant:\n",
    "\n",
    "1. 'id'\n",
    "2. 'member_id'\n",
    "3. 'url'\n",
    "\n"
   ]
  },
  {
   "cell_type": "code",
   "execution_count": 19,
   "metadata": {},
   "outputs": [],
   "source": [
    "loan_train.drop(null_coumns, axis=1,inplace=True)"
   ]
  },
  {
   "cell_type": "markdown",
   "metadata": {},
   "source": [
    "We see that there are a few columns with a significant number of null values. We will set a threshold of 75%. If column values are more than 75% null, they will be dropped as they will not provide much significance when predicting."
   ]
  },
  {
   "cell_type": "code",
   "execution_count": 20,
   "metadata": {},
   "outputs": [],
   "source": [
    "null_columns_75=loan_train.columns[(loan_train.isnull().sum()/len(loan_train))>=0.75]"
   ]
  },
  {
   "cell_type": "code",
   "execution_count": 21,
   "metadata": {},
   "outputs": [
    {
     "data": {
      "text/plain": [
       "Index(['desc', 'mths_since_last_record', 'annual_inc_joint', 'dti_joint',\n",
       "       'verification_status_joint', 'mths_since_recent_bc_dlq',\n",
       "       'revol_bal_joint', 'sec_app_earliest_cr_line', 'sec_app_inq_last_6mths',\n",
       "       'sec_app_mort_acc', 'sec_app_open_acc', 'sec_app_revol_util',\n",
       "       'sec_app_open_act_il', 'sec_app_num_rev_accts',\n",
       "       'sec_app_chargeoff_within_12_mths',\n",
       "       'sec_app_collections_12_mths_ex_med',\n",
       "       'sec_app_mths_since_last_major_derog', 'hardship_type',\n",
       "       'hardship_reason', 'hardship_status', 'deferral_term',\n",
       "       'hardship_amount', 'hardship_start_date', 'hardship_end_date',\n",
       "       'payment_plan_start_date', 'hardship_length', 'hardship_dpd',\n",
       "       'hardship_loan_status', 'orig_projected_additional_accrued_interest',\n",
       "       'hardship_payoff_balance_amount', 'hardship_last_payment_amount',\n",
       "       'debt_settlement_flag_date', 'settlement_status', 'settlement_date',\n",
       "       'settlement_amount', 'settlement_percentage', 'settlement_term'],\n",
       "      dtype='object')"
      ]
     },
     "execution_count": 21,
     "metadata": {},
     "output_type": "execute_result"
    }
   ],
   "source": [
    "null_columns_75"
   ]
  },
  {
   "cell_type": "markdown",
   "metadata": {},
   "source": [
    "Just by looking at the columns, none of them would be significant in predicting lateness."
   ]
  },
  {
   "cell_type": "code",
   "execution_count": 22,
   "metadata": {},
   "outputs": [],
   "source": [
    "loan_train.drop(null_columns_75, axis=1,inplace=True)"
   ]
  },
  {
   "cell_type": "code",
   "execution_count": 23,
   "metadata": {},
   "outputs": [
    {
     "data": {
      "text/html": [
       "<div>\n",
       "<style scoped>\n",
       "    .dataframe tbody tr th:only-of-type {\n",
       "        vertical-align: middle;\n",
       "    }\n",
       "\n",
       "    .dataframe tbody tr th {\n",
       "        vertical-align: top;\n",
       "    }\n",
       "\n",
       "    .dataframe thead th {\n",
       "        text-align: right;\n",
       "    }\n",
       "</style>\n",
       "<table border=\"1\" class=\"dataframe\">\n",
       "  <thead>\n",
       "    <tr style=\"text-align: right;\">\n",
       "      <th></th>\n",
       "      <th>loan_amnt</th>\n",
       "      <th>funded_amnt</th>\n",
       "      <th>funded_amnt_inv</th>\n",
       "      <th>term</th>\n",
       "      <th>int_rate</th>\n",
       "      <th>installment</th>\n",
       "      <th>grade</th>\n",
       "      <th>sub_grade</th>\n",
       "      <th>emp_title</th>\n",
       "      <th>emp_length</th>\n",
       "      <th>...</th>\n",
       "      <th>percent_bc_gt_75</th>\n",
       "      <th>pub_rec_bankruptcies</th>\n",
       "      <th>tax_liens</th>\n",
       "      <th>tot_hi_cred_lim</th>\n",
       "      <th>total_bal_ex_mort</th>\n",
       "      <th>total_bc_limit</th>\n",
       "      <th>total_il_high_credit_limit</th>\n",
       "      <th>hardship_flag</th>\n",
       "      <th>disbursement_method</th>\n",
       "      <th>debt_settlement_flag</th>\n",
       "    </tr>\n",
       "  </thead>\n",
       "  <tbody>\n",
       "    <tr>\n",
       "      <th>0</th>\n",
       "      <td>8000</td>\n",
       "      <td>8000</td>\n",
       "      <td>8000</td>\n",
       "      <td>36 months</td>\n",
       "      <td>10.99</td>\n",
       "      <td>261.88</td>\n",
       "      <td>B</td>\n",
       "      <td>B2</td>\n",
       "      <td>Legal Assistant</td>\n",
       "      <td>10+ years</td>\n",
       "      <td>...</td>\n",
       "      <td>50</td>\n",
       "      <td>0</td>\n",
       "      <td>0</td>\n",
       "      <td>11100</td>\n",
       "      <td>8116</td>\n",
       "      <td>7800</td>\n",
       "      <td>0</td>\n",
       "      <td>N</td>\n",
       "      <td>Cash</td>\n",
       "      <td>N</td>\n",
       "    </tr>\n",
       "    <tr>\n",
       "      <th>1</th>\n",
       "      <td>3900</td>\n",
       "      <td>3900</td>\n",
       "      <td>3900</td>\n",
       "      <td>36 months</td>\n",
       "      <td>12.99</td>\n",
       "      <td>131.39</td>\n",
       "      <td>C</td>\n",
       "      <td>C1</td>\n",
       "      <td>radiographer</td>\n",
       "      <td>6 years</td>\n",
       "      <td>...</td>\n",
       "      <td>0</td>\n",
       "      <td>1</td>\n",
       "      <td>0</td>\n",
       "      <td>25881</td>\n",
       "      <td>10129</td>\n",
       "      <td>7750</td>\n",
       "      <td>13531</td>\n",
       "      <td>N</td>\n",
       "      <td>Cash</td>\n",
       "      <td>N</td>\n",
       "    </tr>\n",
       "    <tr>\n",
       "      <th>2</th>\n",
       "      <td>18000</td>\n",
       "      <td>18000</td>\n",
       "      <td>18000</td>\n",
       "      <td>60 months</td>\n",
       "      <td>7.97</td>\n",
       "      <td>364.72</td>\n",
       "      <td>A</td>\n",
       "      <td>A5</td>\n",
       "      <td>Senior Losn Examiner</td>\n",
       "      <td>10+ years</td>\n",
       "      <td>...</td>\n",
       "      <td>0</td>\n",
       "      <td>0</td>\n",
       "      <td>0</td>\n",
       "      <td>305986</td>\n",
       "      <td>82784</td>\n",
       "      <td>35600</td>\n",
       "      <td>117986</td>\n",
       "      <td>N</td>\n",
       "      <td>Cash</td>\n",
       "      <td>N</td>\n",
       "    </tr>\n",
       "    <tr>\n",
       "      <th>3</th>\n",
       "      <td>3500</td>\n",
       "      <td>3500</td>\n",
       "      <td>3500</td>\n",
       "      <td>36 months</td>\n",
       "      <td>15.02</td>\n",
       "      <td>121.37</td>\n",
       "      <td>C</td>\n",
       "      <td>C3</td>\n",
       "      <td>detective</td>\n",
       "      <td>10+ years</td>\n",
       "      <td>...</td>\n",
       "      <td>75</td>\n",
       "      <td>1</td>\n",
       "      <td>0</td>\n",
       "      <td>71470</td>\n",
       "      <td>51208</td>\n",
       "      <td>3500</td>\n",
       "      <td>67970</td>\n",
       "      <td>N</td>\n",
       "      <td>Cash</td>\n",
       "      <td>N</td>\n",
       "    </tr>\n",
       "    <tr>\n",
       "      <th>4</th>\n",
       "      <td>22000</td>\n",
       "      <td>22000</td>\n",
       "      <td>21950</td>\n",
       "      <td>36 months</td>\n",
       "      <td>7.62</td>\n",
       "      <td>685.55</td>\n",
       "      <td>A</td>\n",
       "      <td>A3</td>\n",
       "      <td>Aptean</td>\n",
       "      <td>9 years</td>\n",
       "      <td>...</td>\n",
       "      <td>25</td>\n",
       "      <td>0</td>\n",
       "      <td>0</td>\n",
       "      <td>345978</td>\n",
       "      <td>44605</td>\n",
       "      <td>17700</td>\n",
       "      <td>50928</td>\n",
       "      <td>N</td>\n",
       "      <td>Cash</td>\n",
       "      <td>N</td>\n",
       "    </tr>\n",
       "  </tbody>\n",
       "</table>\n",
       "<p>5 rows × 104 columns</p>\n",
       "</div>"
      ],
      "text/plain": [
       "  loan_amnt funded_amnt funded_amnt_inv        term int_rate installment  \\\n",
       "0      8000        8000            8000   36 months    10.99      261.88   \n",
       "1      3900        3900            3900   36 months    12.99      131.39   \n",
       "2     18000       18000           18000   60 months     7.97      364.72   \n",
       "3      3500        3500            3500   36 months    15.02      121.37   \n",
       "4     22000       22000           21950   36 months     7.62      685.55   \n",
       "\n",
       "  grade sub_grade             emp_title emp_length  ... percent_bc_gt_75  \\\n",
       "0     B        B2       Legal Assistant  10+ years  ...               50   \n",
       "1     C        C1          radiographer    6 years  ...                0   \n",
       "2     A        A5  Senior Losn Examiner  10+ years  ...                0   \n",
       "3     C        C3             detective  10+ years  ...               75   \n",
       "4     A        A3                Aptean    9 years  ...               25   \n",
       "\n",
       "  pub_rec_bankruptcies tax_liens tot_hi_cred_lim total_bal_ex_mort  \\\n",
       "0                    0         0           11100              8116   \n",
       "1                    1         0           25881             10129   \n",
       "2                    0         0          305986             82784   \n",
       "3                    1         0           71470             51208   \n",
       "4                    0         0          345978             44605   \n",
       "\n",
       "  total_bc_limit total_il_high_credit_limit hardship_flag disbursement_method  \\\n",
       "0           7800                          0             N                Cash   \n",
       "1           7750                      13531             N                Cash   \n",
       "2          35600                     117986             N                Cash   \n",
       "3           3500                      67970             N                Cash   \n",
       "4          17700                      50928             N                Cash   \n",
       "\n",
       "  debt_settlement_flag  \n",
       "0                    N  \n",
       "1                    N  \n",
       "2                    N  \n",
       "3                    N  \n",
       "4                    N  \n",
       "\n",
       "[5 rows x 104 columns]"
      ]
     },
     "execution_count": 23,
     "metadata": {},
     "output_type": "execute_result"
    }
   ],
   "source": [
    "loan_train.head()"
   ]
  },
  {
   "cell_type": "markdown",
   "metadata": {},
   "source": [
    "Our features are now 104, down from 145, a 27.5% reduction."
   ]
  },
  {
   "cell_type": "markdown",
   "metadata": {},
   "source": [
    "We now need to deal with all the missing values. Let's find the columsn with missing values."
   ]
  },
  {
   "cell_type": "code",
   "execution_count": 25,
   "metadata": {},
   "outputs": [],
   "source": [
    "columns_nan=loan_train.columns[loan_train.isnull().sum()!=0].values"
   ]
  },
  {
   "cell_type": "code",
   "execution_count": 26,
   "metadata": {},
   "outputs": [
    {
     "data": {
      "text/plain": [
       "73"
      ]
     },
     "execution_count": 26,
     "metadata": {},
     "output_type": "execute_result"
    }
   ],
   "source": [
    "len(columns_nan)"
   ]
  },
  {
   "cell_type": "code",
   "execution_count": 27,
   "metadata": {},
   "outputs": [
    {
     "data": {
      "text/plain": [
       "array(['emp_title', 'emp_length', 'annual_inc', 'title', 'zip_code',\n",
       "       'dti', 'delinq_2yrs', 'earliest_cr_line', 'inq_last_6mths',\n",
       "       'mths_since_last_delinq', 'open_acc', 'pub_rec', 'revol_util',\n",
       "       'total_acc', 'last_pymnt_d', 'next_pymnt_d', 'last_credit_pull_d',\n",
       "       'collections_12_mths_ex_med', 'mths_since_last_major_derog',\n",
       "       'acc_now_delinq', 'tot_coll_amt', 'tot_cur_bal', 'open_acc_6m',\n",
       "       'open_act_il', 'open_il_12m', 'open_il_24m', 'mths_since_rcnt_il',\n",
       "       'total_bal_il', 'il_util', 'open_rv_12m', 'open_rv_24m',\n",
       "       'max_bal_bc', 'all_util', 'total_rev_hi_lim', 'inq_fi',\n",
       "       'total_cu_tl', 'inq_last_12m', 'acc_open_past_24mths',\n",
       "       'avg_cur_bal', 'bc_open_to_buy', 'bc_util',\n",
       "       'chargeoff_within_12_mths', 'delinq_amnt', 'mo_sin_old_il_acct',\n",
       "       'mo_sin_old_rev_tl_op', 'mo_sin_rcnt_rev_tl_op', 'mo_sin_rcnt_tl',\n",
       "       'mort_acc', 'mths_since_recent_bc', 'mths_since_recent_inq',\n",
       "       'mths_since_recent_revol_delinq', 'num_accts_ever_120_pd',\n",
       "       'num_actv_bc_tl', 'num_actv_rev_tl', 'num_bc_sats', 'num_bc_tl',\n",
       "       'num_il_tl', 'num_op_rev_tl', 'num_rev_accts',\n",
       "       'num_rev_tl_bal_gt_0', 'num_sats', 'num_tl_120dpd_2m',\n",
       "       'num_tl_30dpd', 'num_tl_90g_dpd_24m', 'num_tl_op_past_12m',\n",
       "       'pct_tl_nvr_dlq', 'percent_bc_gt_75', 'pub_rec_bankruptcies',\n",
       "       'tax_liens', 'tot_hi_cred_lim', 'total_bal_ex_mort',\n",
       "       'total_bc_limit', 'total_il_high_credit_limit'], dtype=object)"
      ]
     },
     "execution_count": 27,
     "metadata": {},
     "output_type": "execute_result"
    }
   ],
   "source": [
    "columns_nan"
   ]
  },
  {
   "cell_type": "markdown",
   "metadata": {},
   "source": [
    "There are 73 columns with nan values, we need to deal with them.\n",
    "\n",
    "1. 'emp_title', Employment title. The entries are strings. If there are Nan's, they will be classified them as \"Not Given\"\n",
    "2. 'emp_length',Employment Length. The entries are strings. If there are Nan's, they we will classified them as \"Not Given\"\n",
    "3. 'annual_inc', Annual Income. The entries are  floats. If there are Nan's, they will be classified as 0\n",
    "4. 'title', Purpose Title is just another column of purpose but human readable, so this column will be removed.\n",
    "5. 'zip_code', Zip code is that of loanee addresses. The entries are strings. Nan entries will be replaced with '000xx'\n",
    "6. 'dti' is debt-to-income ratio. This is a significant ratio. Entries are floats. Nan's will be replaced with the mean. "
   ]
  },
  {
   "cell_type": "code",
   "execution_count": 30,
   "metadata": {},
   "outputs": [],
   "source": [
    "loan_train['emp_title']=loan_train['emp_title'].fillna(\"Not Given\")\n",
    "loan_test['emp_title']=loan_test['emp_title'].fillna(\"Not Given\")"
   ]
  },
  {
   "cell_type": "code",
   "execution_count": 31,
   "metadata": {},
   "outputs": [],
   "source": [
    "loan_train['emp_length']=loan_train['emp_length'].fillna(\"Not Given\")\n",
    "loan_test['emp_length']=loan_test['emp_length'].fillna(\"Not Given\")"
   ]
  },
  {
   "cell_type": "code",
   "execution_count": 32,
   "metadata": {},
   "outputs": [],
   "source": [
    "loan_train['annual_inc']=loan_train['annual_inc'].fillna(0)\n",
    "loan_test['annual_inc']=loan_test['annual_inc'].fillna(0)"
   ]
  },
  {
   "cell_type": "code",
   "execution_count": 33,
   "metadata": {},
   "outputs": [],
   "source": [
    "loan_train.drop('title', inplace=True, axis=1)\n",
    "loan_test.drop('title', inplace=True, axis=1)"
   ]
  },
  {
   "cell_type": "code",
   "execution_count": 34,
   "metadata": {},
   "outputs": [],
   "source": [
    "loan_train['zip_code']=loan_train['zip_code'].fillna('000xx')\n",
    "loan_test['zip_code']=loan_test['zip_code'].fillna('000xx')"
   ]
  },
  {
   "cell_type": "code",
   "execution_count": 35,
   "metadata": {},
   "outputs": [],
   "source": [
    "loan_train['dti']=loan_train['dti'].fillna(np.mean(loan_train['dti']))\n",
    "loan_test['dti']=loan_test['dti'].fillna(np.mean(loan_train['dti']))"
   ]
  },
  {
   "cell_type": "markdown",
   "metadata": {},
   "source": [
    "Let's refresh so we have a less crowded list. As the other columns will require us to see the description what they are precisely."
   ]
  },
  {
   "cell_type": "code",
   "execution_count": 36,
   "metadata": {},
   "outputs": [],
   "source": [
    "columns_nan_1=loan_train.columns[loan_train.isnull().sum()!=0].values"
   ]
  },
  {
   "cell_type": "code",
   "execution_count": 37,
   "metadata": {},
   "outputs": [
    {
     "data": {
      "text/plain": [
       "67"
      ]
     },
     "execution_count": 37,
     "metadata": {},
     "output_type": "execute_result"
    }
   ],
   "source": [
    "len(columns_nan_1)"
   ]
  },
  {
   "cell_type": "code",
   "execution_count": 38,
   "metadata": {},
   "outputs": [
    {
     "data": {
      "text/plain": [
       "array(['delinq_2yrs', 'earliest_cr_line', 'inq_last_6mths',\n",
       "       'mths_since_last_delinq', 'open_acc', 'pub_rec', 'revol_util',\n",
       "       'total_acc', 'last_pymnt_d', 'next_pymnt_d', 'last_credit_pull_d',\n",
       "       'collections_12_mths_ex_med', 'mths_since_last_major_derog',\n",
       "       'acc_now_delinq', 'tot_coll_amt', 'tot_cur_bal', 'open_acc_6m',\n",
       "       'open_act_il', 'open_il_12m', 'open_il_24m', 'mths_since_rcnt_il',\n",
       "       'total_bal_il', 'il_util', 'open_rv_12m', 'open_rv_24m',\n",
       "       'max_bal_bc', 'all_util', 'total_rev_hi_lim', 'inq_fi',\n",
       "       'total_cu_tl', 'inq_last_12m', 'acc_open_past_24mths',\n",
       "       'avg_cur_bal', 'bc_open_to_buy', 'bc_util',\n",
       "       'chargeoff_within_12_mths', 'delinq_amnt', 'mo_sin_old_il_acct',\n",
       "       'mo_sin_old_rev_tl_op', 'mo_sin_rcnt_rev_tl_op', 'mo_sin_rcnt_tl',\n",
       "       'mort_acc', 'mths_since_recent_bc', 'mths_since_recent_inq',\n",
       "       'mths_since_recent_revol_delinq', 'num_accts_ever_120_pd',\n",
       "       'num_actv_bc_tl', 'num_actv_rev_tl', 'num_bc_sats', 'num_bc_tl',\n",
       "       'num_il_tl', 'num_op_rev_tl', 'num_rev_accts',\n",
       "       'num_rev_tl_bal_gt_0', 'num_sats', 'num_tl_120dpd_2m',\n",
       "       'num_tl_30dpd', 'num_tl_90g_dpd_24m', 'num_tl_op_past_12m',\n",
       "       'pct_tl_nvr_dlq', 'percent_bc_gt_75', 'pub_rec_bankruptcies',\n",
       "       'tax_liens', 'tot_hi_cred_lim', 'total_bal_ex_mort',\n",
       "       'total_bc_limit', 'total_il_high_credit_limit'], dtype=object)"
      ]
     },
     "execution_count": 38,
     "metadata": {},
     "output_type": "execute_result"
    }
   ],
   "source": [
    "columns_nan_1"
   ]
  },
  {
   "cell_type": "markdown",
   "metadata": {},
   "source": [
    "There are 67 remaining columns, let's start!!\n",
    "\n",
    "1. 'delinq_2yrs is a counter of how many time a loanee was 30+ days late over the past 2 years. Entries are floats. Nan's will be replaced with 0.\n",
    "2. 'earliest_cr_line'.This when the borrowers first credit line was opened. Entries are strings with dates(Month-Year). If it's Nan, it is most probable thay they never had a credit line. Nan's will be replaced with 'Jan-1000'.\n",
    "3. 'inq_last_6mths'. This is  a count of the number of inquiries over the last 6 months. Entries are integers. Nan's will be replaced with 0.\n",
    "4. 'open_acc' is the number of current open credit lines for the borrower. These are integers and are rarely zero. Nan's will be replaced with the mean.\n",
    "5. 'pub_rec'is the number of deragotory public record which is a sever case(Bankruptcy, civil court etc). These values are most commonly 0. Entries will be raplced with 0.\n",
    "6. 'revol_util'. This is revolving account utilization rate in %. Entries are floats. (Example (Credit Card Balance/Credit Limit)). We will replace them the mean.\n",
    "7. 'total_acc' is the number of credit lines in borrowers file. This has a large range of integers(0-100). But for ease of analysis, we will use the mean.\n",
    "8. 'last_pymnt_d'. This is a string of the date of the latest payment. We will replace Nan's with 'Jan-1000'.\n",
    "9. 'next_pymnt_d'. This is a string with the next schedule payment date. Nan's will be replaced with 'Jan-1000'.\n",
    "10. 'last_credit_pull_d'. This is the most recent month Lending Club pulled a credit check for the borrower. Nan's will be replaced with 'Jan-1000'."
   ]
  },
  {
   "cell_type": "code",
   "execution_count": 39,
   "metadata": {},
   "outputs": [
    {
     "data": {
      "text/plain": [
       "array([\"The number of 30+ days past-due incidences of delinquency in the borrower's credit file for the past 2 years\"],\n",
       "      dtype=object)"
      ]
     },
     "execution_count": 39,
     "metadata": {},
     "output_type": "execute_result"
    }
   ],
   "source": [
    "feature_desc[feature_desc['LoanStatNew']=='delinq_2yrs']['Description'].values"
   ]
  },
  {
   "cell_type": "code",
   "execution_count": 40,
   "metadata": {},
   "outputs": [],
   "source": [
    "loan_train['delinq_2yrs']=loan_train['delinq_2yrs'].fillna(0)\n",
    "loan_test['delinq_2yrs']=loan_test['delinq_2yrs'].fillna(0)"
   ]
  },
  {
   "cell_type": "code",
   "execution_count": 41,
   "metadata": {},
   "outputs": [
    {
     "data": {
      "text/plain": [
       "array([\"The month the borrower's earliest reported credit line was opened\"],\n",
       "      dtype=object)"
      ]
     },
     "execution_count": 41,
     "metadata": {},
     "output_type": "execute_result"
    }
   ],
   "source": [
    "feature_desc[feature_desc['LoanStatNew']=='earliest_cr_line']['Description'].values"
   ]
  },
  {
   "cell_type": "code",
   "execution_count": 42,
   "metadata": {},
   "outputs": [],
   "source": [
    "loan_train['earliest_cr_line']=loan_train['earliest_cr_line'].fillna('Jan-1000')\n",
    "loan_test['earliest_cr_line']=loan_test['earliest_cr_line'].fillna('Jan-1000')"
   ]
  },
  {
   "cell_type": "code",
   "execution_count": 43,
   "metadata": {},
   "outputs": [
    {
     "data": {
      "text/plain": [
       "array(['The number of inquiries in past 6 months (excluding auto and mortgage inquiries)'],\n",
       "      dtype=object)"
      ]
     },
     "execution_count": 43,
     "metadata": {},
     "output_type": "execute_result"
    }
   ],
   "source": [
    "feature_desc[feature_desc['LoanStatNew']=='inq_last_6mths']['Description'].values"
   ]
  },
  {
   "cell_type": "code",
   "execution_count": 44,
   "metadata": {},
   "outputs": [],
   "source": [
    "loan_train['inq_last_6mths']=loan_train['inq_last_6mths'].fillna(0)\n",
    "loan_test['inq_last_6mths']=loan_test['inq_last_6mths'].fillna(0)"
   ]
  },
  {
   "cell_type": "code",
   "execution_count": 45,
   "metadata": {},
   "outputs": [
    {
     "data": {
      "text/plain": [
       "array([\"The number of open credit lines in the borrower's credit file.\"],\n",
       "      dtype=object)"
      ]
     },
     "execution_count": 45,
     "metadata": {},
     "output_type": "execute_result"
    }
   ],
   "source": [
    "feature_desc[feature_desc['LoanStatNew']=='open_acc']['Description'].values"
   ]
  },
  {
   "cell_type": "code",
   "execution_count": 46,
   "metadata": {},
   "outputs": [],
   "source": [
    "loan_train['open_acc']=loan_train['open_acc'].fillna(np.mean(loan_train['open_acc']))\n",
    "loan_test['open_acc']=loan_test['open_acc'].fillna(np.mean(loan_train['open_acc']))"
   ]
  },
  {
   "cell_type": "code",
   "execution_count": 47,
   "metadata": {},
   "outputs": [
    {
     "data": {
      "text/plain": [
       "array(['Number of derogatory public records'], dtype=object)"
      ]
     },
     "execution_count": 47,
     "metadata": {},
     "output_type": "execute_result"
    }
   ],
   "source": [
    "feature_desc[feature_desc['LoanStatNew']=='pub_rec']['Description'].values"
   ]
  },
  {
   "cell_type": "code",
   "execution_count": 48,
   "metadata": {},
   "outputs": [],
   "source": [
    "loan_train['pub_rec']=loan_train['pub_rec'].fillna(0)\n",
    "loan_test['pub_rec']=loan_test['pub_rec'].fillna(0)"
   ]
  },
  {
   "cell_type": "code",
   "execution_count": 49,
   "metadata": {},
   "outputs": [
    {
     "data": {
      "text/plain": [
       "array(['Revolving line utilization rate, or the amount of credit the borrower is using relative to all available revolving credit.'],\n",
       "      dtype=object)"
      ]
     },
     "execution_count": 49,
     "metadata": {},
     "output_type": "execute_result"
    }
   ],
   "source": [
    "feature_desc[feature_desc['LoanStatNew']=='revol_util']['Description'].values"
   ]
  },
  {
   "cell_type": "code",
   "execution_count": 50,
   "metadata": {},
   "outputs": [],
   "source": [
    "loan_train['revol_util']=loan_train['revol_util'].fillna(np.mean(loan_train['revol_util']))\n",
    "loan_test['revol_util']=loan_test['revol_util'].fillna(np.mean(loan_train['revol_util']))"
   ]
  },
  {
   "cell_type": "code",
   "execution_count": 51,
   "metadata": {},
   "outputs": [
    {
     "data": {
      "text/plain": [
       "array([\"The total number of credit lines currently in the borrower's credit file\"],\n",
       "      dtype=object)"
      ]
     },
     "execution_count": 51,
     "metadata": {},
     "output_type": "execute_result"
    }
   ],
   "source": [
    "feature_desc[feature_desc['LoanStatNew']=='total_acc']['Description'].values"
   ]
  },
  {
   "cell_type": "code",
   "execution_count": 52,
   "metadata": {},
   "outputs": [],
   "source": [
    "loan_train['total_acc']=loan_train['total_acc'].fillna(np.mean(loan_train['total_acc']))\n",
    "loan_test['total_acc']=loan_test['total_acc'].fillna(np.mean(loan_train['total_acc']))"
   ]
  },
  {
   "cell_type": "code",
   "execution_count": 53,
   "metadata": {},
   "outputs": [
    {
     "data": {
      "text/plain": [
       "array(['Last month payment was received'], dtype=object)"
      ]
     },
     "execution_count": 53,
     "metadata": {},
     "output_type": "execute_result"
    }
   ],
   "source": [
    "feature_desc[feature_desc['LoanStatNew']=='last_pymnt_d']['Description'].values"
   ]
  },
  {
   "cell_type": "code",
   "execution_count": 54,
   "metadata": {},
   "outputs": [],
   "source": [
    "loan_train['last_pymnt_d']=loan_train['last_pymnt_d'].fillna('Jan-1000')\n",
    "loan_test['last_pymnt_d']=loan_test['last_pymnt_d'].fillna('Jan-1000')"
   ]
  },
  {
   "cell_type": "code",
   "execution_count": 55,
   "metadata": {},
   "outputs": [
    {
     "data": {
      "text/plain": [
       "array(['Next scheduled payment date'], dtype=object)"
      ]
     },
     "execution_count": 55,
     "metadata": {},
     "output_type": "execute_result"
    }
   ],
   "source": [
    "feature_desc[feature_desc['LoanStatNew']=='next_pymnt_d']['Description'].values"
   ]
  },
  {
   "cell_type": "code",
   "execution_count": 56,
   "metadata": {},
   "outputs": [],
   "source": [
    "loan_train['next_pymnt_d']=loan_train['next_pymnt_d'].fillna('Jan-1000')\n",
    "loan_test['next_pymnt_d']=loan_test['next_pymnt_d'].fillna('Jan-1000')"
   ]
  },
  {
   "cell_type": "code",
   "execution_count": 57,
   "metadata": {},
   "outputs": [
    {
     "data": {
      "text/plain": [
       "array(['The most recent month LC pulled credit for this loan'],\n",
       "      dtype=object)"
      ]
     },
     "execution_count": 57,
     "metadata": {},
     "output_type": "execute_result"
    }
   ],
   "source": [
    "feature_desc[feature_desc['LoanStatNew']=='last_credit_pull_d']['Description'].values"
   ]
  },
  {
   "cell_type": "code",
   "execution_count": 58,
   "metadata": {},
   "outputs": [],
   "source": [
    "loan_train['last_credit_pull_d']=loan_train['last_credit_pull_d'].fillna('Jan-1000')\n",
    "loan_test['last_credit_pull_d']=loan_test['last_credit_pull_d'].fillna('Jan-1000')"
   ]
  },
  {
   "cell_type": "markdown",
   "metadata": {},
   "source": [
    "Again Let's refresh so we have a new set to work with."
   ]
  },
  {
   "cell_type": "code",
   "execution_count": 60,
   "metadata": {},
   "outputs": [],
   "source": [
    "columns_nan_2=loan_train.columns[loan_train.isnull().sum()!=0].values"
   ]
  },
  {
   "cell_type": "code",
   "execution_count": 61,
   "metadata": {},
   "outputs": [
    {
     "data": {
      "text/plain": [
       "57"
      ]
     },
     "execution_count": 61,
     "metadata": {},
     "output_type": "execute_result"
    }
   ],
   "source": [
    "len(columns_nan_2)"
   ]
  },
  {
   "cell_type": "code",
   "execution_count": 62,
   "metadata": {},
   "outputs": [
    {
     "data": {
      "text/plain": [
       "array(['mths_since_last_delinq', 'collections_12_mths_ex_med',\n",
       "       'mths_since_last_major_derog', 'acc_now_delinq', 'tot_coll_amt',\n",
       "       'tot_cur_bal', 'open_acc_6m', 'open_act_il', 'open_il_12m',\n",
       "       'open_il_24m', 'mths_since_rcnt_il', 'total_bal_il', 'il_util',\n",
       "       'open_rv_12m', 'open_rv_24m', 'max_bal_bc', 'all_util',\n",
       "       'total_rev_hi_lim', 'inq_fi', 'total_cu_tl', 'inq_last_12m',\n",
       "       'acc_open_past_24mths', 'avg_cur_bal', 'bc_open_to_buy', 'bc_util',\n",
       "       'chargeoff_within_12_mths', 'delinq_amnt', 'mo_sin_old_il_acct',\n",
       "       'mo_sin_old_rev_tl_op', 'mo_sin_rcnt_rev_tl_op', 'mo_sin_rcnt_tl',\n",
       "       'mort_acc', 'mths_since_recent_bc', 'mths_since_recent_inq',\n",
       "       'mths_since_recent_revol_delinq', 'num_accts_ever_120_pd',\n",
       "       'num_actv_bc_tl', 'num_actv_rev_tl', 'num_bc_sats', 'num_bc_tl',\n",
       "       'num_il_tl', 'num_op_rev_tl', 'num_rev_accts',\n",
       "       'num_rev_tl_bal_gt_0', 'num_sats', 'num_tl_120dpd_2m',\n",
       "       'num_tl_30dpd', 'num_tl_90g_dpd_24m', 'num_tl_op_past_12m',\n",
       "       'pct_tl_nvr_dlq', 'percent_bc_gt_75', 'pub_rec_bankruptcies',\n",
       "       'tax_liens', 'tot_hi_cred_lim', 'total_bal_ex_mort',\n",
       "       'total_bc_limit', 'total_il_high_credit_limit'], dtype=object)"
      ]
     },
     "execution_count": 62,
     "metadata": {},
     "output_type": "execute_result"
    }
   ],
   "source": [
    "columns_nan_2"
   ]
  },
  {
   "cell_type": "markdown",
   "metadata": {},
   "source": [
    "1. 'mths_since_last_delinq'. This is the number of months since the borrower was last 30+ days late. Nan's are probably for borrowers who were never 30+ days late and will be replaced with zeros.\n",
    "2. 'collections_12_mths_ex_med'. This is the number of collections made for payments that were late in the last 12 months. Nan's will be replaced with 0.\n",
    "3. 'mths_since_last_major_derog'. This is the number of months since there was 90-day or worse rating. Nan's will be replaced with 0.\n",
    "4. 'acc_now_delinq'. This is the number of accounts that the borrower is delinquent(30+ days late). Most of the results are 0. Nans will be replaced with 0.\n",
    "5. 'tot_coll_amt'. This is the total collected amount ever owed. Entries are floats represnting dollar amounts. Nans will be replaced with zeros.\n",
    "6. 'tot_cur_bal' is the total current balance owed on all accounts.Nans will be replaced with 0s.\n",
    "7. 'open_acc_6m' is the number of open trades in the last 6 months.Nans will be replaced with 0s.\n",
    "8. 'open_act_il' is the number of currently active installment trades. Nans will be replaced with the mean round to the nearest integer.\n",
    "9. 'open_il_12m' is the number of installment accounts opened in the last 12 months.Nans will be replaced with the mean round to the nearest integer.\n",
    "10. 'open_il_24m' is the number of installment accounts opened in the last 12 months.Nans will be replaced with the mean round to the nearest integer.\n",
    "11. 'mths_since_rcnt_il' number of months since most recent installment account opened.Nans will be replaced with the mean round to the nearest integer.\n",
    "12. 'total_bal_il'. Current balance of only installment accounts. Nans will be replaced with the mean.\n",
    "13. 'il_util'. Ratio of current balance to credit limit on installment acounts.Nans will be replaced with the mean.\n",
    "14. 'open_rv_12m'. Number of revoliving accounts opened in the last 12 months. Nans will be replaced with the mean round to the nearest integer..\n",
    "15. 'open_rv_24m'. Number of revoliving accounts opened in the last 24 months. Nans will be replaced with the mean round to the nearest integer.\n",
    "16. 'max_bal_bc'. Maximum current balanced owed on all revolving accounts.Nans will be replaced with the mean.\n",
    "17. 'all_util'. This is the balance to credit limit ratio on all trades.Nans will be replaced with the mean."
   ]
  },
  {
   "cell_type": "code",
   "execution_count": 63,
   "metadata": {},
   "outputs": [
    {
     "data": {
      "text/plain": [
       "array([\"The number of months since the borrower's last delinquency.\"],\n",
       "      dtype=object)"
      ]
     },
     "execution_count": 63,
     "metadata": {},
     "output_type": "execute_result"
    }
   ],
   "source": [
    "feature_desc[feature_desc['LoanStatNew']=='mths_since_last_delinq']['Description'].values"
   ]
  },
  {
   "cell_type": "code",
   "execution_count": 64,
   "metadata": {},
   "outputs": [],
   "source": [
    "loan_train['mths_since_last_delinq']=loan_train['mths_since_last_delinq'].fillna(0)\n",
    "loan_test['mths_since_last_delinq']=loan_test['mths_since_last_delinq'].fillna(0)"
   ]
  },
  {
   "cell_type": "code",
   "execution_count": 65,
   "metadata": {},
   "outputs": [
    {
     "data": {
      "text/plain": [
       "array(['Number of collections in 12 months excluding medical collections'],\n",
       "      dtype=object)"
      ]
     },
     "execution_count": 65,
     "metadata": {},
     "output_type": "execute_result"
    }
   ],
   "source": [
    "feature_desc[feature_desc['LoanStatNew']=='collections_12_mths_ex_med']['Description'].values"
   ]
  },
  {
   "cell_type": "code",
   "execution_count": 66,
   "metadata": {},
   "outputs": [],
   "source": [
    "loan_train['collections_12_mths_ex_med']=loan_train['collections_12_mths_ex_med'].fillna(0)\n",
    "loan_test['collections_12_mths_ex_med']=loan_test['collections_12_mths_ex_med'].fillna(0)"
   ]
  },
  {
   "cell_type": "code",
   "execution_count": 67,
   "metadata": {},
   "outputs": [
    {
     "data": {
      "text/plain": [
       "array(['Months since most recent 90-day or worse rating'], dtype=object)"
      ]
     },
     "execution_count": 67,
     "metadata": {},
     "output_type": "execute_result"
    }
   ],
   "source": [
    "feature_desc[feature_desc['LoanStatNew']=='mths_since_last_major_derog']['Description'].values"
   ]
  },
  {
   "cell_type": "code",
   "execution_count": 68,
   "metadata": {},
   "outputs": [],
   "source": [
    "loan_train['mths_since_last_major_derog']=loan_train['mths_since_last_major_derog'].fillna(0)\n",
    "loan_test['mths_since_last_major_derog']=loan_test['mths_since_last_major_derog'].fillna(0)"
   ]
  },
  {
   "cell_type": "code",
   "execution_count": 69,
   "metadata": {},
   "outputs": [
    {
     "data": {
      "text/plain": [
       "array(['The number of accounts on which the borrower is now delinquent.'],\n",
       "      dtype=object)"
      ]
     },
     "execution_count": 69,
     "metadata": {},
     "output_type": "execute_result"
    }
   ],
   "source": [
    "feature_desc[feature_desc['LoanStatNew']=='acc_now_delinq']['Description'].values"
   ]
  },
  {
   "cell_type": "code",
   "execution_count": 70,
   "metadata": {},
   "outputs": [],
   "source": [
    "loan_train['acc_now_delinq']=loan_train['acc_now_delinq'].fillna(0)\n",
    "loan_test['acc_now_delinq']=loan_test['acc_now_delinq'].fillna(0)"
   ]
  },
  {
   "cell_type": "code",
   "execution_count": 71,
   "metadata": {},
   "outputs": [
    {
     "data": {
      "text/plain": [
       "array(['Total collection amounts ever owed'], dtype=object)"
      ]
     },
     "execution_count": 71,
     "metadata": {},
     "output_type": "execute_result"
    }
   ],
   "source": [
    "feature_desc[feature_desc['LoanStatNew']=='tot_coll_amt']['Description'].values"
   ]
  },
  {
   "cell_type": "code",
   "execution_count": 72,
   "metadata": {},
   "outputs": [],
   "source": [
    "loan_train['tot_coll_amt']=loan_train['tot_coll_amt'].fillna(0)\n",
    "loan_test['tot_coll_amt']=loan_test['tot_coll_amt'].fillna(0)"
   ]
  },
  {
   "cell_type": "code",
   "execution_count": 73,
   "metadata": {},
   "outputs": [
    {
     "data": {
      "text/plain": [
       "array(['Total current balance of all accounts'], dtype=object)"
      ]
     },
     "execution_count": 73,
     "metadata": {},
     "output_type": "execute_result"
    }
   ],
   "source": [
    "feature_desc[feature_desc['LoanStatNew']=='tot_cur_bal']['Description'].values"
   ]
  },
  {
   "cell_type": "code",
   "execution_count": 74,
   "metadata": {},
   "outputs": [],
   "source": [
    "loan_train['tot_cur_bal']=loan_train['tot_cur_bal'].fillna(0)\n",
    "loan_test['tot_cur_bal']=loan_test['tot_cur_bal'].fillna(0)"
   ]
  },
  {
   "cell_type": "code",
   "execution_count": 75,
   "metadata": {},
   "outputs": [
    {
     "data": {
      "text/plain": [
       "array(['Number of open trades in last 6 months'], dtype=object)"
      ]
     },
     "execution_count": 75,
     "metadata": {},
     "output_type": "execute_result"
    }
   ],
   "source": [
    "feature_desc[feature_desc['LoanStatNew']=='open_acc_6m']['Description'].values"
   ]
  },
  {
   "cell_type": "code",
   "execution_count": 76,
   "metadata": {},
   "outputs": [],
   "source": [
    "loan_train['open_acc_6m']=loan_train['open_acc_6m'].fillna(0)\n",
    "loan_test['open_acc_6m']=loan_test['open_acc_6m'].fillna(0)"
   ]
  },
  {
   "cell_type": "code",
   "execution_count": 77,
   "metadata": {},
   "outputs": [
    {
     "data": {
      "text/plain": [
       "array(['Number of currently active installment trades'], dtype=object)"
      ]
     },
     "execution_count": 77,
     "metadata": {},
     "output_type": "execute_result"
    }
   ],
   "source": [
    "feature_desc[feature_desc['LoanStatNew']=='open_act_il']['Description'].values"
   ]
  },
  {
   "cell_type": "code",
   "execution_count": 78,
   "metadata": {},
   "outputs": [],
   "source": [
    "loan_train['open_act_il']=loan_train['open_act_il'].fillna(np.round(np.mean(loan_train['open_act_il']),0))\n",
    "loan_test['open_act_il']=loan_test['open_act_il'].fillna(np.round(np.mean(loan_train['open_act_il']),0))"
   ]
  },
  {
   "cell_type": "code",
   "execution_count": 79,
   "metadata": {},
   "outputs": [
    {
     "data": {
      "text/plain": [
       "array(['Number of installment accounts opened in past 12 months'],\n",
       "      dtype=object)"
      ]
     },
     "execution_count": 79,
     "metadata": {},
     "output_type": "execute_result"
    }
   ],
   "source": [
    "feature_desc[feature_desc['LoanStatNew']=='open_il_12m']['Description'].values"
   ]
  },
  {
   "cell_type": "code",
   "execution_count": 80,
   "metadata": {},
   "outputs": [],
   "source": [
    "loan_train['open_il_12m']=loan_train['open_il_12m'].fillna(np.round(np.mean(loan_train['open_il_12m']),0))\n",
    "loan_test['open_il_12m']=loan_test['open_il_12m'].fillna(np.round(np.mean(loan_train['open_il_12m']),0))"
   ]
  },
  {
   "cell_type": "code",
   "execution_count": 81,
   "metadata": {},
   "outputs": [
    {
     "data": {
      "text/plain": [
       "array(['Number of installment accounts opened in past 24 months'],\n",
       "      dtype=object)"
      ]
     },
     "execution_count": 81,
     "metadata": {},
     "output_type": "execute_result"
    }
   ],
   "source": [
    "feature_desc[feature_desc['LoanStatNew']=='open_il_24m']['Description'].values"
   ]
  },
  {
   "cell_type": "code",
   "execution_count": 82,
   "metadata": {},
   "outputs": [],
   "source": [
    "loan_train['open_il_24m']=loan_train['open_il_24m'].fillna(np.round(np.mean(loan_train['open_il_24m']),0))\n",
    "loan_test['open_il_24m']=loan_test['open_il_24m'].fillna(np.round(np.mean(loan_train['open_il_24m']),0))"
   ]
  },
  {
   "cell_type": "code",
   "execution_count": 83,
   "metadata": {},
   "outputs": [
    {
     "data": {
      "text/plain": [
       "array(['Months since most recent installment accounts opened'],\n",
       "      dtype=object)"
      ]
     },
     "execution_count": 83,
     "metadata": {},
     "output_type": "execute_result"
    }
   ],
   "source": [
    "feature_desc[feature_desc['LoanStatNew']=='mths_since_rcnt_il']['Description'].values"
   ]
  },
  {
   "cell_type": "code",
   "execution_count": 84,
   "metadata": {},
   "outputs": [],
   "source": [
    "loan_train['mths_since_rcnt_il']=loan_train['mths_since_rcnt_il'].fillna(np.round(np.mean(loan_train['mths_since_rcnt_il']),0))\n",
    "loan_test['mths_since_rcnt_il']=loan_test['mths_since_rcnt_il'].fillna(np.round(np.mean(loan_train['mths_since_rcnt_il']),0))"
   ]
  },
  {
   "cell_type": "code",
   "execution_count": 85,
   "metadata": {},
   "outputs": [
    {
     "data": {
      "text/plain": [
       "array(['Total current balance of all installment accounts'], dtype=object)"
      ]
     },
     "execution_count": 85,
     "metadata": {},
     "output_type": "execute_result"
    }
   ],
   "source": [
    "feature_desc[feature_desc['LoanStatNew']=='total_bal_il']['Description'].values"
   ]
  },
  {
   "cell_type": "code",
   "execution_count": 86,
   "metadata": {},
   "outputs": [],
   "source": [
    "loan_train['total_bal_il']=loan_train['total_bal_il'].fillna(np.mean(loan_train['total_bal_il']))\n",
    "loan_test['total_bal_il']=loan_test['total_bal_il'].fillna(np.mean(loan_train['total_bal_il']))"
   ]
  },
  {
   "cell_type": "code",
   "execution_count": 87,
   "metadata": {},
   "outputs": [
    {
     "data": {
      "text/plain": [
       "array(['Ratio of total current balance to high credit/credit limit on all install acct'],\n",
       "      dtype=object)"
      ]
     },
     "execution_count": 87,
     "metadata": {},
     "output_type": "execute_result"
    }
   ],
   "source": [
    "feature_desc[feature_desc['LoanStatNew']=='il_util']['Description'].values"
   ]
  },
  {
   "cell_type": "code",
   "execution_count": 88,
   "metadata": {},
   "outputs": [],
   "source": [
    "loan_train['il_util']=loan_train['il_util'].fillna(np.mean(loan_train['il_util']))\n",
    "loan_test['il_util']=loan_test['il_util'].fillna(np.mean(loan_train['il_util']))"
   ]
  },
  {
   "cell_type": "code",
   "execution_count": 89,
   "metadata": {},
   "outputs": [
    {
     "data": {
      "text/plain": [
       "array(['Number of revolving trades opened in past 12 months'],\n",
       "      dtype=object)"
      ]
     },
     "execution_count": 89,
     "metadata": {},
     "output_type": "execute_result"
    }
   ],
   "source": [
    "feature_desc[feature_desc['LoanStatNew']=='open_rv_12m']['Description'].values"
   ]
  },
  {
   "cell_type": "code",
   "execution_count": null,
   "metadata": {},
   "outputs": [],
   "source": [
    "loan_train['open_rv_12m']=loan_train['open_rv_12m'].fillna(np.round(np.mean(loan_train['open_rv_12m']),0))\n",
    "loan_test['open_rv_12m']=loan_test['open_rv_12m'].fillna(np.round(np.mean(loan_train['open_rv_12m']),0))"
   ]
  },
  {
   "cell_type": "code",
   "execution_count": null,
   "metadata": {},
   "outputs": [],
   "source": [
    "loan_train['open_rv_24m']=loan_train['open_rv_24m'].fillna(np.round(np.mean(loan_train['open_rv_24m']),0))\n",
    "loan_test['open_rv_24m']=loan_test['open_rv_24m'].fillna(np.round(np.mean(loan_train['open_rv_24m']),0))"
   ]
  },
  {
   "cell_type": "code",
   "execution_count": null,
   "metadata": {},
   "outputs": [],
   "source": [
    "feature_desc[feature_desc['LoanStatNew']=='max_bal_bc']['Description'].values"
   ]
  },
  {
   "cell_type": "code",
   "execution_count": null,
   "metadata": {},
   "outputs": [],
   "source": [
    "loan_train['max_bal_bc']=loan_train['max_bal_bc'].fillna(np.mean(loan_train['max_bal_bc']))\n",
    "loan_test['max_bal_bc']=loan_test['max_bal_bc'].fillna(np.mean(loan_train['max_bal_bc']))"
   ]
  },
  {
   "cell_type": "code",
   "execution_count": null,
   "metadata": {},
   "outputs": [],
   "source": [
    "feature_desc[feature_desc['LoanStatNew']=='all_util']['Description'].values"
   ]
  },
  {
   "cell_type": "code",
   "execution_count": null,
   "metadata": {},
   "outputs": [],
   "source": [
    "loan_train['all_util']=loan_train['all_util'].fillna(np.mean(loan_train['all_util']))\n",
    "loan_test['all_util']=loan_test['all_util'].fillna(np.mean(loan_train['all_util']))"
   ]
  },
  {
   "cell_type": "markdown",
   "metadata": {},
   "source": [
    "Once again, let's refresh to clear the full columns."
   ]
  },
  {
   "cell_type": "code",
   "execution_count": null,
   "metadata": {},
   "outputs": [],
   "source": [
    "columns_nan_3=loan_train.columns[loan_train.isnull().sum()!=0].values"
   ]
  },
  {
   "cell_type": "code",
   "execution_count": null,
   "metadata": {},
   "outputs": [],
   "source": [
    "len(columns_nan_3)"
   ]
  },
  {
   "cell_type": "code",
   "execution_count": null,
   "metadata": {},
   "outputs": [],
   "source": [
    "columns_nan_3"
   ]
  },
  {
   "cell_type": "markdown",
   "metadata": {},
   "source": [
    "1. 'total_rev_hi_lim'. We do not have a desciption but we can assume this is the high limit of all revolinvg accounts. Nans can be replaced with means.\n",
    "2. 'inq_fi'. Number of personal finance credit inquiries. Nans can be raplaced with the mean rounded to the nearest integer\n",
    "3. 'total_cu_tl'. Number of finance trades in total.Nans can be raplaced with the mean rounded to the nearest integer.\n",
    "4. 'inq_last_12m'. This is the number of credit inquireis in the last 12 months. Nans can be raplaced with the mean rounded to the nearest integer.\n",
    "5. 'acc_open_past_24mths'. Number of trades opened in the last 24 months.Nans can be raplaced with the mean rounded to the nearest integer.\n",
    "6. 'avg_cur_bal'. This is the average current balance of all accounts. Nans can be replaced with the mean.\n",
    "7. 'bc_open_to_buy'. This is the total dollar value to buy on revolving bankcards. Nans can be replaced with the mean \n",
    "8. 'bc_util'. This is the ratio of total current balance to high credit/credit limit for all bankcard accounts. This can be replaced with the mean.\n",
    "9. 'chargeoff_within_12_mths' Number of charges off in the last 12 months. Nans can be replced with 0.\n",
    "10. 'delinq_amnt'. The past-du amount for the accounts that the borrower is now delinquent. Nans can be replaced with 0s.\n",
    "11. 'mo_sin_old_il_acct'. This the number of months since oldest bank installment account opened.Nans can be raplaced with the mean rounded to the nearest integer.\n",
    "12. 'mo_sin_old_rev_tl_op'. This is the number of months since oldest revolving account opened. Nans can be raplaced with the mean rounded to the nearest integer.\n",
    "13. 'mo_sin_rcnt_rev_tl_op'. This is the number of months since the most recent revolving account opened.Nans can be raplaced with the mean rounded to the nearest integer.\n",
    "14. 'mo_sin_rcnt_tl'. This is the number of months since the most recent account opened. Nans can be raplaced with the mean rounded to the nearest integer.  \n",
    "15. 'mort_acc'. This is the number of mortgage accounts. Nans can be raplaced with the mean rounded to the nearest integer."
   ]
  },
  {
   "cell_type": "code",
   "execution_count": null,
   "metadata": {},
   "outputs": [],
   "source": [
    "feature_desc[feature_desc['LoanStatNew']=='total_rev_hi_lim']['Description'].values"
   ]
  },
  {
   "cell_type": "code",
   "execution_count": null,
   "metadata": {},
   "outputs": [],
   "source": [
    "loan_train['total_rev_hi_lim']=loan_train['total_rev_hi_lim'].fillna(np.mean(loan_train['total_rev_hi_lim']))\n",
    "loan_test['total_rev_hi_lim']=loan_test['total_rev_hi_lim'].fillna(np.mean(loan_train['total_rev_hi_lim']))"
   ]
  },
  {
   "cell_type": "code",
   "execution_count": null,
   "metadata": {},
   "outputs": [],
   "source": [
    "feature_desc[feature_desc['LoanStatNew']=='inq_fi']['Description'].values"
   ]
  },
  {
   "cell_type": "code",
   "execution_count": null,
   "metadata": {},
   "outputs": [],
   "source": [
    "loan_train['inq_fi']=loan_train['inq_fi'].fillna(np.round(np.mean(loan_train['inq_fi']),0))\n",
    "loan_test['inq_fi']=loan_test['inq_fi'].fillna(np.round(np.mean(loan_train['inq_fi']),0))"
   ]
  },
  {
   "cell_type": "code",
   "execution_count": null,
   "metadata": {},
   "outputs": [],
   "source": [
    "feature_desc[feature_desc['LoanStatNew']=='total_cu_tl']['Description'].values"
   ]
  },
  {
   "cell_type": "code",
   "execution_count": null,
   "metadata": {},
   "outputs": [],
   "source": [
    "loan_train['total_cu_tl']=loan_train['total_cu_tl'].fillna(np.round(np.mean(loan_train['total_cu_tl']),0))\n",
    "loan_test['total_cu_tl']=loan_test['total_cu_tl'].fillna(np.round(np.mean(loan_train['total_cu_tl']),0))"
   ]
  },
  {
   "cell_type": "code",
   "execution_count": null,
   "metadata": {},
   "outputs": [],
   "source": [
    "feature_desc[feature_desc['LoanStatNew']=='inq_last_12m']['Description'].values"
   ]
  },
  {
   "cell_type": "code",
   "execution_count": null,
   "metadata": {},
   "outputs": [],
   "source": [
    "loan_train['inq_last_12m']=loan_train['inq_last_12m'].fillna(np.round(np.mean(loan_train['inq_last_12m']),0))\n",
    "loan_test['inq_last_12m']=loan_test['inq_last_12m'].fillna(np.round(np.mean(loan_train['inq_last_12m']),0))"
   ]
  },
  {
   "cell_type": "code",
   "execution_count": null,
   "metadata": {},
   "outputs": [],
   "source": [
    "feature_desc[feature_desc['LoanStatNew']=='acc_open_past_24mths']['Description'].values"
   ]
  },
  {
   "cell_type": "code",
   "execution_count": null,
   "metadata": {},
   "outputs": [],
   "source": [
    "loan_train['acc_open_past_24mths']=loan_train['acc_open_past_24mths'].fillna(np.round(np.mean(loan_train['acc_open_past_24mths']),0))\n",
    "loan_test['acc_open_past_24mths']=loan_test['acc_open_past_24mths'].fillna(np.round(np.mean(loan_train['acc_open_past_24mths']),0))"
   ]
  },
  {
   "cell_type": "code",
   "execution_count": null,
   "metadata": {},
   "outputs": [],
   "source": [
    "feature_desc[feature_desc['LoanStatNew']=='avg_cur_bal']['Description'].values"
   ]
  },
  {
   "cell_type": "code",
   "execution_count": null,
   "metadata": {},
   "outputs": [],
   "source": [
    "loan_train['avg_cur_bal']=loan_train['avg_cur_bal'].fillna(np.mean(loan_train['avg_cur_bal']))\n",
    "loan_test['avg_cur_bal']=loan_test['avg_cur_bal'].fillna(np.mean(loan_train['avg_cur_bal']))"
   ]
  },
  {
   "cell_type": "code",
   "execution_count": null,
   "metadata": {},
   "outputs": [],
   "source": [
    "feature_desc[feature_desc['LoanStatNew']=='bc_open_to_buy']['Description'].values"
   ]
  },
  {
   "cell_type": "code",
   "execution_count": null,
   "metadata": {},
   "outputs": [],
   "source": [
    "loan_train['bc_open_to_buy']=loan_train['bc_open_to_buy'].fillna(np.mean(loan_train['bc_open_to_buy']))\n",
    "loan_test['bc_open_to_buy']=loan_test['bc_open_to_buy'].fillna(np.mean(loan_train['bc_open_to_buy']))"
   ]
  },
  {
   "cell_type": "code",
   "execution_count": null,
   "metadata": {},
   "outputs": [],
   "source": [
    "feature_desc[feature_desc['LoanStatNew']=='bc_util']['Description'].values"
   ]
  },
  {
   "cell_type": "code",
   "execution_count": null,
   "metadata": {},
   "outputs": [],
   "source": [
    "loan_train['bc_util']=loan_train['bc_util'].fillna(np.mean(loan_train['bc_util']))\n",
    "loan_test['bc_util']=loan_test['bc_util'].fillna(np.mean(loan_train['bc_util']))"
   ]
  },
  {
   "cell_type": "code",
   "execution_count": null,
   "metadata": {},
   "outputs": [],
   "source": [
    "feature_desc[feature_desc['LoanStatNew']=='chargeoff_within_12_mths']['Description'].values"
   ]
  },
  {
   "cell_type": "code",
   "execution_count": null,
   "metadata": {},
   "outputs": [],
   "source": [
    "loan_train['chargeoff_within_12_mths']=loan_train['chargeoff_within_12_mths'].fillna(0)\n",
    "loan_test['chargeoff_within_12_mths']=loan_test['chargeoff_within_12_mths'].fillna(0)"
   ]
  },
  {
   "cell_type": "code",
   "execution_count": null,
   "metadata": {},
   "outputs": [],
   "source": [
    "feature_desc[feature_desc['LoanStatNew']=='delinq_amnt']['Description'].values"
   ]
  },
  {
   "cell_type": "code",
   "execution_count": null,
   "metadata": {},
   "outputs": [],
   "source": [
    "loan_train['delinq_amnt']=loan_train['delinq_amnt'].fillna(0)\n",
    "loan_testn['delinq_amnt']=loan_test['delinq_amnt'].fillna(0)"
   ]
  },
  {
   "cell_type": "code",
   "execution_count": null,
   "metadata": {},
   "outputs": [],
   "source": [
    "feature_desc[feature_desc['LoanStatNew']=='mo_sin_old_il_acct']['Description'].values"
   ]
  },
  {
   "cell_type": "code",
   "execution_count": null,
   "metadata": {},
   "outputs": [],
   "source": [
    "loan_train['mo_sin_old_il_acct']=loan_train['mo_sin_old_il_acct'].fillna(np.round(np.mean(loan_train['mo_sin_old_il_acct']),0))\n",
    "loan_test['mo_sin_old_il_acct']=loan_test['mo_sin_old_il_acct'].fillna(np.round(np.mean(loan_train['mo_sin_old_il_acct']),0))"
   ]
  },
  {
   "cell_type": "code",
   "execution_count": null,
   "metadata": {},
   "outputs": [],
   "source": [
    "feature_desc[feature_desc['LoanStatNew']=='mo_sin_old_rev_tl_op']['Description'].values"
   ]
  },
  {
   "cell_type": "code",
   "execution_count": null,
   "metadata": {},
   "outputs": [],
   "source": [
    "loan_train['mo_sin_old_rev_tl_op']=loan_train['mo_sin_old_rev_tl_op'].fillna(np.round(np.mean(loan_train['mo_sin_old_rev_tl_op']),0))\n",
    "loan_test['mo_sin_old_rev_tl_op']=loan_test['mo_sin_old_rev_tl_op'].fillna(np.round(np.mean(loan_train['mo_sin_old_rev_tl_op']),0))"
   ]
  },
  {
   "cell_type": "code",
   "execution_count": null,
   "metadata": {},
   "outputs": [],
   "source": [
    "feature_desc[feature_desc['LoanStatNew']=='mo_sin_rcnt_rev_tl_op']['Description'].values"
   ]
  },
  {
   "cell_type": "code",
   "execution_count": null,
   "metadata": {},
   "outputs": [],
   "source": [
    "loan_train['mo_sin_rcnt_rev_tl_op']=loan_train['mo_sin_rcnt_rev_tl_op'].fillna(np.round(np.mean(loan_train['mo_sin_rcnt_rev_tl_op']),0))\n",
    "loan_test['mo_sin_rcnt_rev_tl_op']=loan_test['mo_sin_rcnt_rev_tl_op'].fillna(np.round(np.mean(loan_train['mo_sin_rcnt_rev_tl_op']),0))"
   ]
  },
  {
   "cell_type": "code",
   "execution_count": null,
   "metadata": {},
   "outputs": [],
   "source": [
    "feature_desc[feature_desc['LoanStatNew']=='mo_sin_rcnt_tl']['Description'].values"
   ]
  },
  {
   "cell_type": "code",
   "execution_count": null,
   "metadata": {},
   "outputs": [],
   "source": [
    "loan_train['mo_sin_rcnt_tl']=loan_train['mo_sin_rcnt_tl'].fillna(np.round(np.mean(loan_train['mo_sin_rcnt_tl']),0))\n",
    "loan_test['mo_sin_rcnt_tl']=loan_test['mo_sin_rcnt_tl'].fillna(np.round(np.mean(loan_train['mo_sin_rcnt_tl']),0))"
   ]
  },
  {
   "cell_type": "code",
   "execution_count": null,
   "metadata": {},
   "outputs": [],
   "source": [
    "feature_desc[feature_desc['LoanStatNew']=='mort_acc']['Description'].values"
   ]
  },
  {
   "cell_type": "code",
   "execution_count": null,
   "metadata": {},
   "outputs": [],
   "source": [
    "loan_train['mort_acc']=loan_train['mort_acc'].fillna(np.round(np.mean(loan_train['mort_acc']),0))\n",
    "loan_test['mort_acc']=loan_test['mort_acc'].fillna(np.round(np.mean(loan_train['mort_acc']),0))"
   ]
  },
  {
   "cell_type": "markdown",
   "metadata": {},
   "source": [
    "AND once again....refresh"
   ]
  },
  {
   "cell_type": "code",
   "execution_count": null,
   "metadata": {},
   "outputs": [],
   "source": [
    "columns_nan_4=loan_train.columns[loan_train.isnull().sum()!=0].values"
   ]
  },
  {
   "cell_type": "code",
   "execution_count": null,
   "metadata": {},
   "outputs": [],
   "source": [
    "len(columns_nan_4)"
   ]
  },
  {
   "cell_type": "code",
   "execution_count": null,
   "metadata": {
    "scrolled": true
   },
   "outputs": [],
   "source": [
    "columns_nan_4"
   ]
  },
  {
   "cell_type": "markdown",
   "metadata": {},
   "source": [
    "1. 'mths_since_recent_bc'. Number of months since most recent bankcard account opened. Nans replaced with mean round to nearest integer.\n",
    "2. 'mths_since_recent_inq' Number of months since most recent inquiry. Nans replaced with mean round to nearest integer.\n",
    "3. 'mths_since_recent_revol_delinq'. Number of months since most recent revolving delinquency.Nans replaced with 0\n",
    "4. 'num_accts_ever_120_pd'. Number of accounts ever 120 or more days past due. Nans replaced with 0.\n",
    "5. 'num_actv_bc_tl'. Number of currently active bankcard accounts. Nans replaced with mean round to nearest integer.\n",
    "6. 'num_actv_rev_tl' Number of currently active revolving trades.Nans replaced with mean round to nearest integer.\n",
    "7. 'num_bc_sats'.Number of satisfactory bankcard accounts. Nans replaced with mean round to nearest integer.\n",
    "8. 'num_bc_tl'.Number of bankcard accounts.  Nans replaced with mean round to nearest integer.\n",
    "9. 'num_il_tl'. Number of installment accounts. Nans replaced with mean round to nearest integer.\n",
    "10. 'num_op_rev_tl'. Number of open revolving accounts"
   ]
  },
  {
   "cell_type": "code",
   "execution_count": null,
   "metadata": {},
   "outputs": [],
   "source": [
    "feature_desc[feature_desc['LoanStatNew']=='mths_since_recent_bc']['Description'].values"
   ]
  },
  {
   "cell_type": "code",
   "execution_count": null,
   "metadata": {},
   "outputs": [],
   "source": [
    "loan_train['mths_since_recent_bc']=loan_train['mths_since_recent_bc'].fillna(np.round(np.mean(loan_train['mths_since_recent_bc']),0))\n",
    "loan_test['mths_since_recent_bc']=loan_test['mths_since_recent_bc'].fillna(np.round(np.mean(loan_train['mths_since_recent_bc']),0))"
   ]
  },
  {
   "cell_type": "code",
   "execution_count": null,
   "metadata": {},
   "outputs": [],
   "source": [
    "feature_desc[feature_desc['LoanStatNew']=='mths_since_recent_inq']['Description'].values"
   ]
  },
  {
   "cell_type": "code",
   "execution_count": null,
   "metadata": {},
   "outputs": [],
   "source": [
    "loan_train['mths_since_recent_inq']=loan_train['mths_since_recent_inq'].fillna(np.round(np.mean(loan_train['mths_since_recent_inq']),0))\n",
    "loan_test['mths_since_recent_inq']=loan_test['mths_since_recent_inq'].fillna(np.round(np.mean(loan_train['mths_since_recent_inq']),0))"
   ]
  },
  {
   "cell_type": "code",
   "execution_count": null,
   "metadata": {},
   "outputs": [],
   "source": [
    "feature_desc[feature_desc['LoanStatNew']=='mths_since_recent_revol_delinq']['Description'].values"
   ]
  },
  {
   "cell_type": "code",
   "execution_count": null,
   "metadata": {},
   "outputs": [],
   "source": [
    "loan_train['mths_since_recent_revol_delinq']=loan_train['mths_since_recent_revol_delinq'].fillna(0)\n",
    "loan_test['mths_since_recent_revol_delinq']=loan_test['mths_since_recent_revol_delinq'].fillna(0)"
   ]
  },
  {
   "cell_type": "code",
   "execution_count": null,
   "metadata": {
    "scrolled": true
   },
   "outputs": [],
   "source": [
    "feature_desc[feature_desc['LoanStatNew']=='num_accts_ever_120_pd']['Description'].values"
   ]
  },
  {
   "cell_type": "code",
   "execution_count": null,
   "metadata": {},
   "outputs": [],
   "source": [
    "loan_train['num_accts_ever_120_pd']=loan_train['num_accts_ever_120_pd'].fillna(0)\n",
    "loan_test['num_accts_ever_120_pd']=loan_test['num_accts_ever_120_pd'].fillna(0)"
   ]
  },
  {
   "cell_type": "code",
   "execution_count": null,
   "metadata": {},
   "outputs": [],
   "source": [
    "feature_desc[feature_desc['LoanStatNew']=='num_actv_bc_tl']['Description'].values"
   ]
  },
  {
   "cell_type": "code",
   "execution_count": null,
   "metadata": {},
   "outputs": [],
   "source": [
    "loan_train['num_actv_bc_tl']=loan_train['num_actv_bc_tl'].fillna(np.round(np.mean(loan_train['mths_since_recent_inq']),0))\n",
    "loan_test['num_actv_bc_tl']=loan_test['num_actv_bc_tl'].fillna(np.round(np.mean(loan_train['mths_since_recent_inq']),0))"
   ]
  },
  {
   "cell_type": "code",
   "execution_count": null,
   "metadata": {},
   "outputs": [],
   "source": [
    "feature_desc[feature_desc['LoanStatNew']=='num_actv_rev_tl']['Description'].values"
   ]
  },
  {
   "cell_type": "code",
   "execution_count": null,
   "metadata": {},
   "outputs": [],
   "source": [
    "loan_train['num_actv_rev_tl']=loan_train['num_actv_rev_tl'].fillna(np.round(np.mean(loan_train['num_actv_rev_tl']),0))\n",
    "loan_test['num_actv_rev_tl']=loan_test['num_actv_rev_tl'].fillna(np.round(np.mean(loan_train['num_actv_rev_tl']),0))"
   ]
  },
  {
   "cell_type": "code",
   "execution_count": null,
   "metadata": {},
   "outputs": [],
   "source": [
    "feature_desc[feature_desc['LoanStatNew']=='num_bc_sats']['Description'].values"
   ]
  },
  {
   "cell_type": "code",
   "execution_count": null,
   "metadata": {},
   "outputs": [],
   "source": [
    "loan_train['num_bc_sats']=loan_train['num_bc_sats'].fillna(np.round(np.mean(loan_train['num_bc_sats']),0))\n",
    "loan_test['num_bc_sats']=loan_test['num_bc_sats'].fillna(np.round(np.mean(loan_train['num_bc_sats']),0))"
   ]
  },
  {
   "cell_type": "code",
   "execution_count": null,
   "metadata": {},
   "outputs": [],
   "source": [
    "feature_desc[feature_desc['LoanStatNew']=='num_bc_tl']['Description'].values"
   ]
  },
  {
   "cell_type": "code",
   "execution_count": null,
   "metadata": {},
   "outputs": [],
   "source": [
    "loan_train['num_bc_tl']=loan_train['num_bc_tl'].fillna(np.round(np.mean(loan_train['num_bc_tl']),0))\n",
    "loan_test['num_bc_tl']=loan_test['num_bc_tl'].fillna(np.round(np.mean(loan_train['num_bc_tl']),0))"
   ]
  },
  {
   "cell_type": "code",
   "execution_count": null,
   "metadata": {},
   "outputs": [],
   "source": [
    "feature_desc[feature_desc['LoanStatNew']=='num_il_tl']['Description'].values"
   ]
  },
  {
   "cell_type": "code",
   "execution_count": null,
   "metadata": {},
   "outputs": [],
   "source": [
    "loan_train['num_il_tl']=loan_train['num_il_tl'].fillna(np.round(np.mean(loan_train['num_il_tl']),0))\n",
    "loan_test['num_il_tl']=loan_test['num_il_tl'].fillna(np.round(np.mean(loan_train['num_il_tl']),0))"
   ]
  },
  {
   "cell_type": "code",
   "execution_count": null,
   "metadata": {},
   "outputs": [],
   "source": [
    "feature_desc[feature_desc['LoanStatNew']=='num_op_rev_tl']['Description'].values"
   ]
  },
  {
   "cell_type": "code",
   "execution_count": null,
   "metadata": {},
   "outputs": [],
   "source": [
    "loan_train['num_op_rev_tl']=loan_train['num_op_rev_tl'].fillna(np.round(np.mean(loan_train['num_op_rev_tl']),0))\n",
    "loan_test['num_op_rev_tl']=loan_test['num_op_rev_tl'].fillna(np.round(np.mean(loan_train['num_op_rev_tl']),0))"
   ]
  },
  {
   "cell_type": "markdown",
   "metadata": {},
   "source": [
    "This will be the last refresh of them all........."
   ]
  },
  {
   "cell_type": "code",
   "execution_count": null,
   "metadata": {},
   "outputs": [],
   "source": [
    "columns_nan_5=loan_train.columns[loan_train.isnull().sum()!=0].values"
   ]
  },
  {
   "cell_type": "code",
   "execution_count": null,
   "metadata": {},
   "outputs": [],
   "source": [
    "len(columns_nan_5)"
   ]
  },
  {
   "cell_type": "code",
   "execution_count": null,
   "metadata": {
    "scrolled": true
   },
   "outputs": [],
   "source": [
    "columns_nan_5"
   ]
  },
  {
   "cell_type": "markdown",
   "metadata": {},
   "source": [
    "1. 'num_rev_accts'. This is the number of revolving accounts per borrower. Nans replaced with mean rounded to nearest integer.\n",
    "2. 'num_rev_tl_bal_gt_0'. Number of revolving trades with balance >0. Nans replaced with mean rounded to nearest integer.\n",
    "3. 'num_sats'. Number of satisfactoy accounts.  Nans replaced with mean rounded to nearest integer. \n",
    "4. 'num_tl_120dpd_2m'. Number of accounts currently 120 days past due (updated in past 2 months). Nans replaced with 0.\n",
    "5. 'num_tl_30dpd'.Number of accounts currently 30 days past due (updated in past 2 months).Nans replaced with 0.\n",
    "6. 'num_tl_90g_dpd_24m'. Number of accounts 90 or more days past due in last 24 months. Nans replaced with 0.\n",
    "7. 'num_tl_op_past_12m'. Number of accounts opened in past 12 months.Nans replaced with mean rounded to nearest integer.\n",
    "8. 'pct_tl_nvr_dlq'. Percent of trades never delinquent. Nans replaced with mean.\n",
    "9. 'percent_bc_gt_75'.Percentage of all bankcard accounts > 75% of limit.Nans replaced with mean.\n",
    "10. 'pub_rec_bankruptcies'.Number of public record bankruptcies. Nans replaced with 0.\n",
    "11. 'tax_liens'. Number of tax liens. Nans replaced with 0.\n",
    "12. 'tot_hi_cred_lim'. Total high credit/credit limit. Nans replaced with mean.\n",
    "13. 'total_bal_ex_mort'. Total credit balance excluding mortgage.Nans replaced with mean.\n",
    "14. 'total_bc_limit'. Total bankcard high credit/credit limit. Nans replaced with mean.\n",
    "15. 'total_il_high_credit_limit'. Total installment high credit/credit limit. Nans replaced with mean."
   ]
  },
  {
   "cell_type": "code",
   "execution_count": null,
   "metadata": {},
   "outputs": [],
   "source": [
    "feature_desc[feature_desc['LoanStatNew']=='num_rev_accts']['Description'].values"
   ]
  },
  {
   "cell_type": "code",
   "execution_count": null,
   "metadata": {},
   "outputs": [],
   "source": [
    "loan_train['num_rev_accts']=loan_train['num_rev_accts'].fillna(np.round(np.mean(loan_train['num_rev_accts']),0))\n",
    "loan_test['num_rev_accts']=loan_test['num_rev_accts'].fillna(np.round(np.mean(loan_train['num_rev_accts']),0))"
   ]
  },
  {
   "cell_type": "code",
   "execution_count": null,
   "metadata": {},
   "outputs": [],
   "source": [
    "feature_desc[feature_desc['LoanStatNew']=='num_rev_tl_bal_gt_0']['Description'].values"
   ]
  },
  {
   "cell_type": "code",
   "execution_count": null,
   "metadata": {},
   "outputs": [],
   "source": [
    "loan_train['num_rev_tl_bal_gt_0']=loan_train['num_rev_tl_bal_gt_0'].fillna(np.round(np.mean(loan_train['num_rev_tl_bal_gt_0']),0))\n",
    "loan_test['num_rev_tl_bal_gt_0']=loan_test['num_rev_tl_bal_gt_0'].fillna(np.round(np.mean(loan_train['num_rev_tl_bal_gt_0']),0))"
   ]
  },
  {
   "cell_type": "code",
   "execution_count": null,
   "metadata": {},
   "outputs": [],
   "source": [
    "feature_desc[feature_desc['LoanStatNew']=='num_sats']['Description'].values"
   ]
  },
  {
   "cell_type": "code",
   "execution_count": null,
   "metadata": {},
   "outputs": [],
   "source": [
    "loan_train['num_sats']=loan_train['num_sats'].fillna(np.round(np.mean(loan_train['num_sats']),0))\n",
    "loan_test['num_sats']=loan_test['num_sats'].fillna(np.round(np.mean(loan_train['num_sats']),0))"
   ]
  },
  {
   "cell_type": "code",
   "execution_count": null,
   "metadata": {},
   "outputs": [],
   "source": [
    "feature_desc[feature_desc['LoanStatNew']=='num_tl_120dpd_2m']['Description'].values"
   ]
  },
  {
   "cell_type": "code",
   "execution_count": null,
   "metadata": {},
   "outputs": [],
   "source": [
    "loan_train['num_tl_120dpd_2m']=loan_train['num_tl_120dpd_2m'].fillna(0)\n",
    "loan_test['num_tl_120dpd_2m']=loan_test['num_tl_120dpd_2m'].fillna(0)"
   ]
  },
  {
   "cell_type": "code",
   "execution_count": null,
   "metadata": {},
   "outputs": [],
   "source": [
    "feature_desc[feature_desc['LoanStatNew']=='num_tl_30dpd']['Description'].values"
   ]
  },
  {
   "cell_type": "code",
   "execution_count": null,
   "metadata": {},
   "outputs": [],
   "source": [
    "loan_train['num_tl_30dpd']=loan_train['num_tl_30dpd'].fillna(0)\n",
    "loan_test['num_tl_30dpd']=loan_test['num_tl_30dpd'].fillna(0)"
   ]
  },
  {
   "cell_type": "code",
   "execution_count": null,
   "metadata": {},
   "outputs": [],
   "source": [
    "feature_desc[feature_desc['LoanStatNew']=='num_tl_90g_dpd_24m']['Description'].values"
   ]
  },
  {
   "cell_type": "code",
   "execution_count": null,
   "metadata": {},
   "outputs": [],
   "source": [
    "loan_train['num_tl_90g_dpd_24m']=loan_train['num_tl_90g_dpd_24m'].fillna(0)\n",
    "loan_test['num_tl_90g_dpd_24m']=loan_test['num_tl_90g_dpd_24m'].fillna(0)"
   ]
  },
  {
   "cell_type": "code",
   "execution_count": null,
   "metadata": {},
   "outputs": [],
   "source": [
    "feature_desc[feature_desc['LoanStatNew']=='num_tl_op_past_12m']['Description'].values"
   ]
  },
  {
   "cell_type": "code",
   "execution_count": null,
   "metadata": {},
   "outputs": [],
   "source": [
    "loan_train['num_tl_op_past_12m']=loan_train['num_tl_op_past_12m'].fillna(np.round(np.mean(loan_train['num_tl_op_past_12m']),0))\n",
    "loan_test['num_tl_op_past_12m']=loan_test['num_tl_op_past_12m'].fillna(np.round(np.mean(loan_train['num_tl_op_past_12m']),0))"
   ]
  },
  {
   "cell_type": "code",
   "execution_count": null,
   "metadata": {},
   "outputs": [],
   "source": [
    "feature_desc[feature_desc['LoanStatNew']=='pct_tl_nvr_dlq']['Description'].values"
   ]
  },
  {
   "cell_type": "code",
   "execution_count": null,
   "metadata": {},
   "outputs": [],
   "source": [
    "loan_train['pct_tl_nvr_dlq']=loan_train['pct_tl_nvr_dlq'].fillna(np.mean(loan_train['pct_tl_nvr_dlq']))\n",
    "loan_test['pct_tl_nvr_dlq']=loan_test['pct_tl_nvr_dlq'].fillna(np.mean(loan_train['pct_tl_nvr_dlq']))"
   ]
  },
  {
   "cell_type": "code",
   "execution_count": null,
   "metadata": {},
   "outputs": [],
   "source": [
    "feature_desc[feature_desc['LoanStatNew']=='percent_bc_gt_75']['Description'].values"
   ]
  },
  {
   "cell_type": "code",
   "execution_count": null,
   "metadata": {},
   "outputs": [],
   "source": [
    "loan_train['percent_bc_gt_75']=loan_train['percent_bc_gt_75'].fillna(np.mean(loan_train['percent_bc_gt_75']))\n",
    "loan_test['percent_bc_gt_75']=loan_test['percent_bc_gt_75'].fillna(np.mean(loan_train['percent_bc_gt_75']))"
   ]
  },
  {
   "cell_type": "code",
   "execution_count": null,
   "metadata": {},
   "outputs": [],
   "source": [
    "feature_desc[feature_desc['LoanStatNew']=='pub_rec_bankruptcies']['Description'].values"
   ]
  },
  {
   "cell_type": "code",
   "execution_count": null,
   "metadata": {},
   "outputs": [],
   "source": [
    "loan_train['pub_rec_bankruptcies']=loan_train['pub_rec_bankruptcies'].fillna(0)\n",
    "loan_test['pub_rec_bankruptcies']=loan_test['pub_rec_bankruptcies'].fillna(0)"
   ]
  },
  {
   "cell_type": "code",
   "execution_count": null,
   "metadata": {},
   "outputs": [],
   "source": [
    "feature_desc[feature_desc['LoanStatNew']=='tax_liens']['Description'].values"
   ]
  },
  {
   "cell_type": "code",
   "execution_count": null,
   "metadata": {},
   "outputs": [],
   "source": [
    "loan_train['tax_liens']=loan_train['tax_liens'].fillna(0)\n",
    "loan_test['tax_liens']=loan_test['tax_liens'].fillna(0)"
   ]
  },
  {
   "cell_type": "code",
   "execution_count": null,
   "metadata": {},
   "outputs": [],
   "source": [
    "feature_desc[feature_desc['LoanStatNew']=='tot_hi_cred_lim']['Description'].values"
   ]
  },
  {
   "cell_type": "code",
   "execution_count": null,
   "metadata": {},
   "outputs": [],
   "source": [
    "loan_train['tot_hi_cred_lim']=loan_train['tot_hi_cred_lim'].fillna(np.mean(loan_train['tot_hi_cred_lim']))\n",
    "loan_test['tot_hi_cred_lim']=loan_test['tot_hi_cred_lim'].fillna(np.mean(loan_train['tot_hi_cred_lim']))"
   ]
  },
  {
   "cell_type": "code",
   "execution_count": null,
   "metadata": {},
   "outputs": [],
   "source": [
    "feature_desc[feature_desc['LoanStatNew']=='total_bal_ex_mort']['Description'].values"
   ]
  },
  {
   "cell_type": "code",
   "execution_count": null,
   "metadata": {},
   "outputs": [],
   "source": [
    "loan_train['total_bal_ex_mort']=loan_train['total_bal_ex_mort'].fillna(np.mean(loan_train['total_bal_ex_mort']))\n",
    "loan_test['total_bal_ex_mort']=loan_test['total_bal_ex_mort'].fillna(np.mean(loan_train['total_bal_ex_mort']))"
   ]
  },
  {
   "cell_type": "code",
   "execution_count": null,
   "metadata": {},
   "outputs": [],
   "source": [
    "feature_desc[feature_desc['LoanStatNew']=='total_bc_limit']['Description'].values"
   ]
  },
  {
   "cell_type": "code",
   "execution_count": null,
   "metadata": {},
   "outputs": [],
   "source": [
    "loan_train['total_bc_limit']=loan_train['total_bc_limit'].fillna(np.mean(loan_train['total_bc_limit']))\n",
    "loan_test['total_bc_limit']=loan_test['total_bc_limit'].fillna(np.mean(loan_train['total_bc_limit']))"
   ]
  },
  {
   "cell_type": "code",
   "execution_count": null,
   "metadata": {},
   "outputs": [],
   "source": [
    "feature_desc[feature_desc['LoanStatNew']=='total_il_high_credit_limit']['Description'].values"
   ]
  },
  {
   "cell_type": "code",
   "execution_count": null,
   "metadata": {},
   "outputs": [],
   "source": [
    "loan_train['total_il_high_credit_limit']=loan_train['total_il_high_credit_limit'].fillna(np.mean(loan_train['total_il_high_credit_limit']))\n",
    "loan_test['total_il_high_credit_limit']=loan_test['total_il_high_credit_limit'].fillna(np.mean(loan_train['total_il_high_credit_limit']))"
   ]
  },
  {
   "cell_type": "markdown",
   "metadata": {},
   "source": [
    "Let's do a final test to ensure that there are no Nan values in our data."
   ]
  },
  {
   "cell_type": "code",
   "execution_count": null,
   "metadata": {},
   "outputs": [],
   "source": [
    "loan_train.columns[loan_train.isnull().sum()!=0]"
   ]
  },
  {
   "cell_type": "code",
   "execution_count": null,
   "metadata": {},
   "outputs": [],
   "source": [
    "loan_test.columns[loan_train.isnull().sum()!=0]"
   ]
  },
  {
   "cell_type": "markdown",
   "metadata": {},
   "source": [
    "All our columns contating values and there were no evident outliers detected that were signicant enough to remove."
   ]
  },
  {
   "cell_type": "code",
   "execution_count": null,
   "metadata": {},
   "outputs": [],
   "source": [
    "df_X_train=loan_train\n",
    "df_X_test=loan_test"
   ]
  },
  {
   "cell_type": "code",
   "execution_count": null,
   "metadata": {},
   "outputs": [],
   "source": [
    "df_X_train.to_csv(\"C:\\\\Users\\\\yfawz\\\\OneDrive\\\\Desktop\\\\load_default_prediction\\\\data\\\\processed\\\\df_X_train.csv\")\n",
    "df_X_test.to_csv(\"C:\\\\Users\\\\yfawz\\\\OneDrive\\\\Desktop\\\\load_default_prediction\\\\data\\\\processed\\\\df_X_test.csv\")"
   ]
  },
  {
   "cell_type": "code",
   "execution_count": null,
   "metadata": {},
   "outputs": [],
   "source": [
    "y_train.to_csv(\"C:\\\\Users\\\\yfawz\\\\OneDrive\\\\Desktop\\\\load_default_prediction\\\\data\\\\processed\\\\y_train.csv\")\n",
    "y_test.to_csv(\"C:\\\\Users\\\\yfawz\\\\OneDrive\\\\Desktop\\\\load_default_prediction\\\\data\\\\processed\\\\y_test.csv\")"
   ]
  }
 ],
 "metadata": {
  "kernelspec": {
   "display_name": "Python 3",
   "language": "python",
   "name": "python3"
  },
  "language_info": {
   "codemirror_mode": {
    "name": "ipython",
    "version": 3
   },
   "file_extension": ".py",
   "mimetype": "text/x-python",
   "name": "python",
   "nbconvert_exporter": "python",
   "pygments_lexer": "ipython3",
   "version": "3.7.3"
  }
 },
 "nbformat": 4,
 "nbformat_minor": 2
}
