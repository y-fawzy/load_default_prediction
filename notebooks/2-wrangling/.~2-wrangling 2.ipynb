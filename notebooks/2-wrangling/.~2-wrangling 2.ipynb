{
 "cells": [
  {
   "cell_type": "markdown",
   "metadata": {},
   "source": [
    "# 2-Wrangling\n",
    "\n",
    "This sections aims to deal with outliers and missing data."
   ]
  },
  {
   "cell_type": "code",
   "execution_count": 1,
   "metadata": {},
   "outputs": [],
   "source": [
    "import pandas as pd\n",
    "import numpy as np\n",
    "from sklearn.model_selection import train_test_split \n",
    "import pickle\n",
    "import re"
   ]
  },
  {
   "cell_type": "code",
   "execution_count": 2,
   "metadata": {},
   "outputs": [],
   "source": [
    "loan_data=pd.read_csv(\"C:\\\\Users\\\\yfawz\\\\OneDrive\\\\Desktop\\\\load_default_prediction\\\\data\\\\raw\\\\loan.csv\", low_memory=False)"
   ]
  },
  {
   "cell_type": "code",
   "execution_count": 3,
   "metadata": {},
   "outputs": [],
   "source": [
    "feature_desc=pd.read_excel(\"C:\\\\Users\\\\yfawz\\\\OneDrive\\\\Desktop\\\\load_default_prediction\\\\data\\\\raw\\\\LCDataDictionary.xlsx\")"
   ]
  },
  {
   "cell_type": "code",
   "execution_count": 6,
   "metadata": {},
   "outputs": [
    {
     "data": {
      "text/plain": [
       "id                                            2260668\n",
       "member_id                                     2260668\n",
       "loan_amnt                                           0\n",
       "funded_amnt                                         0\n",
       "funded_amnt_inv                                     0\n",
       "term                                                0\n",
       "int_rate                                            0\n",
       "installment                                         0\n",
       "grade                                               0\n",
       "sub_grade                                           0\n",
       "emp_title                                      166969\n",
       "emp_length                                     146907\n",
       "home_ownership                                      0\n",
       "annual_inc                                          4\n",
       "verification_status                                 0\n",
       "issue_d                                             0\n",
       "loan_status                                         0\n",
       "pymnt_plan                                          0\n",
       "url                                           2260668\n",
       "desc                                          2134601\n",
       "purpose                                             0\n",
       "title                                           23325\n",
       "zip_code                                            1\n",
       "addr_state                                          0\n",
       "dti                                              1711\n",
       "delinq_2yrs                                        29\n",
       "earliest_cr_line                                   29\n",
       "inq_last_6mths                                     30\n",
       "mths_since_last_delinq                        1158502\n",
       "mths_since_last_record                        1901512\n",
       "                                               ...   \n",
       "sec_app_open_acc                              2152647\n",
       "sec_app_revol_util                            2154484\n",
       "sec_app_open_act_il                           2152647\n",
       "sec_app_num_rev_accts                         2152647\n",
       "sec_app_chargeoff_within_12_mths              2152647\n",
       "sec_app_collections_12_mths_ex_med            2152647\n",
       "sec_app_mths_since_last_major_derog           2224726\n",
       "hardship_flag                                       0\n",
       "hardship_type                                 2250055\n",
       "hardship_reason                               2250055\n",
       "hardship_status                               2250055\n",
       "deferral_term                                 2250055\n",
       "hardship_amount                               2250055\n",
       "hardship_start_date                           2250055\n",
       "hardship_end_date                             2250055\n",
       "payment_plan_start_date                       2250055\n",
       "hardship_length                               2250055\n",
       "hardship_dpd                                  2250055\n",
       "hardship_loan_status                          2250055\n",
       "orig_projected_additional_accrued_interest    2252242\n",
       "hardship_payoff_balance_amount                2250055\n",
       "hardship_last_payment_amount                  2250055\n",
       "disbursement_method                                 0\n",
       "debt_settlement_flag                                0\n",
       "debt_settlement_flag_date                     2227612\n",
       "settlement_status                             2227612\n",
       "settlement_date                               2227612\n",
       "settlement_amount                             2227612\n",
       "settlement_percentage                         2227612\n",
       "settlement_term                               2227612\n",
       "Length: 145, dtype: int64"
      ]
     },
     "execution_count": 6,
     "metadata": {},
     "output_type": "execute_result"
    }
   ],
   "source": [
    "loan_data.isnull().sum()"
   ]
  },
  {
   "cell_type": "code",
   "execution_count": 7,
   "metadata": {},
   "outputs": [
    {
     "data": {
      "text/plain": [
       "array(['id', 'member_id', 'loan_amnt', 'funded_amnt', 'funded_amnt_inv',\n",
       "       'term', 'int_rate', 'installment', 'grade', 'sub_grade',\n",
       "       'emp_title', 'emp_length', 'home_ownership', 'annual_inc',\n",
       "       'verification_status', 'issue_d', 'loan_status', 'pymnt_plan',\n",
       "       'url', 'desc', 'purpose', 'title', 'zip_code', 'addr_state', 'dti',\n",
       "       'delinq_2yrs', 'earliest_cr_line', 'inq_last_6mths',\n",
       "       'mths_since_last_delinq', 'mths_since_last_record', 'open_acc',\n",
       "       'pub_rec', 'revol_bal', 'revol_util', 'total_acc',\n",
       "       'initial_list_status', 'out_prncp', 'out_prncp_inv', 'total_pymnt',\n",
       "       'total_pymnt_inv', 'total_rec_prncp', 'total_rec_int',\n",
       "       'total_rec_late_fee', 'recoveries', 'collection_recovery_fee',\n",
       "       'last_pymnt_d', 'last_pymnt_amnt', 'next_pymnt_d',\n",
       "       'last_credit_pull_d', 'collections_12_mths_ex_med',\n",
       "       'mths_since_last_major_derog', 'policy_code', 'application_type',\n",
       "       'annual_inc_joint', 'dti_joint', 'verification_status_joint',\n",
       "       'acc_now_delinq', 'tot_coll_amt', 'tot_cur_bal', 'open_acc_6m',\n",
       "       'open_act_il', 'open_il_12m', 'open_il_24m', 'mths_since_rcnt_il',\n",
       "       'total_bal_il', 'il_util', 'open_rv_12m', 'open_rv_24m',\n",
       "       'max_bal_bc', 'all_util', 'total_rev_hi_lim', 'inq_fi',\n",
       "       'total_cu_tl', 'inq_last_12m', 'acc_open_past_24mths',\n",
       "       'avg_cur_bal', 'bc_open_to_buy', 'bc_util',\n",
       "       'chargeoff_within_12_mths', 'delinq_amnt', 'mo_sin_old_il_acct',\n",
       "       'mo_sin_old_rev_tl_op', 'mo_sin_rcnt_rev_tl_op', 'mo_sin_rcnt_tl',\n",
       "       'mort_acc', 'mths_since_recent_bc', 'mths_since_recent_bc_dlq',\n",
       "       'mths_since_recent_inq', 'mths_since_recent_revol_delinq',\n",
       "       'num_accts_ever_120_pd', 'num_actv_bc_tl', 'num_actv_rev_tl',\n",
       "       'num_bc_sats', 'num_bc_tl', 'num_il_tl', 'num_op_rev_tl',\n",
       "       'num_rev_accts', 'num_rev_tl_bal_gt_0', 'num_sats',\n",
       "       'num_tl_120dpd_2m', 'num_tl_30dpd', 'num_tl_90g_dpd_24m',\n",
       "       'num_tl_op_past_12m', 'pct_tl_nvr_dlq', 'percent_bc_gt_75',\n",
       "       'pub_rec_bankruptcies', 'tax_liens', 'tot_hi_cred_lim',\n",
       "       'total_bal_ex_mort', 'total_bc_limit',\n",
       "       'total_il_high_credit_limit', 'revol_bal_joint',\n",
       "       'sec_app_earliest_cr_line', 'sec_app_inq_last_6mths',\n",
       "       'sec_app_mort_acc', 'sec_app_open_acc', 'sec_app_revol_util',\n",
       "       'sec_app_open_act_il', 'sec_app_num_rev_accts',\n",
       "       'sec_app_chargeoff_within_12_mths',\n",
       "       'sec_app_collections_12_mths_ex_med',\n",
       "       'sec_app_mths_since_last_major_derog', 'hardship_flag',\n",
       "       'hardship_type', 'hardship_reason', 'hardship_status',\n",
       "       'deferral_term', 'hardship_amount', 'hardship_start_date',\n",
       "       'hardship_end_date', 'payment_plan_start_date', 'hardship_length',\n",
       "       'hardship_dpd', 'hardship_loan_status',\n",
       "       'orig_projected_additional_accrued_interest',\n",
       "       'hardship_payoff_balance_amount', 'hardship_last_payment_amount',\n",
       "       'disbursement_method', 'debt_settlement_flag',\n",
       "       'debt_settlement_flag_date', 'settlement_status',\n",
       "       'settlement_date', 'settlement_amount', 'settlement_percentage',\n",
       "       'settlement_term'], dtype=object)"
      ]
     },
     "execution_count": 7,
     "metadata": {},
     "output_type": "execute_result"
    }
   ],
   "source": [
    "loan_data.columns.values"
   ]
  },
  {
   "cell_type": "markdown",
   "metadata": {},
   "source": [
    "There are features in this dataset that are not required, so let's remove examine which ones we need and not, one by one.\n",
    "\n",
    "But before we do that, we will split the set into train and test splits."
   ]
  },
  {
   "cell_type": "code",
   "execution_count": 21,
   "metadata": {},
   "outputs": [],
   "source": [
    "X_train, X_test, y_train, y_test = train_test_split(loan_data.drop('loan_status', axis=1).values, \n",
    "                                                    loan_data.loan_status.values,\n",
    "                                                    test_size=0.25,\n",
    "                                                    stratify=loan_data.loan_status.values)"
   ]
  },
  {
   "cell_type": "markdown",
   "metadata": {},
   "source": [
    "It took a while to split the data, so we will save the notebook using pickle."
   ]
  },
  {
   "cell_type": "code",
   "execution_count": 12,
   "metadata": {},
   "outputs": [],
   "source": [
    "with open('train.pickle', 'wb') as f:\n",
    "    pickle.dump([X_train, y_train], f)"
   ]
  },
  {
   "cell_type": "code",
   "execution_count": 13,
   "metadata": {},
   "outputs": [],
   "source": [
    "with open('test.pickle', 'wb') as f:\n",
    "    pickle.dump([X_test, y_test], f)"
   ]
  },
  {
   "cell_type": "code",
   "execution_count": 4,
   "metadata": {},
   "outputs": [],
   "source": [
    "with open('train.pickle', 'rb') as f:\n",
    "    X_train, y_train = pickle.load(f)"
   ]
  },
  {
   "cell_type": "code",
   "execution_count": 5,
   "metadata": {},
   "outputs": [],
   "source": [
    "with open('test.pickle', 'rb') as f:\n",
    "    X_test, y_test = pickle.load(f)"
   ]
  },
  {
   "cell_type": "markdown",
   "metadata": {},
   "source": [
    "Let's check if the target variable has any null values in both the test and training set."
   ]
  },
  {
   "cell_type": "code",
   "execution_count": 9,
   "metadata": {},
   "outputs": [
    {
     "data": {
      "text/plain": [
       "0"
      ]
     },
     "execution_count": 9,
     "metadata": {},
     "output_type": "execute_result"
    }
   ],
   "source": [
    "np.sum(loan_data.loan_status.isnull())"
   ]
  },
  {
   "cell_type": "markdown",
   "metadata": {},
   "source": [
    "The target variable does not have any null values.\n",
    "\n",
    "Let's creat 2 dataframes using the training and testing set and renaming the columns so they are easily identifiable."
   ]
  },
  {
   "cell_type": "code",
   "execution_count": 11,
   "metadata": {},
   "outputs": [
    {
     "data": {
      "text/plain": [
       "(565167, 1695501)"
      ]
     },
     "execution_count": 11,
     "metadata": {},
     "output_type": "execute_result"
    }
   ],
   "source": [
    " len(X_test), len(X_train)"
   ]
  },
  {
   "cell_type": "code",
   "execution_count": 12,
   "metadata": {},
   "outputs": [],
   "source": [
    "loan_train=pd.DataFrame(X_train, columns=loan_data.columns.drop(\"loan_status\"))"
   ]
  },
  {
   "cell_type": "code",
   "execution_count": 13,
   "metadata": {},
   "outputs": [],
   "source": [
    "loan_test=pd.DataFrame(X_test, columns=loan_data.columns.drop(\"loan_status\"))"
   ]
  },
  {
   "cell_type": "markdown",
   "metadata": {},
   "source": [
    "We will start by removing columns that have all null values."
   ]
  },
  {
   "cell_type": "code",
   "execution_count": 14,
   "metadata": {},
   "outputs": [],
   "source": [
    "null_coumns=loan_train.columns[loan_train.isnull().sum()==len(loan_train)]"
   ]
  },
  {
   "cell_type": "code",
   "execution_count": 15,
   "metadata": {},
   "outputs": [
    {
     "data": {
      "text/plain": [
       "Index(['id', 'member_id', 'url'], dtype='object')"
      ]
     },
     "execution_count": 15,
     "metadata": {},
     "output_type": "execute_result"
    }
   ],
   "source": [
    "null_coumns"
   ]
  },
  {
   "cell_type": "markdown",
   "metadata": {},
   "source": [
    "We see that following columns can be dropped as they are all null values and are insignificant:\n",
    "\n",
    "1. 'id'\n",
    "2. 'member_id'\n",
    "3. 'url'\n",
    "\n"
   ]
  },
  {
   "cell_type": "code",
   "execution_count": 16,
   "metadata": {},
   "outputs": [],
   "source": [
    "loan_train.drop(null_coumns, axis=1,inplace=True)"
   ]
  },
  {
   "cell_type": "code",
   "execution_count": 17,
   "metadata": {},
   "outputs": [],
   "source": [
    "loan_test.drop(null_coumns, axis=1,inplace=True)"
   ]
  },
  {
   "cell_type": "markdown",
   "metadata": {},
   "source": [
    "We see that there are a few columns with a significant number of null values. We will set a threshold of 75%. If column values are more than 75% null, they will be dropped as they will not provide much significance when predicting."
   ]
  },
  {
   "cell_type": "code",
   "execution_count": 18,
   "metadata": {},
   "outputs": [],
   "source": [
    "null_columns_75=loan_train.columns[(loan_train.isnull().sum()/len(loan_train))>=0.75]"
   ]
  },
  {
   "cell_type": "code",
   "execution_count": 19,
   "metadata": {},
   "outputs": [
    {
     "data": {
      "text/plain": [
       "Index(['desc', 'mths_since_last_record', 'annual_inc_joint', 'dti_joint',\n",
       "       'verification_status_joint', 'mths_since_recent_bc_dlq',\n",
       "       'revol_bal_joint', 'sec_app_earliest_cr_line', 'sec_app_inq_last_6mths',\n",
       "       'sec_app_mort_acc', 'sec_app_open_acc', 'sec_app_revol_util',\n",
       "       'sec_app_open_act_il', 'sec_app_num_rev_accts',\n",
       "       'sec_app_chargeoff_within_12_mths',\n",
       "       'sec_app_collections_12_mths_ex_med',\n",
       "       'sec_app_mths_since_last_major_derog', 'hardship_type',\n",
       "       'hardship_reason', 'hardship_status', 'deferral_term',\n",
       "       'hardship_amount', 'hardship_start_date', 'hardship_end_date',\n",
       "       'payment_plan_start_date', 'hardship_length', 'hardship_dpd',\n",
       "       'hardship_loan_status', 'orig_projected_additional_accrued_interest',\n",
       "       'hardship_payoff_balance_amount', 'hardship_last_payment_amount',\n",
       "       'debt_settlement_flag_date', 'settlement_status', 'settlement_date',\n",
       "       'settlement_amount', 'settlement_percentage', 'settlement_term'],\n",
       "      dtype='object')"
      ]
     },
     "execution_count": 19,
     "metadata": {},
     "output_type": "execute_result"
    }
   ],
   "source": [
    "null_columns_75"
   ]
  },
  {
   "cell_type": "markdown",
   "metadata": {},
   "source": [
    "Just by looking at the columns, none of them would be significant in predicting lateness."
   ]
  },
  {
   "cell_type": "code",
   "execution_count": 20,
   "metadata": {},
   "outputs": [],
   "source": [
    "loan_train.drop(null_columns_75, axis=1,inplace=True)"
   ]
  },
  {
   "cell_type": "code",
   "execution_count": 21,
   "metadata": {},
   "outputs": [],
   "source": [
    "loan_test.drop(null_columns_75, axis=1,inplace=True)"
   ]
  },
  {
   "cell_type": "code",
   "execution_count": 23,
   "metadata": {},
   "outputs": [
    {
     "data": {
      "text/html": [
       "<div>\n",
       "<style scoped>\n",
       "    .dataframe tbody tr th:only-of-type {\n",
       "        vertical-align: middle;\n",
       "    }\n",
       "\n",
       "    .dataframe tbody tr th {\n",
       "        vertical-align: top;\n",
       "    }\n",
       "\n",
       "    .dataframe thead th {\n",
       "        text-align: right;\n",
       "    }\n",
       "</style>\n",
       "<table border=\"1\" class=\"dataframe\">\n",
       "  <thead>\n",
       "    <tr style=\"text-align: right;\">\n",
       "      <th></th>\n",
       "      <th>loan_amnt</th>\n",
       "      <th>funded_amnt</th>\n",
       "      <th>funded_amnt_inv</th>\n",
       "      <th>term</th>\n",
       "      <th>int_rate</th>\n",
       "      <th>installment</th>\n",
       "      <th>grade</th>\n",
       "      <th>sub_grade</th>\n",
       "      <th>emp_title</th>\n",
       "      <th>emp_length</th>\n",
       "      <th>...</th>\n",
       "      <th>percent_bc_gt_75</th>\n",
       "      <th>pub_rec_bankruptcies</th>\n",
       "      <th>tax_liens</th>\n",
       "      <th>tot_hi_cred_lim</th>\n",
       "      <th>total_bal_ex_mort</th>\n",
       "      <th>total_bc_limit</th>\n",
       "      <th>total_il_high_credit_limit</th>\n",
       "      <th>hardship_flag</th>\n",
       "      <th>disbursement_method</th>\n",
       "      <th>debt_settlement_flag</th>\n",
       "    </tr>\n",
       "  </thead>\n",
       "  <tbody>\n",
       "    <tr>\n",
       "      <th>0</th>\n",
       "      <td>8000</td>\n",
       "      <td>8000</td>\n",
       "      <td>8000</td>\n",
       "      <td>36 months</td>\n",
       "      <td>10.99</td>\n",
       "      <td>261.88</td>\n",
       "      <td>B</td>\n",
       "      <td>B2</td>\n",
       "      <td>Legal Assistant</td>\n",
       "      <td>10+ years</td>\n",
       "      <td>...</td>\n",
       "      <td>50</td>\n",
       "      <td>0</td>\n",
       "      <td>0</td>\n",
       "      <td>11100</td>\n",
       "      <td>8116</td>\n",
       "      <td>7800</td>\n",
       "      <td>0</td>\n",
       "      <td>N</td>\n",
       "      <td>Cash</td>\n",
       "      <td>N</td>\n",
       "    </tr>\n",
       "    <tr>\n",
       "      <th>1</th>\n",
       "      <td>3900</td>\n",
       "      <td>3900</td>\n",
       "      <td>3900</td>\n",
       "      <td>36 months</td>\n",
       "      <td>12.99</td>\n",
       "      <td>131.39</td>\n",
       "      <td>C</td>\n",
       "      <td>C1</td>\n",
       "      <td>radiographer</td>\n",
       "      <td>6 years</td>\n",
       "      <td>...</td>\n",
       "      <td>0</td>\n",
       "      <td>1</td>\n",
       "      <td>0</td>\n",
       "      <td>25881</td>\n",
       "      <td>10129</td>\n",
       "      <td>7750</td>\n",
       "      <td>13531</td>\n",
       "      <td>N</td>\n",
       "      <td>Cash</td>\n",
       "      <td>N</td>\n",
       "    </tr>\n",
       "    <tr>\n",
       "      <th>2</th>\n",
       "      <td>18000</td>\n",
       "      <td>18000</td>\n",
       "      <td>18000</td>\n",
       "      <td>60 months</td>\n",
       "      <td>7.97</td>\n",
       "      <td>364.72</td>\n",
       "      <td>A</td>\n",
       "      <td>A5</td>\n",
       "      <td>Senior Losn Examiner</td>\n",
       "      <td>10+ years</td>\n",
       "      <td>...</td>\n",
       "      <td>0</td>\n",
       "      <td>0</td>\n",
       "      <td>0</td>\n",
       "      <td>305986</td>\n",
       "      <td>82784</td>\n",
       "      <td>35600</td>\n",
       "      <td>117986</td>\n",
       "      <td>N</td>\n",
       "      <td>Cash</td>\n",
       "      <td>N</td>\n",
       "    </tr>\n",
       "    <tr>\n",
       "      <th>3</th>\n",
       "      <td>3500</td>\n",
       "      <td>3500</td>\n",
       "      <td>3500</td>\n",
       "      <td>36 months</td>\n",
       "      <td>15.02</td>\n",
       "      <td>121.37</td>\n",
       "      <td>C</td>\n",
       "      <td>C3</td>\n",
       "      <td>detective</td>\n",
       "      <td>10+ years</td>\n",
       "      <td>...</td>\n",
       "      <td>75</td>\n",
       "      <td>1</td>\n",
       "      <td>0</td>\n",
       "      <td>71470</td>\n",
       "      <td>51208</td>\n",
       "      <td>3500</td>\n",
       "      <td>67970</td>\n",
       "      <td>N</td>\n",
       "      <td>Cash</td>\n",
       "      <td>N</td>\n",
       "    </tr>\n",
       "    <tr>\n",
       "      <th>4</th>\n",
       "      <td>22000</td>\n",
       "      <td>22000</td>\n",
       "      <td>21950</td>\n",
       "      <td>36 months</td>\n",
       "      <td>7.62</td>\n",
       "      <td>685.55</td>\n",
       "      <td>A</td>\n",
       "      <td>A3</td>\n",
       "      <td>Aptean</td>\n",
       "      <td>9 years</td>\n",
       "      <td>...</td>\n",
       "      <td>25</td>\n",
       "      <td>0</td>\n",
       "      <td>0</td>\n",
       "      <td>345978</td>\n",
       "      <td>44605</td>\n",
       "      <td>17700</td>\n",
       "      <td>50928</td>\n",
       "      <td>N</td>\n",
       "      <td>Cash</td>\n",
       "      <td>N</td>\n",
       "    </tr>\n",
       "  </tbody>\n",
       "</table>\n",
       "<p>5 rows × 104 columns</p>\n",
       "</div>"
      ],
      "text/plain": [
       "  loan_amnt funded_amnt funded_amnt_inv        term int_rate installment  \\\n",
       "0      8000        8000            8000   36 months    10.99      261.88   \n",
       "1      3900        3900            3900   36 months    12.99      131.39   \n",
       "2     18000       18000           18000   60 months     7.97      364.72   \n",
       "3      3500        3500            3500   36 months    15.02      121.37   \n",
       "4     22000       22000           21950   36 months     7.62      685.55   \n",
       "\n",
       "  grade sub_grade             emp_title emp_length  ... percent_bc_gt_75  \\\n",
       "0     B        B2       Legal Assistant  10+ years  ...               50   \n",
       "1     C        C1          radiographer    6 years  ...                0   \n",
       "2     A        A5  Senior Losn Examiner  10+ years  ...                0   \n",
       "3     C        C3             detective  10+ years  ...               75   \n",
       "4     A        A3                Aptean    9 years  ...               25   \n",
       "\n",
       "  pub_rec_bankruptcies tax_liens tot_hi_cred_lim total_bal_ex_mort  \\\n",
       "0                    0         0           11100              8116   \n",
       "1                    1         0           25881             10129   \n",
       "2                    0         0          305986             82784   \n",
       "3                    1         0           71470             51208   \n",
       "4                    0         0          345978             44605   \n",
       "\n",
       "  total_bc_limit total_il_high_credit_limit hardship_flag disbursement_method  \\\n",
       "0           7800                          0             N                Cash   \n",
       "1           7750                      13531             N                Cash   \n",
       "2          35600                     117986             N                Cash   \n",
       "3           3500                      67970             N                Cash   \n",
       "4          17700                      50928             N                Cash   \n",
       "\n",
       "  debt_settlement_flag  \n",
       "0                    N  \n",
       "1                    N  \n",
       "2                    N  \n",
       "3                    N  \n",
       "4                    N  \n",
       "\n",
       "[5 rows x 104 columns]"
      ]
     },
     "execution_count": 23,
     "metadata": {},
     "output_type": "execute_result"
    }
   ],
   "source": [
    "loan_train.head()"
   ]
  },
  {
   "cell_type": "markdown",
   "metadata": {},
   "source": [
    "Our features are now 104, down from 145, a 27.5% reduction."
   ]
  },
  {
   "cell_type": "markdown",
   "metadata": {},
   "source": [
    "We now need to deal with all the missing values. Let's find the columsn with missing values."
   ]
  },
  {
   "cell_type": "code",
   "execution_count": 24,
   "metadata": {},
   "outputs": [],
   "source": [
    "columns_nan=loan_train.columns[loan_train.isnull().sum()!=0].values"
   ]
  },
  {
   "cell_type": "code",
   "execution_count": 25,
   "metadata": {},
   "outputs": [
    {
     "data": {
      "text/plain": [
       "73"
      ]
     },
     "execution_count": 25,
     "metadata": {},
     "output_type": "execute_result"
    }
   ],
   "source": [
    "len(columns_nan)"
   ]
  },
  {
   "cell_type": "code",
   "execution_count": 35,
   "metadata": {},
   "outputs": [
    {
     "data": {
      "text/plain": [
       "array(['emp_title', 'emp_length', 'annual_inc', 'title', 'zip_code',\n",
       "       'dti', 'delinq_2yrs', 'earliest_cr_line', 'inq_last_6mths',\n",
       "       'mths_since_last_delinq', 'open_acc', 'pub_rec', 'revol_util',\n",
       "       'total_acc', 'last_pymnt_d', 'next_pymnt_d', 'last_credit_pull_d',\n",
       "       'collections_12_mths_ex_med', 'mths_since_last_major_derog',\n",
       "       'acc_now_delinq', 'tot_coll_amt', 'tot_cur_bal', 'open_acc_6m',\n",
       "       'open_act_il', 'open_il_12m', 'open_il_24m', 'mths_since_rcnt_il',\n",
       "       'total_bal_il', 'il_util', 'open_rv_12m', 'open_rv_24m',\n",
       "       'max_bal_bc', 'all_util', 'total_rev_hi_lim', 'inq_fi',\n",
       "       'total_cu_tl', 'inq_last_12m', 'acc_open_past_24mths',\n",
       "       'avg_cur_bal', 'bc_open_to_buy', 'bc_util',\n",
       "       'chargeoff_within_12_mths', 'delinq_amnt', 'mo_sin_old_il_acct',\n",
       "       'mo_sin_old_rev_tl_op', 'mo_sin_rcnt_rev_tl_op', 'mo_sin_rcnt_tl',\n",
       "       'mort_acc', 'mths_since_recent_bc', 'mths_since_recent_inq',\n",
       "       'mths_since_recent_revol_delinq', 'num_accts_ever_120_pd',\n",
       "       'num_actv_bc_tl', 'num_actv_rev_tl', 'num_bc_sats', 'num_bc_tl',\n",
       "       'num_il_tl', 'num_op_rev_tl', 'num_rev_accts',\n",
       "       'num_rev_tl_bal_gt_0', 'num_sats', 'num_tl_120dpd_2m',\n",
       "       'num_tl_30dpd', 'num_tl_90g_dpd_24m', 'num_tl_op_past_12m',\n",
       "       'pct_tl_nvr_dlq', 'percent_bc_gt_75', 'pub_rec_bankruptcies',\n",
       "       'tax_liens', 'tot_hi_cred_lim', 'total_bal_ex_mort',\n",
       "       'total_bc_limit', 'total_il_high_credit_limit'], dtype=object)"
      ]
     },
     "execution_count": 35,
     "metadata": {},
     "output_type": "execute_result"
    }
   ],
   "source": [
    "columns_nan"
   ]
  },
  {
   "cell_type": "markdown",
   "metadata": {},
   "source": [
    "There are 73 columns with nan values, we need to deal with them.\n",
    "\n",
    "1. 'emp_title', Employment title. The entries are strings. If there are Nan's, they will be classified them as \"Not Given\"\n",
    "2. 'emp_length',Employment Length. The entries are strings. If there are Nan's, they we will classified them as \"Not Given\"\n",
    "3. 'annual_inc', Annual Income. The entries are  floats. If there are Nan's, they will be classified as 0\n",
    "4. 'title', Purpose Title is just another column of purpose but human readable, so this column will be removed.\n",
    "5. 'zip_code', Zip code is that of loanee addresses.  This column will not be useful in our analysis and can be dropped. \n",
    "6. 'dti' is debt-to-income ratio. This is a significant ratio. Entries are floats. Nan's will be replaced with the mean. "
   ]
  },
  {
   "cell_type": "code",
   "execution_count": 26,
   "metadata": {},
   "outputs": [],
   "source": [
    "loan_train['emp_title']=loan_train['emp_title'].fillna(\"Not Given\")\n",
    "loan_test['emp_title']=loan_test['emp_title'].fillna(\"Not Given\")"
   ]
  },
  {
   "cell_type": "code",
   "execution_count": 27,
   "metadata": {},
   "outputs": [],
   "source": [
    "loan_train['emp_length']=loan_train['emp_length'].fillna(\"Not Given\")\n",
    "loan_test['emp_length']=loan_test['emp_length'].fillna(\"Not Given\")"
   ]
  },
  {
   "cell_type": "code",
   "execution_count": 28,
   "metadata": {},
   "outputs": [],
   "source": [
    "loan_train['annual_inc']=loan_train['annual_inc'].fillna(0)\n",
    "loan_test['annual_inc']=loan_test['annual_inc'].fillna(0)"
   ]
  },
  {
   "cell_type": "code",
   "execution_count": 29,
   "metadata": {},
   "outputs": [],
   "source": [
    "loan_train.drop('title', inplace=True, axis=1)\n",
    "loan_test.drop('title', inplace=True, axis=1)"
   ]
  },
  {
   "cell_type": "code",
   "execution_count": 30,
   "metadata": {},
   "outputs": [],
   "source": [
    "loan_train.drop('zip_code', inplace=True, axis=1)\n",
    "loan_test.drop('zip_code', inplace=True, axis=1)"
   ]
  },
  {
   "cell_type": "code",
   "execution_count": 31,
   "metadata": {},
   "outputs": [],
   "source": [
    "loan_train['dti']=loan_train['dti'].fillna(np.mean(loan_train['dti']))\n",
    "loan_test['dti']=loan_test['dti'].fillna(np.mean(loan_train['dti']))"
   ]
  },
  {
   "cell_type": "markdown",
   "metadata": {},
   "source": [
    "Let's refresh so we have a less crowded list. As the other columns will require us to see the description what they are precisely."
   ]
  },
  {
   "cell_type": "code",
   "execution_count": 42,
   "metadata": {},
   "outputs": [],
   "source": [
    "columns_nan_1=loan_train.columns[loan_train.isnull().sum()!=0].values"
   ]
  },
  {
   "cell_type": "code",
   "execution_count": 43,
   "metadata": {},
   "outputs": [
    {
     "data": {
      "text/plain": [
       "67"
      ]
     },
     "execution_count": 43,
     "metadata": {},
     "output_type": "execute_result"
    }
   ],
   "source": [
    "len(columns_nan_1)"
   ]
  },
  {
   "cell_type": "code",
   "execution_count": 44,
   "metadata": {},
   "outputs": [
    {
     "data": {
      "text/plain": [
       "array(['delinq_2yrs', 'earliest_cr_line', 'inq_last_6mths',\n",
       "       'mths_since_last_delinq', 'open_acc', 'pub_rec', 'revol_util',\n",
       "       'total_acc', 'last_pymnt_d', 'next_pymnt_d', 'last_credit_pull_d',\n",
       "       'collections_12_mths_ex_med', 'mths_since_last_major_derog',\n",
       "       'acc_now_delinq', 'tot_coll_amt', 'tot_cur_bal', 'open_acc_6m',\n",
       "       'open_act_il', 'open_il_12m', 'open_il_24m', 'mths_since_rcnt_il',\n",
       "       'total_bal_il', 'il_util', 'open_rv_12m', 'open_rv_24m',\n",
       "       'max_bal_bc', 'all_util', 'total_rev_hi_lim', 'inq_fi',\n",
       "       'total_cu_tl', 'inq_last_12m', 'acc_open_past_24mths',\n",
       "       'avg_cur_bal', 'bc_open_to_buy', 'bc_util',\n",
       "       'chargeoff_within_12_mths', 'delinq_amnt', 'mo_sin_old_il_acct',\n",
       "       'mo_sin_old_rev_tl_op', 'mo_sin_rcnt_rev_tl_op', 'mo_sin_rcnt_tl',\n",
       "       'mort_acc', 'mths_since_recent_bc', 'mths_since_recent_inq',\n",
       "       'mths_since_recent_revol_delinq', 'num_accts_ever_120_pd',\n",
       "       'num_actv_bc_tl', 'num_actv_rev_tl', 'num_bc_sats', 'num_bc_tl',\n",
       "       'num_il_tl', 'num_op_rev_tl', 'num_rev_accts',\n",
       "       'num_rev_tl_bal_gt_0', 'num_sats', 'num_tl_120dpd_2m',\n",
       "       'num_tl_30dpd', 'num_tl_90g_dpd_24m', 'num_tl_op_past_12m',\n",
       "       'pct_tl_nvr_dlq', 'percent_bc_gt_75', 'pub_rec_bankruptcies',\n",
       "       'tax_liens', 'tot_hi_cred_lim', 'total_bal_ex_mort',\n",
       "       'total_bc_limit', 'total_il_high_credit_limit'], dtype=object)"
      ]
     },
     "execution_count": 44,
     "metadata": {},
     "output_type": "execute_result"
    }
   ],
   "source": [
    "columns_nan_1"
   ]
  },
  {
   "cell_type": "markdown",
   "metadata": {},
   "source": [
    "There are 67 remaining columns, let's start!!\n",
    "\n",
    "1. 'delinq_2yrs is a counter of how many time a loanee was 30+ days late over the past 2 years. Entries are floats. Nan's will be replaced with 0.\n",
    "2. 'earliest_cr_line'.This when the borrowers first credit line was opened. Entries are strings with dates(Month-Year). If it's Nan, it is most probable thay they never had a credit line. They will be filled using back fills.\n",
    "3. 'inq_last_6mths'. This is  a count of the number of inquiries over the last 6 months. Entries are integers. Nan's will be replaced with 0.\n",
    "4. 'open_acc' is the number of current open credit lines for the borrower. These are integers and are rarely zero. Nan's will be replaced with the mean.\n",
    "5. 'pub_rec'is the number of deragotory public record which is a sever case(Bankruptcy, civil court etc). These values are most commonly 0. Entries will be raplced with 0.\n",
    "6. 'revol_util'. This is revolving account utilization rate in %. Entries are floats. (Example (Credit Card Balance/Credit Limit)). We will replace them the mean.\n",
    "7. 'total_acc' is the number of credit lines in borrowers file. This has a large range of integers(0-100). But for ease of analysis, we will use the mean.\n",
    "8. 'last_pymnt_d'. This is a string of the date of the latest payment. We will replace Nan's with backfill.\n",
    "9. 'next_pymnt_d'. This is a string with the next schedule payment date. Nan's will be replaced with backfill.\n",
    "10. 'last_credit_pull_d'. This is the most recent month Lending Club pulled a credit check for the borrower. Nan's will be replaced with backfill."
   ]
  },
  {
   "cell_type": "code",
   "execution_count": 45,
   "metadata": {},
   "outputs": [
    {
     "data": {
      "text/plain": [
       "array([\"The number of 30+ days past-due incidences of delinquency in the borrower's credit file for the past 2 years\"],\n",
       "      dtype=object)"
      ]
     },
     "execution_count": 45,
     "metadata": {},
     "output_type": "execute_result"
    }
   ],
   "source": [
    "feature_desc[feature_desc['LoanStatNew']=='delinq_2yrs']['Description'].values"
   ]
  },
  {
   "cell_type": "code",
   "execution_count": 32,
   "metadata": {},
   "outputs": [],
   "source": [
    "loan_train['delinq_2yrs']=loan_train['delinq_2yrs'].fillna(0)\n",
    "loan_test['delinq_2yrs']=loan_test['delinq_2yrs'].fillna(0)"
   ]
  },
  {
   "cell_type": "code",
   "execution_count": 47,
   "metadata": {},
   "outputs": [
    {
     "data": {
      "text/plain": [
       "array([\"The month the borrower's earliest reported credit line was opened\"],\n",
       "      dtype=object)"
      ]
     },
     "execution_count": 47,
     "metadata": {},
     "output_type": "execute_result"
    }
   ],
   "source": [
    "feature_desc[feature_desc['LoanStatNew']=='earliest_cr_line']['Description'].values"
   ]
  },
  {
   "cell_type": "code",
   "execution_count": 33,
   "metadata": {},
   "outputs": [],
   "source": [
    "loan_train['earliest_cr_line']=loan_train['earliest_cr_line'].fillna(method='backfill')\n",
    "loan_test['earliest_cr_line']=loan_test['earliest_cr_line'].fillna(method='backfill')"
   ]
  },
  {
   "cell_type": "code",
   "execution_count": 49,
   "metadata": {},
   "outputs": [
    {
     "data": {
      "text/plain": [
       "array(['The number of inquiries in past 6 months (excluding auto and mortgage inquiries)'],\n",
       "      dtype=object)"
      ]
     },
     "execution_count": 49,
     "metadata": {},
     "output_type": "execute_result"
    }
   ],
   "source": [
    "feature_desc[feature_desc['LoanStatNew']=='inq_last_6mths']['Description'].values"
   ]
  },
  {
   "cell_type": "code",
   "execution_count": 34,
   "metadata": {},
   "outputs": [],
   "source": [
    "loan_train['inq_last_6mths']=loan_train['inq_last_6mths'].fillna(0)\n",
    "loan_test['inq_last_6mths']=loan_test['inq_last_6mths'].fillna(0)"
   ]
  },
  {
   "cell_type": "code",
   "execution_count": 51,
   "metadata": {},
   "outputs": [
    {
     "data": {
      "text/plain": [
       "array([\"The number of open credit lines in the borrower's credit file.\"],\n",
       "      dtype=object)"
      ]
     },
     "execution_count": 51,
     "metadata": {},
     "output_type": "execute_result"
    }
   ],
   "source": [
    "feature_desc[feature_desc['LoanStatNew']=='open_acc']['Description'].values"
   ]
  },
  {
   "cell_type": "code",
   "execution_count": 35,
   "metadata": {},
   "outputs": [],
   "source": [
    "loan_train['open_acc']=loan_train['open_acc'].fillna(np.mean(loan_train['open_acc']))\n",
    "loan_test['open_acc']=loan_test['open_acc'].fillna(np.mean(loan_train['open_acc']))"
   ]
  },
  {
   "cell_type": "code",
   "execution_count": 53,
   "metadata": {},
   "outputs": [
    {
     "data": {
      "text/plain": [
       "array(['Number of derogatory public records'], dtype=object)"
      ]
     },
     "execution_count": 53,
     "metadata": {},
     "output_type": "execute_result"
    }
   ],
   "source": [
    "feature_desc[feature_desc['LoanStatNew']=='pub_rec']['Description'].values"
   ]
  },
  {
   "cell_type": "code",
   "execution_count": 36,
   "metadata": {},
   "outputs": [],
   "source": [
    "loan_train['pub_rec']=loan_train['pub_rec'].fillna(0)\n",
    "loan_test['pub_rec']=loan_test['pub_rec'].fillna(0)"
   ]
  },
  {
   "cell_type": "code",
   "execution_count": 55,
   "metadata": {},
   "outputs": [
    {
     "data": {
      "text/plain": [
       "array(['Revolving line utilization rate, or the amount of credit the borrower is using relative to all available revolving credit.'],\n",
       "      dtype=object)"
      ]
     },
     "execution_count": 55,
     "metadata": {},
     "output_type": "execute_result"
    }
   ],
   "source": [
    "feature_desc[feature_desc['LoanStatNew']=='revol_util']['Description'].values"
   ]
  },
  {
   "cell_type": "code",
   "execution_count": 37,
   "metadata": {},
   "outputs": [],
   "source": [
    "loan_train['revol_util']=loan_train['revol_util'].fillna(np.mean(loan_train['revol_util']))\n",
    "loan_test['revol_util']=loan_test['revol_util'].fillna(np.mean(loan_train['revol_util']))"
   ]
  },
  {
   "cell_type": "code",
   "execution_count": 57,
   "metadata": {},
   "outputs": [
    {
     "data": {
      "text/plain": [
       "array([\"The total number of credit lines currently in the borrower's credit file\"],\n",
       "      dtype=object)"
      ]
     },
     "execution_count": 57,
     "metadata": {},
     "output_type": "execute_result"
    }
   ],
   "source": [
    "feature_desc[feature_desc['LoanStatNew']=='total_acc']['Description'].values"
   ]
  },
  {
   "cell_type": "code",
   "execution_count": 38,
   "metadata": {},
   "outputs": [],
   "source": [
    "loan_train['total_acc']=loan_train['total_acc'].fillna(np.mean(loan_train['total_acc']))\n",
    "loan_test['total_acc']=loan_test['total_acc'].fillna(np.mean(loan_train['total_acc']))"
   ]
  },
  {
   "cell_type": "code",
   "execution_count": 59,
   "metadata": {},
   "outputs": [
    {
     "data": {
      "text/plain": [
       "array(['Last month payment was received'], dtype=object)"
      ]
     },
     "execution_count": 59,
     "metadata": {},
     "output_type": "execute_result"
    }
   ],
   "source": [
    "feature_desc[feature_desc['LoanStatNew']=='last_pymnt_d']['Description'].values"
   ]
  },
  {
   "cell_type": "code",
   "execution_count": 39,
   "metadata": {},
   "outputs": [],
   "source": [
    "loan_train['last_pymnt_d']=loan_train['last_pymnt_d'].fillna(method='backfill')\n",
    "loan_test['last_pymnt_d']=loan_test['last_pymnt_d'].fillna(method='backfill')"
   ]
  },
  {
   "cell_type": "code",
   "execution_count": 61,
   "metadata": {},
   "outputs": [
    {
     "data": {
      "text/plain": [
       "array(['Next scheduled payment date'], dtype=object)"
      ]
     },
     "execution_count": 61,
     "metadata": {},
     "output_type": "execute_result"
    }
   ],
   "source": [
    "feature_desc[feature_desc['LoanStatNew']=='next_pymnt_d']['Description'].values"
   ]
  },
  {
   "cell_type": "code",
   "execution_count": 40,
   "metadata": {},
   "outputs": [],
   "source": [
    "loan_train['next_pymnt_d']=loan_train['next_pymnt_d'].fillna(method='ffill')\n",
    "loan_test['next_pymnt_d']=loan_test['next_pymnt_d'].fillna(method='ffill')"
   ]
  },
  {
   "cell_type": "code",
   "execution_count": 63,
   "metadata": {},
   "outputs": [
    {
     "data": {
      "text/plain": [
       "array(['The most recent month LC pulled credit for this loan'],\n",
       "      dtype=object)"
      ]
     },
     "execution_count": 63,
     "metadata": {},
     "output_type": "execute_result"
    }
   ],
   "source": [
    "feature_desc[feature_desc['LoanStatNew']=='last_credit_pull_d']['Description'].values"
   ]
  },
  {
   "cell_type": "code",
   "execution_count": 41,
   "metadata": {},
   "outputs": [],
   "source": [
    "loan_train['last_credit_pull_d']=loan_train['last_credit_pull_d'].fillna(method='backfill')\n",
    "loan_test['last_credit_pull_d']=loan_test['last_credit_pull_d'].fillna(method='backfill')"
   ]
  },
  {
   "cell_type": "markdown",
   "metadata": {},
   "source": [
    "Again Let's refresh so we have a new set to work with."
   ]
  },
  {
   "cell_type": "code",
   "execution_count": 65,
   "metadata": {},
   "outputs": [],
   "source": [
    "columns_nan_2=loan_train.columns[loan_train.isnull().sum()!=0].values"
   ]
  },
  {
   "cell_type": "code",
   "execution_count": 66,
   "metadata": {},
   "outputs": [
    {
     "data": {
      "text/plain": [
       "58"
      ]
     },
     "execution_count": 66,
     "metadata": {},
     "output_type": "execute_result"
    }
   ],
   "source": [
    "len(columns_nan_2)"
   ]
  },
  {
   "cell_type": "code",
   "execution_count": 67,
   "metadata": {},
   "outputs": [
    {
     "data": {
      "text/plain": [
       "array(['mths_since_last_delinq', 'next_pymnt_d',\n",
       "       'collections_12_mths_ex_med', 'mths_since_last_major_derog',\n",
       "       'acc_now_delinq', 'tot_coll_amt', 'tot_cur_bal', 'open_acc_6m',\n",
       "       'open_act_il', 'open_il_12m', 'open_il_24m', 'mths_since_rcnt_il',\n",
       "       'total_bal_il', 'il_util', 'open_rv_12m', 'open_rv_24m',\n",
       "       'max_bal_bc', 'all_util', 'total_rev_hi_lim', 'inq_fi',\n",
       "       'total_cu_tl', 'inq_last_12m', 'acc_open_past_24mths',\n",
       "       'avg_cur_bal', 'bc_open_to_buy', 'bc_util',\n",
       "       'chargeoff_within_12_mths', 'delinq_amnt', 'mo_sin_old_il_acct',\n",
       "       'mo_sin_old_rev_tl_op', 'mo_sin_rcnt_rev_tl_op', 'mo_sin_rcnt_tl',\n",
       "       'mort_acc', 'mths_since_recent_bc', 'mths_since_recent_inq',\n",
       "       'mths_since_recent_revol_delinq', 'num_accts_ever_120_pd',\n",
       "       'num_actv_bc_tl', 'num_actv_rev_tl', 'num_bc_sats', 'num_bc_tl',\n",
       "       'num_il_tl', 'num_op_rev_tl', 'num_rev_accts',\n",
       "       'num_rev_tl_bal_gt_0', 'num_sats', 'num_tl_120dpd_2m',\n",
       "       'num_tl_30dpd', 'num_tl_90g_dpd_24m', 'num_tl_op_past_12m',\n",
       "       'pct_tl_nvr_dlq', 'percent_bc_gt_75', 'pub_rec_bankruptcies',\n",
       "       'tax_liens', 'tot_hi_cred_lim', 'total_bal_ex_mort',\n",
       "       'total_bc_limit', 'total_il_high_credit_limit'], dtype=object)"
      ]
     },
     "execution_count": 67,
     "metadata": {},
     "output_type": "execute_result"
    }
   ],
   "source": [
    "columns_nan_2"
   ]
  },
  {
   "cell_type": "markdown",
   "metadata": {},
   "source": [
    "1. 'mths_since_last_delinq'. This is the number of months since the borrower was last 30+ days late. Nan's are probably for borrowers who were never 30+ days late and will be replaced with zeros.\n",
    "2. 'collections_12_mths_ex_med'. This is the number of collections made for payments that were late in the last 12 months. Nan's will be replaced with 0.\n",
    "3. 'mths_since_last_major_derog'. This is the number of months since there was 90-day or worse rating. Nan's will be replaced with 0.\n",
    "4. 'acc_now_delinq'. This is the number of accounts that the borrower is delinquent(30+ days late). Most of the results are 0. Nans will be replaced with 0.\n",
    "5. 'tot_coll_amt'. This is the total collected amount ever owed. Entries are floats represnting dollar amounts. Nans will be replaced with zeros.\n",
    "6. 'tot_cur_bal' is the total current balance owed on all accounts.Nans will be replaced with 0s.\n",
    "7. 'open_acc_6m' is the number of open trades in the last 6 months.Nans will be replaced with 0s.\n",
    "8. 'open_act_il' is the number of currently active installment trades. Nans will be replaced with the mean round to the nearest integer.\n",
    "9. 'open_il_12m' is the number of installment accounts opened in the last 12 months.Nans will be replaced with the mean round to the nearest integer.\n",
    "10. 'open_il_24m' is the number of installment accounts opened in the last 12 months.Nans will be replaced with the mean round to the nearest integer.\n",
    "11. 'mths_since_rcnt_il' number of months since most recent installment account opened.Nans will be replaced with the mean round to the nearest integer.\n",
    "12. 'total_bal_il'. Current balance of only installment accounts. Nans will be replaced with the mean.\n",
    "13. 'il_util'. Ratio of current balance to credit limit on installment acounts.Nans will be replaced with the mean.\n",
    "14. 'open_rv_12m'. Number of revoliving accounts opened in the last 12 months. Nans will be replaced with the mean round to the nearest integer..\n",
    "15. 'open_rv_24m'. Number of revoliving accounts opened in the last 24 months. Nans will be replaced with the mean round to the nearest integer.\n",
    "16. 'max_bal_bc'. Maximum current balanced owed on all revolving accounts.Nans will be replaced with the mean.\n",
    "17. 'all_util'. This is the balance to credit limit ratio on all trades.Nans will be replaced with the mean."
   ]
  },
  {
   "cell_type": "code",
   "execution_count": 68,
   "metadata": {},
   "outputs": [
    {
     "data": {
      "text/plain": [
       "array([\"The number of months since the borrower's last delinquency.\"],\n",
       "      dtype=object)"
      ]
     },
     "execution_count": 68,
     "metadata": {},
     "output_type": "execute_result"
    }
   ],
   "source": [
    "feature_desc[feature_desc['LoanStatNew']=='mths_since_last_delinq']['Description'].values"
   ]
  },
  {
   "cell_type": "code",
   "execution_count": 42,
   "metadata": {},
   "outputs": [],
   "source": [
    "loan_train['mths_since_last_delinq']=loan_train['mths_since_last_delinq'].fillna(0)\n",
    "loan_test['mths_since_last_delinq']=loan_test['mths_since_last_delinq'].fillna(0)"
   ]
  },
  {
   "cell_type": "code",
   "execution_count": 70,
   "metadata": {},
   "outputs": [
    {
     "data": {
      "text/plain": [
       "array(['Number of collections in 12 months excluding medical collections'],\n",
       "      dtype=object)"
      ]
     },
     "execution_count": 70,
     "metadata": {},
     "output_type": "execute_result"
    }
   ],
   "source": [
    "feature_desc[feature_desc['LoanStatNew']=='collections_12_mths_ex_med']['Description'].values"
   ]
  },
  {
   "cell_type": "code",
   "execution_count": 43,
   "metadata": {},
   "outputs": [],
   "source": [
    "loan_train['collections_12_mths_ex_med']=loan_train['collections_12_mths_ex_med'].fillna(0)\n",
    "loan_test['collections_12_mths_ex_med']=loan_test['collections_12_mths_ex_med'].fillna(0)"
   ]
  },
  {
   "cell_type": "code",
   "execution_count": 72,
   "metadata": {},
   "outputs": [
    {
     "data": {
      "text/plain": [
       "array(['Months since most recent 90-day or worse rating'], dtype=object)"
      ]
     },
     "execution_count": 72,
     "metadata": {},
     "output_type": "execute_result"
    }
   ],
   "source": [
    "feature_desc[feature_desc['LoanStatNew']=='mths_since_last_major_derog']['Description'].values"
   ]
  },
  {
   "cell_type": "code",
   "execution_count": 44,
   "metadata": {},
   "outputs": [],
   "source": [
    "loan_train['mths_since_last_major_derog']=loan_train['mths_since_last_major_derog'].fillna(0)\n",
    "loan_test['mths_since_last_major_derog']=loan_test['mths_since_last_major_derog'].fillna(0)"
   ]
  },
  {
   "cell_type": "code",
   "execution_count": 74,
   "metadata": {},
   "outputs": [
    {
     "data": {
      "text/plain": [
       "array(['The number of accounts on which the borrower is now delinquent.'],\n",
       "      dtype=object)"
      ]
     },
     "execution_count": 74,
     "metadata": {},
     "output_type": "execute_result"
    }
   ],
   "source": [
    "feature_desc[feature_desc['LoanStatNew']=='acc_now_delinq']['Description'].values"
   ]
  },
  {
   "cell_type": "code",
   "execution_count": 45,
   "metadata": {},
   "outputs": [],
   "source": [
    "loan_train['acc_now_delinq']=loan_train['acc_now_delinq'].fillna(0)\n",
    "loan_test['acc_now_delinq']=loan_test['acc_now_delinq'].fillna(0)"
   ]
  },
  {
   "cell_type": "code",
   "execution_count": 76,
   "metadata": {},
   "outputs": [
    {
     "data": {
      "text/plain": [
       "array(['Total collection amounts ever owed'], dtype=object)"
      ]
     },
     "execution_count": 76,
     "metadata": {},
     "output_type": "execute_result"
    }
   ],
   "source": [
    "feature_desc[feature_desc['LoanStatNew']=='tot_coll_amt']['Description'].values"
   ]
  },
  {
   "cell_type": "code",
   "execution_count": null,
   "metadata": {},
   "outputs": [],
   "source": [
    "loan_train['tot_coll_amt']=loan_train['tot_coll_amt'].fillna(0)\n",
    "loan_test['tot_coll_amt']=loan_test['tot_coll_amt'].fillna(0)"
   ]
  },
  {
   "cell_type": "code",
   "execution_count": 78,
   "metadata": {},
   "outputs": [
    {
     "data": {
      "text/plain": [
       "array(['Total current balance of all accounts'], dtype=object)"
      ]
     },
     "execution_count": 78,
     "metadata": {},
     "output_type": "execute_result"
    }
   ],
   "source": [
    "feature_desc[feature_desc['LoanStatNew']=='tot_cur_bal']['Description'].values"
   ]
  },
  {
   "cell_type": "code",
   "execution_count": null,
   "metadata": {},
   "outputs": [],
   "source": [
    "loan_train['tot_cur_bal']=loan_train['tot_cur_bal'].fillna(0)\n",
    "loan_test['tot_cur_bal']=loan_test['tot_cur_bal'].fillna(0)"
   ]
  },
  {
   "cell_type": "code",
   "execution_count": 80,
   "metadata": {},
   "outputs": [
    {
     "data": {
      "text/plain": [
       "array(['Number of open trades in last 6 months'], dtype=object)"
      ]
     },
     "execution_count": 80,
     "metadata": {},
     "output_type": "execute_result"
    }
   ],
   "source": [
    "feature_desc[feature_desc['LoanStatNew']=='open_acc_6m']['Description'].values"
   ]
  },
  {
   "cell_type": "code",
   "execution_count": null,
   "metadata": {},
   "outputs": [],
   "source": [
    "loan_train['open_acc_6m']=loan_train['open_acc_6m'].fillna(0)\n",
    "loan_test['open_acc_6m']=loan_test['open_acc_6m'].fillna(0)"
   ]
  },
  {
   "cell_type": "code",
   "execution_count": 82,
   "metadata": {},
   "outputs": [
    {
     "data": {
      "text/plain": [
       "array(['Number of currently active installment trades'], dtype=object)"
      ]
     },
     "execution_count": 82,
     "metadata": {},
     "output_type": "execute_result"
    }
   ],
   "source": [
    "feature_desc[feature_desc['LoanStatNew']=='open_act_il']['Description'].values"
   ]
  },
  {
   "cell_type": "code",
   "execution_count": null,
   "metadata": {},
   "outputs": [],
   "source": [
    "loan_train['open_act_il']=loan_train['open_act_il'].fillna(np.round(np.mean(loan_train['open_act_il']),0))\n",
    "loan_test['open_act_il']=loan_test['open_act_il'].fillna(np.round(np.mean(loan_train['open_act_il']),0))"
   ]
  },
  {
   "cell_type": "code",
   "execution_count": 84,
   "metadata": {},
   "outputs": [
    {
     "data": {
      "text/plain": [
       "array(['Number of installment accounts opened in past 12 months'],\n",
       "      dtype=object)"
      ]
     },
     "execution_count": 84,
     "metadata": {},
     "output_type": "execute_result"
    }
   ],
   "source": [
    "feature_desc[feature_desc['LoanStatNew']=='open_il_12m']['Description'].values"
   ]
  },
  {
   "cell_type": "code",
   "execution_count": null,
   "metadata": {},
   "outputs": [],
   "source": [
    "loan_train['open_il_12m']=loan_train['open_il_12m'].fillna(np.round(np.mean(loan_train['open_il_12m']),0))\n",
    "loan_test['open_il_12m']=loan_test['open_il_12m'].fillna(np.round(np.mean(loan_train['open_il_12m']),0))"
   ]
  },
  {
   "cell_type": "code",
   "execution_count": 86,
   "metadata": {},
   "outputs": [
    {
     "data": {
      "text/plain": [
       "array(['Number of installment accounts opened in past 24 months'],\n",
       "      dtype=object)"
      ]
     },
     "execution_count": 86,
     "metadata": {},
     "output_type": "execute_result"
    }
   ],
   "source": [
    "feature_desc[feature_desc['LoanStatNew']=='open_il_24m']['Description'].values"
   ]
  },
  {
   "cell_type": "code",
   "execution_count": null,
   "metadata": {},
   "outputs": [],
   "source": [
    "loan_train['open_il_24m']=loan_train['open_il_24m'].fillna(np.round(np.mean(loan_train['open_il_24m']),0))\n",
    "loan_test['open_il_24m']=loan_test['open_il_24m'].fillna(np.round(np.mean(loan_train['open_il_24m']),0))"
   ]
  },
  {
   "cell_type": "code",
   "execution_count": 88,
   "metadata": {},
   "outputs": [
    {
     "data": {
      "text/plain": [
       "array(['Months since most recent installment accounts opened'],\n",
       "      dtype=object)"
      ]
     },
     "execution_count": 88,
     "metadata": {},
     "output_type": "execute_result"
    }
   ],
   "source": [
    "feature_desc[feature_desc['LoanStatNew']=='mths_since_rcnt_il']['Description'].values"
   ]
  },
  {
   "cell_type": "code",
   "execution_count": null,
   "metadata": {},
   "outputs": [],
   "source": [
    "loan_train['mths_since_rcnt_il']=loan_train['mths_since_rcnt_il'].fillna(np.round(np.mean(loan_train['mths_since_rcnt_il']),0))\n",
    "loan_test['mths_since_rcnt_il']=loan_test['mths_since_rcnt_il'].fillna(np.round(np.mean(loan_train['mths_since_rcnt_il']),0))"
   ]
  },
  {
   "cell_type": "code",
   "execution_count": 90,
   "metadata": {},
   "outputs": [
    {
     "data": {
      "text/plain": [
       "array(['Total current balance of all installment accounts'], dtype=object)"
      ]
     },
     "execution_count": 90,
     "metadata": {},
     "output_type": "execute_result"
    }
   ],
   "source": [
    "feature_desc[feature_desc['LoanStatNew']=='total_bal_il']['Description'].values"
   ]
  },
  {
   "cell_type": "code",
   "execution_count": null,
   "metadata": {},
   "outputs": [],
   "source": [
    "loan_train['total_bal_il']=loan_train['total_bal_il'].fillna(np.mean(loan_train['total_bal_il']))\n",
    "loan_test['total_bal_il']=loan_test['total_bal_il'].fillna(np.mean(loan_train['total_bal_il']))"
   ]
  },
  {
   "cell_type": "code",
   "execution_count": 92,
   "metadata": {},
   "outputs": [
    {
     "data": {
      "text/plain": [
       "array(['Ratio of total current balance to high credit/credit limit on all install acct'],\n",
       "      dtype=object)"
      ]
     },
     "execution_count": 92,
     "metadata": {},
     "output_type": "execute_result"
    }
   ],
   "source": [
    "feature_desc[feature_desc['LoanStatNew']=='il_util']['Description'].values"
   ]
  },
  {
   "cell_type": "code",
   "execution_count": null,
   "metadata": {},
   "outputs": [],
   "source": [
    "loan_train['il_util']=loan_train['il_util'].fillna(np.mean(loan_train['il_util']))\n",
    "loan_test['il_util']=loan_test['il_util'].fillna(np.mean(loan_train['il_util']))"
   ]
  },
  {
   "cell_type": "code",
   "execution_count": 94,
   "metadata": {},
   "outputs": [
    {
     "data": {
      "text/plain": [
       "array(['Number of revolving trades opened in past 12 months'],\n",
       "      dtype=object)"
      ]
     },
     "execution_count": 94,
     "metadata": {},
     "output_type": "execute_result"
    }
   ],
   "source": [
    "feature_desc[feature_desc['LoanStatNew']=='open_rv_12m']['Description'].values"
   ]
  },
  {
   "cell_type": "code",
   "execution_count": null,
   "metadata": {},
   "outputs": [],
   "source": [
    "loan_train['open_rv_12m']=loan_train['open_rv_12m'].fillna(np.round(np.mean(loan_train['open_rv_12m']),0))\n",
    "loan_test['open_rv_12m']=loan_test['open_rv_12m'].fillna(np.round(np.mean(loan_train['open_rv_12m']),0))"
   ]
  },
  {
   "cell_type": "code",
   "execution_count": null,
   "metadata": {},
   "outputs": [],
   "source": [
    "loan_train['open_rv_24m']=loan_train['open_rv_24m'].fillna(np.round(np.mean(loan_train['open_rv_24m']),0))\n",
    "loan_test['open_rv_24m']=loan_test['open_rv_24m'].fillna(np.round(np.mean(loan_train['open_rv_24m']),0))"
   ]
  },
  {
   "cell_type": "code",
   "execution_count": 97,
   "metadata": {},
   "outputs": [
    {
     "data": {
      "text/plain": [
       "array(['Maximum current balance owed on all revolving accounts'],\n",
       "      dtype=object)"
      ]
     },
     "execution_count": 97,
     "metadata": {},
     "output_type": "execute_result"
    }
   ],
   "source": [
    "feature_desc[feature_desc['LoanStatNew']=='max_bal_bc']['Description'].values"
   ]
  },
  {
   "cell_type": "code",
   "execution_count": null,
   "metadata": {},
   "outputs": [],
   "source": [
    "loan_train['max_bal_bc']=loan_train['max_bal_bc'].fillna(np.mean(loan_train['max_bal_bc']))\n",
    "loan_test['max_bal_bc']=loan_test['max_bal_bc'].fillna(np.mean(loan_train['max_bal_bc']))"
   ]
  },
  {
   "cell_type": "code",
   "execution_count": 99,
   "metadata": {},
   "outputs": [
    {
     "data": {
      "text/plain": [
       "array(['Balance to credit limit on all trades'], dtype=object)"
      ]
     },
     "execution_count": 99,
     "metadata": {},
     "output_type": "execute_result"
    }
   ],
   "source": [
    "feature_desc[feature_desc['LoanStatNew']=='all_util']['Description'].values"
   ]
  },
  {
   "cell_type": "code",
   "execution_count": null,
   "metadata": {},
   "outputs": [],
   "source": [
    "loan_train['all_util']=loan_train['all_util'].fillna(np.mean(loan_train['all_util']))\n",
    "loan_test['all_util']=loan_test['all_util'].fillna(np.mean(loan_train['all_util']))"
   ]
  },
  {
   "cell_type": "markdown",
   "metadata": {},
   "source": [
    "Once again, let's refresh to clear the full columns."
   ]
  },
  {
   "cell_type": "code",
   "execution_count": 101,
   "metadata": {},
   "outputs": [],
   "source": [
    "columns_nan_3=loan_train.columns[loan_train.isnull().sum()!=0].values"
   ]
  },
  {
   "cell_type": "code",
   "execution_count": 102,
   "metadata": {},
   "outputs": [
    {
     "data": {
      "text/plain": [
       "41"
      ]
     },
     "execution_count": 102,
     "metadata": {},
     "output_type": "execute_result"
    }
   ],
   "source": [
    "len(columns_nan_3)"
   ]
  },
  {
   "cell_type": "code",
   "execution_count": 103,
   "metadata": {},
   "outputs": [
    {
     "data": {
      "text/plain": [
       "array(['next_pymnt_d', 'total_rev_hi_lim', 'inq_fi', 'total_cu_tl',\n",
       "       'inq_last_12m', 'acc_open_past_24mths', 'avg_cur_bal',\n",
       "       'bc_open_to_buy', 'bc_util', 'chargeoff_within_12_mths',\n",
       "       'delinq_amnt', 'mo_sin_old_il_acct', 'mo_sin_old_rev_tl_op',\n",
       "       'mo_sin_rcnt_rev_tl_op', 'mo_sin_rcnt_tl', 'mort_acc',\n",
       "       'mths_since_recent_bc', 'mths_since_recent_inq',\n",
       "       'mths_since_recent_revol_delinq', 'num_accts_ever_120_pd',\n",
       "       'num_actv_bc_tl', 'num_actv_rev_tl', 'num_bc_sats', 'num_bc_tl',\n",
       "       'num_il_tl', 'num_op_rev_tl', 'num_rev_accts',\n",
       "       'num_rev_tl_bal_gt_0', 'num_sats', 'num_tl_120dpd_2m',\n",
       "       'num_tl_30dpd', 'num_tl_90g_dpd_24m', 'num_tl_op_past_12m',\n",
       "       'pct_tl_nvr_dlq', 'percent_bc_gt_75', 'pub_rec_bankruptcies',\n",
       "       'tax_liens', 'tot_hi_cred_lim', 'total_bal_ex_mort',\n",
       "       'total_bc_limit', 'total_il_high_credit_limit'], dtype=object)"
      ]
     },
     "execution_count": 103,
     "metadata": {},
     "output_type": "execute_result"
    }
   ],
   "source": [
    "columns_nan_3"
   ]
  },
  {
   "cell_type": "markdown",
   "metadata": {},
   "source": [
    "1. 'total_rev_hi_lim'. We do not have a desciption but we can assume this is the high limit of all revolinvg accounts. Nans can be replaced with means.\n",
    "2. 'inq_fi'. Number of personal finance credit inquiries. Nans can be raplaced with the mean rounded to the nearest integer\n",
    "3. 'total_cu_tl'. Number of finance trades in total.Nans can be raplaced with the mean rounded to the nearest integer.\n",
    "4. 'inq_last_12m'. This is the number of credit inquireis in the last 12 months. Nans can be raplaced with the mean rounded to the nearest integer.\n",
    "5. 'acc_open_past_24mths'. Number of trades opened in the last 24 months.Nans can be raplaced with the mean rounded to the nearest integer.\n",
    "6. 'avg_cur_bal'. This is the average current balance of all accounts. Nans can be replaced with the mean.\n",
    "7. 'bc_open_to_buy'. This is the total dollar value to buy on revolving bankcards. Nans can be replaced with the mean \n",
    "8. 'bc_util'. This is the ratio of total current balance to high credit/credit limit for all bankcard accounts. This can be replaced with the mean.\n",
    "9. 'chargeoff_within_12_mths' Number of charges off in the last 12 months. Nans can be replced with 0.\n",
    "10. 'delinq_amnt'. The past-du amount for the accounts that the borrower is now delinquent. Nans can be replaced with 0s.\n",
    "11. 'mo_sin_old_il_acct'. This the number of months since oldest bank installment account opened.Nans can be raplaced with the mean rounded to the nearest integer.\n",
    "12. 'mo_sin_old_rev_tl_op'. This is the number of months since oldest revolving account opened. Nans can be raplaced with the mean rounded to the nearest integer.\n",
    "13. 'mo_sin_rcnt_rev_tl_op'. This is the number of months since the most recent revolving account opened.Nans can be raplaced with the mean rounded to the nearest integer.\n",
    "14. 'mo_sin_rcnt_tl'. This is the number of months since the most recent account opened. Nans can be raplaced with the mean rounded to the nearest integer.  \n",
    "15. 'mort_acc'. This is the number of mortgage accounts. Nans can be raplaced with the mean rounded to the nearest integer."
   ]
  },
  {
   "cell_type": "code",
   "execution_count": 104,
   "metadata": {},
   "outputs": [
    {
     "data": {
      "text/plain": [
       "array([], dtype=object)"
      ]
     },
     "execution_count": 104,
     "metadata": {},
     "output_type": "execute_result"
    }
   ],
   "source": [
    "feature_desc[feature_desc['LoanStatNew']=='total_rev_hi_lim']['Description'].values"
   ]
  },
  {
   "cell_type": "code",
   "execution_count": null,
   "metadata": {},
   "outputs": [],
   "source": [
    "loan_train['total_rev_hi_lim']=loan_train['total_rev_hi_lim'].fillna(np.mean(loan_train['total_rev_hi_lim']))\n",
    "loan_test['total_rev_hi_lim']=loan_test['total_rev_hi_lim'].fillna(np.mean(loan_train['total_rev_hi_lim']))"
   ]
  },
  {
   "cell_type": "code",
   "execution_count": 106,
   "metadata": {},
   "outputs": [
    {
     "data": {
      "text/plain": [
       "array(['Number of personal finance inquiries'], dtype=object)"
      ]
     },
     "execution_count": 106,
     "metadata": {},
     "output_type": "execute_result"
    }
   ],
   "source": [
    "feature_desc[feature_desc['LoanStatNew']=='inq_fi']['Description'].values"
   ]
  },
  {
   "cell_type": "code",
   "execution_count": null,
   "metadata": {},
   "outputs": [],
   "source": [
    "loan_train['inq_fi']=loan_train['inq_fi'].fillna(np.round(np.mean(loan_train['inq_fi']),0))\n",
    "loan_test['inq_fi']=loan_test['inq_fi'].fillna(np.round(np.mean(loan_train['inq_fi']),0))"
   ]
  },
  {
   "cell_type": "code",
   "execution_count": 108,
   "metadata": {},
   "outputs": [
    {
     "data": {
      "text/plain": [
       "array(['Number of finance trades'], dtype=object)"
      ]
     },
     "execution_count": 108,
     "metadata": {},
     "output_type": "execute_result"
    }
   ],
   "source": [
    "feature_desc[feature_desc['LoanStatNew']=='total_cu_tl']['Description'].values"
   ]
  },
  {
   "cell_type": "code",
   "execution_count": null,
   "metadata": {},
   "outputs": [],
   "source": [
    "loan_train['total_cu_tl']=loan_train['total_cu_tl'].fillna(np.round(np.mean(loan_train['total_cu_tl']),0))\n",
    "loan_test['total_cu_tl']=loan_test['total_cu_tl'].fillna(np.round(np.mean(loan_train['total_cu_tl']),0))"
   ]
  },
  {
   "cell_type": "code",
   "execution_count": 110,
   "metadata": {},
   "outputs": [
    {
     "data": {
      "text/plain": [
       "array(['Number of credit inquiries in past 12 months'], dtype=object)"
      ]
     },
     "execution_count": 110,
     "metadata": {},
     "output_type": "execute_result"
    }
   ],
   "source": [
    "feature_desc[feature_desc['LoanStatNew']=='inq_last_12m']['Description'].values"
   ]
  },
  {
   "cell_type": "code",
   "execution_count": null,
   "metadata": {},
   "outputs": [],
   "source": [
    "loan_train['inq_last_12m']=loan_train['inq_last_12m'].fillna(np.round(np.mean(loan_train['inq_last_12m']),0))\n",
    "loan_test['inq_last_12m']=loan_test['inq_last_12m'].fillna(np.round(np.mean(loan_train['inq_last_12m']),0))"
   ]
  },
  {
   "cell_type": "code",
   "execution_count": 112,
   "metadata": {},
   "outputs": [
    {
     "data": {
      "text/plain": [
       "array(['Number of trades opened in past 24 months.'], dtype=object)"
      ]
     },
     "execution_count": 112,
     "metadata": {},
     "output_type": "execute_result"
    }
   ],
   "source": [
    "feature_desc[feature_desc['LoanStatNew']=='acc_open_past_24mths']['Description'].values"
   ]
  },
  {
   "cell_type": "code",
   "execution_count": null,
   "metadata": {},
   "outputs": [],
   "source": [
    "loan_train['acc_open_past_24mths']=loan_train['acc_open_past_24mths'].fillna(np.round(np.mean(loan_train['acc_open_past_24mths']),0))\n",
    "loan_test['acc_open_past_24mths']=loan_test['acc_open_past_24mths'].fillna(np.round(np.mean(loan_train['acc_open_past_24mths']),0))"
   ]
  },
  {
   "cell_type": "code",
   "execution_count": 114,
   "metadata": {},
   "outputs": [
    {
     "data": {
      "text/plain": [
       "array(['Average current balance of all accounts'], dtype=object)"
      ]
     },
     "execution_count": 114,
     "metadata": {},
     "output_type": "execute_result"
    }
   ],
   "source": [
    "feature_desc[feature_desc['LoanStatNew']=='avg_cur_bal']['Description'].values"
   ]
  },
  {
   "cell_type": "code",
   "execution_count": null,
   "metadata": {},
   "outputs": [],
   "source": [
    "loan_train['avg_cur_bal']=loan_train['avg_cur_bal'].fillna(np.mean(loan_train['avg_cur_bal']))\n",
    "loan_test['avg_cur_bal']=loan_test['avg_cur_bal'].fillna(np.mean(loan_train['avg_cur_bal']))"
   ]
  },
  {
   "cell_type": "code",
   "execution_count": 116,
   "metadata": {},
   "outputs": [
    {
     "data": {
      "text/plain": [
       "array(['Total open to buy on revolving bankcards.'], dtype=object)"
      ]
     },
     "execution_count": 116,
     "metadata": {},
     "output_type": "execute_result"
    }
   ],
   "source": [
    "feature_desc[feature_desc['LoanStatNew']=='bc_open_to_buy']['Description'].values"
   ]
  },
  {
   "cell_type": "code",
   "execution_count": null,
   "metadata": {},
   "outputs": [],
   "source": [
    "loan_train['bc_open_to_buy']=loan_train['bc_open_to_buy'].fillna(np.mean(loan_train['bc_open_to_buy']))\n",
    "loan_test['bc_open_to_buy']=loan_test['bc_open_to_buy'].fillna(np.mean(loan_train['bc_open_to_buy']))"
   ]
  },
  {
   "cell_type": "code",
   "execution_count": 118,
   "metadata": {},
   "outputs": [
    {
     "data": {
      "text/plain": [
       "array(['Ratio of total current balance to high credit/credit limit for all bankcard accounts.'],\n",
       "      dtype=object)"
      ]
     },
     "execution_count": 118,
     "metadata": {},
     "output_type": "execute_result"
    }
   ],
   "source": [
    "feature_desc[feature_desc['LoanStatNew']=='bc_util']['Description'].values"
   ]
  },
  {
   "cell_type": "code",
   "execution_count": null,
   "metadata": {},
   "outputs": [],
   "source": [
    "loan_train['bc_util']=loan_train['bc_util'].fillna(np.mean(loan_train['bc_util']))\n",
    "loan_test['bc_util']=loan_test['bc_util'].fillna(np.mean(loan_train['bc_util']))"
   ]
  },
  {
   "cell_type": "code",
   "execution_count": 120,
   "metadata": {},
   "outputs": [
    {
     "data": {
      "text/plain": [
       "array(['Number of charge-offs within 12 months'], dtype=object)"
      ]
     },
     "execution_count": 120,
     "metadata": {},
     "output_type": "execute_result"
    }
   ],
   "source": [
    "feature_desc[feature_desc['LoanStatNew']=='chargeoff_within_12_mths']['Description'].values"
   ]
  },
  {
   "cell_type": "code",
   "execution_count": null,
   "metadata": {},
   "outputs": [],
   "source": [
    "loan_train['chargeoff_within_12_mths']=loan_train['chargeoff_within_12_mths'].fillna(0)\n",
    "loan_test['chargeoff_within_12_mths']=loan_test['chargeoff_within_12_mths'].fillna(0)"
   ]
  },
  {
   "cell_type": "code",
   "execution_count": 122,
   "metadata": {},
   "outputs": [
    {
     "data": {
      "text/plain": [
       "array(['The past-due amount owed for the accounts on which the borrower is now delinquent.'],\n",
       "      dtype=object)"
      ]
     },
     "execution_count": 122,
     "metadata": {},
     "output_type": "execute_result"
    }
   ],
   "source": [
    "feature_desc[feature_desc['LoanStatNew']=='delinq_amnt']['Description'].values"
   ]
  },
  {
   "cell_type": "code",
   "execution_count": null,
   "metadata": {},
   "outputs": [],
   "source": [
    "loan_train['delinq_amnt']=loan_train['delinq_amnt'].fillna(0)\n",
    "loan_test['delinq_amnt']=loan_test['delinq_amnt'].fillna(0)"
   ]
  },
  {
   "cell_type": "code",
   "execution_count": 124,
   "metadata": {},
   "outputs": [
    {
     "data": {
      "text/plain": [
       "array(['Months since oldest bank installment account opened'],\n",
       "      dtype=object)"
      ]
     },
     "execution_count": 124,
     "metadata": {},
     "output_type": "execute_result"
    }
   ],
   "source": [
    "feature_desc[feature_desc['LoanStatNew']=='mo_sin_old_il_acct']['Description'].values"
   ]
  },
  {
   "cell_type": "code",
   "execution_count": null,
   "metadata": {},
   "outputs": [],
   "source": [
    "loan_train['mo_sin_old_il_acct']=loan_train['mo_sin_old_il_acct'].fillna(np.round(np.mean(loan_train['mo_sin_old_il_acct']),0))\n",
    "loan_test['mo_sin_old_il_acct']=loan_test['mo_sin_old_il_acct'].fillna(np.round(np.mean(loan_train['mo_sin_old_il_acct']),0))"
   ]
  },
  {
   "cell_type": "code",
   "execution_count": 126,
   "metadata": {},
   "outputs": [
    {
     "data": {
      "text/plain": [
       "array(['Months since oldest revolving account opened'], dtype=object)"
      ]
     },
     "execution_count": 126,
     "metadata": {},
     "output_type": "execute_result"
    }
   ],
   "source": [
    "feature_desc[feature_desc['LoanStatNew']=='mo_sin_old_rev_tl_op']['Description'].values"
   ]
  },
  {
   "cell_type": "code",
   "execution_count": null,
   "metadata": {},
   "outputs": [],
   "source": [
    "loan_train['mo_sin_old_rev_tl_op']=loan_train['mo_sin_old_rev_tl_op'].fillna(np.round(np.mean(loan_train['mo_sin_old_rev_tl_op']),0))\n",
    "loan_test['mo_sin_old_rev_tl_op']=loan_test['mo_sin_old_rev_tl_op'].fillna(np.round(np.mean(loan_train['mo_sin_old_rev_tl_op']),0))"
   ]
  },
  {
   "cell_type": "code",
   "execution_count": 128,
   "metadata": {},
   "outputs": [
    {
     "data": {
      "text/plain": [
       "array(['Months since most recent revolving account opened'], dtype=object)"
      ]
     },
     "execution_count": 128,
     "metadata": {},
     "output_type": "execute_result"
    }
   ],
   "source": [
    "feature_desc[feature_desc['LoanStatNew']=='mo_sin_rcnt_rev_tl_op']['Description'].values"
   ]
  },
  {
   "cell_type": "code",
   "execution_count": null,
   "metadata": {},
   "outputs": [],
   "source": [
    "loan_train['mo_sin_rcnt_rev_tl_op']=loan_train['mo_sin_rcnt_rev_tl_op'].fillna(np.round(np.mean(loan_train['mo_sin_rcnt_rev_tl_op']),0))\n",
    "loan_test['mo_sin_rcnt_rev_tl_op']=loan_test['mo_sin_rcnt_rev_tl_op'].fillna(np.round(np.mean(loan_train['mo_sin_rcnt_rev_tl_op']),0))"
   ]
  },
  {
   "cell_type": "code",
   "execution_count": 130,
   "metadata": {},
   "outputs": [
    {
     "data": {
      "text/plain": [
       "array(['Months since most recent account opened'], dtype=object)"
      ]
     },
     "execution_count": 130,
     "metadata": {},
     "output_type": "execute_result"
    }
   ],
   "source": [
    "feature_desc[feature_desc['LoanStatNew']=='mo_sin_rcnt_tl']['Description'].values"
   ]
  },
  {
   "cell_type": "code",
   "execution_count": null,
   "metadata": {},
   "outputs": [],
   "source": [
    "loan_train['mo_sin_rcnt_tl']=loan_train['mo_sin_rcnt_tl'].fillna(np.round(np.mean(loan_train['mo_sin_rcnt_tl']),0))\n",
    "loan_test['mo_sin_rcnt_tl']=loan_test['mo_sin_rcnt_tl'].fillna(np.round(np.mean(loan_train['mo_sin_rcnt_tl']),0))"
   ]
  },
  {
   "cell_type": "code",
   "execution_count": 132,
   "metadata": {},
   "outputs": [
    {
     "data": {
      "text/plain": [
       "array(['Number of mortgage accounts.'], dtype=object)"
      ]
     },
     "execution_count": 132,
     "metadata": {},
     "output_type": "execute_result"
    }
   ],
   "source": [
    "feature_desc[feature_desc['LoanStatNew']=='mort_acc']['Description'].values"
   ]
  },
  {
   "cell_type": "code",
   "execution_count": null,
   "metadata": {},
   "outputs": [],
   "source": [
    "loan_train['mort_acc']=loan_train['mort_acc'].fillna(np.round(np.mean(loan_train['mort_acc']),0))\n",
    "loan_test['mort_acc']=loan_test['mort_acc'].fillna(np.round(np.mean(loan_train['mort_acc']),0))"
   ]
  },
  {
   "cell_type": "markdown",
   "metadata": {},
   "source": [
    "AND once again....refresh"
   ]
  },
  {
   "cell_type": "code",
   "execution_count": 134,
   "metadata": {},
   "outputs": [],
   "source": [
    "columns_nan_4=loan_train.columns[loan_train.isnull().sum()!=0].values"
   ]
  },
  {
   "cell_type": "code",
   "execution_count": 135,
   "metadata": {},
   "outputs": [
    {
     "data": {
      "text/plain": [
       "26"
      ]
     },
     "execution_count": 135,
     "metadata": {},
     "output_type": "execute_result"
    }
   ],
   "source": [
    "len(columns_nan_4)"
   ]
  },
  {
   "cell_type": "code",
   "execution_count": 136,
   "metadata": {
    "scrolled": true
   },
   "outputs": [
    {
     "data": {
      "text/plain": [
       "array(['next_pymnt_d', 'mths_since_recent_bc', 'mths_since_recent_inq',\n",
       "       'mths_since_recent_revol_delinq', 'num_accts_ever_120_pd',\n",
       "       'num_actv_bc_tl', 'num_actv_rev_tl', 'num_bc_sats', 'num_bc_tl',\n",
       "       'num_il_tl', 'num_op_rev_tl', 'num_rev_accts',\n",
       "       'num_rev_tl_bal_gt_0', 'num_sats', 'num_tl_120dpd_2m',\n",
       "       'num_tl_30dpd', 'num_tl_90g_dpd_24m', 'num_tl_op_past_12m',\n",
       "       'pct_tl_nvr_dlq', 'percent_bc_gt_75', 'pub_rec_bankruptcies',\n",
       "       'tax_liens', 'tot_hi_cred_lim', 'total_bal_ex_mort',\n",
       "       'total_bc_limit', 'total_il_high_credit_limit'], dtype=object)"
      ]
     },
     "execution_count": 136,
     "metadata": {},
     "output_type": "execute_result"
    }
   ],
   "source": [
    "columns_nan_4"
   ]
  },
  {
   "cell_type": "markdown",
   "metadata": {},
   "source": [
    "1. 'mths_since_recent_bc'. Number of months since most recent bankcard account opened. Nans replaced with mean round to nearest integer.\n",
    "2. 'mths_since_recent_inq' Number of months since most recent inquiry. Nans replaced with mean round to nearest integer.\n",
    "3. 'mths_since_recent_revol_delinq'. Number of months since most recent revolving delinquency.Nans replaced with 0\n",
    "4. 'num_accts_ever_120_pd'. Number of accounts ever 120 or more days past due. Nans replaced with 0.\n",
    "5. 'num_actv_bc_tl'. Number of currently active bankcard accounts. Nans replaced with mean round to nearest integer.\n",
    "6. 'num_actv_rev_tl' Number of currently active revolving trades.Nans replaced with mean round to nearest integer.\n",
    "7. 'num_bc_sats'.Number of satisfactory bankcard accounts. Nans replaced with mean round to nearest integer.\n",
    "8. 'num_bc_tl'.Number of bankcard accounts.  Nans replaced with mean round to nearest integer.\n",
    "9. 'num_il_tl'. Number of installment accounts. Nans replaced with mean round to nearest integer.\n",
    "10. 'num_op_rev_tl'. Number of open revolving accounts"
   ]
  },
  {
   "cell_type": "code",
   "execution_count": 137,
   "metadata": {},
   "outputs": [
    {
     "data": {
      "text/plain": [
       "array(['Months since most recent bankcard account opened.'], dtype=object)"
      ]
     },
     "execution_count": 137,
     "metadata": {},
     "output_type": "execute_result"
    }
   ],
   "source": [
    "feature_desc[feature_desc['LoanStatNew']=='mths_since_recent_bc']['Description'].values"
   ]
  },
  {
   "cell_type": "code",
   "execution_count": null,
   "metadata": {},
   "outputs": [],
   "source": [
    "loan_train['mths_since_recent_bc']=loan_train['mths_since_recent_bc'].fillna(np.round(np.mean(loan_train['mths_since_recent_bc']),0))\n",
    "loan_test['mths_since_recent_bc']=loan_test['mths_since_recent_bc'].fillna(np.round(np.mean(loan_train['mths_since_recent_bc']),0))"
   ]
  },
  {
   "cell_type": "code",
   "execution_count": 139,
   "metadata": {},
   "outputs": [
    {
     "data": {
      "text/plain": [
       "array(['Months since most recent inquiry.'], dtype=object)"
      ]
     },
     "execution_count": 139,
     "metadata": {},
     "output_type": "execute_result"
    }
   ],
   "source": [
    "feature_desc[feature_desc['LoanStatNew']=='mths_since_recent_inq']['Description'].values"
   ]
  },
  {
   "cell_type": "code",
   "execution_count": null,
   "metadata": {},
   "outputs": [],
   "source": [
    "loan_train['mths_since_recent_inq']=loan_train['mths_since_recent_inq'].fillna(np.round(np.mean(loan_train['mths_since_recent_inq']),0))\n",
    "loan_test['mths_since_recent_inq']=loan_test['mths_since_recent_inq'].fillna(np.round(np.mean(loan_train['mths_since_recent_inq']),0))"
   ]
  },
  {
   "cell_type": "code",
   "execution_count": 141,
   "metadata": {},
   "outputs": [
    {
     "data": {
      "text/plain": [
       "array(['Months since most recent revolving delinquency.'], dtype=object)"
      ]
     },
     "execution_count": 141,
     "metadata": {},
     "output_type": "execute_result"
    }
   ],
   "source": [
    "feature_desc[feature_desc['LoanStatNew']=='mths_since_recent_revol_delinq']['Description'].values"
   ]
  },
  {
   "cell_type": "code",
   "execution_count": null,
   "metadata": {},
   "outputs": [],
   "source": [
    "loan_train['mths_since_recent_revol_delinq']=loan_train['mths_since_recent_revol_delinq'].fillna(0)\n",
    "loan_test['mths_since_recent_revol_delinq']=loan_test['mths_since_recent_revol_delinq'].fillna(0)"
   ]
  },
  {
   "cell_type": "code",
   "execution_count": 143,
   "metadata": {
    "scrolled": true
   },
   "outputs": [
    {
     "data": {
      "text/plain": [
       "array(['Number of accounts ever 120 or more days past due'], dtype=object)"
      ]
     },
     "execution_count": 143,
     "metadata": {},
     "output_type": "execute_result"
    }
   ],
   "source": [
    "feature_desc[feature_desc['LoanStatNew']=='num_accts_ever_120_pd']['Description'].values"
   ]
  },
  {
   "cell_type": "code",
   "execution_count": null,
   "metadata": {},
   "outputs": [],
   "source": [
    "loan_train['num_accts_ever_120_pd']=loan_train['num_accts_ever_120_pd'].fillna(0)\n",
    "loan_test['num_accts_ever_120_pd']=loan_test['num_accts_ever_120_pd'].fillna(0)"
   ]
  },
  {
   "cell_type": "code",
   "execution_count": 145,
   "metadata": {},
   "outputs": [
    {
     "data": {
      "text/plain": [
       "array(['Number of currently active bankcard accounts'], dtype=object)"
      ]
     },
     "execution_count": 145,
     "metadata": {},
     "output_type": "execute_result"
    }
   ],
   "source": [
    "feature_desc[feature_desc['LoanStatNew']=='num_actv_bc_tl']['Description'].values"
   ]
  },
  {
   "cell_type": "code",
   "execution_count": null,
   "metadata": {},
   "outputs": [],
   "source": [
    "loan_train['num_actv_bc_tl']=loan_train['num_actv_bc_tl'].fillna(np.round(np.mean(loan_train['mths_since_recent_inq']),0))\n",
    "loan_test['num_actv_bc_tl']=loan_test['num_actv_bc_tl'].fillna(np.round(np.mean(loan_train['mths_since_recent_inq']),0))"
   ]
  },
  {
   "cell_type": "code",
   "execution_count": 147,
   "metadata": {},
   "outputs": [
    {
     "data": {
      "text/plain": [
       "array(['Number of currently active revolving trades'], dtype=object)"
      ]
     },
     "execution_count": 147,
     "metadata": {},
     "output_type": "execute_result"
    }
   ],
   "source": [
    "feature_desc[feature_desc['LoanStatNew']=='num_actv_rev_tl']['Description'].values"
   ]
  },
  {
   "cell_type": "code",
   "execution_count": null,
   "metadata": {},
   "outputs": [],
   "source": [
    "loan_train['num_actv_rev_tl']=loan_train['num_actv_rev_tl'].fillna(np.round(np.mean(loan_train['num_actv_rev_tl']),0))\n",
    "loan_test['num_actv_rev_tl']=loan_test['num_actv_rev_tl'].fillna(np.round(np.mean(loan_train['num_actv_rev_tl']),0))"
   ]
  },
  {
   "cell_type": "code",
   "execution_count": 149,
   "metadata": {},
   "outputs": [
    {
     "data": {
      "text/plain": [
       "array(['Number of satisfactory bankcard accounts'], dtype=object)"
      ]
     },
     "execution_count": 149,
     "metadata": {},
     "output_type": "execute_result"
    }
   ],
   "source": [
    "feature_desc[feature_desc['LoanStatNew']=='num_bc_sats']['Description'].values"
   ]
  },
  {
   "cell_type": "code",
   "execution_count": null,
   "metadata": {},
   "outputs": [],
   "source": [
    "loan_train['num_bc_sats']=loan_train['num_bc_sats'].fillna(np.round(np.mean(loan_train['num_bc_sats']),0))\n",
    "loan_test['num_bc_sats']=loan_test['num_bc_sats'].fillna(np.round(np.mean(loan_train['num_bc_sats']),0))"
   ]
  },
  {
   "cell_type": "code",
   "execution_count": 151,
   "metadata": {},
   "outputs": [
    {
     "data": {
      "text/plain": [
       "array(['Number of bankcard accounts'], dtype=object)"
      ]
     },
     "execution_count": 151,
     "metadata": {},
     "output_type": "execute_result"
    }
   ],
   "source": [
    "feature_desc[feature_desc['LoanStatNew']=='num_bc_tl']['Description'].values"
   ]
  },
  {
   "cell_type": "code",
   "execution_count": null,
   "metadata": {},
   "outputs": [],
   "source": [
    "loan_train['num_bc_tl']=loan_train['num_bc_tl'].fillna(np.round(np.mean(loan_train['num_bc_tl']),0))\n",
    "loan_test['num_bc_tl']=loan_test['num_bc_tl'].fillna(np.round(np.mean(loan_train['num_bc_tl']),0))"
   ]
  },
  {
   "cell_type": "code",
   "execution_count": 153,
   "metadata": {},
   "outputs": [
    {
     "data": {
      "text/plain": [
       "array(['Number of installment accounts'], dtype=object)"
      ]
     },
     "execution_count": 153,
     "metadata": {},
     "output_type": "execute_result"
    }
   ],
   "source": [
    "feature_desc[feature_desc['LoanStatNew']=='num_il_tl']['Description'].values"
   ]
  },
  {
   "cell_type": "code",
   "execution_count": null,
   "metadata": {},
   "outputs": [],
   "source": [
    "loan_train['num_il_tl']=loan_train['num_il_tl'].fillna(np.round(np.mean(loan_train['num_il_tl']),0))\n",
    "loan_test['num_il_tl']=loan_test['num_il_tl'].fillna(np.round(np.mean(loan_train['num_il_tl']),0))"
   ]
  },
  {
   "cell_type": "code",
   "execution_count": 155,
   "metadata": {},
   "outputs": [
    {
     "data": {
      "text/plain": [
       "array(['Number of open revolving accounts'], dtype=object)"
      ]
     },
     "execution_count": 155,
     "metadata": {},
     "output_type": "execute_result"
    }
   ],
   "source": [
    "feature_desc[feature_desc['LoanStatNew']=='num_op_rev_tl']['Description'].values"
   ]
  },
  {
   "cell_type": "code",
   "execution_count": null,
   "metadata": {},
   "outputs": [],
   "source": [
    "loan_train['num_op_rev_tl']=loan_train['num_op_rev_tl'].fillna(np.round(np.mean(loan_train['num_op_rev_tl']),0))\n",
    "loan_test['num_op_rev_tl']=loan_test['num_op_rev_tl'].fillna(np.round(np.mean(loan_train['num_op_rev_tl']),0))"
   ]
  },
  {
   "cell_type": "markdown",
   "metadata": {},
   "source": [
    "This will be the last refresh of them all........."
   ]
  },
  {
   "cell_type": "code",
   "execution_count": 157,
   "metadata": {},
   "outputs": [],
   "source": [
    "columns_nan_5=loan_train.columns[loan_train.isnull().sum()!=0].values"
   ]
  },
  {
   "cell_type": "code",
   "execution_count": 158,
   "metadata": {},
   "outputs": [
    {
     "data": {
      "text/plain": [
       "16"
      ]
     },
     "execution_count": 158,
     "metadata": {},
     "output_type": "execute_result"
    }
   ],
   "source": [
    "len(columns_nan_5)"
   ]
  },
  {
   "cell_type": "code",
   "execution_count": 159,
   "metadata": {
    "scrolled": true
   },
   "outputs": [
    {
     "data": {
      "text/plain": [
       "array(['next_pymnt_d', 'num_rev_accts', 'num_rev_tl_bal_gt_0', 'num_sats',\n",
       "       'num_tl_120dpd_2m', 'num_tl_30dpd', 'num_tl_90g_dpd_24m',\n",
       "       'num_tl_op_past_12m', 'pct_tl_nvr_dlq', 'percent_bc_gt_75',\n",
       "       'pub_rec_bankruptcies', 'tax_liens', 'tot_hi_cred_lim',\n",
       "       'total_bal_ex_mort', 'total_bc_limit',\n",
       "       'total_il_high_credit_limit'], dtype=object)"
      ]
     },
     "execution_count": 159,
     "metadata": {},
     "output_type": "execute_result"
    }
   ],
   "source": [
    "columns_nan_5"
   ]
  },
  {
   "cell_type": "markdown",
   "metadata": {},
   "source": [
    "1. 'num_rev_accts'. This is the number of revolving accounts per borrower. Nans replaced with mean rounded to nearest integer.\n",
    "2. 'num_rev_tl_bal_gt_0'. Number of revolving trades with balance >0. Nans replaced with mean rounded to nearest integer.\n",
    "3. 'num_sats'. Number of satisfactoy accounts.  Nans replaced with mean rounded to nearest integer. \n",
    "4. 'num_tl_120dpd_2m'. Number of accounts currently 120 days past due (updated in past 2 months). Nans replaced with 0.\n",
    "5. 'num_tl_30dpd'.Number of accounts currently 30 days past due (updated in past 2 months).Nans replaced with 0.\n",
    "6. 'num_tl_90g_dpd_24m'. Number of accounts 90 or more days past due in last 24 months. Nans replaced with 0.\n",
    "7. 'num_tl_op_past_12m'. Number of accounts opened in past 12 months.Nans replaced with mean rounded to nearest integer.\n",
    "8. 'pct_tl_nvr_dlq'. Percent of trades never delinquent. Nans replaced with mean.\n",
    "9. 'percent_bc_gt_75'.Percentage of all bankcard accounts > 75% of limit.Nans replaced with mean.\n",
    "10. 'pub_rec_bankruptcies'.Number of public record bankruptcies. Nans replaced with 0.\n",
    "11. 'tax_liens'. Number of tax liens. Nans replaced with 0.\n",
    "12. 'tot_hi_cred_lim'. Total high credit/credit limit. Nans replaced with mean.\n",
    "13. 'total_bal_ex_mort'. Total credit balance excluding mortgage.Nans replaced with mean.\n",
    "14. 'total_bc_limit'. Total bankcard high credit/credit limit. Nans replaced with mean.\n",
    "15. 'total_il_high_credit_limit'. Total installment high credit/credit limit. Nans replaced with mean."
   ]
  },
  {
   "cell_type": "code",
   "execution_count": 160,
   "metadata": {},
   "outputs": [
    {
     "data": {
      "text/plain": [
       "array(['Number of revolving accounts'], dtype=object)"
      ]
     },
     "execution_count": 160,
     "metadata": {},
     "output_type": "execute_result"
    }
   ],
   "source": [
    "feature_desc[feature_desc['LoanStatNew']=='num_rev_accts']['Description'].values"
   ]
  },
  {
   "cell_type": "code",
   "execution_count": null,
   "metadata": {},
   "outputs": [],
   "source": [
    "loan_train['num_rev_accts']=loan_train['num_rev_accts'].fillna(np.round(np.mean(loan_train['num_rev_accts']),0))\n",
    "loan_test['num_rev_accts']=loan_test['num_rev_accts'].fillna(np.round(np.mean(loan_train['num_rev_accts']),0))"
   ]
  },
  {
   "cell_type": "code",
   "execution_count": 162,
   "metadata": {},
   "outputs": [
    {
     "data": {
      "text/plain": [
       "array(['Number of revolving trades with balance >0'], dtype=object)"
      ]
     },
     "execution_count": 162,
     "metadata": {},
     "output_type": "execute_result"
    }
   ],
   "source": [
    "feature_desc[feature_desc['LoanStatNew']=='num_rev_tl_bal_gt_0']['Description'].values"
   ]
  },
  {
   "cell_type": "code",
   "execution_count": null,
   "metadata": {},
   "outputs": [],
   "source": [
    "loan_train['num_rev_tl_bal_gt_0']=loan_train['num_rev_tl_bal_gt_0'].fillna(np.round(np.mean(loan_train['num_rev_tl_bal_gt_0']),0))\n",
    "loan_test['num_rev_tl_bal_gt_0']=loan_test['num_rev_tl_bal_gt_0'].fillna(np.round(np.mean(loan_train['num_rev_tl_bal_gt_0']),0))"
   ]
  },
  {
   "cell_type": "code",
   "execution_count": 164,
   "metadata": {},
   "outputs": [
    {
     "data": {
      "text/plain": [
       "array(['Number of satisfactory accounts'], dtype=object)"
      ]
     },
     "execution_count": 164,
     "metadata": {},
     "output_type": "execute_result"
    }
   ],
   "source": [
    "feature_desc[feature_desc['LoanStatNew']=='num_sats']['Description'].values"
   ]
  },
  {
   "cell_type": "code",
   "execution_count": null,
   "metadata": {},
   "outputs": [],
   "source": [
    "loan_train['num_sats']=loan_train['num_sats'].fillna(np.round(np.mean(loan_train['num_sats']),0))\n",
    "loan_test['num_sats']=loan_test['num_sats'].fillna(np.round(np.mean(loan_train['num_sats']),0))"
   ]
  },
  {
   "cell_type": "code",
   "execution_count": 166,
   "metadata": {},
   "outputs": [
    {
     "data": {
      "text/plain": [
       "array(['Number of accounts currently 120 days past due (updated in past 2 months)'],\n",
       "      dtype=object)"
      ]
     },
     "execution_count": 166,
     "metadata": {},
     "output_type": "execute_result"
    }
   ],
   "source": [
    "feature_desc[feature_desc['LoanStatNew']=='num_tl_120dpd_2m']['Description'].values"
   ]
  },
  {
   "cell_type": "code",
   "execution_count": null,
   "metadata": {},
   "outputs": [],
   "source": [
    "loan_train['num_tl_120dpd_2m']=loan_train['num_tl_120dpd_2m'].fillna(0)\n",
    "loan_test['num_tl_120dpd_2m']=loan_test['num_tl_120dpd_2m'].fillna(0)"
   ]
  },
  {
   "cell_type": "code",
   "execution_count": 168,
   "metadata": {},
   "outputs": [
    {
     "data": {
      "text/plain": [
       "array(['Number of accounts currently 30 days past due (updated in past 2 months)'],\n",
       "      dtype=object)"
      ]
     },
     "execution_count": 168,
     "metadata": {},
     "output_type": "execute_result"
    }
   ],
   "source": [
    "feature_desc[feature_desc['LoanStatNew']=='num_tl_30dpd']['Description'].values"
   ]
  },
  {
   "cell_type": "code",
   "execution_count": null,
   "metadata": {},
   "outputs": [],
   "source": [
    "loan_train['num_tl_30dpd']=loan_train['num_tl_30dpd'].fillna(0)\n",
    "loan_test['num_tl_30dpd']=loan_test['num_tl_30dpd'].fillna(0)"
   ]
  },
  {
   "cell_type": "code",
   "execution_count": 170,
   "metadata": {},
   "outputs": [
    {
     "data": {
      "text/plain": [
       "array(['Number of accounts 90 or more days past due in last 24 months'],\n",
       "      dtype=object)"
      ]
     },
     "execution_count": 170,
     "metadata": {},
     "output_type": "execute_result"
    }
   ],
   "source": [
    "feature_desc[feature_desc['LoanStatNew']=='num_tl_90g_dpd_24m']['Description'].values"
   ]
  },
  {
   "cell_type": "code",
   "execution_count": null,
   "metadata": {},
   "outputs": [],
   "source": [
    "loan_train['num_tl_90g_dpd_24m']=loan_train['num_tl_90g_dpd_24m'].fillna(0)\n",
    "loan_test['num_tl_90g_dpd_24m']=loan_test['num_tl_90g_dpd_24m'].fillna(0)"
   ]
  },
  {
   "cell_type": "code",
   "execution_count": 172,
   "metadata": {},
   "outputs": [
    {
     "data": {
      "text/plain": [
       "array(['Number of accounts opened in past 12 months'], dtype=object)"
      ]
     },
     "execution_count": 172,
     "metadata": {},
     "output_type": "execute_result"
    }
   ],
   "source": [
    "feature_desc[feature_desc['LoanStatNew']=='num_tl_op_past_12m']['Description'].values"
   ]
  },
  {
   "cell_type": "code",
   "execution_count": null,
   "metadata": {},
   "outputs": [],
   "source": [
    "loan_train['num_tl_op_past_12m']=loan_train['num_tl_op_past_12m'].fillna(np.round(np.mean(loan_train['num_tl_op_past_12m']),0))\n",
    "loan_test['num_tl_op_past_12m']=loan_test['num_tl_op_past_12m'].fillna(np.round(np.mean(loan_train['num_tl_op_past_12m']),0))"
   ]
  },
  {
   "cell_type": "code",
   "execution_count": 174,
   "metadata": {},
   "outputs": [
    {
     "data": {
      "text/plain": [
       "array(['Percent of trades never delinquent'], dtype=object)"
      ]
     },
     "execution_count": 174,
     "metadata": {},
     "output_type": "execute_result"
    }
   ],
   "source": [
    "feature_desc[feature_desc['LoanStatNew']=='pct_tl_nvr_dlq']['Description'].values"
   ]
  },
  {
   "cell_type": "code",
   "execution_count": 175,
   "metadata": {},
   "outputs": [],
   "source": [
    "loan_train['pct_tl_nvr_dlq']=loan_train['pct_tl_nvr_dlq'].fillna(np.mean(loan_train['pct_tl_nvr_dlq']))\n",
    "loan_test['pct_tl_nvr_dlq']=loan_test['pct_tl_nvr_dlq'].fillna(np.mean(loan_train['pct_tl_nvr_dlq']))"
   ]
  },
  {
   "cell_type": "code",
   "execution_count": 176,
   "metadata": {},
   "outputs": [
    {
     "data": {
      "text/plain": [
       "array(['Percentage of all bankcard accounts > 75% of limit.'],\n",
       "      dtype=object)"
      ]
     },
     "execution_count": 176,
     "metadata": {},
     "output_type": "execute_result"
    }
   ],
   "source": [
    "feature_desc[feature_desc['LoanStatNew']=='percent_bc_gt_75']['Description'].values"
   ]
  },
  {
   "cell_type": "code",
   "execution_count": 177,
   "metadata": {},
   "outputs": [],
   "source": [
    "loan_train['percent_bc_gt_75']=loan_train['percent_bc_gt_75'].fillna(np.mean(loan_train['percent_bc_gt_75']))\n",
    "loan_test['percent_bc_gt_75']=loan_test['percent_bc_gt_75'].fillna(np.mean(loan_train['percent_bc_gt_75']))"
   ]
  },
  {
   "cell_type": "code",
   "execution_count": 178,
   "metadata": {},
   "outputs": [
    {
     "data": {
      "text/plain": [
       "array(['Number of public record bankruptcies'], dtype=object)"
      ]
     },
     "execution_count": 178,
     "metadata": {},
     "output_type": "execute_result"
    }
   ],
   "source": [
    "feature_desc[feature_desc['LoanStatNew']=='pub_rec_bankruptcies']['Description'].values"
   ]
  },
  {
   "cell_type": "code",
   "execution_count": 179,
   "metadata": {},
   "outputs": [],
   "source": [
    "loan_train['pub_rec_bankruptcies']=loan_train['pub_rec_bankruptcies'].fillna(0)\n",
    "loan_test['pub_rec_bankruptcies']=loan_test['pub_rec_bankruptcies'].fillna(0)"
   ]
  },
  {
   "cell_type": "code",
   "execution_count": 180,
   "metadata": {},
   "outputs": [
    {
     "data": {
      "text/plain": [
       "array(['Number of tax liens'], dtype=object)"
      ]
     },
     "execution_count": 180,
     "metadata": {},
     "output_type": "execute_result"
    }
   ],
   "source": [
    "feature_desc[feature_desc['LoanStatNew']=='tax_liens']['Description'].values"
   ]
  },
  {
   "cell_type": "code",
   "execution_count": 181,
   "metadata": {},
   "outputs": [],
   "source": [
    "loan_train['tax_liens']=loan_train['tax_liens'].fillna(0)\n",
    "loan_test['tax_liens']=loan_test['tax_liens'].fillna(0)"
   ]
  },
  {
   "cell_type": "code",
   "execution_count": 182,
   "metadata": {},
   "outputs": [
    {
     "data": {
      "text/plain": [
       "array(['Total high credit/credit limit'], dtype=object)"
      ]
     },
     "execution_count": 182,
     "metadata": {},
     "output_type": "execute_result"
    }
   ],
   "source": [
    "feature_desc[feature_desc['LoanStatNew']=='tot_hi_cred_lim']['Description'].values"
   ]
  },
  {
   "cell_type": "code",
   "execution_count": 183,
   "metadata": {},
   "outputs": [],
   "source": [
    "loan_train['tot_hi_cred_lim']=loan_train['tot_hi_cred_lim'].fillna(np.mean(loan_train['tot_hi_cred_lim']))\n",
    "loan_test['tot_hi_cred_lim']=loan_test['tot_hi_cred_lim'].fillna(np.mean(loan_train['tot_hi_cred_lim']))"
   ]
  },
  {
   "cell_type": "code",
   "execution_count": 184,
   "metadata": {},
   "outputs": [
    {
     "data": {
      "text/plain": [
       "array(['Total credit balance excluding mortgage'], dtype=object)"
      ]
     },
     "execution_count": 184,
     "metadata": {},
     "output_type": "execute_result"
    }
   ],
   "source": [
    "feature_desc[feature_desc['LoanStatNew']=='total_bal_ex_mort']['Description'].values"
   ]
  },
  {
   "cell_type": "code",
   "execution_count": 185,
   "metadata": {},
   "outputs": [],
   "source": [
    "loan_train['total_bal_ex_mort']=loan_train['total_bal_ex_mort'].fillna(np.mean(loan_train['total_bal_ex_mort']))\n",
    "loan_test['total_bal_ex_mort']=loan_test['total_bal_ex_mort'].fillna(np.mean(loan_train['total_bal_ex_mort']))"
   ]
  },
  {
   "cell_type": "code",
   "execution_count": 186,
   "metadata": {},
   "outputs": [
    {
     "data": {
      "text/plain": [
       "array(['Total bankcard high credit/credit limit'], dtype=object)"
      ]
     },
     "execution_count": 186,
     "metadata": {},
     "output_type": "execute_result"
    }
   ],
   "source": [
    "feature_desc[feature_desc['LoanStatNew']=='total_bc_limit']['Description'].values"
   ]
  },
  {
   "cell_type": "code",
   "execution_count": 187,
   "metadata": {},
   "outputs": [],
   "source": [
    "loan_train['total_bc_limit']=loan_train['total_bc_limit'].fillna(np.mean(loan_train['total_bc_limit']))\n",
    "loan_test['total_bc_limit']=loan_test['total_bc_limit'].fillna(np.mean(loan_train['total_bc_limit']))"
   ]
  },
  {
   "cell_type": "code",
   "execution_count": 188,
   "metadata": {},
   "outputs": [
    {
     "data": {
      "text/plain": [
       "array(['Total installment high credit/credit limit'], dtype=object)"
      ]
     },
     "execution_count": 188,
     "metadata": {},
     "output_type": "execute_result"
    }
   ],
   "source": [
    "feature_desc[feature_desc['LoanStatNew']=='total_il_high_credit_limit']['Description'].values"
   ]
  },
  {
   "cell_type": "code",
   "execution_count": 189,
   "metadata": {},
   "outputs": [],
   "source": [
    "loan_train['total_il_high_credit_limit']=loan_train['total_il_high_credit_limit'].fillna(np.mean(loan_train['total_il_high_credit_limit']))\n",
    "loan_test['total_il_high_credit_limit']=loan_test['total_il_high_credit_limit'].fillna(np.mean(loan_train['total_il_high_credit_limit']))"
   ]
  },
  {
   "cell_type": "markdown",
   "metadata": {},
   "source": [
    "Let's do a final test to ensure that there are no Nan values in our data."
   ]
  },
  {
   "cell_type": "code",
   "execution_count": 198,
   "metadata": {},
   "outputs": [
    {
     "data": {
      "text/plain": [
       "Index([], dtype='object')"
      ]
     },
     "execution_count": 198,
     "metadata": {},
     "output_type": "execute_result"
    }
   ],
   "source": [
    "loan_train.columns[loan_train.isnull().sum()!=0]"
   ]
  },
  {
   "cell_type": "code",
   "execution_count": 199,
   "metadata": {},
   "outputs": [
    {
     "data": {
      "text/plain": [
       "Index([], dtype='object')"
      ]
     },
     "execution_count": 199,
     "metadata": {},
     "output_type": "execute_result"
    }
   ],
   "source": [
    "loan_test.columns[loan_test.isnull().sum()!=0]"
   ]
  },
  {
   "cell_type": "markdown",
   "metadata": {},
   "source": [
    "All our columns contating values and there were no evident outliers detected that were signicant enough to remove.\n",
    "\n",
    "Now....Let's convert all the columns with dates to timestamps."
   ]
  },
  {
   "cell_type": "code",
   "execution_count": 201,
   "metadata": {},
   "outputs": [],
   "source": [
    "loan_train.earliest_cr_line=pd.to_datetime(loan_train.earliest_cr_line)\n",
    "loan_test.earliest_cr_line=pd.to_datetime(loan_test.earliest_cr_line)"
   ]
  },
  {
   "cell_type": "code",
   "execution_count": 202,
   "metadata": {},
   "outputs": [],
   "source": [
    "loan_train.next_pymnt_d=pd.to_datetime(loan_train.next_pymnt_d)\n",
    "loan_test.next_pymnt_d=pd.to_datetime(loan_test.next_pymnt_d)"
   ]
  },
  {
   "cell_type": "code",
   "execution_count": 203,
   "metadata": {},
   "outputs": [],
   "source": [
    "loan_train.last_pymnt_d=pd.to_datetime(loan_train.last_pymnt_d)\n",
    "loan_test.last_pymnt_d=pd.to_datetime(loan_test.last_pymnt_d)"
   ]
  },
  {
   "cell_type": "code",
   "execution_count": 204,
   "metadata": {},
   "outputs": [],
   "source": [
    "loan_train.last_credit_pull_d=pd.to_datetime(loan_train.last_credit_pull_d)\n",
    "loan_test.last_credit_pull_d=pd.to_datetime(loan_test.last_credit_pull_d)"
   ]
  },
  {
   "cell_type": "code",
   "execution_count": 330,
   "metadata": {},
   "outputs": [],
   "source": [
    "loan_train.issue_d=pd.to_datetime(loan_train.issue_d)\n",
    "loan_test.issue_d=pd.to_datetime(loan_test.issue_d)"
   ]
  },
  {
   "cell_type": "markdown",
   "metadata": {},
   "source": [
    "# Dealing with Datatypes"
   ]
  },
  {
   "cell_type": "markdown",
   "metadata": {},
   "source": [
    "We need to prepare our data as much as we can for modelling, so let's try and conver the categorical data to numerical data."
   ]
  },
  {
   "cell_type": "code",
   "execution_count": 231,
   "metadata": {},
   "outputs": [
    {
     "data": {
      "text/plain": [
       "loan_amnt                     1570\n",
       "funded_amnt                   1570\n",
       "funded_amnt_inv               7962\n",
       "term                             2\n",
       "int_rate                       669\n",
       "installment                  87592\n",
       "grade                            7\n",
       "sub_grade                       35\n",
       "emp_title                   411359\n",
       "emp_length                      12\n",
       "home_ownership                   6\n",
       "verification_status              3\n",
       "issue_d                        139\n",
       "pymnt_plan                       2\n",
       "purpose                         14\n",
       "addr_state                      51\n",
       "revol_bal                    93152\n",
       "initial_list_status              2\n",
       "out_prncp                   294142\n",
       "out_prncp_inv               304517\n",
       "total_pymnt                1251216\n",
       "total_pymnt_inv            1056684\n",
       "total_rec_prncp             400645\n",
       "total_rec_int               557498\n",
       "total_rec_late_fee           14957\n",
       "recoveries                  101136\n",
       "collection_recovery_fee     108356\n",
       "last_pymnt_amnt             563533\n",
       "policy_code                      1\n",
       "application_type                 2\n",
       "hardship_flag                    2\n",
       "disbursement_method              2\n",
       "debt_settlement_flag             2\n",
       "dtype: int64"
      ]
     },
     "execution_count": 231,
     "metadata": {},
     "output_type": "execute_result"
    }
   ],
   "source": [
    "loan_train.select_dtypes(include=['object']).nunique()"
   ]
  },
  {
   "cell_type": "markdown",
   "metadata": {},
   "source": [
    "It seems that some of our columns that should be integers are actuall object, we need to fix this.\n",
    "\n",
    "Let's loop through the first entry entry of every column and check the datatype. If it is an integer or a float, we will convert the data type."
   ]
  },
  {
   "cell_type": "code",
   "execution_count": 253,
   "metadata": {},
   "outputs": [],
   "source": [
    "for col in loan_train.columns:\n",
    "    if type(loan_train[col][0])==int:\n",
    "        loan_train[col]=loan_train[col].astype('int64')\n",
    "    elif type(loan_train[col][0])==float:\n",
    "        loan_train[col]=loan_train[col].astype('float')"
   ]
  },
  {
   "cell_type": "markdown",
   "metadata": {},
   "source": [
    "Let's check if that worked...."
   ]
  },
  {
   "cell_type": "code",
   "execution_count": 254,
   "metadata": {},
   "outputs": [
    {
     "data": {
      "text/plain": [
       "term                         2\n",
       "grade                        7\n",
       "sub_grade                   35\n",
       "emp_title               411359\n",
       "emp_length                  12\n",
       "home_ownership               6\n",
       "verification_status          3\n",
       "issue_d                    139\n",
       "pymnt_plan                   2\n",
       "purpose                     14\n",
       "addr_state                  51\n",
       "initial_list_status          2\n",
       "application_type             2\n",
       "hardship_flag                2\n",
       "disbursement_method          2\n",
       "debt_settlement_flag         2\n",
       "dtype: int64"
      ]
     },
     "execution_count": 254,
     "metadata": {},
     "output_type": "execute_result"
    }
   ],
   "source": [
    "loan_train.select_dtypes(include=['object']).nunique()"
   ]
  },
  {
   "cell_type": "markdown",
   "metadata": {},
   "source": [
    "Much better now.\n",
    "But another problem has risen. Employment title has 411,359 entries. This will be disastrous for modelling if not taken care of. So let's see if we can group emplyoment titles as much as we can. But first, let's convert the datatypes of the testing set."
   ]
  },
  {
   "cell_type": "code",
   "execution_count": 271,
   "metadata": {},
   "outputs": [
    {
     "data": {
      "text/plain": [
       "float"
      ]
     },
     "execution_count": 271,
     "metadata": {},
     "output_type": "execute_result"
    }
   ],
   "source": [
    "type(loan_test['funded_amnt_inv'][0])"
   ]
  },
  {
   "cell_type": "code",
   "execution_count": 272,
   "metadata": {},
   "outputs": [],
   "source": [
    "for col in loan_test.columns:\n",
    "    if type(loan_test[col][0])==np.int64:\n",
    "        loan_test[col]=loan_test[col].astype('int')\n",
    "    elif type(loan_test[col][0])==float:\n",
    "        loan_test[col]=loan_test[col].astype('float')"
   ]
  },
  {
   "cell_type": "code",
   "execution_count": 273,
   "metadata": {},
   "outputs": [
    {
     "data": {
      "text/plain": [
       "term                         2\n",
       "grade                        7\n",
       "sub_grade                   35\n",
       "emp_title               172515\n",
       "emp_length                  12\n",
       "home_ownership               6\n",
       "verification_status          3\n",
       "issue_d                    139\n",
       "pymnt_plan                   2\n",
       "purpose                     14\n",
       "addr_state                  51\n",
       "initial_list_status          2\n",
       "application_type             2\n",
       "hardship_flag                2\n",
       "disbursement_method          2\n",
       "debt_settlement_flag         2\n",
       "dtype: int64"
      ]
     },
     "execution_count": 273,
     "metadata": {},
     "output_type": "execute_result"
    }
   ],
   "source": [
    "loan_test.select_dtypes(include=['object']).nunique()"
   ]
  },
  {
   "cell_type": "markdown",
   "metadata": {},
   "source": [
    "# Grouping Employment Titles"
   ]
  },
  {
   "cell_type": "markdown",
   "metadata": {},
   "source": [
    "We had 411,581 unique entries for emp_title in the training set.\n",
    "We had 172,515 unique entries for emp_title in the testing set.\n",
    "\n",
    "First let's convert all entries to lower case and remove empty spaces."
   ]
  },
  {
   "cell_type": "code",
   "execution_count": 293,
   "metadata": {},
   "outputs": [],
   "source": [
    "loan_train.emp_title=loan_train.emp_title.str.lower()\n",
    "loan_train.emp_title=loan_train.emp_title.str.strip()\n",
    "emp_title_train= loan_train.emp_title"
   ]
  },
  {
   "cell_type": "code",
   "execution_count": 275,
   "metadata": {},
   "outputs": [],
   "source": [
    "#do the same for the testing set\n",
    "loan_test.emp_title=loan_test.emp_title.str.lower()\n",
    "loan_test.emp_title=loan_test.emp_title.str.strip()\n",
    "emp_title_test= loan_test.emp_title"
   ]
  },
  {
   "cell_type": "code",
   "execution_count": 276,
   "metadata": {},
   "outputs": [
    {
     "data": {
      "text/plain": [
       "331732"
      ]
     },
     "execution_count": 276,
     "metadata": {},
     "output_type": "execute_result"
    }
   ],
   "source": [
    "emp_title_lower.nunique()"
   ]
  },
  {
   "cell_type": "code",
   "execution_count": 278,
   "metadata": {},
   "outputs": [
    {
     "data": {
      "text/plain": [
       "not given             125153\n",
       "teacher                36213\n",
       "manager                34448\n",
       "owner                  25167\n",
       "registered nurse       17589\n",
       "supervisor             16681\n",
       "driver                 16668\n",
       "sales                  14253\n",
       "rn                     12935\n",
       "office manager         10612\n",
       "project manager        10340\n",
       "general manager         9997\n",
       "truck driver            9631\n",
       "director                7923\n",
       "president               7356\n",
       "engineer                6729\n",
       "sales manager           6364\n",
       "operations manager      6155\n",
       "police officer          5746\n",
       "vice president          5636\n",
       "Name: emp_title, dtype: int64"
      ]
     },
     "execution_count": 278,
     "metadata": {},
     "output_type": "execute_result"
    }
   ],
   "source": [
    "emp_title_lower.value_counts()[:20]"
   ]
  },
  {
   "cell_type": "code",
   "execution_count": 279,
   "metadata": {},
   "outputs": [
    {
     "data": {
      "text/plain": [
       "331664"
      ]
     },
     "execution_count": 279,
     "metadata": {},
     "output_type": "execute_result"
    }
   ],
   "source": [
    "low_occurence_title=emp_title_lower[emp_title_lower.isin(emp_title_lower.value_counts()[(emp_title_lower.value_counts()<2000)].index)]\n",
    "len(low_occurence_title.value_counts())"
   ]
  },
  {
   "cell_type": "markdown",
   "metadata": {},
   "source": [
    "- Just by converting the entries to be all lowercase and stripping empty space, the unique values went down to 331,569. This is a reduction of aorund 80,000 unique values.\n",
    "\n",
    "- Just Looking at the unique value counts, some of them can be grouped level of seniority or type of industry. \n",
    "\n",
    "331,664 titles of the 331,732 unique titles occur less than 2000 times. That is 99.9% of the titles. Is there a way to  group the titles? \n",
    "\n",
    "Let's find the most common words and attempt to group titles. But let's clarify our situation:\n",
    "\n",
    "1. There are 1,695,501 entries of titles in the dataframe.\n",
    "2. 1,154,192 entries occur less than 2000 times.\n",
    "3. We will attempt in grouping this data by looking at the keywords in the titles.\n",
    "\n",
    "After looking at the key words manually in excel, a list of words that can be grouped will be placed in a 12 lists.\n",
    "1. Executive (CEO, CFO, OWner, president etc)\n",
    "2. Assistant (Assistants)\n",
    "3. Senior (Manager, Supervisor, 'leader)\n",
    "4. Skilled (Engineer, Programmer, Lawyer)\n",
    "5. Technical (Mechanic, Builder etc)\n",
    "6. Health(Nurse, doctor, pharmacy)\n",
    "7. Business(Finance, Accounting, legal)\n",
    "8. Adminstrative(Clerk, office, banker)\n",
    "9. Education(Teacher, professor)\n",
    "10. Low skill(Waiter, bartender)\n",
    "11. Federal (Officer, army, airforce)\n",
    "12. Other titles(\n"
   ]
  },
  {
   "cell_type": "code",
   "execution_count": 280,
   "metadata": {},
   "outputs": [],
   "source": [
    "executive=[\n",
    "    'director','director,',\n",
    "    'vp', 'vice', \n",
    "    'executive', 'owner',\n",
    "    'partner','chief',\n",
    "    'ceo','pres',\n",
    "    'md','shareholder',\n",
    "    'president','principal',\n",
    "    'cfo','coo',\n",
    "    'co-owner','cto','sole',\n",
    "    'svp','cio','dean'\n",
    "]"
   ]
  },
  {
   "cell_type": "code",
   "execution_count": 281,
   "metadata": {},
   "outputs": [],
   "source": [
    "assistant=[ \n",
    "    'assistant','asst',\n",
    "    'asst.','support',\n",
    "    'asm','pa',\n",
    "    'agm','avp',\n",
    "    'pta'\n",
    "]"
   ]
  },
  {
   "cell_type": "code",
   "execution_count": 282,
   "metadata": {},
   "outputs": [],
   "source": [
    "senior=[\n",
    "    'supervisor','supervisior',\n",
    "    'lead', 'operations',\n",
    "    'management', 'project',\n",
    "    'manager,', 'leader',\n",
    "    'mgr', 'ops',\n",
    "    'manger', 'senior',\n",
    "    'sr.', 'sr','manager',\n",
    "    'self','employed',\n",
    "    'managment','head',\n",
    "    'mamager','rsa',\n",
    "    'boss','mananger',\n",
    "    'gm','captain',\n",
    "    'superviser'\n",
    "]"
   ]
  },
  {
   "cell_type": "code",
   "execution_count": 283,
   "metadata": {},
   "outputs": [],
   "source": [
    "skilled= [\n",
    "    'analyst','engineer',\n",
    "    'data','engineering',\n",
    "    'design','network',\n",
    "     'software','designer',\n",
    "    'digital','media',\n",
    "    'computer','architect',\n",
    "    'developer','lab','energy',\n",
    "    'mechanical','law','attorney',\n",
    "    'geologist','estimator','it',\n",
    "    'draftsman','technologist',\n",
    "    'chef','system',\n",
    "    'research','accenture',\n",
    "    'capital', 'e-7','solar',\n",
    "    'turbines','boeing',\n",
    "    'pm','environmental',\n",
    "    'actuary','sfc',\n",
    "    'quality','qc',\n",
    "    'controller',\n",
    "    'expeditor','paralegal',\n",
    "    'litigation','meteorologist',\n",
    "    'css','researcher',\n",
    "    'jeweler','booz',\n",
    "    'copywriter','publisher',\n",
    "    'pilot','jewelry','professor',\n",
    "    'programmer','logistics',\n",
    "    'planner','engineeer',\n",
    "    'cpa','chemist',\n",
    "    'lawyer','barista',\n",
    "    'underwriter','judge',\n",
    "    'at&t','trainer',\n",
    "    'coder','ibm',\n",
    "    'verizon','csa',\n",
    "    'dsp','cma',\n",
    "    'counsel'\n",
    "]"
   ]
  },
  {
   "cell_type": "code",
   "execution_count": 284,
   "metadata": {},
   "outputs": [],
   "source": [
    "technical=[\n",
    "    'tech','technician',\n",
    "    'support', 'operator',\n",
    "    'systems', 'technical',\n",
    "    'maintenance', 'field',\n",
    "    'production', 'technology',\n",
    "    'solutions','mechanic',\n",
    "    'construction',\n",
    "    'information', 'inspector',\n",
    "    'equipment', 'auto',\n",
    "    'plant', 'machine',\n",
    "    'foreman', 'truck', \n",
    "    'warehouse','electric',\n",
    "    'scientist','factory',\n",
    "    'miner','welder','toolmaker',\n",
    "    'specialist','electrician',\n",
    "    'formen','forman',\n",
    "    'builder','yard',\n",
    "    'superintendent',\n",
    "    'assembly', 'worker',\n",
    "    'handler','sanitation',\n",
    "    'operater','maker',\n",
    "    'technition','metal',\n",
    "    'plumber','plumbing',\n",
    "    'installer','machines',\n",
    "    'repair','install',\n",
    "    'installation','assembler',\n",
    "    'roofer','parts',\n",
    "    'maintainer','union',\n",
    "    'landscaper','rigger',\n",
    "    'steamfitter','cable',\n",
    "    'insulator','journeyman',\n",
    "    'tankerman','fitter',\n",
    "    'unloader','manufacturing',\n",
    "    'laborer','landman',\n",
    "    'surveyor','facilities',\n",
    "    'boilermaker','contractor',\n",
    "    'pumper','technitian',\n",
    "    'pipefitter','technican',\n",
    "    'grinder','machanic',\n",
    "    'framer','machinist',\n",
    "    'carpenter','millwright',\n",
    "    'fabricator','loader',\n",
    "    'driller','machinest',\n",
    "    'ironworker','leadman',\n",
    "    'trader','finisher',\n",
    "    'service'\n",
    "]"
   ]
  },
  {
   "cell_type": "code",
   "execution_count": 285,
   "metadata": {},
   "outputs": [],
   "source": [
    "health=[ \n",
    "    'health', 'medical',\n",
    "    'nurse', 'clinical',\n",
    "    'hospital', 'patient',\n",
    "    'nursing', 'healthcare',\n",
    "    'dental', 'pharmacy',\n",
    "    'surgical' ,'anesthesiologist',\n",
    "    'pediatrician','optician',\n",
    "    'paramedic','dietician',\n",
    "    'medic','dietary',\n",
    "    'biologist','pharmacist',\n",
    "    'nutritionist','therpost',\n",
    "    'massage','therapist',\n",
    "    'pharmaceutical','dietitian',\n",
    "    'audiologist','ma',\n",
    "    'cpht','cardiac',\n",
    "    'hygienist', 'cst',\n",
    "    'mlt','microbiologist',\n",
    "    'resident','psychologist',\n",
    "    'np','rdh',\n",
    "    'arnp','stna','rn',\n",
    "    'lpn', 'radiographer',\n",
    "    'physician','phlebotomist',\n",
    "    'dentist','pathologist',\n",
    "    'lvn','sonographer',\n",
    "    'emt','crna',\n",
    "    'veterinarian','doctor',\n",
    "    'clinician','optometrist',\n",
    "    'esthetician','psychotherapist',\n",
    "    'kaiser','chiropractor',\n",
    "    'pct'\n",
    "]"
   ]
  },
  {
   "cell_type": "code",
   "execution_count": 286,
   "metadata": {},
   "outputs": [],
   "source": [
    "business=[\n",
    "    'sales', 'associate',\n",
    "    'business', 'consultant',\n",
    "    'development', 'marketing',\n",
    "    'rep', 'account',\n",
    "    'financial', 'representative',\n",
    "    'admin', 'insurance',\n",
    "    'finance', 'accounting',\n",
    "    'bank', 'associates',\n",
    "    'accounts', 'legal','banker'\n",
    "    'consulting','hr',\n",
    "    'human','resources','salesman',\n",
    "    'accountant','accounting',\n",
    "    'investments','recruiter',\n",
    "    'recruitment','investment',\n",
    "    'lender','internal',\n",
    "    'sale','rsr',\n",
    "    'banker','merrill',\n",
    "    'citigroup','chase',\n",
    "    'citibank','sprint',\n",
    "    'economic','economist',\n",
    "    'wealth','msr',\n",
    "    'asset','supply',\n",
    "    'logistician','broker',\n",
    "    'fargo','chase',\n",
    "    'stanley','salesperson',\n",
    "    'loan'\n",
    "]"
   ]
  },
  {
   "cell_type": "code",
   "execution_count": 288,
   "metadata": {},
   "outputs": [],
   "source": [
    "education=[\n",
    "    'school', 'education',\n",
    "    'teacher', 'university',\n",
    "    'fellow', 'college',\n",
    "    'counselor', 'schools',\n",
    "    'teachers','educational',\n",
    "    'educator','tutor',\n",
    "    'para','paraprofessional',\n",
    "    'elementary','faculty',\n",
    "    'lecturer'\n",
    "]"
   ]
  },
  {
   "cell_type": "code",
   "execution_count": 289,
   "metadata": {},
   "outputs": [],
   "source": [
    "admin=[\n",
    "    'administrative', 'administration',\n",
    "    'aministrator','retail',\n",
    "    'security','office',\n",
    "    'shipping','desk',\n",
    "    'book','keeping', \n",
    "    'clerk','controller',\n",
    "    'purchaser','buyer',\n",
    "    'teller','administrator',\n",
    "    'scheduler','customer',\n",
    "    'client','processor',\n",
    "    'coordinator','bookeeper',\n",
    "    'filler','communications',\n",
    "    'auditor','examiner',\n",
    "    'tax','dba',\n",
    "    'orderfiller','psr',\n",
    "    'procurement','merchandiser',\n",
    "    'investigator','clerical',\n",
    "    'member','admissions',\n",
    "    'key','safety',\n",
    "    'secretary','bookkeeper',\n",
    "    'librarian','csr',\n",
    "    'advisor','adjuster',\n",
    "    'purchasing','registrar',\n",
    "    'court','payroll',\n",
    "    'inventory','control',\n",
    "    'appraiser','billing',\n",
    "    'biller','receiver',\n",
    "    'collector','collections',\n",
    "    'claims'\n",
    "]"
   ]
  },
  {
   "cell_type": "code",
   "execution_count": 290,
   "metadata": {},
   "outputs": [],
   "source": [
    "low_skill=[\n",
    "    'costco', 'buy',\n",
    "    'best','resort',\n",
    "    'delivery','derivery',\n",
    "    'groomer','mail',\n",
    "    'post','bartender',\n",
    "    'helper','maintence',\n",
    "    'deli', 'stylist',\n",
    "    'depot','stylist',\n",
    "    'house','courier',\n",
    "    'casino','driver',\n",
    "    'farmer','decorator',\n",
    "    'cosmetologist','cook',\n",
    "    'cabin','crew',\n",
    "    'houseman','valet',\n",
    "    'host','mailman',\n",
    "    'realtor','carrier',\n",
    "    'airlines','attendant',\n",
    "    'attendent','letter',\n",
    "    'estate','realtor',\n",
    "    'hostess','housekeeper',\n",
    "    'stylist','musician',\n",
    "    'reader','painter',\n",
    "    'manicurist','checker',\n",
    "    'provider','aide',\n",
    "    'groundskeeper','guest',\n",
    "    'fedex','work',\n",
    "    'social','packer',\n",
    "    'packing','mixer',\n",
    "    'janitorial','chauffeur',\n",
    "    'bellman','hair',\n",
    "    'dresser','receiving',\n",
    "    'server','bar',\n",
    "    'cleaning','dishwasher',\n",
    "    'lowes','dealer',\n",
    "    'forklift','storekeeper',\n",
    "    'stock','transcriptionist',\n",
    "    'transporter','lineman',\n",
    "    'cca','yardmaster',\n",
    "    'care','loss',\n",
    "    'tailor','psa',\n",
    "    'nordstrom','video',\n",
    "    'producer','editor',\n",
    "    'concierge','waitress',\n",
    "    'caregiver','instructor',\n",
    "    'cna','cashier',\n",
    "    'receptionist','custodian',\n",
    "    'housekeeping','caregiver',\n",
    "    'waiter','nanny',\n",
    "    'stocker','janitor',\n",
    "    'walmart','conductor',\n",
    "    'labor','hairstylist',\n",
    "    'baker','porter',\n",
    "    'mailhandler','meat',\n",
    "    'food','cleaner',\n",
    "    'doorman','truckdriver',\n",
    "    'hha','pressman',\n",
    "    'ups','barber',\n",
    "    'warehouseman','photographer',\n",
    "    'pastor','superintendant',\n",
    "    'maintance','minister',\n",
    "    'chaplain','longshoreman',\n",
    "    'walgreens','coach',\n",
    "    'order','selector'\n",
    "]"
   ]
  },
  {
   "cell_type": "code",
   "execution_count": 291,
   "metadata": {},
   "outputs": [],
   "source": [
    "federal=[\n",
    "    'police','officer',\n",
    "    'fire', 'transportation',\n",
    "    'deputy','federal',\n",
    "    'affairs','commander',\n",
    "    'custodial','public',\n",
    "    'train','government',\n",
    "    'sherrif','parole'\n",
    "    'city','emergency'\n",
    "    'sergeant','guard',\n",
    "    'crime','city',\n",
    "    'agent','duty',\n",
    "    'platoon','army',\n",
    "    'master','sergeant',\n",
    "    'ssg','ssgt',\n",
    "    'mate','navy',\n",
    "    'fireman','nypd',\n",
    "    'lapd','corporal',\n",
    "    'corrections',\"raytheon\",\n",
    "    'grumman','sheriff',\n",
    "    'lausd','dispatch',\n",
    "    'emergency','detective',\n",
    "    'firefighter','dispatcher',\n",
    "    'lieutenant','soldier',\n",
    "    'trooper','usaf',\n",
    "    'usps','military',\n",
    "    'postmaster','pca',\n",
    "    'state','postal',\n",
    "    'states','defense',\n",
    "    'us','department',\n",
    "    'major','patrolman',\n",
    "    'caseworker','e6',\n",
    "    'e-6','lockheed',\n",
    "    'e7'\n",
    "]"
   ]
  },
  {
   "cell_type": "markdown",
   "metadata": {},
   "source": [
    "Let's loop through each of the titles and assign them to their respective tags.\n",
    "\n",
    "We will great one big list of titles that can replace the one in the dataframe."
   ]
  },
  {
   "cell_type": "code",
   "execution_count": 296,
   "metadata": {},
   "outputs": [],
   "source": [
    "new_titles=[]\n",
    "executive_titles=[]; assistant_titles=[]; senior_titles=[]; skilled_titles=[]; technical_titles=[]; health_titles=[]\n",
    "business_titles=[]; education_titles=[]; admin_titles=[]; federal_titles=[]; other_titles=[]; low_skill_titles=[];\n",
    "\n",
    "for title in emp_title_train.values:\n",
    "    title_stripped=title.strip()\n",
    "    title_split_strip=re.split(r\"/+| \",title_stripped)\n",
    "    count=0\n",
    "    if count==0:\n",
    "        for word in executive:\n",
    "            if (word in title_split_strip) and (count==0):\n",
    "                executive_titles.append(title)\n",
    "                new_titles.append(\"executive\")\n",
    "                count=+1\n",
    "    if count==0:\n",
    "        for word in assistant:\n",
    "             if (word in title_split_strip) and (count==0):\n",
    "                assistant_titles.append(title)\n",
    "                new_titles.append(\"assistant\")\n",
    "                count=+1\n",
    "    if count==0:\n",
    "        for word in senior:\n",
    "             if (word in title_split_strip) and (count==0):\n",
    "                senior_titles.append(title)\n",
    "                new_titles.append(\"senior\")\n",
    "                count=+1\n",
    "    if count==0:\n",
    "        for word in skilled:\n",
    "            if (word in title_split_strip) and (count==0):\n",
    "                skilled_titles.append(title)\n",
    "                new_titles.append(\"skilled\")\n",
    "                count=+1\n",
    "    if count==0:\n",
    "        for word in technical:\n",
    "             if (word in title_split_strip) and (count==0):\n",
    "                technical_titles.append(title)\n",
    "                new_titles.append(\"technical\")\n",
    "                count=+1\n",
    "    if count==0:\n",
    "        for word in health:\n",
    "             if (word in title_split_strip) and (count==0):\n",
    "                health_titles.append(title)\n",
    "                new_titles.append(\"health\")\n",
    "                count=+1\n",
    "    if count==0:\n",
    "        for word in education:\n",
    "             if (word in title_split_strip) and (count==0):\n",
    "                education_titles.append(title)\n",
    "                new_titles.append(\"education\")\n",
    "                count=+1\n",
    "    if count==0:\n",
    "        for word in business:\n",
    "             if (word in title_split_strip) and (count==0):\n",
    "                business_titles.append(title)\n",
    "                new_titles.append(\"business\")\n",
    "                count=+1     \n",
    "    if count==0:        \n",
    "        for word in admin:\n",
    "             if (word in title_split_strip) and (count==0):\n",
    "                admin_titles.append(title)\n",
    "                new_titles.append(\"admin\")\n",
    "                count=+1\n",
    "    if count==0:\n",
    "        for word in federal: \n",
    "             if (word in title_split_strip) and (count==0) :\n",
    "                federal_titles.append(title)\n",
    "                new_titles.append(\"federal\")\n",
    "                count=+1\n",
    "    if count==0:\n",
    "        for word in low_skill: \n",
    "             if (word in title_split_strip) and (count==0):\n",
    "                low_skill_titles.append(title)\n",
    "                new_titles.append(\"low_skill\")\n",
    "                count=+1\n",
    "    if count==0:\n",
    "        other_titles.append(title)\n",
    "        new_titles.append(\"other\")\n",
    "        count=+1"
   ]
  },
  {
   "cell_type": "markdown",
   "metadata": {},
   "source": [
    "Let's ensure that the length of sum of all titles is equal to the length of the dataframe."
   ]
  },
  {
   "cell_type": "code",
   "execution_count": 297,
   "metadata": {},
   "outputs": [],
   "source": [
    "#Sum length of all titles\n",
    "sum_of_all_titles=len(low_skill_titles)+ len(executive_titles)+len(assistant_titles)+len(senior_titles)+len(skilled_titles)+len(technical_titles)+len(health_titles)+len(business_titles)+len(education_titles)+len(admin_titles)+len(federal_titles)+len(other_titles)"
   ]
  },
  {
   "cell_type": "code",
   "execution_count": 298,
   "metadata": {},
   "outputs": [],
   "source": [
    "#assert dataframe column length is equal to the sum of all titles\n",
    "assert len(emp_title_lower.values)==sum_of_all_titles"
   ]
  },
  {
   "cell_type": "markdown",
   "metadata": {},
   "source": [
    "We have included a list that shows other titles which are unidentified entries. Let's examine this."
   ]
  },
  {
   "cell_type": "code",
   "execution_count": 299,
   "metadata": {},
   "outputs": [
    {
     "name": "stdout",
     "output_type": "stream",
     "text": [
      "Other titles comprises of 16.0 % of all titles in the training set\n",
      "Other titles comprises of 272454 entries\n"
     ]
    }
   ],
   "source": [
    "print(\"Other titles comprises of {} % of all titles in the training set\".format(np.round(len(other_titles)*100/len(emp_title_train))))\n",
    "print(\"Other titles comprises of {} entries\".format(len(other_titles)))"
   ]
  },
  {
   "cell_type": "markdown",
   "metadata": {},
   "source": [
    "Going through all of these manually entered entries will be a daunting task. 84% of entries are correctly labelled, so we will keep it as is. How much has our dataframe improved?"
   ]
  },
  {
   "cell_type": "code",
   "execution_count": 300,
   "metadata": {},
   "outputs": [
    {
     "name": "stdout",
     "output_type": "stream",
     "text": [
      "The original title list had 331732 unique values, the new list has 12 unique values, this will siginifcantly aid our modelling\n"
     ]
    }
   ],
   "source": [
    "print('The original title list had {} unique values, the new list has {} unique values, this will siginifcantly aid our modelling'.format(len(emp_title_lower.value_counts()),len(pd.Series(new_titles).value_counts())))"
   ]
  },
  {
   "cell_type": "markdown",
   "metadata": {},
   "source": [
    "Let's put it into back into the training set."
   ]
  },
  {
   "cell_type": "code",
   "execution_count": 302,
   "metadata": {},
   "outputs": [],
   "source": [
    "loan_train_new=loan_train.copy()\n",
    "loan_train_new.emp_title=new_titles"
   ]
  },
  {
   "cell_type": "markdown",
   "metadata": {},
   "source": [
    "Now lets do the same for the test set."
   ]
  },
  {
   "cell_type": "code",
   "execution_count": 303,
   "metadata": {},
   "outputs": [],
   "source": [
    "new_titles_test=[]\n",
    "executive_titles=[]; assistant_titles=[]; senior_titles=[]; skilled_titles=[]; technical_titles=[]; health_titles=[]\n",
    "business_titles=[]; education_titles=[]; admin_titles=[]; federal_titles=[]; other_titles=[]; low_skill_titles=[];\n",
    "\n",
    "for title in emp_title_test.values:\n",
    "    title_stripped=title.strip()\n",
    "    title_split_strip=re.split(r\"/+| \",title_stripped)\n",
    "    count=0\n",
    "    if count==0:\n",
    "        for word in executive:\n",
    "            if (word in title_split_strip) and (count==0):\n",
    "                executive_titles.append(title)\n",
    "                new_titles_test.append(\"executive\")\n",
    "                count=+1\n",
    "    if count==0:\n",
    "        for word in assistant:\n",
    "             if (word in title_split_strip) and (count==0):\n",
    "                assistant_titles.append(title)\n",
    "                new_titles_test.append(\"assistant\")\n",
    "                count=+1\n",
    "    if count==0:\n",
    "        for word in senior:\n",
    "             if (word in title_split_strip) and (count==0):\n",
    "                senior_titles.append(title)\n",
    "                new_titles_test.append(\"senior\")\n",
    "                count=+1\n",
    "    if count==0:\n",
    "        for word in skilled:\n",
    "            if (word in title_split_strip) and (count==0):\n",
    "                skilled_titles.append(title)\n",
    "                new_titles_test.append(\"skilled\")\n",
    "                count=+1\n",
    "    if count==0:\n",
    "        for word in technical:\n",
    "             if (word in title_split_strip) and (count==0):\n",
    "                technical_titles.append(title)\n",
    "                new_titles_test.append(\"technical\")\n",
    "                count=+1\n",
    "    if count==0:\n",
    "        for word in health:\n",
    "             if (word in title_split_strip) and (count==0):\n",
    "                health_titles.append(title)\n",
    "                new_titles_test.append(\"health\")\n",
    "                count=+1\n",
    "    if count==0:\n",
    "        for word in education:\n",
    "             if (word in title_split_strip) and (count==0):\n",
    "                education_titles.append(title)\n",
    "                new_titles_test.append(\"education\")\n",
    "                count=+1\n",
    "    if count==0:\n",
    "        for word in business:\n",
    "             if (word in title_split_strip) and (count==0):\n",
    "                business_titles.append(title)\n",
    "                new_titles_test.append(\"business\")\n",
    "                count=+1     \n",
    "    if count==0:        \n",
    "        for word in admin:\n",
    "             if (word in title_split_strip) and (count==0):\n",
    "                admin_titles.append(title)\n",
    "                new_titles_test.append(\"admin\")\n",
    "                count=+1\n",
    "    if count==0:\n",
    "        for word in federal: \n",
    "             if (word in title_split_strip) and (count==0) :\n",
    "                federal_titles.append(title)\n",
    "                new_titles_test.append(\"federal\")\n",
    "                count=+1\n",
    "    if count==0:\n",
    "        for word in low_skill: \n",
    "             if (word in title_split_strip) and (count==0):\n",
    "                low_skill_titles.append(title)\n",
    "                new_titles_test.append(\"low_skill\")\n",
    "                count=+1\n",
    "    if count==0:\n",
    "        other_titles.append(title)\n",
    "        new_titles_test.append(\"other\")\n",
    "        count=+1"
   ]
  },
  {
   "cell_type": "code",
   "execution_count": 304,
   "metadata": {},
   "outputs": [],
   "source": [
    "#Sum length of all titles\n",
    "sum_of_all_test_titles=len(low_skill_titles)+ len(executive_titles)+len(assistant_titles)+len(senior_titles)+len(skilled_titles)+len(technical_titles)+len(health_titles)+len(business_titles)+len(education_titles)+len(admin_titles)+len(federal_titles)+len(other_titles)"
   ]
  },
  {
   "cell_type": "code",
   "execution_count": 305,
   "metadata": {},
   "outputs": [],
   "source": [
    "#assert dataframe column length is equal to the sum of all titles\n",
    "assert len(emp_title_test.values)==sum_of_all_test_titles"
   ]
  },
  {
   "cell_type": "code",
   "execution_count": 307,
   "metadata": {},
   "outputs": [
    {
     "name": "stdout",
     "output_type": "stream",
     "text": [
      "Other titles comprises of 16.0 % of all titles\n",
      "Other titles comprises of 91107 entries\n"
     ]
    }
   ],
   "source": [
    "print(\"Other titles comprises of {} % of all titles\".format(np.round(len(other_titles)*100/len(emp_title_test))))\n",
    "print(\"Other titles comprises of {} entries\".format(len(other_titles)))"
   ]
  },
  {
   "cell_type": "code",
   "execution_count": 308,
   "metadata": {},
   "outputs": [],
   "source": [
    "loan_test_new=loan_test.copy()\n",
    "loan_test_new.emp_title=new_titles_test"
   ]
  },
  {
   "cell_type": "code",
   "execution_count": 311,
   "metadata": {},
   "outputs": [
    {
     "data": {
      "text/plain": [
       "0        other\n",
       "1       senior\n",
       "2        admin\n",
       "3    technical\n",
       "4      skilled\n",
       "Name: emp_title, dtype: object"
      ]
     },
     "execution_count": 311,
     "metadata": {},
     "output_type": "execute_result"
    }
   ],
   "source": [
    "loan_train_new.emp_title.head()"
   ]
  },
  {
   "cell_type": "markdown",
   "metadata": {},
   "source": [
    "# Target Variable Should be Binary"
   ]
  },
  {
   "cell_type": "markdown",
   "metadata": {},
   "source": [
    "We want to classify a loan whether it is bad(late) or good(on time). But that is not the labels we have as seen below."
   ]
  },
  {
   "cell_type": "code",
   "execution_count": 314,
   "metadata": {},
   "outputs": [],
   "source": [
    "y_train=pd.DataFrame(y_train).rename(columns={0:\"loan_status\"})\n",
    "y_test=pd.DataFrame(y_test).rename(columns={0:\"loan_status\"})"
   ]
  },
  {
   "cell_type": "code",
   "execution_count": 315,
   "metadata": {},
   "outputs": [
    {
     "data": {
      "text/plain": [
       "Fully Paid                                             781464\n",
       "Current                                                689771\n",
       "Charged Off                                            196241\n",
       "Late (31-120 days)                                      16423\n",
       "In Grace Period                                          6714\n",
       "Late (16-30 days)                                        2803\n",
       "Does not meet the credit policy. Status:Fully Paid       1491\n",
       "Does not meet the credit policy. Status:Charged Off       571\n",
       "Default                                                    23\n",
       "Name: loan_status, dtype: int64"
      ]
     },
     "execution_count": 315,
     "metadata": {},
     "output_type": "execute_result"
    }
   ],
   "source": [
    "y_train.loan_status.value_counts()"
   ]
  },
  {
   "cell_type": "markdown",
   "metadata": {},
   "source": [
    "Let's create list of loan statuses."
   ]
  },
  {
   "cell_type": "code",
   "execution_count": 316,
   "metadata": {},
   "outputs": [],
   "source": [
    "good_loans=[\n",
    "    'Fully Paid',\n",
    "    'Current',\n",
    "    'Does not meet the credit policy. Status:Fully Paid'\n",
    "]\n",
    "bad_loans=[\n",
    "    'Default',\n",
    "    'Late (31-120 days)',\n",
    "    'In Grace Period',\n",
    "    'Late (16-30 days)',\n",
    "    'Does not meet the credit policy. Status:Charged Off',\n",
    "    'Charged Off'\n",
    "]"
   ]
  },
  {
   "cell_type": "markdown",
   "metadata": {},
   "source": [
    "Let's loop through all the statuses and label them as good or bad."
   ]
  },
  {
   "cell_type": "code",
   "execution_count": 320,
   "metadata": {},
   "outputs": [],
   "source": [
    "#Lopping thorugh the training set\n",
    "list_good_bad=[]\n",
    "unidentified=[]\n",
    "for status in y_train.loan_status.values:\n",
    "    if status in good_loans:\n",
    "        list_good_bad.append(\"good\")\n",
    "    elif status in bad_loans:\n",
    "        list_good_bad.append(\"bad\")\n",
    "    else:\n",
    "        unidentified.append(status)\n",
    "assert len(unidentified)==0"
   ]
  },
  {
   "cell_type": "code",
   "execution_count": 321,
   "metadata": {},
   "outputs": [],
   "source": [
    "#Lopping thorugh the test set\n",
    "list_good_bad=[]\n",
    "unidentified=[]\n",
    "for status in y_train.loan_status.values:\n",
    "    if status in good_loans:\n",
    "        list_good_bad.append(\"good\")\n",
    "    elif status in bad_loans:\n",
    "        list_good_bad.append(\"bad\")\n",
    "    else:\n",
    "        unidentified.append(status)\n",
    "assert len(unidentified)==0"
   ]
  },
  {
   "cell_type": "code",
   "execution_count": null,
   "metadata": {},
   "outputs": [],
   "source": []
  },
  {
   "cell_type": "code",
   "execution_count": 331,
   "metadata": {},
   "outputs": [
    {
     "data": {
      "text/plain": [
       "term                     2\n",
       "grade                    7\n",
       "sub_grade               32\n",
       "emp_title               12\n",
       "emp_length              12\n",
       "home_ownership           3\n",
       "verification_status      3\n",
       "issue_d                 93\n",
       "pymnt_plan               1\n",
       "purpose                 13\n",
       "addr_state              49\n",
       "initial_list_status      2\n",
       "application_type         2\n",
       "hardship_flag            1\n",
       "disbursement_method      2\n",
       "debt_settlement_flag     2\n",
       "dtype: int64"
      ]
     },
     "execution_count": 331,
     "metadata": {},
     "output_type": "execute_result"
    }
   ],
   "source": [
    "loan_train_new[:1000].select_dtypes(include=['object']).nunique()"
   ]
  },
  {
   "cell_type": "code",
   "execution_count": null,
   "metadata": {},
   "outputs": [],
   "source": []
  },
  {
   "cell_type": "code",
   "execution_count": 313,
   "metadata": {},
   "outputs": [
    {
     "data": {
      "text/plain": [
       "array(['Fully Paid', 'Current', 'Charged Off', ..., 'Fully Paid',\n",
       "       'Fully Paid', 'Fully Paid'], dtype=object)"
      ]
     },
     "execution_count": 313,
     "metadata": {},
     "output_type": "execute_result"
    }
   ],
   "source": [
    "y_train"
   ]
  },
  {
   "cell_type": "code",
   "execution_count": 197,
   "metadata": {},
   "outputs": [],
   "source": [
    "df_X_train=loan_train\n",
    "df_X_test=loan_test"
   ]
  },
  {
   "cell_type": "code",
   "execution_count": 190,
   "metadata": {},
   "outputs": [],
   "source": [
    "df_X_train.to_csv(\"C:\\\\Users\\\\yfawz\\\\OneDrive\\\\Desktop\\\\load_default_prediction\\\\data\\\\processed\\\\df_X_train.csv\")\n",
    "df_X_test.to_csv(\"C:\\\\Users\\\\yfawz\\\\OneDrive\\\\Desktop\\\\load_default_prediction\\\\data\\\\processed\\\\df_X_test.csv\")"
   ]
  },
  {
   "cell_type": "code",
   "execution_count": 213,
   "metadata": {},
   "outputs": [],
   "source": [
    "df_y_train=pd.DataFrame(y_train).rename(columns={0:\"loan_status\"})\n",
    "df_y_test=pd.DataFrame(y_test).rename(columns={0:\"loan_status\"})"
   ]
  },
  {
   "cell_type": "code",
   "execution_count": 214,
   "metadata": {},
   "outputs": [],
   "source": [
    "df_y_train.to_csv(\"C:\\\\Users\\\\yfawz\\\\OneDrive\\\\Desktop\\\\load_default_prediction\\\\data\\\\processed\\\\df_y_train.csv\")\n",
    "df_y_test.to_csv(\"C:\\\\Users\\\\yfawz\\\\OneDrive\\\\Desktop\\\\load_default_prediction\\\\data\\\\processed\\\\df_y_test.csv\")"
   ]
  },
  {
   "cell_type": "code",
   "execution_count": 1,
   "metadata": {},
   "outputs": [],
   "source": [
    "import dill"
   ]
  },
  {
   "cell_type": "code",
   "execution_count": null,
   "metadata": {},
   "outputs": [],
   "source": [
    "dill.dump_session('wrangling_env.db')"
   ]
  },
  {
   "cell_type": "code",
   "execution_count": 2,
   "metadata": {},
   "outputs": [
    {
     "ename": "EOFError",
     "evalue": "Ran out of input",
     "output_type": "error",
     "traceback": [
      "\u001b[1;31m---------------------------------------------------------------------------\u001b[0m",
      "\u001b[1;31mEOFError\u001b[0m                                  Traceback (most recent call last)",
      "\u001b[1;32m<ipython-input-2-3fdf3a347544>\u001b[0m in \u001b[0;36m<module>\u001b[1;34m\u001b[0m\n\u001b[1;32m----> 1\u001b[1;33m \u001b[0mdill\u001b[0m\u001b[1;33m.\u001b[0m\u001b[0mload_session\u001b[0m\u001b[1;33m(\u001b[0m\u001b[1;34m'wrangling_env.db'\u001b[0m\u001b[1;33m)\u001b[0m\u001b[1;33m\u001b[0m\u001b[1;33m\u001b[0m\u001b[0m\n\u001b[0m",
      "\u001b[1;32m~\\Anaconda3\\lib\\site-packages\\dill\\_dill.py\u001b[0m in \u001b[0;36mload_session\u001b[1;34m(filename, main, **kwds)\u001b[0m\n\u001b[0;32m    366\u001b[0m         \u001b[0munpickler\u001b[0m\u001b[1;33m.\u001b[0m\u001b[0m_main\u001b[0m \u001b[1;33m=\u001b[0m \u001b[0mmain\u001b[0m\u001b[1;33m\u001b[0m\u001b[1;33m\u001b[0m\u001b[0m\n\u001b[0;32m    367\u001b[0m         \u001b[0munpickler\u001b[0m\u001b[1;33m.\u001b[0m\u001b[0m_session\u001b[0m \u001b[1;33m=\u001b[0m \u001b[1;32mTrue\u001b[0m\u001b[1;33m\u001b[0m\u001b[1;33m\u001b[0m\u001b[0m\n\u001b[1;32m--> 368\u001b[1;33m         \u001b[0mmodule\u001b[0m \u001b[1;33m=\u001b[0m \u001b[0munpickler\u001b[0m\u001b[1;33m.\u001b[0m\u001b[0mload\u001b[0m\u001b[1;33m(\u001b[0m\u001b[1;33m)\u001b[0m\u001b[1;33m\u001b[0m\u001b[1;33m\u001b[0m\u001b[0m\n\u001b[0m\u001b[0;32m    369\u001b[0m         \u001b[0munpickler\u001b[0m\u001b[1;33m.\u001b[0m\u001b[0m_session\u001b[0m \u001b[1;33m=\u001b[0m \u001b[1;32mFalse\u001b[0m\u001b[1;33m\u001b[0m\u001b[1;33m\u001b[0m\u001b[0m\n\u001b[0;32m    370\u001b[0m         \u001b[0mmain\u001b[0m\u001b[1;33m.\u001b[0m\u001b[0m__dict__\u001b[0m\u001b[1;33m.\u001b[0m\u001b[0mupdate\u001b[0m\u001b[1;33m(\u001b[0m\u001b[0mmodule\u001b[0m\u001b[1;33m.\u001b[0m\u001b[0m__dict__\u001b[0m\u001b[1;33m)\u001b[0m\u001b[1;33m\u001b[0m\u001b[1;33m\u001b[0m\u001b[0m\n",
      "\u001b[1;32m~\\Anaconda3\\lib\\site-packages\\dill\\_dill.py\u001b[0m in \u001b[0;36mload\u001b[1;34m(self)\u001b[0m\n\u001b[0;32m    470\u001b[0m \u001b[1;33m\u001b[0m\u001b[0m\n\u001b[0;32m    471\u001b[0m     \u001b[1;32mdef\u001b[0m \u001b[0mload\u001b[0m\u001b[1;33m(\u001b[0m\u001b[0mself\u001b[0m\u001b[1;33m)\u001b[0m\u001b[1;33m:\u001b[0m \u001b[1;31m#NOTE: if settings change, need to update attributes\u001b[0m\u001b[1;33m\u001b[0m\u001b[1;33m\u001b[0m\u001b[0m\n\u001b[1;32m--> 472\u001b[1;33m         \u001b[0mobj\u001b[0m \u001b[1;33m=\u001b[0m \u001b[0mStockUnpickler\u001b[0m\u001b[1;33m.\u001b[0m\u001b[0mload\u001b[0m\u001b[1;33m(\u001b[0m\u001b[0mself\u001b[0m\u001b[1;33m)\u001b[0m\u001b[1;33m\u001b[0m\u001b[1;33m\u001b[0m\u001b[0m\n\u001b[0m\u001b[0;32m    473\u001b[0m         \u001b[1;32mif\u001b[0m \u001b[0mtype\u001b[0m\u001b[1;33m(\u001b[0m\u001b[0mobj\u001b[0m\u001b[1;33m)\u001b[0m\u001b[1;33m.\u001b[0m\u001b[0m__module__\u001b[0m \u001b[1;33m==\u001b[0m \u001b[0mgetattr\u001b[0m\u001b[1;33m(\u001b[0m\u001b[0m_main_module\u001b[0m\u001b[1;33m,\u001b[0m \u001b[1;34m'__name__'\u001b[0m\u001b[1;33m,\u001b[0m \u001b[1;34m'__main__'\u001b[0m\u001b[1;33m)\u001b[0m\u001b[1;33m:\u001b[0m\u001b[1;33m\u001b[0m\u001b[1;33m\u001b[0m\u001b[0m\n\u001b[0;32m    474\u001b[0m             \u001b[1;32mif\u001b[0m \u001b[1;32mnot\u001b[0m \u001b[0mself\u001b[0m\u001b[1;33m.\u001b[0m\u001b[0m_ignore\u001b[0m\u001b[1;33m:\u001b[0m\u001b[1;33m\u001b[0m\u001b[1;33m\u001b[0m\u001b[0m\n",
      "\u001b[1;31mEOFError\u001b[0m: Ran out of input"
     ]
    }
   ],
   "source": [
    "dill.load_session('wrangling_env.db')"
   ]
  },
  {
   "cell_type": "code",
   "execution_count": 2,
   "metadata": {},
   "outputs": [
    {
     "name": "stderr",
     "output_type": "stream",
     "text": [
      "C:\\Users\\yfawz\\Anaconda3\\lib\\site-packages\\numpy\\lib\\arraysetops.py:568: FutureWarning: elementwise comparison failed; returning scalar instead, but in the future will perform elementwise comparison\n",
      "  mask |= (ar1 == a)\n"
     ]
    }
   ],
   "source": [
    "df_X_train=pd.read_csv(\"C:\\\\Users\\\\yfawz\\\\OneDrive\\\\Desktop\\\\load_default_prediction\\\\data\\\\processed\\\\df_X_train.csv\", low_memory=False, index_col=0)"
   ]
  },
  {
   "cell_type": "code",
   "execution_count": 3,
   "metadata": {},
   "outputs": [],
   "source": [
    "df_X_test=pd.read_csv(\"C:\\\\Users\\\\yfawz\\\\OneDrive\\\\Desktop\\\\load_default_prediction\\\\data\\\\processed\\\\df_X_test.csv\", low_memory=False, index_col=0)"
   ]
  },
  {
   "cell_type": "code",
   "execution_count": 4,
   "metadata": {},
   "outputs": [],
   "source": [
    "loan_train=df_X_train"
   ]
  },
  {
   "cell_type": "code",
   "execution_count": 5,
   "metadata": {},
   "outputs": [],
   "source": [
    "loan_test=df_X_test"
   ]
  },
  {
   "cell_type": "code",
   "execution_count": null,
   "metadata": {},
   "outputs": [],
   "source": []
  }
 ],
 "metadata": {
  "kernelspec": {
   "display_name": "Python 3",
   "language": "python",
   "name": "python3"
  },
  "language_info": {
   "codemirror_mode": {
    "name": "ipython",
    "version": 3
   },
   "file_extension": ".py",
   "mimetype": "text/x-python",
   "name": "python",
   "nbconvert_exporter": "python",
   "pygments_lexer": "ipython3",
   "version": "3.7.3"
  }
 },
 "nbformat": 4,
 "nbformat_minor": 2
}
